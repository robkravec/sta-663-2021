{
 "cells": [
  {
   "cell_type": "markdown",
   "metadata": {},
   "source": [
    "**1**. The FizzBuzz problem. \n",
    "\n",
    "> Write a program that prints the numbers from 1 to 100. But for multiples of three print “Fizz” instead of the number and for the multiples of five print “Buzz”. For numbers which are multiples of both three and five print “FizzBuzz”."
   ]
  },
  {
   "cell_type": "code",
   "execution_count": 1,
   "metadata": {},
   "outputs": [
    {
     "name": "stdout",
     "output_type": "stream",
     "text": [
      "1 2 Fizz 4 Buzz Fizz 7 8 Fizz Buzz 11 Fizz 13 14 FizzBuzz 16 17 Fizz 19 Buzz Fizz 22 23 Fizz Buzz 26 Fizz 28 29 FizzBuzz 31 32 Fizz 34 Buzz Fizz 37 38 Fizz Buzz 41 Fizz 43 44 FizzBuzz 46 47 Fizz 49 Buzz Fizz 52 53 Fizz Buzz 56 Fizz 58 59 FizzBuzz 61 62 Fizz 64 Buzz Fizz 67 68 Fizz Buzz 71 Fizz 73 74 FizzBuzz 76 77 Fizz 79 Buzz Fizz 82 83 Fizz Buzz 86 Fizz 88 89 FizzBuzz 91 92 Fizz 94 Buzz Fizz 97 98 Fizz Buzz "
     ]
    }
   ],
   "source": [
    "# control flow: if/for/while\n",
    "for num in range(1, 101): # left-inclusive, right-exclusive\n",
    "    if num % 15 == 0: # note the order: first check the multiple of 15, then 3 and 5.\n",
    "        print(\"FizzBuzz\", end = ' ')\n",
    "    elif num % 5 == 0:\n",
    "        print(\"Buzz\", end = ' ')\n",
    "    elif num % 3 == 0:\n",
    "        print(\"Fizz\", end = ' ')\n",
    "    else:\n",
    "        print(num, end = ' ')"
   ]
  },
  {
   "cell_type": "code",
   "execution_count": 2,
   "metadata": {},
   "outputs": [
    {
     "data": {
      "text/plain": [
       "'1 2 Fizz 4 Buzz Fizz 7 8 Fizz Buzz 11 Fizz 13 14 FizzBuzz 16 17 Fizz 19 Buzz Fizz 22 23 Fizz Buzz 26 Fizz 28 29 FizzBuzz 31 32 Fizz 34 Buzz Fizz 37 38 Fizz Buzz 41 Fizz 43 44 FizzBuzz 46 47 Fizz 49 Buzz Fizz 52 53 Fizz Buzz 56 Fizz 58 59 FizzBuzz 61 62 Fizz 64 Buzz Fizz 67 68 Fizz Buzz 71 Fizz 73 74 FizzBuzz 76 77 Fizz 79 Buzz Fizz 82 83 Fizz Buzz 86 Fizz 88 89 FizzBuzz 91 92 Fizz 94 Buzz Fizz 97 98 Fizz Buzz '"
      ]
     },
     "execution_count": 2,
     "metadata": {},
     "output_type": "execute_result"
    }
   ],
   "source": [
    "string = ''\n",
    "for num in range(1, 101): # left-inclusive, right-exclusive\n",
    "    if num % 15 == 0:\n",
    "        string += 'FizzBuzz' # equivalent to: string = string + 'FizzBuzz'\n",
    "    elif num % 5 == 0:\n",
    "        string += 'Buzz'\n",
    "    elif num % 3 == 0:\n",
    "        string += 'Fizz'\n",
    "    else:\n",
    "        string += str(num) # convert num to string first: 'a' + 1 will be incompatible\n",
    "    string += ' '\n",
    "string"
   ]
  },
  {
   "cell_type": "code",
   "execution_count": 3,
   "metadata": {},
   "outputs": [
    {
     "data": {
      "text/plain": [
       "'1 2 Fizz 4 Buzz Fizz 7 8 Fizz Buzz 11 Fizz 13 14 FizzBuzz 16 17 Fizz 19 Buzz Fizz 22 23 Fizz Buzz 26 Fizz 28 29 FizzBuzz 31 32 Fizz 34 Buzz Fizz 37 38 Fizz Buzz 41 Fizz 43 44 FizzBuzz 46 47 Fizz 49 Buzz Fizz 52 53 Fizz Buzz 56 Fizz 58 59 FizzBuzz 61 62 Fizz 64 Buzz Fizz 67 68 Fizz Buzz 71 Fizz 73 74 FizzBuzz 76 77 Fizz 79 Buzz Fizz 82 83 Fizz Buzz 86 Fizz 88 89 FizzBuzz 91 92 Fizz 94 Buzz Fizz 97 98 Fizz Buzz'"
      ]
     },
     "execution_count": 3,
     "metadata": {},
     "output_type": "execute_result"
    }
   ],
   "source": [
    "word_list = []\n",
    "for num in range(1, 101): # left-inclusive, right-exclusive\n",
    "    if num % 15 == 0:\n",
    "        word_list.append('FizzBuzz')\n",
    "    elif num % 5 == 0:\n",
    "        word_list.append('Buzz')\n",
    "    elif num % 3 == 0:\n",
    "        word_list.append('Fizz')\n",
    "    else:\n",
    "        word_list.append(str(num))\n",
    "' '.join(word_list)"
   ]
  },
  {
   "cell_type": "markdown",
   "metadata": {},
   "source": [
    "The `join` method may be preferred over the `string` method in this case, since it does not have an extra space at the end. (Think of the situation when you want to separate the words using comma.)"
   ]
  },
  {
   "cell_type": "code",
   "execution_count": 4,
   "metadata": {},
   "outputs": [
    {
     "data": {
      "text/plain": [
       "'1, 2, Fizz, 4, Buzz, Fizz, 7, 8, Fizz, Buzz, 11, Fizz, 13, 14, FizzBuzz, 16, 17, Fizz, 19, Buzz, Fizz, 22, 23, Fizz, Buzz, 26, Fizz, 28, 29, FizzBuzz, 31, 32, Fizz, 34, Buzz, Fizz, 37, 38, Fizz, Buzz, 41, Fizz, 43, 44, FizzBuzz, 46, 47, Fizz, 49, Buzz, Fizz, 52, 53, Fizz, Buzz, 56, Fizz, 58, 59, FizzBuzz, 61, 62, Fizz, 64, Buzz, Fizz, 67, 68, Fizz, Buzz, 71, Fizz, 73, 74, FizzBuzz, 76, 77, Fizz, 79, Buzz, Fizz, 82, 83, Fizz, Buzz, 86, Fizz, 88, 89, FizzBuzz, 91, 92, Fizz, 94, Buzz, Fizz, 97, 98, Fizz, Buzz, '"
      ]
     },
     "execution_count": 4,
     "metadata": {},
     "output_type": "execute_result"
    }
   ],
   "source": [
    "string = ''\n",
    "for num in range(1, 101): # left-inclusive, right-exclusive\n",
    "    if num % 15 == 0:\n",
    "        string += 'FizzBuzz' # equivalent to: string = string + 'FizzBuzz'\n",
    "    elif num % 5 == 0:\n",
    "        string += 'Buzz'\n",
    "    elif num % 3 == 0:\n",
    "        string += 'Fizz'\n",
    "    else:\n",
    "        string += str(num) # convert num to string first: 'a' + 1 will be incompatible\n",
    "    string += ', '\n",
    "string"
   ]
  },
  {
   "cell_type": "code",
   "execution_count": 5,
   "metadata": {},
   "outputs": [
    {
     "data": {
      "text/plain": [
       "'1, 2, Fizz, 4, Buzz, Fizz, 7, 8, Fizz, Buzz, 11, Fizz, 13, 14, FizzBuzz, 16, 17, Fizz, 19, Buzz, Fizz, 22, 23, Fizz, Buzz, 26, Fizz, 28, 29, FizzBuzz, 31, 32, Fizz, 34, Buzz, Fizz, 37, 38, Fizz, Buzz, 41, Fizz, 43, 44, FizzBuzz, 46, 47, Fizz, 49, Buzz, Fizz, 52, 53, Fizz, Buzz, 56, Fizz, 58, 59, FizzBuzz, 61, 62, Fizz, 64, Buzz, Fizz, 67, 68, Fizz, Buzz, 71, Fizz, 73, 74, FizzBuzz, 76, 77, Fizz, 79, Buzz, Fizz, 82, 83, Fizz, Buzz, 86, Fizz, 88, 89, FizzBuzz, 91, 92, Fizz, 94, Buzz, Fizz, 97, 98, Fizz, Buzz'"
      ]
     },
     "execution_count": 5,
     "metadata": {},
     "output_type": "execute_result"
    }
   ],
   "source": [
    "word_list = []\n",
    "for num in range(1, 101): # left-inclusive, right-exclusive\n",
    "    if num % 15 == 0:\n",
    "        word_list.append('FizzBuzz')\n",
    "    elif num % 5 == 0:\n",
    "        word_list.append('Buzz')\n",
    "    elif num % 3 == 0:\n",
    "        word_list.append('Fizz')\n",
    "    else:\n",
    "        word_list.append(str(num))\n",
    "', '.join(word_list)"
   ]
  },
  {
   "cell_type": "markdown",
   "metadata": {},
   "source": [
    "**2**. Pythagorean triplets\n",
    "\n",
    "A Pythagorean triplet is a tuple of positive integers $(a, b, c)$ such that $a^2 + b^2 = c^2$. For example, (3,4,5) is a Pythagorean triplet. Make a list of all Pythagorean triplets where $a \\le b \\lt 50$.\n",
    "\n",
    "Note: Floating point numbers in Python have a useful method `is_integer`."
   ]
  },
  {
   "cell_type": "code",
   "execution_count": 6,
   "metadata": {},
   "outputs": [
    {
     "name": "stdout",
     "output_type": "stream",
     "text": [
      "[(3, 4, 5), (5, 12, 13), (6, 8, 10), (7, 24, 25), (8, 15, 17), (9, 12, 15), (9, 40, 41), (10, 24, 26), (12, 16, 20), (12, 35, 37), (14, 48, 50), (15, 20, 25), (15, 36, 39), (16, 30, 34), (18, 24, 30), (20, 21, 29), (20, 48, 52), (21, 28, 35), (24, 32, 40), (24, 45, 51), (27, 36, 45), (28, 45, 53), (30, 40, 50), (33, 44, 55), (36, 48, 60), (40, 42, 58)]\n"
     ]
    }
   ],
   "source": [
    "res_list = []\n",
    "for a in range(1, 50):\n",
    "    for b in range(a, 50):\n",
    "        c = (a ** 2 + b ** 2) ** 0.5\n",
    "        if c.is_integer():\n",
    "            res_list.append((a, b, int(c)))\n",
    "            # res_list += [(a, b, int(c))]\n",
    "print(res_list)"
   ]
  },
  {
   "cell_type": "code",
   "execution_count": 7,
   "metadata": {},
   "outputs": [
    {
     "name": "stdout",
     "output_type": "stream",
     "text": [
      "[(3, 4, 5), (5, 12, 13), (6, 8, 10), (7, 24, 25), (8, 15, 17), (9, 12, 15), (9, 40, 41), (10, 24, 26), (12, 16, 20), (12, 35, 37), (14, 48, 50), (15, 20, 25), (15, 36, 39), (16, 30, 34), (18, 24, 30), (20, 21, 29), (20, 48, 52), (21, 28, 35), (24, 32, 40), (24, 45, 51), (27, 36, 45), (28, 45, 53), (30, 40, 50), (33, 44, 55), (36, 48, 60), (40, 42, 58)]\n"
     ]
    }
   ],
   "source": [
    "res_list = []\n",
    "for a in range(1, 50):\n",
    "    for b in range(a, 50):\n",
    "        c = round((a ** 2 + b ** 2) ** 0.5)\n",
    "        if a ** 2 + b ** 2 == c ** 2: # see remark below\n",
    "            res_list.append((a, b, int(c)))\n",
    "            # res_list += [(a, b, int(c))]\n",
    "print(res_list)"
   ]
  },
  {
   "cell_type": "markdown",
   "metadata": {},
   "source": [
    "**Remark:** Be careful when you compare whether two double numbers are equal. \n",
    "\n",
    "When `c` is an integer, use \n",
    "\n",
    "- `a ** 2 + b ** 2 == c ** 2`\n",
    "\n",
    "instead of \n",
    "\n",
    "- `(a ** 2 + b ** 2) ** 0.5 == c`"
   ]
  },
  {
   "cell_type": "code",
   "execution_count": 8,
   "metadata": {},
   "outputs": [
    {
     "data": {
      "text/plain": [
       "False"
      ]
     },
     "execution_count": 8,
     "metadata": {},
     "output_type": "execute_result"
    }
   ],
   "source": [
    "# notorious strange behavior in double numbers\n",
    "0.3 + 0.3 + 0.3 == 0.9"
   ]
  },
  {
   "cell_type": "code",
   "execution_count": 9,
   "metadata": {},
   "outputs": [
    {
     "data": {
      "text/plain": [
       "True"
      ]
     },
     "execution_count": 9,
     "metadata": {},
     "output_type": "execute_result"
    }
   ],
   "source": [
    "# When you need to compare two double numbers:\n",
    "def is_equal(x, y, tol = 1e-15):\n",
    "    return abs(x - y) < tol\n",
    "is_equal(0.3 + 0.3 + 0.3, 0.9)"
   ]
  },
  {
   "cell_type": "markdown",
   "metadata": {},
   "source": [
    "This phenomenon is from the fact that computers store float numbers in a finite binary way, and cannot express precisely $0.3$ (just as we cannot express $1/3$ exactly in finite decimals). If interested, see [IEEE754](https://en.wikipedia.org/wiki/IEEE_754) for reference on how float/double numbers are stored in 32/64 bits."
   ]
  },
  {
   "cell_type": "markdown",
   "metadata": {},
   "source": [
    "**3**. Find characters that are common to both the strings below."
   ]
  },
  {
   "cell_type": "code",
   "execution_count": 10,
   "metadata": {},
   "outputs": [],
   "source": [
    "s1 = 'lajfljaljfljfkajljfljalkfjdlsajflajfljaljljalkjfljeionalvnkleijildsjlkdajlfdjlaj'\n",
    "s2 = 'eoiuroeuoqrueojnnqiu0iunn uoidsjoia3inluhei38410unadsmiu4njeknkaioourjdknalouold'"
   ]
  },
  {
   "cell_type": "code",
   "execution_count": 11,
   "metadata": {},
   "outputs": [
    {
     "name": "stdout",
     "output_type": "stream",
     "text": [
      "['l', 'a', 'j', 'k', 'd', 's', 'e', 'i', 'o', 'n']\n"
     ]
    }
   ],
   "source": [
    "common_letters = []\n",
    "for s in s1:\n",
    "    if s in s2 and s not in common_letters:\n",
    "        common_letters.append(s)\n",
    "print(common_letters)"
   ]
  },
  {
   "cell_type": "code",
   "execution_count": 12,
   "metadata": {},
   "outputs": [
    {
     "data": {
      "text/plain": [
       "{'a', 'd', 'e', 'i', 'j', 'k', 'l', 'n', 'o', 's'}"
      ]
     },
     "execution_count": 12,
     "metadata": {},
     "output_type": "execute_result"
    }
   ],
   "source": [
    "# set\n",
    "set(s1).intersection(s2)"
   ]
  },
  {
   "cell_type": "markdown",
   "metadata": {},
   "source": [
    "To define a set, use `someset = set(1,2,3,4)` or simply `someset = {1,2,3,4}`. \n",
    "\n",
    "However, to define an empty set, you can only use `emptyset = set()`, since `thisisnotaset = {}` will be intepreted as an empty dictionary."
   ]
  },
  {
   "cell_type": "markdown",
   "metadata": {},
   "source": [
    "Useful operations on sets: `intersection`, `union`, `difference`, `symmetric_difference`."
   ]
  },
  {
   "cell_type": "markdown",
   "metadata": {},
   "source": [
    "**4**. Implement a function to perform bubble sort and use it to sort the list below. Present the sorted list in descending order.\n",
    "\n",
    "From Wikipedia\n",
    "\n",
    "> Bubble sort, sometimes referred to as sinking sort, is a simple sorting algorithm that repeatedly steps through the list, compares adjacent elements and swaps them if they are in the wrong order. The pass through the list is repeated until the list is sorted."
   ]
  },
  {
   "cell_type": "code",
   "execution_count": 13,
   "metadata": {},
   "outputs": [],
   "source": [
    "xs = [7,4,2,3,1,4,9,9,8,4,5,1,3]"
   ]
  },
  {
   "cell_type": "code",
   "execution_count": 14,
   "metadata": {},
   "outputs": [
    {
     "name": "stdout",
     "output_type": "stream",
     "text": [
      "current: [7, 4, 3, 2, 4, 9, 9, 8, 4, 5, 1, 3, 1]\n",
      "current: [7, 4, 3, 4, 9, 9, 8, 4, 5, 2, 3, 1, 1]\n",
      "current: [7, 4, 4, 9, 9, 8, 4, 5, 3, 3, 2, 1, 1]\n",
      "current: [7, 4, 9, 9, 8, 4, 5, 4, 3, 3, 2, 1, 1]\n",
      "current: [7, 9, 9, 8, 4, 5, 4, 4, 3, 3, 2, 1, 1]\n",
      "current: [9, 9, 8, 7, 5, 4, 4, 4, 3, 3, 2, 1, 1]\n",
      "current: [9, 9, 8, 7, 5, 4, 4, 4, 3, 3, 2, 1, 1]\n"
     ]
    },
    {
     "data": {
      "text/plain": [
       "[9, 9, 8, 7, 5, 4, 4, 4, 3, 3, 2, 1, 1]"
      ]
     },
     "execution_count": 14,
     "metadata": {},
     "output_type": "execute_result"
    }
   ],
   "source": [
    "def bubble_sort(array):\n",
    "    ordered = False\n",
    "    while not ordered:\n",
    "        ordered = True\n",
    "        for i in range(len(array) - 1):\n",
    "            if array[i] < array[i + 1]:\n",
    "                array[i], array[i + 1] = array[i + 1], array[i]\n",
    "                ordered = False\n",
    "        print(f'current: {array}')\n",
    "    return array\n",
    "\n",
    "bubble_sort(xs)"
   ]
  },
  {
   "cell_type": "markdown",
   "metadata": {},
   "source": [
    "After each loop, one extra element is sorted in the rightmost position. Therefore, the algorithm will end within $n$ loops, where $n$ is the length of the array."
   ]
  },
  {
   "cell_type": "code",
   "execution_count": 15,
   "metadata": {},
   "outputs": [
    {
     "name": "stdout",
     "output_type": "stream",
     "text": [
      "current: [7, 4, 3, 2, 4, 9, 9, 8, 4, 5, 1, 3, 1]\n",
      "current: [7, 4, 3, 4, 9, 9, 8, 4, 5, 2, 3, 1, 1]\n",
      "current: [7, 4, 4, 9, 9, 8, 4, 5, 3, 3, 2, 1, 1]\n",
      "current: [7, 4, 9, 9, 8, 4, 5, 4, 3, 3, 2, 1, 1]\n",
      "current: [7, 9, 9, 8, 4, 5, 4, 4, 3, 3, 2, 1, 1]\n",
      "current: [9, 9, 8, 7, 5, 4, 4, 4, 3, 3, 2, 1, 1]\n",
      "current: [9, 9, 8, 7, 5, 4, 4, 4, 3, 3, 2, 1, 1]\n",
      "current: [9, 9, 8, 7, 5, 4, 4, 4, 3, 3, 2, 1, 1]\n",
      "current: [9, 9, 8, 7, 5, 4, 4, 4, 3, 3, 2, 1, 1]\n",
      "current: [9, 9, 8, 7, 5, 4, 4, 4, 3, 3, 2, 1, 1]\n",
      "current: [9, 9, 8, 7, 5, 4, 4, 4, 3, 3, 2, 1, 1]\n",
      "current: [9, 9, 8, 7, 5, 4, 4, 4, 3, 3, 2, 1, 1]\n",
      "current: [9, 9, 8, 7, 5, 4, 4, 4, 3, 3, 2, 1, 1]\n"
     ]
    },
    {
     "data": {
      "text/plain": [
       "[9, 9, 8, 7, 5, 4, 4, 4, 3, 3, 2, 1, 1]"
      ]
     },
     "execution_count": 15,
     "metadata": {},
     "output_type": "execute_result"
    }
   ],
   "source": [
    "xs = [7,4,2,3,1,4,9,9,8,4,5,1,3]\n",
    "\n",
    "def bubble_sort_2(array):\n",
    "    for j in range(len(array)):\n",
    "        for i in range(len(array) - 1 - j):\n",
    "            if array[i] < array[i + 1]:\n",
    "                array[i], array[i + 1] = array[i + 1], array[i]\n",
    "        print(f'current: {array}')\n",
    "    return array\n",
    "\n",
    "bubble_sort_2(xs)"
   ]
  },
  {
   "cell_type": "markdown",
   "metadata": {},
   "source": [
    "We can also convert the sorting problem into a sub_problem:\n",
    "\n",
    "If we want to sort an array of $n$ elements, we shall\n",
    "\n",
    "- Go through the array and swap adjacent elements if they are in the wrong order;\n",
    "\n",
    "- After this, the rightmost element should be the smallest element;\n",
    "\n",
    "- Sort the array of the first $n - 1$ elements.\n",
    "\n",
    "\n",
    "Go into this process recursively, until only 1 element is left, then it is done."
   ]
  },
  {
   "cell_type": "code",
   "execution_count": 16,
   "metadata": {},
   "outputs": [
    {
     "name": "stdout",
     "output_type": "stream",
     "text": [
      "current: [7, 4, 3, 2, 4, 9, 9, 8, 4, 5, 1, 3, 1]\n",
      "current: [7, 4, 3, 4, 9, 9, 8, 4, 5, 2, 3, 1]\n",
      "current: [7, 4, 4, 9, 9, 8, 4, 5, 3, 3, 2]\n",
      "current: [7, 4, 9, 9, 8, 4, 5, 4, 3, 3]\n",
      "current: [7, 9, 9, 8, 4, 5, 4, 4, 3]\n",
      "current: [9, 9, 8, 7, 5, 4, 4, 4]\n",
      "current: [9, 9, 8, 7, 5, 4, 4]\n",
      "current: [9, 9, 8, 7, 5, 4]\n",
      "current: [9, 9, 8, 7, 5]\n",
      "current: [9, 9, 8, 7]\n",
      "current: [9, 9, 8]\n",
      "current: [9, 9]\n"
     ]
    },
    {
     "data": {
      "text/plain": [
       "[9, 9, 8, 7, 5, 4, 4, 4, 3, 3, 2, 1, 1]"
      ]
     },
     "execution_count": 16,
     "metadata": {},
     "output_type": "execute_result"
    }
   ],
   "source": [
    "xs = [7,4,2,3,1,4,9,9,8,4,5,1,3]\n",
    "\n",
    "# recursion\n",
    "\n",
    "def bubble_sort_3(array):\n",
    "    if len(array) == 1:\n",
    "        return array\n",
    "    for i in range(len(array) - 1):\n",
    "        if array[i] < array[i + 1]:\n",
    "            array[i], array[i + 1] = array[i + 1], array[i]\n",
    "    print(f'current: {array}')\n",
    "    return bubble_sort_3(array[:-1]) + [array[-1]]\n",
    "\n",
    "bubble_sort_3(xs)"
   ]
  },
  {
   "cell_type": "markdown",
   "metadata": {},
   "source": [
    "Side remarks of bubble sort, for those interested:\n",
    "\n",
    "All three implementations given above are comparable in efficiency. The (relative) efficiency of an algorithm can be measured as the number of basic operations needed $T(n)$ as a function of the size of input $n$. Normally, we only care about the order of this number, and call it time complexity.\n",
    "\n",
    "The bubble sort has a time complexity of $T(n) = O(n^2)$.\n",
    "\n",
    "- The time complexity of algorithm 1 and 2 are straightforward;\n",
    "\n",
    "- The time complexity of algorithm 3 can be derived from $T(n) = O(n) + T(n - 1).$"
   ]
  },
  {
   "cell_type": "markdown",
   "metadata": {},
   "source": [
    "The solution code given in `S01_Solutions.ipynb` is actually not a bubble sort - it is **selection sort** instead. The idea of selection sort is that, during each loop, find the smallest (largest) element, and put it at the right position. (For reference, see [Selection sort](https://en.wikipedia.org/wiki/Selection_sort).)\n",
    "\n",
    "The time complexity of selection sort is also $O(n^2)$."
   ]
  },
  {
   "cell_type": "code",
   "execution_count": 17,
   "metadata": {},
   "outputs": [
    {
     "data": {
      "text/plain": [
       "[9, 9, 8, 7, 5, 4, 4, 4, 3, 3, 2, 1, 1]"
      ]
     },
     "execution_count": 17,
     "metadata": {},
     "output_type": "execute_result"
    }
   ],
   "source": [
    "sorted(xs, reverse = True) # timsort"
   ]
  },
  {
   "cell_type": "markdown",
   "metadata": {},
   "source": [
    "Python uses [timsort](https://en.wikipedia.org/wiki/Timsort) for the built-in method `sorted`, which achieves a time complexity of $O(n\\log n)$. It can be shown theoretically that the fastest sorting algorithm based on comparison between elements is $O(n\\log n)$. In this sense, `timsort` is one of the fastest sorting algorithm one can implement."
   ]
  },
  {
   "cell_type": "markdown",
   "metadata": {},
   "source": [
    "Another sorting algorithm of $O(n\\log n)$ that is easy to understand and implement is [quicksort]\n",
    "(https://en.wikipedia.org/wiki/Quicksort). However, under rare worst cases, `quicksort` reduces to $O(n^2)$ while `timsort` does not."
   ]
  },
  {
   "cell_type": "code",
   "execution_count": 18,
   "metadata": {},
   "outputs": [
    {
     "name": "stdout",
     "output_type": "stream",
     "text": [
      "11.3 µs ± 201 ns per loop (mean ± std. dev. of 7 runs, 100000 loops each)\n"
     ]
    }
   ],
   "source": [
    "# remove the print statement for now.\n",
    "def bubble_sort_3(array):\n",
    "    if len(array) == 1:\n",
    "        return array\n",
    "    for i in range(len(array) - 1):\n",
    "        if array[i] < array[i + 1]:\n",
    "            array[i], array[i + 1] = array[i + 1], array[i]\n",
    "    return bubble_sort_3(array[:-1]) + [array[-1]]\n",
    "\n",
    "%timeit bubble_sort_3(xs)"
   ]
  },
  {
   "cell_type": "code",
   "execution_count": 19,
   "metadata": {},
   "outputs": [
    {
     "name": "stdout",
     "output_type": "stream",
     "text": [
      "230 ns ± 2.45 ns per loop (mean ± std. dev. of 7 runs, 1000000 loops each)\n"
     ]
    }
   ],
   "source": [
    "%timeit sorted(xs, reverse = True)"
   ]
  },
  {
   "cell_type": "code",
   "execution_count": null,
   "metadata": {},
   "outputs": [],
   "source": []
  }
 ],
 "metadata": {
  "kernelspec": {
   "display_name": "Python 3",
   "language": "python",
   "name": "python3"
  },
  "language_info": {
   "codemirror_mode": {
    "name": "ipython",
    "version": 3
   },
   "file_extension": ".py",
   "mimetype": "text/x-python",
   "name": "python",
   "nbconvert_exporter": "python",
   "pygments_lexer": "ipython3",
   "version": "3.7.3"
  }
 },
 "nbformat": 4,
 "nbformat_minor": 4
}
