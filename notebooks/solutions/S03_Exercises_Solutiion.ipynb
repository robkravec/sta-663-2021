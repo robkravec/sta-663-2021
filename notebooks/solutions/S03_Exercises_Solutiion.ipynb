{
 "cells": [
  {
   "cell_type": "code",
   "execution_count": 1,
   "metadata": {},
   "outputs": [],
   "source": [
    "import numpy as np"
   ]
  },
  {
   "cell_type": "code",
   "execution_count": 2,
   "metadata": {},
   "outputs": [],
   "source": [
    "np.set_printoptions(precision=2)"
   ]
  },
  {
   "cell_type": "markdown",
   "metadata": {},
   "source": [
    "**1**.\n",
    "\n",
    "A palindromic number reads the same both ways. The largest palindrome made from the product of two 2-digit numbers is 9009 = 91 × 99.\n",
    "\n",
    "Find the largest palindrome made from the product of two 3-digit numbers.\n",
    "\n",
    "(Source: Project Euler Problem 4)"
   ]
  },
  {
   "cell_type": "code",
   "execution_count": 3,
   "metadata": {},
   "outputs": [
    {
     "data": {
      "text/plain": [
       "906609"
      ]
     },
     "execution_count": 3,
     "metadata": {},
     "output_type": "execute_result"
    }
   ],
   "source": [
    "res = []\n",
    "for i in range(999, 1, -1):\n",
    "    for j in range(999, 99, -1):\n",
    "        n = i*j\n",
    "        if str(i*j) == str(i*j)[::-1]:\n",
    "            res.append(n)\n",
    "max(res)"
   ]
  },
  {
   "cell_type": "markdown",
   "metadata": {},
   "source": [
    "**2**.\n",
    "\n",
    "Construc the following matrix\n",
    "\n",
    "```python\n",
    "array([[18, 13, 10,  9, 10, 13, 18],\n",
    "       [13,  8,  5,  4,  5,  8, 13],\n",
    "       [10,  5,  2,  1,  2,  5, 10],\n",
    "       [ 9,  4,  1,  0,  1,  4,  9],\n",
    "       [10,  5,  2,  1,  2,  5, 10],\n",
    "       [13,  8,  5,  4,  5,  8, 13],\n",
    "       [18, 13, 10,  9, 10, 13, 18]])\n",
    "```"
   ]
  },
  {
   "cell_type": "code",
   "execution_count": 4,
   "metadata": {},
   "outputs": [
    {
     "data": {
      "text/plain": [
       "array([[18, 13, 10,  9, 10, 13, 18],\n",
       "       [13,  8,  5,  4,  5,  8, 13],\n",
       "       [10,  5,  2,  1,  2,  5, 10],\n",
       "       [ 9,  4,  1,  0,  1,  4,  9],\n",
       "       [10,  5,  2,  1,  2,  5, 10],\n",
       "       [13,  8,  5,  4,  5,  8, 13],\n",
       "       [18, 13, 10,  9, 10, 13, 18]])"
      ]
     },
     "execution_count": 4,
     "metadata": {},
     "output_type": "execute_result"
    }
   ],
   "source": [
    "np.fromfunction(lambda i,j: (i-3)**2 + (j-3)**2, [7,7]).astype('int')"
   ]
  },
  {
   "cell_type": "markdown",
   "metadata": {},
   "source": [
    "**3**.\n",
    "\n",
    "Using numpy and string manipulation, create a DNA string with 150 bases that have the following probabilities: (A, 0.5), (C, 0.2), (T, 0.2), (G, 0.1). Find the most common triplet of bases in among sliding windows of this DMA string. For example, a sliding window of size 3 for GATTACA would be GAT, ATT, TTA, TAC, ..."
   ]
  },
  {
   "cell_type": "code",
   "execution_count": 5,
   "metadata": {},
   "outputs": [],
   "source": [
    "dna = np.random.choice(list('ACTG'), size=150, p=[0.5,0.2,0.2,0.1])"
   ]
  },
  {
   "cell_type": "code",
   "execution_count": 6,
   "metadata": {},
   "outputs": [],
   "source": [
    "triplets = list(map(lambda x: ''.join(x), np.c_[dna[:-2], dna[1:-1], dna[2:]]))"
   ]
  },
  {
   "cell_type": "code",
   "execution_count": 7,
   "metadata": {},
   "outputs": [],
   "source": [
    "from collections import Counter"
   ]
  },
  {
   "cell_type": "code",
   "execution_count": 8,
   "metadata": {},
   "outputs": [
    {
     "data": {
      "text/plain": [
       "[('AAA', 16)]"
      ]
     },
     "execution_count": 8,
     "metadata": {},
     "output_type": "execute_result"
    }
   ],
   "source": [
    "Counter(triplets).most_common(1)"
   ]
  },
  {
   "cell_type": "markdown",
   "metadata": {},
   "source": [
    "**4**.\n",
    "\n",
    "- Using only base Python and numpy, create a pairwise distance matrix of the two sets of *row* vectors given\n",
    "- Scale the distances so that each *row* has mean zero and standard deviation 1\n",
    "\n",
    "Use Euclidean distance."
   ]
  },
  {
   "cell_type": "code",
   "execution_count": 9,
   "metadata": {},
   "outputs": [],
   "source": [
    "np.random.seed(123)\n",
    "xs = np.random.randint(1,10, (10, 5))\n",
    "ys = np.random.randint(1,10, (8, 5))"
   ]
  },
  {
   "cell_type": "code",
   "execution_count": 10,
   "metadata": {},
   "outputs": [
    {
     "data": {
      "text/plain": [
       "array([[3, 3, 7, 2, 4],\n",
       "       [7, 2, 1, 2, 1],\n",
       "       [1, 4, 5, 1, 1],\n",
       "       [5, 2, 8, 4, 3],\n",
       "       [5, 8, 3, 5, 9],\n",
       "       [1, 8, 4, 5, 7],\n",
       "       [2, 6, 7, 3, 2],\n",
       "       [9, 4, 6, 1, 3],\n",
       "       [7, 3, 5, 5, 7],\n",
       "       [4, 1, 7, 5, 8]])"
      ]
     },
     "execution_count": 10,
     "metadata": {},
     "output_type": "execute_result"
    }
   ],
   "source": [
    "xs"
   ]
  },
  {
   "cell_type": "code",
   "execution_count": 11,
   "metadata": {},
   "outputs": [
    {
     "data": {
      "text/plain": [
       "array([[7, 8, 2, 6, 8],\n",
       "       [3, 5, 9, 2, 3],\n",
       "       [2, 2, 4, 6, 1],\n",
       "       [9, 2, 7, 4, 4],\n",
       "       [6, 8, 3, 4, 4],\n",
       "       [4, 9, 7, 8, 7],\n",
       "       [4, 7, 7, 7, 2],\n",
       "       [4, 5, 4, 2, 1]])"
      ]
     },
     "execution_count": 11,
     "metadata": {},
     "output_type": "execute_result"
    }
   ],
   "source": [
    "ys"
   ]
  },
  {
   "cell_type": "code",
   "execution_count": 12,
   "metadata": {},
   "outputs": [],
   "source": [
    "nx = xs.shape[0]\n",
    "ny = ys.shape[0]\n",
    "\n",
    "m = np.zeros([nx, ny])\n",
    "for i in range(nx):\n",
    "    for j in range(ny):\n",
    "        m[i,j] = np.sqrt((xs[i] - ys[j]) @ (xs[i] - ys[j]))"
   ]
  },
  {
   "cell_type": "code",
   "execution_count": 13,
   "metadata": {},
   "outputs": [
    {
     "data": {
      "text/plain": [
       "array([[ 9.9 ,  3.  ,  6.  ,  6.4 ,  7.35,  9.06,  6.78,  4.8 ],\n",
       "       [10.1 ,  9.64,  7.07,  7.28,  7.35, 12.88,  9.8 ,  5.2 ],\n",
       "       [11.62,  5.1 ,  5.57,  9.49,  7.94, 11.09,  7.68,  3.46],\n",
       "       [10.25,  4.24,  5.74,  4.24,  7.94,  9.11,  6.08,  5.83],\n",
       "       [ 2.65,  9.7 , 10.54,  9.7 ,  5.2 ,  5.57,  8.43,  9.17],\n",
       "       [ 6.48,  7.94,  8.6 , 10.91,  6.  ,  5.29,  6.93,  7.94],\n",
       "       [ 9.95,  2.83,  5.92,  8.37,  6.4 ,  7.94,  4.58,  4.  ],\n",
       "       [ 9.27,  6.86,  9.27,  3.87,  6.63, 10.77,  8.49,  5.92],\n",
       "       [ 6.  ,  7.81,  8.  ,  4.36,  6.32,  7.62,  7.62,  7.68],\n",
       "       [ 9.17,  7.42,  8.  ,  6.56,  9.27,  8.6 ,  8.72,  9.11]])"
      ]
     },
     "execution_count": 13,
     "metadata": {},
     "output_type": "execute_result"
    }
   ],
   "source": [
    "m"
   ]
  },
  {
   "cell_type": "code",
   "execution_count": 14,
   "metadata": {},
   "outputs": [
    {
     "data": {
      "text/plain": [
       "array([[ 1.57, -1.77, -0.32, -0.12,  0.33,  1.16,  0.06, -0.9 ],\n",
       "       [ 0.64,  0.44, -0.71, -0.62, -0.59,  1.88,  0.5 , -1.55],\n",
       "       [ 1.42, -0.97, -0.8 ,  0.64,  0.07,  1.23, -0.02, -1.57],\n",
       "       [ 1.73, -1.18, -0.45, -1.18,  0.61,  1.18, -0.29, -0.41],\n",
       "       [-1.9 ,  0.79,  1.11,  0.79, -0.92, -0.78,  0.31,  0.59],\n",
       "       [-0.63,  0.26,  0.66,  2.06, -0.92, -1.35, -0.35,  0.26],\n",
       "       [ 1.64, -1.52, -0.15,  0.94,  0.07,  0.75, -0.74, -1.  ],\n",
       "       [ 0.79, -0.37,  0.79, -1.81, -0.48,  1.51,  0.41, -0.83],\n",
       "       [-0.78,  0.75,  0.91, -2.16, -0.51,  0.58,  0.58,  0.64],\n",
       "       [ 0.9 , -1.04, -0.39, -1.99,  1.02,  0.27,  0.4 ,  0.84]])"
      ]
     },
     "execution_count": 14,
     "metadata": {},
     "output_type": "execute_result"
    }
   ],
   "source": [
    "(m - m.mean(axis=1)[:, None])/m.std(axis=1)[:, None]"
   ]
  },
  {
   "cell_type": "code",
   "execution_count": null,
   "metadata": {},
   "outputs": [],
   "source": []
  }
 ],
 "metadata": {
  "kernelspec": {
   "display_name": "Python 3.8.5 64-bit",
   "language": "python",
   "name": "python38564bit02a66c47ce504b05b2ef5646cfed96c2"
  },
  "language_info": {
   "codemirror_mode": {
    "name": "ipython",
    "version": 3
   },
   "file_extension": ".py",
   "mimetype": "text/x-python",
   "name": "python",
   "nbconvert_exporter": "python",
   "pygments_lexer": "ipython3",
   "version": "3.8.5"
  }
 },
 "nbformat": 4,
 "nbformat_minor": 4
}
