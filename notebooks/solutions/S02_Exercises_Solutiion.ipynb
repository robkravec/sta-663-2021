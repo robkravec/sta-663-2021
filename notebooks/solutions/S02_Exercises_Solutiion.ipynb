{
 "cells": [
  {
   "cell_type": "markdown",
   "metadata": {},
   "source": [
    "**1**. Find the longset run of Heads in the string recording coin tosses below.\n",
    "\n"
   ]
  },
  {
   "cell_type": "code",
   "execution_count": 1,
   "metadata": {},
   "outputs": [],
   "source": [
    "tosses = 'THTTTTHTTTHTTTHHTTTHTTTHTHHTHHHHTHHTTTHTTHHTHTHHTHTHHHTHTTHHTHHTHHHTHTTHTTTHTHTTHTHHTTTHTTHHTHTHHTHTHHTTTHHHHHTTHTHHTTTTHTTHTHHTHHTTHHTTTHTTHHHHHHHHHHTHTTTTTTHHHTHHTHTTHTHTTTTHTHHHTTTHHTHTTHTHHHTHTHTHTHHHHHHHHHTHTTHHHHTTHTTHTTTTHTTTTHTHTTHHTTHHHHTTTHHHTHTHTHHTHTTTTTTTHHTTHHHHTHHHTTTHHHTTHHTTHTTHTTTHTTHHHTHTHHTHHHTHTHTTTHHHHHTTTHHHHHHTHHHTTHTTTHHTHTTTTTHTTTHHTTTTHTHHHTHTTTHTTHTTTHHTHHTTTTHHHTHTTTTHHTHHTTHHTTHHTHHTHTTHHHHHHTTTTTHTHHTTHHHHHHHTTTTHHTTTHHTHTHHTTHHTTTHHHTTTTTHHHTTHHHHTHTTTTHHTTHHTTHTTTTTTTTHHTTTTHHHHTHHHHHTTTTHHHTTHTTHTTHTTHHHTTHTHTHTHTHHHHTTHHHHHTHHTTHHTTTTHTHHTHHTTHHTHTHHTTHTTHTTTHTTTHHTHTTTHHHHHHHHHTHHHTTHHHTHTHHTHHHTTTTTHTHTHHHTHTHTTHHTTHTTHTHTHTTTHTHHTHHTTHHHTHTTTTHTTHTHTHTTTTHHTHHHTTHHTTHTHHHTHTHTTTTHTTHHHTHTTHTHTTTTTHTHHHHTTHHTHTTHHHTTTTTTTHHTHHHTHHHTTTTHHHTTTHTHTTTHTTTHHHHTHTHHTHHTTTTHTTHTTHHHHHHHHTHTTTTHHHTTTTHTTTTHHHHHHHTTTHHHHHTHHHHTTTHHHTTHTHHTHTTTHTHTHHTTTHHHTHTHHHHHTHHHHHTTTTHTTTHTHHTTHTTHTHHTTTHHTTTHTTTTHTTTTTTTHTTHTHHTTTTHTTTTHHHHTHTTHHTHTTTTHTTTHHHHHHTHTHTHH'"
   ]
  },
  {
   "cell_type": "markdown",
   "metadata": {},
   "source": [
    "Option 1: Using a regular expression"
   ]
  },
  {
   "cell_type": "code",
   "execution_count": 2,
   "metadata": {},
   "outputs": [
    {
     "data": {
      "text/plain": [
       "'HHHHHHHHHH'"
      ]
     },
     "execution_count": 2,
     "metadata": {},
     "output_type": "execute_result"
    }
   ],
   "source": [
    "import re\n",
    "\n",
    "max(re.findall('H+', tosses), key=len)"
   ]
  },
  {
   "cell_type": "markdown",
   "metadata": {},
   "source": [
    "Option 2: Using a finite state machine"
   ]
  },
  {
   "cell_type": "code",
   "execution_count": 3,
   "metadata": {},
   "outputs": [
    {
     "data": {
      "text/plain": [
       "'HHHHHHHHHH'"
      ]
     },
     "execution_count": 3,
     "metadata": {},
     "output_type": "execute_result"
    }
   ],
   "source": [
    "best_run = ''\n",
    "run = ''\n",
    "for t in tosses:\n",
    "    if t == 'H':\n",
    "        run += 'H'\n",
    "    else:\n",
    "        if len(run) > len(best_run):\n",
    "            best_run = run\n",
    "        run = ''\n",
    "best_run"
   ]
  },
  {
   "cell_type": "markdown",
   "metadata": {},
   "source": [
    "**2**. Find all the words starting wtih `k` that are in `data/wonderland.txt` but not in `data/lookingglass.txt`. Remove punctuation and ignore case."
   ]
  },
  {
   "cell_type": "code",
   "execution_count": 4,
   "metadata": {},
   "outputs": [],
   "source": [
    "with open('data/wonderland.txt') as f:\n",
    "    b1 = f.read()\n",
    "    \n",
    "with open('data/lookingglass.txt') as f:\n",
    "    b2 = f.read()"
   ]
  },
  {
   "cell_type": "code",
   "execution_count": 5,
   "metadata": {},
   "outputs": [],
   "source": [
    "import string"
   ]
  },
  {
   "cell_type": "code",
   "execution_count": 6,
   "metadata": {},
   "outputs": [],
   "source": [
    "tbl = b1.maketrans('', '', string.punctuation)\n",
    "b1_words = b1.lower().translate(tbl).split()\n",
    "b2_words = b2.lower().translate(tbl).split()"
   ]
  },
  {
   "cell_type": "markdown",
   "metadata": {},
   "source": [
    "Option 1: Using sets"
   ]
  },
  {
   "cell_type": "code",
   "execution_count": 7,
   "metadata": {},
   "outputs": [],
   "source": [
    "k_words = [word for word in set(b1_words) - set(b2_words) if word.startswith('k')]"
   ]
  },
  {
   "cell_type": "code",
   "execution_count": 8,
   "metadata": {},
   "outputs": [
    {
     "data": {
      "text/plain": [
       "['know”',\n",
       " 'knave',\n",
       " 'kid',\n",
       " 'know—and',\n",
       " 'killing',\n",
       " 'kill',\n",
       " 'knocking”',\n",
       " 'kills',\n",
       " 'kneel',\n",
       " 'key',\n",
       " 'kind”',\n",
       " 'knot”',\n",
       " 'knowledge',\n",
       " 'kitchen',\n",
       " 'kissed',\n",
       " 'knelt',\n",
       " 'knot',\n",
       " 'know—”',\n",
       " 'knock',\n",
       " 'know—no',\n",
       " 'knuckles',\n",
       " 'king”']"
      ]
     },
     "execution_count": 8,
     "metadata": {},
     "output_type": "execute_result"
    }
   ],
   "source": [
    "k_words"
   ]
  },
  {
   "cell_type": "markdown",
   "metadata": {},
   "source": [
    "Option 2: Using for loops (inefficient)"
   ]
  },
  {
   "cell_type": "code",
   "execution_count": 9,
   "metadata": {},
   "outputs": [],
   "source": [
    "k_words = set([])\n",
    "for word in b1_words:\n",
    "    if word.startswith('k') and word not in b2_words:\n",
    "        k_words.add(word)"
   ]
  },
  {
   "cell_type": "code",
   "execution_count": 10,
   "metadata": {},
   "outputs": [
    {
     "data": {
      "text/plain": [
       "{'key',\n",
       " 'kid',\n",
       " 'kill',\n",
       " 'killing',\n",
       " 'kills',\n",
       " 'kind”',\n",
       " 'king”',\n",
       " 'kissed',\n",
       " 'kitchen',\n",
       " 'knave',\n",
       " 'kneel',\n",
       " 'knelt',\n",
       " 'knock',\n",
       " 'knocking”',\n",
       " 'knot',\n",
       " 'knot”',\n",
       " 'knowledge',\n",
       " 'know—and',\n",
       " 'know—no',\n",
       " 'know—”',\n",
       " 'know”',\n",
       " 'knuckles'}"
      ]
     },
     "execution_count": 10,
     "metadata": {},
     "output_type": "execute_result"
    }
   ],
   "source": [
    "k_words"
   ]
  },
  {
   "cell_type": "markdown",
   "metadata": {},
   "source": [
    "**3**. Create a dictionary of the number of times each word in the list from the problem above appears in `data/wonderland.txt`"
   ]
  },
  {
   "cell_type": "markdown",
   "metadata": {},
   "source": [
    "Option 1: Using a dictionary comprehension and list methods"
   ]
  },
  {
   "cell_type": "code",
   "execution_count": 11,
   "metadata": {},
   "outputs": [
    {
     "data": {
      "text/plain": [
       "{'kneel': 1,\n",
       " 'knock': 1,\n",
       " 'knot': 1,\n",
       " 'kills': 1,\n",
       " 'knowledge': 3,\n",
       " 'kissed': 1,\n",
       " 'knot”': 1,\n",
       " 'know—and': 1,\n",
       " 'knelt': 1,\n",
       " 'knave': 9,\n",
       " 'killing': 1,\n",
       " 'king”': 1,\n",
       " 'key': 9,\n",
       " 'kill': 1,\n",
       " 'know—”': 4,\n",
       " 'know”': 21,\n",
       " 'kind”': 1,\n",
       " 'knuckles': 1,\n",
       " 'know—no': 1,\n",
       " 'knocking”': 2,\n",
       " 'kid': 5,\n",
       " 'kitchen': 4}"
      ]
     },
     "execution_count": 11,
     "metadata": {},
     "output_type": "execute_result"
    }
   ],
   "source": [
    "{word: b1_words.count(word) for word in k_words}"
   ]
  },
  {
   "cell_type": "markdown",
   "metadata": {},
   "source": [
    "Option 2: Using a manual count"
   ]
  },
  {
   "cell_type": "code",
   "execution_count": 12,
   "metadata": {},
   "outputs": [],
   "source": [
    "counts = {}\n",
    "for word in b1_words:\n",
    "    if word in k_words:\n",
    "        counts[word] = counts.get(word, 0) + 1"
   ]
  },
  {
   "cell_type": "code",
   "execution_count": 13,
   "metadata": {},
   "outputs": [
    {
     "data": {
      "text/plain": [
       "{'killing': 1,\n",
       " 'knowledge': 3,\n",
       " 'key': 9,\n",
       " 'knelt': 1,\n",
       " 'know”': 21,\n",
       " 'kid': 5,\n",
       " 'kills': 1,\n",
       " 'knot”': 1,\n",
       " 'kneel': 1,\n",
       " 'know—no': 1,\n",
       " 'know—and': 1,\n",
       " 'knuckles': 1,\n",
       " 'knocking”': 2,\n",
       " 'knock': 1,\n",
       " 'kitchen': 4,\n",
       " 'knot': 1,\n",
       " 'kill': 1,\n",
       " 'know—”': 4,\n",
       " 'knave': 9,\n",
       " 'king”': 1,\n",
       " 'kind”': 1,\n",
       " 'kissed': 1}"
      ]
     },
     "execution_count": 13,
     "metadata": {},
     "output_type": "execute_result"
    }
   ],
   "source": [
    "counts"
   ]
  },
  {
   "cell_type": "markdown",
   "metadata": {},
   "source": [
    "**4**. Find the reverse complement of the DNA sequence shown below.\n",
    "\n",
    "The following bases are complementary a → t, c → g, t → a, g → c. Reverse complement means reverse each base with its complement, then reverse the entire sequence."
   ]
  },
  {
   "cell_type": "code",
   "execution_count": 14,
   "metadata": {},
   "outputs": [],
   "source": [
    "dna = '''\n",
    "          aaattgaaga gtttgatcat ggctcagatt gaacgctggc ggcaggccta acacatgcaa\n",
    "       61 gtcgaacggt aacaggaaga agcttgctct ttgctgacga gtggcggacg ggtgagtaat\n",
    "      121 gtctgggaaa ctgcctgatg gagggggata actactggaa acggtagcta ataccgcata\n",
    "      181 acgtcgcaag accaaagagg gggaccttcg ggcctcttgc catcggatgt gcccagatgg\n",
    "      241 gattagctag taggtggggt aacggctcac ctaggcgacg atccctagct ggtctgagag\n",
    "      301 gatgaccagc cacactggaa ctgagacacg gtccagactc ctacgggagg cagcagtggg\n",
    "      361 gaatattgca caatgggcgc aagcctgatg cagccatgcc gcgtgtatga agaaggcctt\n",
    "      421 cgggttgtaa agtactttca gcggggagga agggagtaaa gttaatacct ttgctcattg\n",
    "      481 acgttacccg cagaagaagc accggctaac tccgtgccag cagccgcggt aatacggagg\n",
    "      541 gtgcaagcgt taatcggaat tactgggcgt aaagcgcacg caggcggttt gttaagtcag\n",
    "      601 atgtgaaatc cccgggctca acctgggaac tgcatctgat actggcaagc ttgagtctcg\n",
    "      661 tagagggggg tagaattcca ggtgtagcgg tgaaatgcgt agagatctgg aggaataccg\n",
    "      721 gtggcgaagg cggccccctg gacgaagact gacgctcagg tgcgaaagcg tggggagcaa\n",
    "      781 acaggattag ataccctggt agtccacgcc gtaaacgatg tcgacttgga ggttgtgccc\n",
    "      841 ttgaggcgtg gcttccggag ctaacgcgtt aagtcgaccg cctggggagt acggccgcaa\n",
    "      901 ggttaaaact caaatgaatt gacgggggcc cgcacaagcg gtggagcatg tggtttaatt\n",
    "      961 cgatgcaacg cgaagaacct tacctggtct tgacatccac ggaagttttc agagatgaga\n",
    "     1021 atgtgccttc gggaaccgtg agacaggtgc tgcatggctg tcgtcagctc gtgttgtgaa\n",
    "     1081 atgttgggtt aagtcccgca acgagcgcaa cccttatcct ttgttgccag cggtccggcc\n",
    "     1141 gggaactcaa aggagactgc cagtgataaa ctggaggaag gtggggatga cgtcaagtca\n",
    "     1201 tcatggccct tacgaccagg gctacacacg tgctacaatg gcgcatacaa agagaagcga\n",
    "     1261 cctcgcgaga gcaagcggac ctcataaagt gcgtcgtagt ccggattgga gtctgcaact\n",
    "     1321 cgactccatg aagtcggaat cgctagtaat cgtggatcag aatgccacgg tgaatacgtt\n",
    "     1381 cccgggcctt gtacacaccg cccgtcacac catgggagtg ggttgcaaaa gaagtaggta\n",
    "     1441 gcttaacctt cgggagggcg cttaccactt tgtgattcat gactggggtg aagtcgtaac\n",
    "     1501 aaggtaaccg taggggaacc tgcggttgga tcacctcctt a\n",
    "'''"
   ]
  },
  {
   "cell_type": "markdown",
   "metadata": {},
   "source": [
    "Option 1: Use the `translate` method"
   ]
  },
  {
   "cell_type": "code",
   "execution_count": 15,
   "metadata": {},
   "outputs": [
    {
     "data": {
      "text/plain": [
       "'taaggaggtgatccaaccgcaggttcccctacggttaccttgttacgacttcaccccagtcatgaatcacaaagtggtaagcgccctcccgaaggttaagctacctacttcttttgcaacccactcccatggtgtgacgggcggtgtgtacaaggcccgggaacgtattcaccgtggcattctgatccacgattactagcgattccgacttcatggagtcgagttgcagactccaatccggactacgacgcactttatgaggtccgcttgctctcgcgaggtcgcttctctttgtatgcgccattgtagcacgtgtgtagccctggtcgtaagggccatgatgacttgacgtcatccccaccttcctccagtttatcactggcagtctcctttgagttcccggccggaccgctggcaacaaaggataagggttgcgctcgttgcgggacttaacccaacatttcacaacacgagctgacgacagccatgcagcacctgtctcacggttcccgaaggcacattctcatctctgaaaacttccgtggatgtcaagaccaggtaaggttcttcgcgttgcatcgaattaaaccacatgctccaccgcttgtgcgggcccccgtcaattcatttgagttttaaccttgcggccgtactccccaggcggtcgacttaacgcgttagctccggaagccacgcctcaagggcacaacctccaagtcgacatcgtttacggcgtggactaccagggtatctaatcctgtttgctccccacgctttcgcacctgagcgtcagtcttcgtccagggggccgccttcgccaccggtattcctccagatctctacgcatttcaccgctacacctggaattctacccccctctacgagactcaagcttgccagtatcagatgcagttcccaggttgagcccggggatttcacatctgacttaacaaaccgcctgcgtgcgctttacgcccagtaattccgattaacgcttgcaccctccgtattaccgcggctgctggcacggagttagccggtgcttcttctgcgggtaacgtcaatgagcaaaggtattaactttactcccttcctccccgctgaaagtactttacaacccgaaggccttcttcatacacgcggcatggctgcatcaggcttgcgcccattgtgcaatattccccactgctgcctcccgtaggagtctggaccgtgtctcagttccagtgtggctggtcatcctctcagaccagctagggatcgtcgcctaggtgagccgttaccccacctactagctaatcccatctgggcacatccgatggcaagaggcccgaaggtccccctctttggtcttgcgacgttatgcggtattagctaccgtttccagtagttatccccctccatcaggcagtttcccagacattactcacccgtccgccactcgtcagcaaagagcaagcttcttcctgttaccgttcgacttgcatgtgttaggcctgccgccagcgttcaatctgagccatgatcaaactcttcaattt'"
      ]
     },
     "execution_count": 15,
     "metadata": {},
     "output_type": "execute_result"
    }
   ],
   "source": [
    "table = dna.maketrans('actg', 'tgac', '0123456789 \\n')\n",
    "dna.translate(table)[::-1]"
   ]
  },
  {
   "cell_type": "markdown",
   "metadata": {},
   "source": [
    "Option 2: Use a loop"
   ]
  },
  {
   "cell_type": "code",
   "execution_count": 16,
   "metadata": {},
   "outputs": [
    {
     "data": {
      "text/plain": [
       "'taaggaggtgatccaaccgcaggttcccctacggttaccttgttacgacttcaccccagtcatgaatcacaaagtggtaagcgccctcccgaaggttaagctacctacttcttttgcaacccactcccatggtgtgacgggcggtgtgtacaaggcccgggaacgtattcaccgtggcattctgatccacgattactagcgattccgacttcatggagtcgagttgcagactccaatccggactacgacgcactttatgaggtccgcttgctctcgcgaggtcgcttctctttgtatgcgccattgtagcacgtgtgtagccctggtcgtaagggccatgatgacttgacgtcatccccaccttcctccagtttatcactggcagtctcctttgagttcccggccggaccgctggcaacaaaggataagggttgcgctcgttgcgggacttaacccaacatttcacaacacgagctgacgacagccatgcagcacctgtctcacggttcccgaaggcacattctcatctctgaaaacttccgtggatgtcaagaccaggtaaggttcttcgcgttgcatcgaattaaaccacatgctccaccgcttgtgcgggcccccgtcaattcatttgagttttaaccttgcggccgtactccccaggcggtcgacttaacgcgttagctccggaagccacgcctcaagggcacaacctccaagtcgacatcgtttacggcgtggactaccagggtatctaatcctgtttgctccccacgctttcgcacctgagcgtcagtcttcgtccagggggccgccttcgccaccggtattcctccagatctctacgcatttcaccgctacacctggaattctacccccctctacgagactcaagcttgccagtatcagatgcagttcccaggttgagcccggggatttcacatctgacttaacaaaccgcctgcgtgcgctttacgcccagtaattccgattaacgcttgcaccctccgtattaccgcggctgctggcacggagttagccggtgcttcttctgcgggtaacgtcaatgagcaaaggtattaactttactcccttcctccccgctgaaagtactttacaacccgaaggccttcttcatacacgcggcatggctgcatcaggcttgcgcccattgtgcaatattccccactgctgcctcccgtaggagtctggaccgtgtctcagttccagtgtggctggtcatcctctcagaccagctagggatcgtcgcctaggtgagccgttaccccacctactagctaatcccatctgggcacatccgatggcaagaggcccgaaggtccccctctttggtcttgcgacgttatgcggtattagctaccgtttccagtagttatccccctccatcaggcagtttcccagacattactcacccgtccgccactcgtcagcaaagagcaagcttcttcctgttaccgttcgacttgcatgtgttaggcctgccgccagcgttcaatctgagccatgatcaaactcttcaattt'"
      ]
     },
     "execution_count": 16,
     "metadata": {},
     "output_type": "execute_result"
    }
   ],
   "source": [
    "rc = []\n",
    "for nuc in dna:\n",
    "    if nuc == 'a':\n",
    "        rc.append('t')\n",
    "    elif nuc == 't':\n",
    "        rc.append('a')\n",
    "    elif nuc == 'c':\n",
    "        rc.append('g')\n",
    "    elif nuc == 'g':\n",
    "        rc.append('c')\n",
    "''.join(rc)[::-1]"
   ]
  },
  {
   "cell_type": "code",
   "execution_count": null,
   "metadata": {},
   "outputs": [],
   "source": []
  }
 ],
 "metadata": {
  "kernelspec": {
   "display_name": "Python 3",
   "language": "python",
   "name": "python3"
  },
  "language_info": {
   "codemirror_mode": {
    "name": "ipython",
    "version": 3
   },
   "file_extension": ".py",
   "mimetype": "text/x-python",
   "name": "python",
   "nbconvert_exporter": "python",
   "pygments_lexer": "ipython3",
   "version": "3.7.6"
  }
 },
 "nbformat": 4,
 "nbformat_minor": 4
}
