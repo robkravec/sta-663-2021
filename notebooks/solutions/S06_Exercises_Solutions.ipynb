{
 "cells": [
  {
   "cell_type": "markdown",
   "metadata": {},
   "source": [
    "**1**.\n",
    "\n",
    "Rewrite the following code using map, filter and reduce."
   ]
  },
  {
   "cell_type": "code",
   "execution_count": 1,
   "metadata": {},
   "outputs": [],
   "source": [
    "xs = []\n",
    "for x in range(10):\n",
    "    if x % 3:\n",
    "        xs.append(x**3)\n",
    "sum(xs)"
   ]
  },
  {
   "cell_type": "code",
   "execution_count": 2,
   "metadata": {},
   "outputs": [],
   "source": [
    "xs"
   ]
  },
  {
   "cell_type": "code",
   "execution_count": 3,
   "metadata": {},
   "outputs": [],
   "source": [
    "from functools import reduce"
   ]
  },
  {
   "cell_type": "code",
   "execution_count": 4,
   "metadata": {},
   "outputs": [],
   "source": [
    "reduce(lambda a, b: a+b,  \n",
    "       map(lambda x: x**3,\n",
    "           filter(lambda x: x % 3, range(10))))"
   ]
  },
  {
   "cell_type": "markdown",
   "metadata": {},
   "source": [
    "**2**.\n",
    "\n",
    "Euclid's algorithm to find the greatest common divisor (GCD) of two numbers $a$ and $b$:\n",
    "\n",
    "If b is 0 then the GCD is a, otherwise the GCD is the GCD of $b$ and $a \\mod b$. Implement the `gcd` function and use it to find the least common multiple of 741 and 91."
   ]
  },
  {
   "cell_type": "code",
   "execution_count": 5,
   "metadata": {},
   "outputs": [],
   "source": [
    "def gcd(a, b):\n",
    "    if b == 0:\n",
    "        return a\n",
    "    else:\n",
    "        return gcd(b, a % b)"
   ]
  },
  {
   "cell_type": "code",
   "execution_count": 6,
   "metadata": {},
   "outputs": [],
   "source": [
    "def lcm(a, b):\n",
    "    return a * b // gcd(a, b)"
   ]
  },
  {
   "cell_type": "code",
   "execution_count": 7,
   "metadata": {
    "scrolled": true
   },
   "outputs": [
    {
     "data": {
      "text/plain": [
       "5187"
      ]
     },
     "execution_count": 7,
     "metadata": {},
     "output_type": "execute_result"
    }
   ],
   "source": [
    "lcm(741, 91)"
   ]
  },
  {
   "cell_type": "markdown",
   "metadata": {},
   "source": [
    "**3**. \n",
    "\n",
    "The Fibonacci sequence is 1,1,2,3,5,8,13,.... where each number is the sum of the two preceding it. \n",
    "\n",
    "- Write a recursive function to calculate the nth Fibonacci number \n",
    "- Write a decorator (i.e. not using `lru_cache` or similar) that caches previously seen values and apply it to the Fibonacci function. \n",
    "- Add a print statement to see how many function calls are made for $n=10$ for the plain and decorated versions"
   ]
  },
  {
   "cell_type": "code",
   "execution_count": 8,
   "metadata": {},
   "outputs": [],
   "source": [
    "def fib_(n):\n",
    "    \"\"\"Recursive Fibonacci.\"\"\"\n",
    "    print(f'fib({n})', end=', ')\n",
    "    \n",
    "    if n == 1:\n",
    "        return 1\n",
    "    elif n == 2:\n",
    "        return 1\n",
    "    else:\n",
    "        return fib_(n-1) + fib_(n-2)"
   ]
  },
  {
   "cell_type": "code",
   "execution_count": 9,
   "metadata": {},
   "outputs": [],
   "source": [
    "def cache(f):\n",
    "    store = {}\n",
    "    def g(n):\n",
    "        if n not in store:\n",
    "            store[n] = f(n)\n",
    "        return store[n]\n",
    "    return g"
   ]
  },
  {
   "cell_type": "code",
   "execution_count": 10,
   "metadata": {},
   "outputs": [],
   "source": [
    "@cache\n",
    "def fib(n):\n",
    "    \"\"\"Recursive Fibonacci.\"\"\"\n",
    "    print(f'fib({n})', end=', ')\n",
    "\n",
    "    if n == 1:\n",
    "        return 1\n",
    "    elif n == 2:\n",
    "        return 1\n",
    "    else:\n",
    "        return fib(n-1) + fib(n-2)"
   ]
  },
  {
   "cell_type": "code",
   "execution_count": 11,
   "metadata": {},
   "outputs": [
    {
     "name": "stdout",
     "output_type": "stream",
     "text": [
      "fib(10), fib(9), fib(8), fib(7), fib(6), fib(5), fib(4), fib(3), fib(2), fib(1), fib(2), fib(3), fib(2), fib(1), fib(4), fib(3), fib(2), fib(1), fib(2), fib(5), fib(4), fib(3), fib(2), fib(1), fib(2), fib(3), fib(2), fib(1), fib(6), fib(5), fib(4), fib(3), fib(2), fib(1), fib(2), fib(3), fib(2), fib(1), fib(4), fib(3), fib(2), fib(1), fib(2), fib(7), fib(6), fib(5), fib(4), fib(3), fib(2), fib(1), fib(2), fib(3), fib(2), fib(1), fib(4), fib(3), fib(2), fib(1), fib(2), fib(5), fib(4), fib(3), fib(2), fib(1), fib(2), fib(3), fib(2), fib(1), fib(8), fib(7), fib(6), fib(5), fib(4), fib(3), fib(2), fib(1), fib(2), fib(3), fib(2), fib(1), fib(4), fib(3), fib(2), fib(1), fib(2), fib(5), fib(4), fib(3), fib(2), fib(1), fib(2), fib(3), fib(2), fib(1), fib(6), fib(5), fib(4), fib(3), fib(2), fib(1), fib(2), fib(3), fib(2), fib(1), fib(4), fib(3), fib(2), fib(1), fib(2), "
     ]
    },
    {
     "data": {
      "text/plain": [
       "55"
      ]
     },
     "execution_count": 11,
     "metadata": {},
     "output_type": "execute_result"
    }
   ],
   "source": [
    "fib_(10)"
   ]
  },
  {
   "cell_type": "code",
   "execution_count": 12,
   "metadata": {},
   "outputs": [
    {
     "name": "stdout",
     "output_type": "stream",
     "text": [
      "fib(10), fib(9), fib(8), fib(7), fib(6), fib(5), fib(4), fib(3), fib(2), fib(1), "
     ]
    },
    {
     "data": {
      "text/plain": [
       "55"
      ]
     },
     "execution_count": 12,
     "metadata": {},
     "output_type": "execute_result"
    }
   ],
   "source": [
    "fib(10)"
   ]
  },
  {
   "cell_type": "markdown",
   "metadata": {},
   "source": [
    "**4**. \n",
    "\n",
    "Write a function that flattens an arbitrarily nested list. For this exercise, you can assume that it will always be a nested list that is given.\n",
    "\n",
    "Hint: use `yield` recursively."
   ]
  },
  {
   "cell_type": "code",
   "execution_count": 13,
   "metadata": {},
   "outputs": [],
   "source": [
    "def flat(xs):\n",
    "    for x in xs:\n",
    "        if isinstance(x, list):\n",
    "            yield from flat(x)\n",
    "        else:\n",
    "            yield x"
   ]
  },
  {
   "cell_type": "code",
   "execution_count": 14,
   "metadata": {},
   "outputs": [],
   "source": [
    "xs = [1,[2,3],[4,[5,[6]]]]"
   ]
  },
  {
   "cell_type": "code",
   "execution_count": 15,
   "metadata": {},
   "outputs": [
    {
     "data": {
      "text/plain": [
       "[1, 2, 3, 4, 5, 6]"
      ]
     },
     "execution_count": 15,
     "metadata": {},
     "output_type": "execute_result"
    }
   ],
   "source": [
    "list(flat(xs))"
   ]
  }
 ],
 "metadata": {
  "kernelspec": {
   "display_name": "Python 3.8.5 64-bit",
   "language": "python",
   "name": "python38564bit02a66c47ce504b05b2ef5646cfed96c2"
  },
  "language_info": {
   "codemirror_mode": {
    "name": "ipython",
    "version": 3
   },
   "file_extension": ".py",
   "mimetype": "text/x-python",
   "name": "python",
   "nbconvert_exporter": "python",
   "pygments_lexer": "ipython3",
   "version": "3.8.5"
  }
 },
 "nbformat": 4,
 "nbformat_minor": 4
}
