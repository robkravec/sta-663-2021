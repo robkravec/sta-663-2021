{
 "cells": [
  {
   "cell_type": "markdown",
   "metadata": {},
   "source": [
    "# Statistical Computing\n",
    "\n",
    "We now start a new module on the interface between statistics and computing. Statistical (or mathematical) concepts need to be implemented as algorithms and data structures, and key issues of accuracy, space and time considered. Briefly, we look at the following:\n",
    "\n",
    "- Space complexity\n",
    "- Time complexity\n",
    "- Big O notation for space and time complexity\n",
    "- Computer representation of numbers\n",
    "    - Integers\n",
    "    - Floating point\n",
    "    - Decimal\n",
    "    - Arbitrary precision\n",
    "    - Vectors\n",
    "    - Dense and sparse matrices\n",
    "    - Tensors\n",
    "- Accuracy considerations\n",
    "    - Limits and overflow\n",
    "    - Round-off errors\n",
    "    - Catastrophic cancellation\n",
    "    - Working in log space\n",
    "    - Condition number\n",
    "- Linear algebra foundations\n",
    "    - Many problems in statistics can be formulated as linear algebra problems\n",
    "    - Vectors and vector spaces\n",
    "        - Vector spaces and subspaces are closed under addition and scalar multiplication\n",
    "        - Viewed as data\n",
    "        - Viewed as mathematical object\n",
    "        - Inner products\n",
    "        - Outer products\n",
    "        - Projection\n",
    "        - Vector norms\n",
    "        - Linear independence\n",
    "    - Matrices\n",
    "        - Types and examples\n",
    "        - Important matrices\n",
    "            - Symmetric positive definite\n",
    "            - Orthogonal\n",
    "        - Span, basis, rank\n",
    "        - Matrix norms\n",
    "        - Trace and determinant\n",
    "        - Eigenvalues and eigenvectors\n",
    "        - Column space\n",
    "        - Null space\n",
    "        - The four fundamental subspaces\n",
    "    - How to think about matrix vector multiplication\n",
    "        - As linear transform - rotate, reflect, stretch, contract\n",
    "        - As weighted combination of column vectors\n",
    "    - How to think about matrix-matrix multiplication\n",
    "        - Row times column\n",
    "        - Column times row gives sum of rank one matrices\n",
    "        - Upper times upper = upper\n",
    "        - Orthogonal times orthogonal = orthogonal\n",
    "    - Matrix factorization\n",
    "        - Review $A = LU$\n",
    "            - Row pivoting as a numerical consideration\n",
    "            - Permutation matrix\n",
    "        - Review $A = QR$\n",
    "            - Gram-Schmidt procedure\n",
    "            - column pivoting as a numerical consideration\n",
    "        - $A = V \\Lambda V^{-1}$\n",
    "            - Spectral theorem\n",
    "            - Geometry\n",
    "            - Similarity transforms preserve eigenvalues\n",
    "        - $A = U \\Sigma V^{T}$\n",
    "            - SVD\n",
    "            - Geometry\n",
    "            - Pseudo-inverse\n",
    "            - SVD generates basis for fundamental subspaces\n",
    "        - Non-negative and sparse matrix factorizations\n",
    "    - Important linear algebra problems\n",
    "        - $Ax = b$ when $m = n = r$\n",
    "        - $Ax = b$ when $m > n$\n",
    "        - $Ax = b$ when $n > m$\n",
    "        - $Ax = b$ when $A$ is nearly singular\n",
    "    - General approaches\n",
    "        - Matrix factorization\n",
    "        - Iteration\n",
    "        - Randomization\n",
    "        - Optimization\n",
    "    - Application examples\n",
    "        - Least squares regression\n",
    "        - Markov chains\n",
    "        - PCA\n",
    "        - Graphs\n",
    "- Optimization foundations\n",
    "    - Root finding\n",
    "        - Bisection vs Newton-Raphson\n",
    "        - Link with optimization\n",
    "    - Zeroth order methods\n",
    "    - Second order methods\n",
    "        - Convexity and Newton's method\n",
    "    - First order methods\n",
    "        - Gradient descent\n",
    "        - Stochastic gradient descent\n",
    "        - ADAM and friends\n",
    "    - Constrained optimization\n",
    "        - Lagrange multipliers"
   ]
  },
  {
   "cell_type": "markdown",
   "metadata": {},
   "source": [
    "### Big O complexity\n",
    "\n",
    "A function $f(n)$ had Big O complexity $g(n)$ if $$\\vert f(n) \\vert \\le M g(n)$$ for all $n > N$ where $M$ is a constant. \n",
    "\n",
    "For example, $2n^2 + 3n -2$ bas $O(n^2)$ complexity since for large $n$, it is always less than, say, $3n^2$.\n",
    "\n",
    "Common classes for $g(n)$ in increasing order of complexity are\n",
    "\n",
    "- $\\log n$\n",
    "- linear $n$\n",
    "- $n \\log n$\n",
    "- polynomial $n^k$\n",
    "- exponential $e^n$\n",
    "- factorial n!\n",
    "\n",
    "Notes\n",
    "\n",
    "- Note 1: parallel processing in most cases gives at best a linear speedup.\n",
    "- Note 2: The constant factor can be important, especially for small to moderate values of $n$"
   ]
  },
  {
   "cell_type": "code",
   "execution_count": null,
   "metadata": {},
   "outputs": [],
   "source": [
    "import numpy as np\n",
    "from functools import reduce"
   ]
  },
  {
   "cell_type": "code",
   "execution_count": null,
   "metadata": {},
   "outputs": [],
   "source": [
    "def factorial(n):\n",
    "    return reduce(lambda a, b: a* b, range(1, n+1))"
   ]
  },
  {
   "cell_type": "code",
   "execution_count": null,
   "metadata": {},
   "outputs": [],
   "source": [
    "for n in (5, 20, 50):\n",
    "    print('n =', n)\n",
    "    print('-'*40)\n",
    "    print('log    ', int(np.log2(n)))\n",
    "    print('linear ', n)\n",
    "    print('n log n', int(n*np.log2(n)))\n",
    "    print('n^2    ', n**2)\n",
    "    print('n^3    ', n**3)\n",
    "    print('e^n    ', int(np.exp(n)))\n",
    "    print('n!     ', factorial(n))\n",
    "    print()"
   ]
  },
  {
   "cell_type": "markdown",
   "metadata": {},
   "source": [
    "#### Example"
   ]
  },
  {
   "cell_type": "markdown",
   "metadata": {},
   "source": [
    "If you have to search a sequence container repeatedly, it is more efficient to first sort, then use a bisection algorithm.\n",
    "\n",
    "- Initial sort takes $n \\log n$ time\n",
    "- Subsequent searches takes $\\log n$\n",
    "- Total time is $n \\log n + k \\log n$ versus $k \\times n/2$"
   ]
  },
  {
   "cell_type": "code",
   "execution_count": null,
   "metadata": {},
   "outputs": [],
   "source": [
    "testx = np.random.randint(0, 2*n, 1000)"
   ]
  },
  {
   "cell_type": "code",
   "execution_count": null,
   "metadata": {},
   "outputs": [],
   "source": [
    "testx[:10]"
   ]
  },
  {
   "cell_type": "code",
   "execution_count": null,
   "metadata": {},
   "outputs": [],
   "source": [
    "%%time\n",
    "\n",
    "n = 10000\n",
    "xs  = list(range(n))\n",
    "hits = 0\n",
    "for x in testx:\n",
    "    if x in xs:\n",
    "        hits += 1\n",
    "print(hits)"
   ]
  },
  {
   "cell_type": "code",
   "execution_count": null,
   "metadata": {},
   "outputs": [],
   "source": [
    "import bisect"
   ]
  },
  {
   "cell_type": "code",
   "execution_count": null,
   "metadata": {},
   "outputs": [],
   "source": [
    "help(bisect.bisect)"
   ]
  },
  {
   "cell_type": "code",
   "execution_count": null,
   "metadata": {},
   "outputs": [],
   "source": [
    "%%time\n",
    "\n",
    "n = 10000\n",
    "xs  = list(range(n))\n",
    "xs.sort()\n",
    "hits = 0\n",
    "for x in testx:\n",
    "    if bisect.bisect(xs, x) != n:\n",
    "        hits += 1\n",
    "print(hits)"
   ]
  },
  {
   "cell_type": "markdown",
   "metadata": {},
   "source": [
    "### Sorting algorithms\n",
    "\n",
    "Generally, use the sort function provided by the language (e.g. `sort`, `sorteed`). However sort functions are useful to illustrate algorithmic concepts such as in-place editing, recursion and algorithmic complexity, and you should know how to write simple sort functions.\n",
    "\n",
    "- How much memory does the sort use?\n",
    "- What is its big O complexity class?\n",
    "- Is it iterative or recursive? (note - all recursive algorithm have an iterative equivalent, but some (e.g. quicksort) are easier to think of in a recursive way."
   ]
  },
  {
   "cell_type": "markdown",
   "metadata": {},
   "source": [
    "#### Bubble sort\n",
    "\n",
    "The ideas is to \"bubble\" numbers from left to right by repeated swapping with neighbors until neighbor to the right is larger."
   ]
  },
  {
   "cell_type": "code",
   "execution_count": null,
   "metadata": {},
   "outputs": [],
   "source": [
    "def bubblesort(xs):\n",
    "    \"\"\"Bubble sort.\"\"\"\n",
    "    \n",
    "    n = len(xs)\n",
    "    for i in range(n):\n",
    "        print(xs)\n",
    "        for j in range(i+1, n):\n",
    "            if xs[i] > xs[j]:\n",
    "                xs[i], xs[j] = xs[j], xs[i]"
   ]
  },
  {
   "cell_type": "code",
   "execution_count": null,
   "metadata": {},
   "outputs": [],
   "source": [
    "xs = [5,1,3,4,2]\n",
    "bubblesort(xs)\n",
    "xs"
   ]
  },
  {
   "cell_type": "markdown",
   "metadata": {},
   "source": [
    "#### Selection sort\n",
    "\n",
    "From left to right, repeat looking for the minimum number in the unsorted part and put it in its correct place."
   ]
  },
  {
   "cell_type": "code",
   "execution_count": null,
   "metadata": {},
   "outputs": [],
   "source": [
    "def selectionsort(xs):\n",
    "    \"\"\"Selection sort.\"\"\"\n",
    "    \n",
    "    n = len(xs)\n",
    "    for i in range(n):\n",
    "        best = xs[i]\n",
    "        idx = i\n",
    "        print(xs)\n",
    "        for j in range(i+1, n):\n",
    "            if xs[j] < best:\n",
    "                best = xs[j]\n",
    "                idx = j\n",
    "        xs[i], xs[idx] = xs[idx], xs[i]"
   ]
  },
  {
   "cell_type": "code",
   "execution_count": null,
   "metadata": {},
   "outputs": [],
   "source": [
    "xs = [5,1,3,4,2]\n",
    "selectionsort(xs)\n",
    "xs"
   ]
  },
  {
   "cell_type": "markdown",
   "metadata": {},
   "source": [
    "#### Quicksort\n",
    "\n",
    "This is an example of how recursion can be a useful tool for developing algorithms. Given an unsorted list, the ideas is this:\n",
    "\n",
    "- If the list is sorted, return the list\n",
    "- Pick a random number from the list\n",
    "- Put all smaller numbers to the left and all numbers and all large numbers to the right\n",
    "- Repeat for list of smaller numbers and list of smaller numbers\n",
    "\n",
    "Base case:\n",
    "\n",
    "- A list with 0 or 1 elements is sorted"
   ]
  },
  {
   "cell_type": "code",
   "execution_count": null,
   "metadata": {},
   "outputs": [],
   "source": [
    "def quicksort(xs):\n",
    "    \"\"\"Quicksort.\"\"\"\n",
    "    \n",
    "    if len(xs) < 2:\n",
    "        return xs\n",
    "    else:\n",
    "        pivot = xs[0]\n",
    "        left = [x for x in xs[1:] if x <= pivot]\n",
    "        right = [x for x in xs[1:] if x > pivot]\n",
    "        print(pivot, left, right)\n",
    "        return quicksort(left) + [pivot] + quicksort(right)"
   ]
  },
  {
   "cell_type": "code",
   "execution_count": null,
   "metadata": {},
   "outputs": [],
   "source": [
    "xs = [5,1,3,4,2]\n",
    "quicksort(xs)"
   ]
  },
  {
   "cell_type": "markdown",
   "metadata": {},
   "source": [
    "## Memory usage"
   ]
  },
  {
   "cell_type": "code",
   "execution_count": null,
   "metadata": {},
   "outputs": [],
   "source": [
    "import sys"
   ]
  },
  {
   "cell_type": "code",
   "execution_count": null,
   "metadata": {},
   "outputs": [],
   "source": [
    "xs = np.random.randint(0, 10, (100,100))"
   ]
  },
  {
   "cell_type": "code",
   "execution_count": null,
   "metadata": {},
   "outputs": [],
   "source": [
    "sys.getsizeof(xs)"
   ]
  },
  {
   "cell_type": "code",
   "execution_count": null,
   "metadata": {},
   "outputs": [],
   "source": [
    "xs.nbytes"
   ]
  },
  {
   "cell_type": "markdown",
   "metadata": {},
   "source": [
    "## Timing"
   ]
  },
  {
   "cell_type": "code",
   "execution_count": null,
   "metadata": {},
   "outputs": [],
   "source": [
    "from time import sleep"
   ]
  },
  {
   "cell_type": "code",
   "execution_count": null,
   "metadata": {},
   "outputs": [],
   "source": [
    "%time sleep(0.1)"
   ]
  },
  {
   "cell_type": "code",
   "execution_count": null,
   "metadata": {},
   "outputs": [],
   "source": [
    "%%time\n",
    "\n",
    "sleep(0.1)"
   ]
  },
  {
   "cell_type": "code",
   "execution_count": null,
   "metadata": {},
   "outputs": [],
   "source": [
    "%timeit sleep(0.1)"
   ]
  },
  {
   "cell_type": "code",
   "execution_count": null,
   "metadata": {},
   "outputs": [],
   "source": [
    "%timeit -r 3 -n 10 sleep(0.1)"
   ]
  },
  {
   "cell_type": "code",
   "execution_count": null,
   "metadata": {},
   "outputs": [],
   "source": [
    "from timeit import timeit"
   ]
  },
  {
   "cell_type": "code",
   "execution_count": null,
   "metadata": {},
   "outputs": [],
   "source": [
    "t = timeit('from time import sleep; sleep(0.1)', number=1)\n",
    "t"
   ]
  },
  {
   "cell_type": "code",
   "execution_count": null,
   "metadata": {},
   "outputs": [],
   "source": [
    "t = timeit(lambda: sleep(0.1), number=1)\n",
    "t"
   ]
  },
  {
   "cell_type": "code",
   "execution_count": null,
   "metadata": {},
   "outputs": [],
   "source": []
  }
 ],
 "metadata": {
  "kernelspec": {
   "display_name": "Python 3",
   "language": "python",
   "name": "python3"
  },
  "language_info": {
   "codemirror_mode": {
    "name": "ipython",
    "version": 3
   },
   "file_extension": ".py",
   "mimetype": "text/x-python",
   "name": "python",
   "nbconvert_exporter": "python",
   "pygments_lexer": "ipython3",
   "version": "3.8.5"
  }
 },
 "nbformat": 4,
 "nbformat_minor": 2
}
