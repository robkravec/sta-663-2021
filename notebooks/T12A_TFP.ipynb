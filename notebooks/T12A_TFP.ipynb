{
 "cells": [
  {
   "cell_type": "markdown",
   "metadata": {},
   "source": [
    "# Tensorflow probability"
   ]
  },
  {
   "cell_type": "code",
   "execution_count": 1,
   "metadata": {},
   "outputs": [],
   "source": [
    "%matplotlib inline"
   ]
  },
  {
   "cell_type": "code",
   "execution_count": 2,
   "metadata": {},
   "outputs": [],
   "source": [
    "import warnings\n",
    "warnings.simplefilter('ignore', RuntimeWarning)"
   ]
  },
  {
   "cell_type": "code",
   "execution_count": 3,
   "metadata": {},
   "outputs": [],
   "source": [
    "import matplotlib.pyplot as plt\n",
    "import numpy as np\n",
    "import seaborn as sns"
   ]
  },
  {
   "cell_type": "code",
   "execution_count": 4,
   "metadata": {},
   "outputs": [],
   "source": [
    "from sklearn.datasets import fetch_california_housing\n",
    "from sklearn.model_selection import train_test_split\n",
    "from sklearn.preprocessing import StandardScaler"
   ]
  },
  {
   "cell_type": "code",
   "execution_count": 5,
   "metadata": {},
   "outputs": [],
   "source": [
    "data = fetch_california_housing()"
   ]
  },
  {
   "cell_type": "code",
   "execution_count": 6,
   "metadata": {},
   "outputs": [],
   "source": [
    "import tensorflow as tf"
   ]
  },
  {
   "cell_type": "code",
   "execution_count": 7,
   "metadata": {},
   "outputs": [],
   "source": [
    "%%capture\n",
    "import tensorflow_probability as tfp\n",
    "tfd = tfp.distributions"
   ]
  },
  {
   "cell_type": "markdown",
   "metadata": {},
   "source": [
    "## Tensorflow proability"
   ]
  },
  {
   "cell_type": "markdown",
   "metadata": {},
   "source": [
    "### Distributions"
   ]
  },
  {
   "cell_type": "code",
   "execution_count": 8,
   "metadata": {},
   "outputs": [
    {
     "data": {
      "text/plain": [
       "['Autoregressive',\n",
       " 'BatchReshape',\n",
       " 'Bates',\n",
       " 'Bernoulli',\n",
       " 'Beta',\n",
       " 'Gamma',\n",
       " 'Binomial',\n",
       " 'BetaBinomial',\n",
       " 'JointDistribution',\n",
       " 'JointDistribution',\n",
       " '_Cast',\n",
       " 'Blockwise',\n",
       " 'Categorical',\n",
       " 'Cauchy',\n",
       " 'Chi2',\n",
       " 'TransformedDistribution',\n",
       " 'LKJ',\n",
       " 'CholeskyLKJ',\n",
       " 'ContinuousBernoulli',\n",
       " '_BaseDeterministic',\n",
       " '_BaseDeterministic',\n",
       " 'Dirichlet',\n",
       " 'Multinomial',\n",
       " 'DirichletMultinomial',\n",
       " 'DoublesidedMaxwell',\n",
       " 'Empirical',\n",
       " 'FiniteDiscrete',\n",
       " 'GammaGamma',\n",
       " 'Normal',\n",
       " 'Sample',\n",
       " 'GaussianProcess',\n",
       " 'GeneralizedNormal',\n",
       " 'GeneralizedPareto',\n",
       " 'Geometric',\n",
       " 'Uniform',\n",
       " 'HalfCauchy',\n",
       " 'HalfNormal',\n",
       " 'StudentT',\n",
       " 'HalfStudentT',\n",
       " 'HiddenMarkovModel',\n",
       " 'Horseshoe',\n",
       " 'Independent',\n",
       " 'InverseGamma',\n",
       " 'InverseGaussian',\n",
       " 'Laplace',\n",
       " 'LinearGaussianStateSpaceModel',\n",
       " 'Logistic',\n",
       " 'Mixture',\n",
       " 'MixtureSameFamily',\n",
       " 'MultivariateStudentTLinearOperator',\n",
       " 'NegativeBinomial',\n",
       " 'OneHotCategorical',\n",
       " 'OrderedLogistic',\n",
       " 'Pareto',\n",
       " 'PERT',\n",
       " 'QuantizedDistribution',\n",
       " 'Poisson',\n",
       " '_TensorCoercible',\n",
       " 'PixelCNN',\n",
       " 'PlackettLuce',\n",
       " 'PoissonLogNormalQuadratureCompound',\n",
       " 'SphericalUniform',\n",
       " 'VonMisesFisher',\n",
       " 'PowerSpherical',\n",
       " 'ProbitBernoulli',\n",
       " 'RelaxedBernoulli',\n",
       " 'ExpRelaxedOneHotCategorical',\n",
       " 'StudentTProcess',\n",
       " 'Triangular',\n",
       " 'TruncatedCauchy',\n",
       " 'TruncatedNormal',\n",
       " 'VonMises',\n",
       " 'WishartLinearOperator',\n",
       " 'Zipf',\n",
       " 'DeterministicEmpirical']"
      ]
     },
     "execution_count": 8,
     "metadata": {},
     "output_type": "execute_result"
    }
   ],
   "source": [
    "[str(x).split('.')[-1][:-2] for x in tfd.distribution.Distribution.__subclasses__()]"
   ]
  },
  {
   "cell_type": "code",
   "execution_count": 9,
   "metadata": {},
   "outputs": [],
   "source": [
    "dist = tfd.Normal(loc=100, scale=15)"
   ]
  },
  {
   "cell_type": "code",
   "execution_count": 10,
   "metadata": {},
   "outputs": [
    {
     "data": {
      "text/plain": [
       "<tf.Tensor: shape=(3, 4), dtype=float32, numpy=\n",
       "array([[ 83.29852 ,  95.15665 ,  79.39106 ,  96.15728 ],\n",
       "       [ 98.41527 ,  92.12249 ,  84.8345  , 108.53681 ],\n",
       "       [103.09979 , 106.0009  , 101.560646, 121.4366  ]], dtype=float32)>"
      ]
     },
     "execution_count": 10,
     "metadata": {},
     "output_type": "execute_result"
    }
   ],
   "source": [
    "x = dist.sample((3,4))\n",
    "x"
   ]
  },
  {
   "cell_type": "code",
   "execution_count": 11,
   "metadata": {},
   "outputs": [
    {
     "data": {
      "image/png": "[encoded data removed]",
      "text/plain": [
       "<Figure size 360x360 with 1 Axes>"
      ]
     },
     "metadata": {
      "needs_background": "light"
     },
     "output_type": "display_data"
    }
   ],
   "source": [
    "n = 100\n",
    "xs = dist.sample(n)\n",
    "sns.displot(xs.numpy(), kde=True, rug=True)\n",
    "pass"
   ]
  },
  {
   "cell_type": "code",
   "execution_count": 12,
   "metadata": {},
   "outputs": [
    {
     "data": {
      "image/png": "[encoded data removed]",
      "text/plain": [
       "<Figure size 864x216 with 3 Axes>"
      ]
     },
     "metadata": {
      "needs_background": "light"
     },
     "output_type": "display_data"
    }
   ],
   "source": [
    "n = 100\n",
    "xs = dist.sample(n).numpy()\n",
    "xp = np.linspace(xs.min(), xs.max(), 100)\n",
    "\n",
    "fig, axes = plt.subplots(1,3,figsize=(12,3))\n",
    "axes[0].hist(xs, density=True, alpha=0.5)\n",
    "axes[0].plot(xp, dist.prob(xp), c='r')\n",
    "axes[1].plot(xp, dist.cdf(xp), c='r')\n",
    "axes[2].plot(xp, dist.log_prob(xp), c='r')\n",
    "pass"
   ]
  },
  {
   "cell_type": "markdown",
   "metadata": {},
   "source": [
    "### Broadcasting"
   ]
  },
  {
   "cell_type": "code",
   "execution_count": 13,
   "metadata": {},
   "outputs": [],
   "source": [
    "dist = tfd.Normal(loc=[3,4,5,6], scale=0.5)"
   ]
  },
  {
   "cell_type": "code",
   "execution_count": 14,
   "metadata": {},
   "outputs": [
    {
     "data": {
      "text/plain": [
       "<tf.Tensor: shape=(5, 4), dtype=float32, numpy=\n",
       "array([[3.5586948, 3.9348307, 5.0899396, 5.783105 ],\n",
       "       [3.067632 , 4.1513247, 4.612622 , 5.8868527],\n",
       "       [2.59842  , 4.4720488, 5.3526335, 6.121451 ],\n",
       "       [3.4130564, 4.2862325, 4.882853 , 6.7559376],\n",
       "       [3.281401 , 3.9321692, 5.0865593, 5.9378805]], dtype=float32)>"
      ]
     },
     "execution_count": 14,
     "metadata": {},
     "output_type": "execute_result"
    }
   ],
   "source": [
    "dist.sample(5)"
   ]
  },
  {
   "cell_type": "code",
   "execution_count": 15,
   "metadata": {},
   "outputs": [
    {
     "data": {
      "image/png": "[encoded data removed]",
      "text/plain": [
       "<Figure size 432x288 with 1 Axes>"
      ]
     },
     "metadata": {
      "needs_background": "light"
     },
     "output_type": "display_data"
    }
   ],
   "source": [
    "xp = tf.linspace(0., 9., 100)[:, tf.newaxis]\n",
    "plt.plot(np.tile(xp, dist.batch_shape), dist.prob(xp))\n",
    "pass"
   ]
  },
  {
   "cell_type": "markdown",
   "metadata": {},
   "source": [
    "### Mixtures"
   ]
  },
  {
   "cell_type": "code",
   "execution_count": 16,
   "metadata": {},
   "outputs": [],
   "source": [
    "gmm = tfd.MixtureSameFamily(\n",
    "    mixture_distribution=tfd.Categorical(\n",
    "        probs=[0.4, 0.1, 0.2, 0.3]\n",
    "    ),\n",
    "    components_distribution=tfd.Normal(\n",
    "      loc=[3., 4., 5., 6.],      \n",
    "      scale=[0.1, 0.5, 0.5, .1])\n",
    ")"
   ]
  },
  {
   "cell_type": "code",
   "execution_count": 17,
   "metadata": {},
   "outputs": [],
   "source": [
    "n = 10000\n",
    "xs = gmm.sample(n)"
   ]
  },
  {
   "cell_type": "code",
   "execution_count": 18,
   "metadata": {},
   "outputs": [
    {
     "data": {
      "image/png": "[encoded data removed]",
      "text/plain": [
       "<Figure size 360x360 with 1 Axes>"
      ]
     },
     "metadata": {
      "needs_background": "light"
     },
     "output_type": "display_data"
    }
   ],
   "source": [
    "sns.displot(xs, kde=True)\n",
    "pass"
   ]
  },
  {
   "cell_type": "markdown",
   "metadata": {},
   "source": [
    "### Transformations (Bijectors)\n",
    "\n",
    "A bijection is a one-to-one and onto function. It is so named because bijections have inverses - that is, you can use a bijection to transform from one space to another. We will see more of this in the normalizing flows notebook."
   ]
  },
  {
   "cell_type": "code",
   "execution_count": 19,
   "metadata": {},
   "outputs": [
    {
     "data": {
      "text/plain": [
       "['AbsoluteValue',\n",
       " 'Affine',\n",
       " 'AffineLinearOperator',\n",
       " 'AffineScalar',\n",
       " 'AutoregressiveNetwork',\n",
       " 'BatchNormalization',\n",
       " 'Bijector',\n",
       " 'Blockwise',\n",
       " 'Chain',\n",
       " 'CholeskyOuterProduct',\n",
       " 'CholeskyToInvCholesky',\n",
       " 'CorrelationCholesky',\n",
       " 'Cumsum',\n",
       " 'DiscreteCosineTransform',\n",
       " 'Exp',\n",
       " 'Expm1',\n",
       " 'FFJORD',\n",
       " 'FillScaleTriL',\n",
       " 'FillTriangular',\n",
       " 'FrechetCDF',\n",
       " 'GeneralizedExtremeValueCDF',\n",
       " 'GeneralizedPareto',\n",
       " 'GompertzCDF',\n",
       " 'GumbelCDF',\n",
       " 'Identity',\n",
       " 'Inline',\n",
       " 'Invert',\n",
       " 'IteratedSigmoidCentered',\n",
       " 'KumaraswamyCDF',\n",
       " 'LambertWTail',\n",
       " 'Log',\n",
       " 'Log1p',\n",
       " 'MaskedAutoregressiveFlow',\n",
       " 'MatrixInverseTriL',\n",
       " 'MatvecLU',\n",
       " 'MoyalCDF',\n",
       " 'NormalCDF',\n",
       " 'Ordered',\n",
       " 'Pad',\n",
       " 'Permute',\n",
       " 'PowerTransform',\n",
       " 'RationalQuadraticSpline',\n",
       " 'RealNVP',\n",
       " 'Reciprocal',\n",
       " 'Reshape',\n",
       " 'Scale',\n",
       " 'ScaleMatvecDiag',\n",
       " 'ScaleMatvecLU',\n",
       " 'ScaleMatvecLinearOperator',\n",
       " 'ScaleMatvecTriL',\n",
       " 'ScaleTriL',\n",
       " 'Shift',\n",
       " 'ShiftedGompertzCDF',\n",
       " 'Sigmoid',\n",
       " 'Sinh',\n",
       " 'SinhArcsinh',\n",
       " 'SoftClip',\n",
       " 'Softfloor',\n",
       " 'SoftmaxCentered',\n",
       " 'Softplus',\n",
       " 'Softsign',\n",
       " 'Split',\n",
       " 'Square',\n",
       " 'Tanh',\n",
       " 'TransformDiagonal',\n",
       " 'Transpose',\n",
       " 'WeibullCDF']"
      ]
     },
     "execution_count": 19,
     "metadata": {},
     "output_type": "execute_result"
    }
   ],
   "source": [
    "[x for x in dir(tfp.bijectors) if x[0].isupper()]"
   ]
  },
  {
   "cell_type": "code",
   "execution_count": 20,
   "metadata": {},
   "outputs": [],
   "source": [
    "lognormal = tfp.bijectors.Exp()(tfd.Normal(0, 0.5))"
   ]
  },
  {
   "cell_type": "code",
   "execution_count": 21,
   "metadata": {},
   "outputs": [
    {
     "data": {
      "image/png": "[encoded data removed]",
      "text/plain": [
       "<Figure size 360x360 with 1 Axes>"
      ]
     },
     "metadata": {
      "needs_background": "light"
     },
     "output_type": "display_data"
    }
   ],
   "source": [
    "xs = lognormal.sample(1000)\n",
    "sns.displot(xs, kde=True)\n",
    "xp = np.linspace(tf.reduce_min(xs), tf.reduce_max(xs), 100)\n",
    "plt.plot(xp, tfd.LogNormal(loc=0, scale=0.5).prob(xp))\n",
    "pass"
   ]
  },
  {
   "cell_type": "markdown",
   "metadata": {},
   "source": [
    "## Regression"
   ]
  },
  {
   "cell_type": "code",
   "execution_count": 22,
   "metadata": {},
   "outputs": [],
   "source": [
    "xs = tf.Variable([0., 1., 2., 5., 6., 8.])\n",
    "ys = tf.sin(xs) + tfd.Normal(loc=0, scale=0.5).sample(xs.shape[0])"
   ]
  },
  {
   "cell_type": "code",
   "execution_count": 23,
   "metadata": {},
   "outputs": [
    {
     "data": {
      "text/plain": [
       "(TensorShape([6]), TensorShape([6]))"
      ]
     },
     "execution_count": 23,
     "metadata": {},
     "output_type": "execute_result"
    }
   ],
   "source": [
    "xs.shape, ys.shape"
   ]
  },
  {
   "cell_type": "code",
   "execution_count": 24,
   "metadata": {},
   "outputs": [
    {
     "data": {
      "text/plain": [
       "array([0., 1., 2., 5., 6., 8.], dtype=float32)"
      ]
     },
     "execution_count": 24,
     "metadata": {},
     "output_type": "execute_result"
    }
   ],
   "source": [
    "xs.numpy()"
   ]
  },
  {
   "cell_type": "code",
   "execution_count": 25,
   "metadata": {},
   "outputs": [
    {
     "data": {
      "text/plain": [
       "array([-0.32956275,  0.437029  ,  1.0411185 , -1.1218498 ,  0.6463779 ,\n",
       "        2.0801036 ], dtype=float32)"
      ]
     },
     "execution_count": 25,
     "metadata": {},
     "output_type": "execute_result"
    }
   ],
   "source": [
    "ys.numpy()"
   ]
  },
  {
   "cell_type": "markdown",
   "metadata": {},
   "source": [
    "#### Generate data"
   ]
  },
  {
   "cell_type": "code",
   "execution_count": 26,
   "metadata": {},
   "outputs": [
    {
     "data": {
      "image/png": "[encoded data removed]",
      "text/plain": [
       "<Figure size 432x288 with 1 Axes>"
      ]
     },
     "metadata": {
      "needs_background": "light"
     },
     "output_type": "display_data"
    }
   ],
   "source": [
    "xp = tf.linspace(-1., 9., 100)[:, None]\n",
    "plt.scatter(xs.numpy(), ys.numpy())\n",
    "plt.plot(xp, tf.sin(xp))\n",
    "pass"
   ]
  },
  {
   "cell_type": "markdown",
   "metadata": {},
   "source": [
    "#### Fit curve with Gaussian process"
   ]
  },
  {
   "cell_type": "code",
   "execution_count": 27,
   "metadata": {},
   "outputs": [],
   "source": [
    "kernel = tfp.math.psd_kernels.ExponentiatedQuadratic(length_scale=1.5)\n",
    "reg = tfd.GaussianProcessRegressionModel(\n",
    "    kernel, xp[:, tf.newaxis], xs[:, tf.newaxis], ys\n",
    ")"
   ]
  },
  {
   "cell_type": "code",
   "execution_count": 28,
   "metadata": {
    "scrolled": true
   },
   "outputs": [
    {
     "data": {
      "image/png": "[encoded data removed]",
      "text/plain": [
       "<Figure size 432x288 with 1 Axes>"
      ]
     },
     "metadata": {
      "needs_background": "light"
     },
     "output_type": "display_data"
    }
   ],
   "source": [
    "ub, lb = reg.mean() + [2*reg.stddev(), -2*reg.stddev()]\n",
    "plt.fill_between(np.ravel(xp), np.ravel(ub), np.ravel(lb), alpha=0.2)\n",
    "plt.plot(xp, reg.mean(), c='red', linewidth=2)\n",
    "plt.scatter(xs[:], ys[:], s=50, c='k')\n",
    "pass"
   ]
  },
  {
   "cell_type": "markdown",
   "metadata": {},
   "source": [
    "### Modeling\n",
    "\n",
    "Although we will not do much with this, you can do MCMC with `tfp`. Here we just show an example from the official docs of sampling from a normal distribution using HMC (prior predictive samples)."
   ]
  },
  {
   "cell_type": "code",
   "execution_count": 29,
   "metadata": {},
   "outputs": [
    {
     "data": {
      "text/plain": [
       "['CheckpointableStatesAndTrace',\n",
       " 'DualAveragingStepSizeAdaptation',\n",
       " 'HamiltonianMonteCarlo',\n",
       " 'MetropolisAdjustedLangevinAlgorithm',\n",
       " 'MetropolisHastings',\n",
       " 'NoUTurnSampler',\n",
       " 'RandomWalkMetropolis',\n",
       " 'ReplicaExchangeMC',\n",
       " 'SimpleStepSizeAdaptation',\n",
       " 'SliceSampler',\n",
       " 'StatesAndTrace',\n",
       " 'TransformedTransitionKernel',\n",
       " 'TransitionKernel',\n",
       " 'UncalibratedHamiltonianMonteCarlo',\n",
       " 'UncalibratedLangevin',\n",
       " 'UncalibratedRandomWalk']"
      ]
     },
     "execution_count": 29,
     "metadata": {},
     "output_type": "execute_result"
    }
   ],
   "source": [
    "[x for x in dir(tfp.mcmc) if x[0].isupper()]"
   ]
  },
  {
   "cell_type": "code",
   "execution_count": 30,
   "metadata": {},
   "outputs": [
    {
     "data": {
      "text/plain": [
       "['__builtins__',\n",
       " '__cached__',\n",
       " '__doc__',\n",
       " '__file__',\n",
       " '__loader__',\n",
       " '__name__',\n",
       " '__package__',\n",
       " '__path__',\n",
       " '__spec__',\n",
       " '_allowed_symbols',\n",
       " 'amari_alpha',\n",
       " 'arithmetic_geometric',\n",
       " 'chi_square',\n",
       " 'csiszar_vimco',\n",
       " 'dual_csiszar_function',\n",
       " 'fit_surrogate_posterior',\n",
       " 'jeffreys',\n",
       " 'jensen_shannon',\n",
       " 'kl_forward',\n",
       " 'kl_reverse',\n",
       " 'log1p_abs',\n",
       " 'modified_gan',\n",
       " 'monte_carlo_variational_loss',\n",
       " 'mutual_information',\n",
       " 'pearson',\n",
       " 'squared_hellinger',\n",
       " 'symmetrized_csiszar_function',\n",
       " 't_power',\n",
       " 'total_variation',\n",
       " 'triangular']"
      ]
     },
     "execution_count": 30,
     "metadata": {},
     "output_type": "execute_result"
    }
   ],
   "source": [
    "dir(tfp.vi)"
   ]
  },
  {
   "cell_type": "code",
   "execution_count": 49,
   "metadata": {},
   "outputs": [],
   "source": [
    "# From example in help docs\n",
    "\n",
    "def unnormalized_log_prob(x):\n",
    "    return -x - x**2.\n",
    " \n",
    "# Initialize the HMC transition kernel.\n",
    "num_results = int(1e2)\n",
    "num_burnin_steps = int(1e2)\n",
    "adaptive_hmc = tfp.mcmc.SimpleStepSizeAdaptation(\n",
    "    tfp.mcmc.HamiltonianMonteCarlo(\n",
    "        target_log_prob_fn=unnormalized_log_prob,\n",
    "        num_leapfrog_steps=3,\n",
    "        step_size=1.),\n",
    "    num_adaptation_steps=int(num_burnin_steps * 0.8))\n",
    " \n",
    "# Run the chain (with warm-up).\n",
    "samples, is_accepted = tfp.mcmc.sample_chain(\n",
    "    num_results=num_results,\n",
    "    num_burnin_steps=num_burnin_steps,\n",
    "    current_state=1.,\n",
    "    kernel=adaptive_hmc,\n",
    "    trace_fn=lambda _, pkr: pkr.inner_results.is_accepted)\n",
    " \n",
    "sample_mean = tf.reduce_mean(samples)\n",
    "sample_stddev = tf.math.reduce_std(samples)"
   ]
  },
  {
   "cell_type": "code",
   "execution_count": 32,
   "metadata": {},
   "outputs": [
    {
     "data": {
      "text/plain": [
       "-0.61960775"
      ]
     },
     "execution_count": 32,
     "metadata": {},
     "output_type": "execute_result"
    }
   ],
   "source": [
    "sample_mean.numpy()"
   ]
  },
  {
   "cell_type": "code",
   "execution_count": 33,
   "metadata": {},
   "outputs": [
    {
     "data": {
      "text/plain": [
       "0.6109558"
      ]
     },
     "execution_count": 33,
     "metadata": {},
     "output_type": "execute_result"
    }
   ],
   "source": [
    "sample_stddev.numpy()"
   ]
  },
  {
   "cell_type": "code",
   "execution_count": 34,
   "metadata": {},
   "outputs": [
    {
     "data": {
      "image/png": "[encoded data removed]",
      "text/plain": [
       "<Figure size 360x360 with 1 Axes>"
      ]
     },
     "metadata": {
      "needs_background": "light"
     },
     "output_type": "display_data"
    }
   ],
   "source": [
    "sns.displot(samples, kde=True)\n",
    "plt.axvline(sample_mean.numpy(), c='red')\n",
    "plt.plot([sample_mean - 2*sample_stddev, sample_mean + 2*sample_stddev], \n",
    "         [0.01, 0.01], c='k', linewidth=3)\n",
    "pass"
   ]
  },
  {
   "cell_type": "markdown",
   "metadata": {},
   "source": [
    "### DistributionLambda\n",
    "\n",
    "`DistributionLambda` links `kears` with `tfp` distributions, allowing the output of neural net to be a distribution rather than a tensor as a layer."
   ]
  },
  {
   "cell_type": "code",
   "execution_count": 41,
   "metadata": {},
   "outputs": [],
   "source": [
    "x = np.linspace(-5, 5, 100)\n",
    "y = 3*x + 2 + 3*np.random.normal(0, 1)\n",
    "\n",
    "x_train, x_test, y_train, y_test = train_test_split(x, y)"
   ]
  },
  {
   "cell_type": "code",
   "execution_count": 42,
   "metadata": {},
   "outputs": [],
   "source": [
    "def nll(x, dist):\n",
    "    \"\"\"Negative log likelilhood.\"\"\"\n",
    "    \n",
    "    return -dist.log_prob(x)\n",
    "\n",
    "model = tf.keras.Sequential([\n",
    "  tf.keras.layers.Dense(1),\n",
    "  tfp.layers.DistributionLambda(\n",
    "      lambda t: tfd.Normal(loc=t, scale=1)),\n",
    "])\n",
    "\n",
    "model.compile(optimizer=tf.optimizers.Adam(learning_rate=0.05), \n",
    "              loss=nll)\n",
    "hist = model.fit(x_train, y_train, epochs=500, verbose=0)"
   ]
  },
  {
   "cell_type": "markdown",
   "metadata": {},
   "source": [
    "#### Evaluate confidence intervals by sampling"
   ]
  },
  {
   "cell_type": "code",
   "execution_count": 43,
   "metadata": {},
   "outputs": [],
   "source": [
    "yhat = model(x_test)"
   ]
  },
  {
   "cell_type": "code",
   "execution_count": 44,
   "metadata": {},
   "outputs": [],
   "source": [
    "runs = 200\n",
    "y_pred = yhat.sample(runs)"
   ]
  },
  {
   "cell_type": "code",
   "execution_count": 45,
   "metadata": {},
   "outputs": [],
   "source": [
    "μ = y_pred.numpy().mean(axis=0).squeeze()\n",
    "σ = y_pred.numpy().std(axis=0).squeeze()"
   ]
  },
  {
   "cell_type": "code",
   "execution_count": 48,
   "metadata": {},
   "outputs": [
    {
     "data": {
      "image/png": "[encoded data removed]",
      "text/plain": [
       "<Figure size 432x288 with 1 Axes>"
      ]
     },
     "metadata": {
      "needs_background": "light"
     },
     "output_type": "display_data"
    }
   ],
   "source": [
    "plt.scatter(x_test, yhat.sample())\n",
    "plt.plot(x_test, μ, lw=0.2)\n",
    "idx = np.argsort(x_test)\n",
    "plt.plot(x_test[idx], μ[idx] + 2*σ[idx], c='r')\n",
    "plt.plot(x_test[idx], μ[idx] - 2*σ[idx], c='r')\n",
    "pass"
   ]
  },
  {
   "cell_type": "code",
   "execution_count": null,
   "metadata": {},
   "outputs": [],
   "source": []
  }
 ],
 "metadata": {
  "kernelspec": {
   "display_name": "Python 3",
   "language": "python",
   "name": "python3"
  },
  "language_info": {
   "codemirror_mode": {
    "name": "ipython",
    "version": 3
   },
   "file_extension": ".py",
   "mimetype": "text/x-python",
   "name": "python",
   "nbconvert_exporter": "python",
   "pygments_lexer": "ipython3",
   "version": "3.8.5"
  }
 },
 "nbformat": 4,
 "nbformat_minor": 2
}
