{
 "cells": [
  {
   "cell_type": "code",
   "execution_count": null,
   "metadata": {},
   "outputs": [],
   "source": [
    "import numpy as np"
   ]
  },
  {
   "cell_type": "code",
   "execution_count": null,
   "metadata": {},
   "outputs": [],
   "source": [
    "np.set_printoptions(precision=2)"
   ]
  },
  {
   "cell_type": "markdown",
   "metadata": {},
   "source": [
    "**1**.\n",
    "\n",
    "A palindromic number reads the same both ways. The largest palindrome made from the product of two 2-digit numbers is 9009 = 91 × 99.\n",
    "\n",
    "Find the largest palindrome made from the product of two 3-digit numbers.\n",
    "\n",
    "(Source: Project Euler Problem 4)"
   ]
  },
  {
   "cell_type": "code",
   "execution_count": null,
   "metadata": {},
   "outputs": [],
   "source": [
    "\n",
    "\n",
    "\n"
   ]
  },
  {
   "cell_type": "markdown",
   "metadata": {},
   "source": [
    "**2**.\n",
    "\n",
    "Construc the following matrix\n",
    "\n",
    "```python\n",
    "array([[18, 13, 10,  9, 10, 13, 18],\n",
    "       [13,  8,  5,  4,  5,  8, 13],\n",
    "       [10,  5,  2,  1,  2,  5, 10],\n",
    "       [ 9,  4,  1,  0,  1,  4,  9],\n",
    "       [10,  5,  2,  1,  2,  5, 10],\n",
    "       [13,  8,  5,  4,  5,  8, 13],\n",
    "       [18, 13, 10,  9, 10, 13, 18]])\n",
    "```"
   ]
  },
  {
   "cell_type": "code",
   "execution_count": null,
   "metadata": {},
   "outputs": [],
   "source": [
    "\n",
    "\n",
    "\n"
   ]
  },
  {
   "cell_type": "markdown",
   "metadata": {},
   "source": [
    "**3**.\n",
    "\n",
    "Using numpy and string manipulation, create a DNA string with 150 bases that have the following probabilities: (A, 0.5), (C, 0.2), (T, 0.2), (G, 0.1). Find the most common triplet of bases in among sliding windows of this DMA string. For example, a sliding window of size 3 for GATTACA would be GAT, ATT, TTA, TAC, ..."
   ]
  },
  {
   "cell_type": "code",
   "execution_count": null,
   "metadata": {},
   "outputs": [],
   "source": [
    "\n",
    "\n",
    "\n"
   ]
  },
  {
   "cell_type": "markdown",
   "metadata": {},
   "source": [
    "**4**.\n",
    "\n",
    "- Using only base Python and numpy, create a pairwise distance matrix of the two sets of *row* vectors given\n",
    "- Scale the distances so that each *row* has mean zero and standard deviation 1\n",
    "\n",
    "Use Euclidean distance."
   ]
  },
  {
   "cell_type": "code",
   "execution_count": null,
   "metadata": {},
   "outputs": [],
   "source": [
    "np.random.seed(123)\n",
    "xs = np.random.randint(1,10, (10, 5))\n",
    "ys = np.random.randint(1,10, (8, 5))"
   ]
  },
  {
   "cell_type": "code",
   "execution_count": null,
   "metadata": {},
   "outputs": [],
   "source": [
    "\n",
    "\n",
    "\n"
   ]
  }
 ],
 "metadata": {
  "kernelspec": {
   "display_name": "Python 3.8.5 64-bit",
   "language": "python",
   "name": "python38564bit02a66c47ce504b05b2ef5646cfed96c2"
  },
  "language_info": {
   "codemirror_mode": {
    "name": "ipython",
    "version": 3
   },
   "file_extension": ".py",
   "mimetype": "text/x-python",
   "name": "python",
   "nbconvert_exporter": "python",
   "pygments_lexer": "ipython3",
   "version": "3.8.5"
  }
 },
 "nbformat": 4,
 "nbformat_minor": 4
}
