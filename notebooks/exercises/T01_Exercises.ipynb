{
 "cells": [
  {
   "cell_type": "markdown",
   "metadata": {},
   "source": [
    "No solutions will be provided,  but you can check your solution using `sympy` or `numpy.linalg`"
   ]
  },
  {
   "cell_type": "markdown",
   "metadata": {},
   "source": [
    "**1**.\n",
    "\n",
    "Let \n",
    "\n",
    "$$A = \\pmatrix{1 & 3\\\\2 & 6}$$\n",
    "\n",
    "* Find a set of basis vectors for $C(A), N(A), C(A^T), N(A^T)$\n",
    "* Find which subspaces are orthogonal to each other (i.e. all vectors in the first subspace are orthogonal to all vectors in the second subspace)\n",
    "* Express $A$ as the product of two vectors\n",
    "* If $Ax = b$, describe the geometric constraints on $b$ for there to be a solution $x$\n",
    "* Check your results using `sympy` and `numpy.linalg`"
   ]
  },
  {
   "cell_type": "code",
   "execution_count": null,
   "metadata": {},
   "outputs": [],
   "source": []
  },
  {
   "cell_type": "markdown",
   "metadata": {},
   "source": [
    "**2**.\n",
    "\n",
    "Let \n",
    "\n",
    "$$A = \\pmatrix{1 & 1 & 1\\\\2& 3 & 5\\\\4 & 6 & 8}$$\n",
    "\n",
    "* Find $A^{-1}$ by Gaussian elimination\n",
    "* Find the LU and LDU decomposition of $A$ by hand\n",
    "* Find the Cholesky decomposition of $A^TA$ by hand\n",
    "* Check your results using `sympy` and `numpy.linalg`"
   ]
  },
  {
   "cell_type": "code",
   "execution_count": null,
   "metadata": {},
   "outputs": [],
   "source": []
  },
  {
   "cell_type": "markdown",
   "metadata": {},
   "source": [
    "**3**.\n",
    "\n",
    "A population of immortal being grows as follows every year\n",
    "\n",
    "\\begin{eqnarray}\n",
    "\\text{child} &\\to& \\text{adult} \\\\\n",
    "\\text{adult} &\\to& \\text{child} + \\text{adult}  \n",
    "\\end{eqnarray}\n",
    "\n",
    "That is, if you are a child in Year 1, you will be an adult in Year 2. If you are an adult in Year 1, you remain an adult in Year 2 and you produce a child. \n",
    "\n",
    "* Express the number of adults and children in Year(n+1) as function of the number of adults and children in Year(n) as a matrix equation\n",
    "* Find the eigenvalues and eigenvectors of the resulting matrix by hand\n",
    "* Check your results using `sympy` and `numpy.linalg`\n",
    "* Explain geometrically why the ratio of adults to children as $n \\to \\infty$ approaches the larger eigenvalue\n",
    "* Using `numpy`, evaluate the 10 years of population growth starting from a single child"
   ]
  },
  {
   "cell_type": "code",
   "execution_count": null,
   "metadata": {},
   "outputs": [],
   "source": []
  },
  {
   "cell_type": "markdown",
   "metadata": {},
   "source": [
    "**4**.\n",
    "\n",
    "A vector $x$ has coordinates $\\pmatrix{1 \\\\ 1}$  with basis vectors $\\left\\{ \\pmatrix{1 \\\\ 0}, \\pmatrix{1 \\\\ 1} \\right\\}$. \n",
    "\n",
    "* What will its coordinates be with basis vectors $\\left\\{ \\pmatrix{1 \\\\ 2}, \\pmatrix{0 \\\\ 1} \\right\\}$?\n",
    "* Do this manually using your understanding of coordinates as coefficients for the linear combination of basis vectors\n",
    "* Do this by matrix multiplication using the change of basis matrix\n",
    "\n",
    "Hint: Try doing the change of basis in two steps, using the standard basis $\\left\\{ \\pmatrix{1 \\\\ 0}, \\pmatrix{0 \\\\ 1} \\right\\}$ as an intermediate"
   ]
  },
  {
   "cell_type": "code",
   "execution_count": null,
   "metadata": {},
   "outputs": [],
   "source": []
  }
 ],
 "metadata": {
  "kernelspec": {
   "display_name": "Python 3.8.5 64-bit",
   "language": "python",
   "name": "python38564bit02a66c47ce504b05b2ef5646cfed96c2"
  },
  "language_info": {
   "codemirror_mode": {
    "name": "ipython",
    "version": 3
   },
   "file_extension": ".py",
   "mimetype": "text/x-python",
   "name": "python",
   "nbconvert_exporter": "python",
   "pygments_lexer": "ipython3",
   "version": "3.8.5"
  }
 },
 "nbformat": 4,
 "nbformat_minor": 4
}
