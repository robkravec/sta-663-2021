{
 "cells": [
  {
   "cell_type": "markdown",
   "metadata": {},
   "source": [
    "**1**.\n",
    "\n",
    "Rewrite the following code using map, filter and reduce."
   ]
  },
  {
   "cell_type": "code",
   "execution_count": 1,
   "metadata": {},
   "outputs": [],
   "source": [
    "xs = []\n",
    "for x in range(10):\n",
    "    if x % 3:\n",
    "        xs.append(x**3)\n",
    "sum(xs)"
   ]
  },
  {
   "cell_type": "code",
   "execution_count": null,
   "metadata": {},
   "outputs": [],
   "source": [
    "\n",
    "\n",
    "\n"
   ]
  },
  {
   "cell_type": "markdown",
   "metadata": {},
   "source": [
    "**2**.\n",
    "\n",
    "Euclid's algorithm to find the greatest common divisor (GCD) of two numbers $a$ and $b$:\n",
    "\n",
    "If b is 0 then the GCD is a, otherwise the GCD is the GCD of $b$ and $a \\mod b$. Implement the `gcd` function and use it to find the least common multiple of 741 and 91."
   ]
  },
  {
   "cell_type": "code",
   "execution_count": null,
   "metadata": {},
   "outputs": [],
   "source": [
    "\n",
    "\n",
    "\n"
   ]
  },
  {
   "cell_type": "markdown",
   "metadata": {},
   "source": [
    "**3**. \n",
    "\n",
    "The Fibonacci sequence is 1,1,2,3,5,8,13,.... where each number is the sum of the two preceding it. \n",
    "\n",
    "- Write a recursive function to calculate the nth Fibonacci number \n",
    "- Write a decorator (i.e. not using `lru_cache` or similar) that caches previously seen values and apply it to the Fibonacci function. \n",
    "- Add a print statement to see how many function calls are made for $n=10$ for the plain and decorated versions"
   ]
  },
  {
   "cell_type": "code",
   "execution_count": null,
   "metadata": {},
   "outputs": [],
   "source": [
    "\n",
    "\n",
    "\n"
   ]
  },
  {
   "cell_type": "markdown",
   "metadata": {},
   "source": [
    "**4**. \n",
    "\n",
    "Write a function that flattens an arbitrarily nested list. For this exercise, you can assume that it will always be a nested list that is given. Use this function to flatten `xs = [1,[2,3],[4,[5,[6]]]]` into a list.\n",
    "\n",
    "Hint: use `yield` recursively."
   ]
  },
  {
   "cell_type": "code",
   "execution_count": null,
   "metadata": {},
   "outputs": [],
   "source": [
    "\n",
    "\n",
    "\n"
   ]
  }
 ],
 "metadata": {
  "kernelspec": {
   "display_name": "Python 3.8.5 64-bit",
   "language": "python",
   "name": "python38564bit02a66c47ce504b05b2ef5646cfed96c2"
  },
  "language_info": {
   "codemirror_mode": {
    "name": "ipython",
    "version": 3
   },
   "file_extension": ".py",
   "mimetype": "text/x-python",
   "name": "python",
   "nbconvert_exporter": "python",
   "pygments_lexer": "ipython3",
   "version": "3.8.5"
  }
 },
 "nbformat": 4,
 "nbformat_minor": 4
}
