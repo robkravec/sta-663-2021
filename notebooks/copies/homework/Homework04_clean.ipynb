{
 "cells": [
  {
   "cell_type": "code",
   "execution_count": 8,
   "metadata": {},
   "outputs": [
    {
     "name": "stdout",
     "output_type": "stream",
     "text": [
      "The cython extension is already loaded. To reload it, use:\n",
      "  %reload_ext cython\n"
     ]
    }
   ],
   "source": [
    "import math\n",
    "import numpy as np\n",
    "from numba import jit, njit, prange\n",
    "from joblib import Parallel, delayed\n",
    "from functools import partial\n",
    "import multiprocessing as mp\n",
    "from multiprocessing import Pool\n",
    "import ipyparallel as ipp\n",
    "from ipyparallel import Client\n",
    "import pandas as pd\n",
    "import timeit\n",
    "%load_ext cython"
   ]
  },
  {
   "cell_type": "markdown",
   "metadata": {},
   "source": [
    "**1**. (100 points)\n",
    "\n",
    "Write a predicate function `is_prime` that efficiently checks whether a number is prime. Use this to write a second function `primes_between` that returns the prime numbers between two integers as a `numpy` array.\n",
    "\n",
    "- (10 points) Do this in regular Python \n",
    "- (10 points) Accelerate using `numba` (serial version) \n",
    "- (15 points) Accelerate using `numba` (parallel version)\n",
    "- (10 points) Accelerate using `cython` (serial version) \n",
    "- (15 points) Accelerate using `cython` (parallel version)\n",
    "- (10 points) Report the speed-up multiplier as an integer of the `numba` and `cython` serial and parallel versions using `timeit` in a DataFrame for the numbers between 0 and 1,000,000\n",
    "- (10 points each) Run the serial version of the python `primes_between` function in parallel using\n",
    "    - `multiprocessing`\n",
    "    - `joblib`\n",
    "    - `ipyparallel`"
   ]
  },
  {
   "cell_type": "markdown",
   "metadata": {},
   "source": [
    "- (10 points) Do this in regular Python \n",
    "\n"
   ]
  },
  {
   "cell_type": "markdown",
   "metadata": {},
   "source": [
    "*Solution from Midterm 1 is used for is_prime( ) function. primes_between( ) function is written to be compatible (and comparable) with numba and cython versions down the line. I could write a more efficient python-only version of primes_between if that was the goal here*"
   ]
  },
  {
   "cell_type": "code",
   "execution_count": 9,
   "metadata": {},
   "outputs": [],
   "source": [
    "def is_prime(n):\n",
    "    \"\"\"Returns True if a given integer n is prime and false otherwise\"\"\"\n",
    "\n",
    "    if n == 2:\n",
    "        return True\n",
    "    elif n < 2 or n % 2 == 0:\n",
    "        return False\n",
    "    else:\n",
    "        for i in range(3, int(np.sqrt(n))+1, 2):\n",
    "            if n % i == 0:\n",
    "                return False\n",
    "    return True"
   ]
  },
  {
   "cell_type": "code",
   "execution_count": 10,
   "metadata": {},
   "outputs": [],
   "source": [
    "def primes_between(n1, n2):\n",
    "    \"\"\"Returns prime numbers between n1 and n2 (inclusive on both ends) as a numpy array\"\"\"\n",
    "    \n",
    "    # Check to see which argument is larger\n",
    "    if n1 > n2:\n",
    "        n1, n2 = n2, n1\n",
    "    \n",
    "    # Initialize range of interest\n",
    "    primes = np.arange(n1, n2 + 1)\n",
    "    \n",
    "    # Mark all non-prime numbers\n",
    "    for i in range(primes.shape[0]):\n",
    "        if not is_prime(primes[i]):\n",
    "            primes[i] = -999\n",
    "    \n",
    "    # Return all primes\n",
    "    return primes[primes != -999]"
   ]
  },
  {
   "cell_type": "code",
   "execution_count": 11,
   "metadata": {},
   "outputs": [
    {
     "data": {
      "text/plain": [
       "array([ 2,  3,  5,  7, 11, 13, 17, 19, 23, 29, 31, 37, 41, 43, 47])"
      ]
     },
     "execution_count": 11,
     "metadata": {},
     "output_type": "execute_result"
    }
   ],
   "source": [
    "# Prove that function works\n",
    "primes_between(0, 50)"
   ]
  },
  {
   "cell_type": "markdown",
   "metadata": {},
   "source": [
    "- (10 points) Accelerate using `numba` (serial version) \n",
    "\n"
   ]
  },
  {
   "cell_type": "code",
   "execution_count": 12,
   "metadata": {},
   "outputs": [],
   "source": [
    "@jit(nopython=True, cache=True)\n",
    "def is_prime_numba_serial(n):\n",
    "    \"\"\"Returns True if a given integer n is prime and false otherwise\"\"\"\n",
    "\n",
    "    if n == 2:\n",
    "        return True\n",
    "    elif n < 2 or n % 2 == 0:\n",
    "        return False\n",
    "    else:\n",
    "        for i in range(3, int(np.sqrt(n))+1, 2):\n",
    "            if n % i == 0:\n",
    "                return False\n",
    "    return True"
   ]
  },
  {
   "cell_type": "code",
   "execution_count": 13,
   "metadata": {},
   "outputs": [],
   "source": [
    "@jit(nopython=True, cache=True)\n",
    "def primes_between_numba_serial(n1, n2):\n",
    "    \"\"\"Returns prime numbers between n1 and n2 (exclusive on both ends) as a numpy array\"\"\"\n",
    "    \n",
    "    # Check to see which argument is larger\n",
    "    if n1 > n2:\n",
    "        n1, n2 = n2, n1\n",
    "    \n",
    "    # Initialize range of interest\n",
    "    primes = np.arange(n1, n2 + 1)\n",
    "    \n",
    "    # Mark all non-prime numbers\n",
    "    for i in range(primes.shape[0]):\n",
    "        if not is_prime_numba_serial(primes[i]):\n",
    "            primes[i] = -999\n",
    "    \n",
    "    # Return all primes\n",
    "    return primes[primes != -999]"
   ]
  },
  {
   "cell_type": "code",
   "execution_count": 14,
   "metadata": {},
   "outputs": [
    {
     "data": {
      "text/plain": [
       "array([ 2,  3,  5,  7, 11, 13, 17, 19, 23, 29, 31, 37, 41, 43, 47])"
      ]
     },
     "execution_count": 14,
     "metadata": {},
     "output_type": "execute_result"
    }
   ],
   "source": [
    "# Prove that function works\n",
    "primes_between_numba_serial(0, 50)"
   ]
  },
  {
   "cell_type": "markdown",
   "metadata": {},
   "source": [
    "- (15 points) Accelerate using `numba` (parallel version)\n",
    "\n"
   ]
  },
  {
   "cell_type": "markdown",
   "metadata": {},
   "source": [
    "*Here, we parallelize the \"primes_between\" function but leave the \"is_prime\" function as serial (because it only checks one number for each function call)*"
   ]
  },
  {
   "cell_type": "code",
   "execution_count": 16,
   "metadata": {},
   "outputs": [],
   "source": [
    "@njit(parallel = True)\n",
    "def primes_between_numba_parallel(n1, n2):\n",
    "    \"\"\"Returns prime numbers between n1 and n2 (exclusive on both ends) as a numpy array\"\"\"\n",
    "    \n",
    "    # Check to see which argument is larger\n",
    "    if n1 > n2:\n",
    "        n1, n2 = n2, n1\n",
    "    \n",
    "    # Initialize range of interest\n",
    "    primes = np.arange(n1, n2 + 1)\n",
    "    \n",
    "    # Mark all non-prime numbers\n",
    "    for i in prange(primes.shape[0]):\n",
    "        if not is_prime_numba_serial(primes[i]):\n",
    "            primes[i] = -999\n",
    "    \n",
    "    # Return all primes\n",
    "    return primes[primes != -999]"
   ]
  },
  {
   "cell_type": "code",
   "execution_count": 9,
   "metadata": {},
   "outputs": [
    {
     "data": {
      "text/plain": [
       "array([ 2,  3,  5,  7, 11, 13, 17, 19, 23, 29, 31, 37, 41, 43, 47])"
      ]
     },
     "execution_count": 9,
     "metadata": {},
     "output_type": "execute_result"
    }
   ],
   "source": [
    "# Prove that function works\n",
    "primes_between_numba_parallel(0, 50)"
   ]
  },
  {
   "cell_type": "markdown",
   "metadata": {},
   "source": [
    "- (10 points) Accelerate using `cython` (serial version) \n",
    "\n"
   ]
  },
  {
   "cell_type": "markdown",
   "metadata": {},
   "source": [
    "Reference on using numpy arrays in cython: https://www.futurelearn.com/info/courses/python-in-hpc/0/steps/65126"
   ]
  },
  {
   "cell_type": "code",
   "execution_count": 2,
   "metadata": {},
   "outputs": [],
   "source": [
    "%%cython\n",
    "\n",
    "import cython\n",
    "import numpy as np\n",
    "cimport numpy as cnp\n",
    "\n",
    "# Primitive function\n",
    "cdef is_prime_cython_serial(int n):\n",
    "    \"\"\"Returns True if a given integer n is prime and false otherwise\"\"\"\n",
    "    \n",
    "    # Declare variables\n",
    "    cdef int i\n",
    "    cdef int upper\n",
    "    upper = int(n ** 0.5 + 1)\n",
    "\n",
    "    # Perform checks    \n",
    "    if n == 2:\n",
    "        return 1\n",
    "    elif n < 2 or n % 2 == 0:\n",
    "        return 0\n",
    "    else:\n",
    "        for i in range(3, upper, 2):\n",
    "            if n % i == 0:\n",
    "                return 0\n",
    "    return 1\n",
    "\n",
    "def primes_between_cython_serial(int n1, int n2):\n",
    "    \"\"\"Returns prime numbers between n1 and n2 (exclusive on both ends) as a numpy array\"\"\"\n",
    "    \n",
    "    # Declare variables\n",
    "    cdef int i\n",
    "    cdef cnp.ndarray[cnp.int_t, ndim = 1] primes\n",
    "    \n",
    "    # Check to see which argument is larger\n",
    "    if n1 > n2:\n",
    "        n1, n2 = n2, n1\n",
    "    \n",
    "    # Initialize range of interest\n",
    "    primes = np.arange(n1, n2 + 1)\n",
    "    \n",
    "    # Mark all non-prime numbers\n",
    "    for i in range(primes.shape[0]):\n",
    "        if not is_prime_cython_serial(primes[i]):\n",
    "            primes[i] = -999\n",
    "    \n",
    "    # Return all primes\n",
    "    return primes[primes != -999]"
   ]
  },
  {
   "cell_type": "code",
   "execution_count": 3,
   "metadata": {},
   "outputs": [
    {
     "data": {
      "text/plain": [
       "array([ 2,  3,  5,  7, 11, 13, 17, 19, 23, 29, 31, 37, 41, 43, 47])"
      ]
     },
     "execution_count": 3,
     "metadata": {},
     "output_type": "execute_result"
    }
   ],
   "source": [
    "# Prove that function works\n",
    "primes_between_cython_serial(0, 50)"
   ]
  },
  {
   "cell_type": "markdown",
   "metadata": {},
   "source": [
    "- (15 points) Accelerate using `cython` (parallel version)\n",
    "\n"
   ]
  },
  {
   "cell_type": "code",
   "execution_count": 6,
   "metadata": {},
   "outputs": [
    {
     "name": "stderr",
     "output_type": "stream",
     "text": [
      "\n",
      "Error compiling Cython file:\n",
      "------------------------------------------------------------\n",
      "...\n",
      "import numpy as np\n",
      "cimport numpy as cnp\n",
      "from libcpp cimport bool\n",
      "\n",
      "# Primitive function\n",
      "cdef is_prime_cython_serial(int n, int check) nogil:\n",
      "    ^\n",
      "------------------------------------------------------------\n",
      "\n",
      "/home/jovyan/.cache/ipython/cython/_cython_magic_663015b409367be5ea55738e982eea32.pyx:9:5: Function with Python return type cannot be declared nogil\n",
      "\n",
      "Error compiling Cython file:\n",
      "------------------------------------------------------------\n",
      "...\n",
      "    upper = int(n ** 0.5 + 1)\n",
      "    check = 1\n",
      "    \n",
      "    # Perform checks    \n",
      "    if n == 2:\n",
      "        return check\n",
      "       ^\n",
      "------------------------------------------------------------\n",
      "\n",
      "/home/jovyan/.cache/ipython/cython/_cython_magic_663015b409367be5ea55738e982eea32.pyx:20:8: Returning Python object not allowed without gil\n",
      "\n",
      "Error compiling Cython file:\n",
      "------------------------------------------------------------\n",
      "...\n",
      "    upper = int(n ** 0.5 + 1)\n",
      "    check = 1\n",
      "    \n",
      "    # Perform checks    \n",
      "    if n == 2:\n",
      "        return check\n",
      "              ^\n",
      "------------------------------------------------------------\n",
      "\n",
      "/home/jovyan/.cache/ipython/cython/_cython_magic_663015b409367be5ea55738e982eea32.pyx:20:15: Converting to Python object not allowed without gil\n",
      "\n",
      "Error compiling Cython file:\n",
      "------------------------------------------------------------\n",
      "...\n",
      "    # Perform checks    \n",
      "    if n == 2:\n",
      "        return check\n",
      "    elif n < 2 or n % 2 == 0:\n",
      "        check = 0\n",
      "        return check\n",
      "       ^\n",
      "------------------------------------------------------------\n",
      "\n",
      "/home/jovyan/.cache/ipython/cython/_cython_magic_663015b409367be5ea55738e982eea32.pyx:23:8: Returning Python object not allowed without gil\n",
      "\n",
      "Error compiling Cython file:\n",
      "------------------------------------------------------------\n",
      "...\n",
      "    # Perform checks    \n",
      "    if n == 2:\n",
      "        return check\n",
      "    elif n < 2 or n % 2 == 0:\n",
      "        check = 0\n",
      "        return check\n",
      "              ^\n",
      "------------------------------------------------------------\n",
      "\n",
      "/home/jovyan/.cache/ipython/cython/_cython_magic_663015b409367be5ea55738e982eea32.pyx:23:15: Converting to Python object not allowed without gil\n",
      "\n",
      "Error compiling Cython file:\n",
      "------------------------------------------------------------\n",
      "...\n",
      "        return check\n",
      "    else:\n",
      "        for i in range(3, upper, 2):\n",
      "            if n % i == 0:\n",
      "                check = 0\n",
      "                return check\n",
      "               ^\n",
      "------------------------------------------------------------\n",
      "\n",
      "/home/jovyan/.cache/ipython/cython/_cython_magic_663015b409367be5ea55738e982eea32.pyx:28:16: Returning Python object not allowed without gil\n",
      "\n",
      "Error compiling Cython file:\n",
      "------------------------------------------------------------\n",
      "...\n",
      "        return check\n",
      "    else:\n",
      "        for i in range(3, upper, 2):\n",
      "            if n % i == 0:\n",
      "                check = 0\n",
      "                return check\n",
      "                      ^\n",
      "------------------------------------------------------------\n",
      "\n",
      "/home/jovyan/.cache/ipython/cython/_cython_magic_663015b409367be5ea55738e982eea32.pyx:28:23: Converting to Python object not allowed without gil\n",
      "\n",
      "Error compiling Cython file:\n",
      "------------------------------------------------------------\n",
      "...\n",
      "    else:\n",
      "        for i in range(3, upper, 2):\n",
      "            if n % i == 0:\n",
      "                check = 0\n",
      "                return check\n",
      "    return check\n",
      "   ^\n",
      "------------------------------------------------------------\n",
      "\n",
      "/home/jovyan/.cache/ipython/cython/_cython_magic_663015b409367be5ea55738e982eea32.pyx:29:4: Returning Python object not allowed without gil\n",
      "\n",
      "Error compiling Cython file:\n",
      "------------------------------------------------------------\n",
      "...\n",
      "    else:\n",
      "        for i in range(3, upper, 2):\n",
      "            if n % i == 0:\n",
      "                check = 0\n",
      "                return check\n",
      "    return check\n",
      "          ^\n",
      "------------------------------------------------------------\n",
      "\n",
      "/home/jovyan/.cache/ipython/cython/_cython_magic_663015b409367be5ea55738e982eea32.pyx:29:11: Converting to Python object not allowed without gil\n",
      "\n",
      "Error compiling Cython file:\n",
      "------------------------------------------------------------\n",
      "...\n",
      "    primes = np.arange(n1, n2 + 1)\n",
      "    \n",
      "    # Mark all non-prime numbers\n",
      "    with cython.nogil, parallel():\n",
      "        for i in prange(primes.shape[0]):\n",
      "            if not is_prime_cython_serial(primes[i], 1):\n",
      "                                        ^\n",
      "------------------------------------------------------------\n",
      "\n",
      "/home/jovyan/.cache/ipython/cython/_cython_magic_663015b409367be5ea55738e982eea32.pyx:48:41: Truth-testing Python object not allowed without gil\n"
     ]
    }
   ],
   "source": [
    "%%cython --compile-args=-fopenmp --link-args=-fopenmp --force -I /usr/local/opt/libomp/include -L /usr/local/opt/libomp/lib\n",
    "\n",
    "import cython\n",
    "from cython.parallel import parallel, prange\n",
    "import numpy as np\n",
    "cimport numpy as cnp\n",
    "from libcpp cimport bool\n",
    "\n",
    "# Primitive function\n",
    "cdef is_prime_cython_serial(int n) nogil:\n",
    "    \"\"\"Returns True if a given integer n is prime and false otherwise\"\"\"\n",
    "    \n",
    "    # Declare variables\n",
    "    cdef int i\n",
    "    cdef int upper\n",
    "    upper = int(n ** 0.5 + 1)\n",
    "    \n",
    "    # Perform checks    \n",
    "    if n == 2:\n",
    "        return 1\n",
    "    elif n < 2 or n % 2 == 0:\n",
    "        return 0\n",
    "    else:\n",
    "        for i in range(3, upper, 2):\n",
    "            if n % i == 0:\n",
    "                return 0\n",
    "    return 1\n",
    "\n",
    "def primes_between_cython_parallel(int n1, int n2):\n",
    "    \"\"\"Returns prime numbers between n1 and n2 (exclusive on both ends) as a numpy array\"\"\"\n",
    "    \n",
    "    # Declare variables\n",
    "    cdef int i\n",
    "    cdef cnp.ndarray[cnp.int_t, ndim = 1] primes\n",
    "    \n",
    "    # Check to see which argument is larger\n",
    "    if n1 > n2:\n",
    "        n1, n2 = n2, n1\n",
    "    \n",
    "    # Initialize range of interest\n",
    "    primes = np.arange(n1, n2 + 1)\n",
    "    \n",
    "    # Mark all non-prime numbers\n",
    "    with cython.nogil, parallel():\n",
    "        for i in prange(primes.shape[0]):\n",
    "            if not is_prime_cython_serial(primes[i]):\n",
    "                primes[i] = -999\n",
    "    \n",
    "    # Return all primes\n",
    "    return primes[primes != -999]"
   ]
  },
  {
   "cell_type": "code",
   "execution_count": null,
   "metadata": {},
   "outputs": [],
   "source": []
  },
  {
   "cell_type": "code",
   "execution_count": null,
   "metadata": {},
   "outputs": [],
   "source": []
  },
  {
   "cell_type": "markdown",
   "metadata": {},
   "source": [
    "- (10 points) Report the speed-up multiplier as an integer of the `numba` and `cython` serial and parallel versions using `timeit` in a DataFrame for the numbers between 0 and 1,000,000\n",
    "\n"
   ]
  },
  {
   "cell_type": "markdown",
   "metadata": {},
   "source": [
    "*Values in data frame are calculated as (time for serial version in python) / (time for sped up version). A larger integer value denotes a greater speed-up*"
   ]
  },
  {
   "cell_type": "code",
   "execution_count": 15,
   "metadata": {},
   "outputs": [
    {
     "name": "stdout",
     "output_type": "stream",
     "text": [
      "20.2 s ± 12.8 ms per loop (mean ± std. dev. of 3 runs, 3 loops each)\n",
      "205 ms ± 1.07 ms per loop (mean ± std. dev. of 3 runs, 3 loops each)\n"
     ]
    },
    {
     "ename": "NameError",
     "evalue": "name 'primes_between_numba_parallel' is not defined",
     "output_type": "error",
     "traceback": [
      "\u001b[0;31m\u001b[0m",
      "\u001b[0;31mNameError\u001b[0mTraceback (most recent call last)",
      "\u001b[0;32m<ipython-input-15-33900d4881b6>\u001b[0m in \u001b[0;36m<module>\u001b[0;34m()\u001b[0m\n\u001b[1;32m     15\u001b[0m \u001b[0;34m\u001b[0m\u001b[0m\n\u001b[1;32m     16\u001b[0m \u001b[0;31m# numba parallel\u001b[0m\u001b[0;34m\u001b[0m\u001b[0;34m\u001b[0m\u001b[0;34m\u001b[0m\u001b[0m\n\u001b[0;32m---> 17\u001b[0;31m \u001b[0mnumba_parallel\u001b[0m \u001b[0;34m=\u001b[0m \u001b[0mget_ipython\u001b[0m\u001b[0;34m(\u001b[0m\u001b[0;34m)\u001b[0m\u001b[0;34m.\u001b[0m\u001b[0mrun_line_magic\u001b[0m\u001b[0;34m(\u001b[0m\u001b[0;34m'timeit'\u001b[0m\u001b[0;34m,\u001b[0m \u001b[0;34m'-o -r3 -n3 primes_between_numba_parallel(0, upper)'\u001b[0m\u001b[0;34m)\u001b[0m\u001b[0;34m\u001b[0m\u001b[0;34m\u001b[0m\u001b[0m\n\u001b[0m\u001b[1;32m     18\u001b[0m \u001b[0mnumba_parallel\u001b[0m \u001b[0;34m=\u001b[0m \u001b[0mnumba_parallel\u001b[0m\u001b[0;34m.\u001b[0m\u001b[0maverage\u001b[0m\u001b[0;34m\u001b[0m\u001b[0;34m\u001b[0m\u001b[0m\n\u001b[1;32m     19\u001b[0m \u001b[0mdf\u001b[0m\u001b[0;34m.\u001b[0m\u001b[0miloc\u001b[0m\u001b[0;34m[\u001b[0m\u001b[0;36m0\u001b[0m\u001b[0;34m,\u001b[0m \u001b[0;36m1\u001b[0m\u001b[0;34m]\u001b[0m \u001b[0;34m=\u001b[0m \u001b[0mint\u001b[0m\u001b[0;34m(\u001b[0m\u001b[0mnp\u001b[0m\u001b[0;34m.\u001b[0m\u001b[0mround\u001b[0m\u001b[0;34m(\u001b[0m\u001b[0mref\u001b[0m \u001b[0;34m/\u001b[0m \u001b[0mnumba_parallel\u001b[0m\u001b[0;34m)\u001b[0m\u001b[0;34m)\u001b[0m\u001b[0;34m\u001b[0m\u001b[0;34m\u001b[0m\u001b[0m\n",
      "\u001b[0;32m/opt/conda/lib/python3.6/site-packages/IPython/core/interactiveshell.py\u001b[0m in \u001b[0;36mrun_line_magic\u001b[0;34m(self, magic_name, line, _stack_depth)\u001b[0m\n\u001b[1;32m   2093\u001b[0m                 \u001b[0mkwargs\u001b[0m\u001b[0;34m[\u001b[0m\u001b[0;34m'local_ns'\u001b[0m\u001b[0;34m]\u001b[0m \u001b[0;34m=\u001b[0m \u001b[0msys\u001b[0m\u001b[0;34m.\u001b[0m\u001b[0m_getframe\u001b[0m\u001b[0;34m(\u001b[0m\u001b[0mstack_depth\u001b[0m\u001b[0;34m)\u001b[0m\u001b[0;34m.\u001b[0m\u001b[0mf_locals\u001b[0m\u001b[0;34m\u001b[0m\u001b[0;34m\u001b[0m\u001b[0m\n\u001b[1;32m   2094\u001b[0m             \u001b[0;32mwith\u001b[0m \u001b[0mself\u001b[0m\u001b[0;34m.\u001b[0m\u001b[0mbuiltin_trap\u001b[0m\u001b[0;34m:\u001b[0m\u001b[0;34m\u001b[0m\u001b[0;34m\u001b[0m\u001b[0m\n\u001b[0;32m-> 2095\u001b[0;31m                 \u001b[0mresult\u001b[0m \u001b[0;34m=\u001b[0m \u001b[0mfn\u001b[0m\u001b[0;34m(\u001b[0m\u001b[0;34m*\u001b[0m\u001b[0margs\u001b[0m\u001b[0;34m,\u001b[0m\u001b[0;34m**\u001b[0m\u001b[0mkwargs\u001b[0m\u001b[0;34m)\u001b[0m\u001b[0;34m\u001b[0m\u001b[0;34m\u001b[0m\u001b[0m\n\u001b[0m\u001b[1;32m   2096\u001b[0m             \u001b[0;32mreturn\u001b[0m \u001b[0mresult\u001b[0m\u001b[0;34m\u001b[0m\u001b[0;34m\u001b[0m\u001b[0m\n\u001b[1;32m   2097\u001b[0m \u001b[0;34m\u001b[0m\u001b[0m\n",
      "\u001b[0;32m</opt/conda/lib/python3.6/site-packages/decorator.py:decorator-gen-61>\u001b[0m in \u001b[0;36mtimeit\u001b[0;34m(self, line, cell, local_ns)\u001b[0m\n",
      "\u001b[0;32m/opt/conda/lib/python3.6/site-packages/IPython/core/magic.py\u001b[0m in \u001b[0;36m<lambda>\u001b[0;34m(f, *a, **k)\u001b[0m\n\u001b[1;32m    185\u001b[0m     \u001b[0;31m# but it's overkill for just that one bit of state.\u001b[0m\u001b[0;34m\u001b[0m\u001b[0;34m\u001b[0m\u001b[0;34m\u001b[0m\u001b[0m\n\u001b[1;32m    186\u001b[0m     \u001b[0;32mdef\u001b[0m \u001b[0mmagic_deco\u001b[0m\u001b[0;34m(\u001b[0m\u001b[0marg\u001b[0m\u001b[0;34m)\u001b[0m\u001b[0;34m:\u001b[0m\u001b[0;34m\u001b[0m\u001b[0;34m\u001b[0m\u001b[0m\n\u001b[0;32m--> 187\u001b[0;31m         \u001b[0mcall\u001b[0m \u001b[0;34m=\u001b[0m \u001b[0;32mlambda\u001b[0m \u001b[0mf\u001b[0m\u001b[0;34m,\u001b[0m \u001b[0;34m*\u001b[0m\u001b[0ma\u001b[0m\u001b[0;34m,\u001b[0m \u001b[0;34m**\u001b[0m\u001b[0mk\u001b[0m\u001b[0;34m:\u001b[0m \u001b[0mf\u001b[0m\u001b[0;34m(\u001b[0m\u001b[0;34m*\u001b[0m\u001b[0ma\u001b[0m\u001b[0;34m,\u001b[0m \u001b[0;34m**\u001b[0m\u001b[0mk\u001b[0m\u001b[0;34m)\u001b[0m\u001b[0;34m\u001b[0m\u001b[0;34m\u001b[0m\u001b[0m\n\u001b[0m\u001b[1;32m    188\u001b[0m \u001b[0;34m\u001b[0m\u001b[0m\n\u001b[1;32m    189\u001b[0m         \u001b[0;32mif\u001b[0m \u001b[0mcallable\u001b[0m\u001b[0;34m(\u001b[0m\u001b[0marg\u001b[0m\u001b[0;34m)\u001b[0m\u001b[0;34m:\u001b[0m\u001b[0;34m\u001b[0m\u001b[0;34m\u001b[0m\u001b[0m\n",
      "\u001b[0;32m/opt/conda/lib/python3.6/site-packages/IPython/core/magics/execution.py\u001b[0m in \u001b[0;36mtimeit\u001b[0;34m(self, line, cell, local_ns)\u001b[0m\n\u001b[1;32m   1100\u001b[0m                     \u001b[0;32mbreak\u001b[0m\u001b[0;34m\u001b[0m\u001b[0;34m\u001b[0m\u001b[0m\n\u001b[1;32m   1101\u001b[0m \u001b[0;34m\u001b[0m\u001b[0m\n\u001b[0;32m-> 1102\u001b[0;31m         \u001b[0mall_runs\u001b[0m \u001b[0;34m=\u001b[0m \u001b[0mtimer\u001b[0m\u001b[0;34m.\u001b[0m\u001b[0mrepeat\u001b[0m\u001b[0;34m(\u001b[0m\u001b[0mrepeat\u001b[0m\u001b[0;34m,\u001b[0m \u001b[0mnumber\u001b[0m\u001b[0;34m)\u001b[0m\u001b[0;34m\u001b[0m\u001b[0;34m\u001b[0m\u001b[0m\n\u001b[0m\u001b[1;32m   1103\u001b[0m         \u001b[0mbest\u001b[0m \u001b[0;34m=\u001b[0m \u001b[0mmin\u001b[0m\u001b[0;34m(\u001b[0m\u001b[0mall_runs\u001b[0m\u001b[0;34m)\u001b[0m \u001b[0;34m/\u001b[0m \u001b[0mnumber\u001b[0m\u001b[0;34m\u001b[0m\u001b[0;34m\u001b[0m\u001b[0m\n\u001b[1;32m   1104\u001b[0m         \u001b[0mworst\u001b[0m \u001b[0;34m=\u001b[0m \u001b[0mmax\u001b[0m\u001b[0;34m(\u001b[0m\u001b[0mall_runs\u001b[0m\u001b[0;34m)\u001b[0m \u001b[0;34m/\u001b[0m \u001b[0mnumber\u001b[0m\u001b[0;34m\u001b[0m\u001b[0;34m\u001b[0m\u001b[0m\n",
      "\u001b[0;32m/opt/conda/lib/python3.6/timeit.py\u001b[0m in \u001b[0;36mrepeat\u001b[0;34m(self, repeat, number)\u001b[0m\n\u001b[1;32m    204\u001b[0m         \u001b[0mr\u001b[0m \u001b[0;34m=\u001b[0m \u001b[0;34m[\u001b[0m\u001b[0;34m]\u001b[0m\u001b[0;34m\u001b[0m\u001b[0;34m\u001b[0m\u001b[0m\n\u001b[1;32m    205\u001b[0m         \u001b[0;32mfor\u001b[0m \u001b[0mi\u001b[0m \u001b[0;32min\u001b[0m \u001b[0mrange\u001b[0m\u001b[0;34m(\u001b[0m\u001b[0mrepeat\u001b[0m\u001b[0;34m)\u001b[0m\u001b[0;34m:\u001b[0m\u001b[0;34m\u001b[0m\u001b[0;34m\u001b[0m\u001b[0m\n\u001b[0;32m--> 206\u001b[0;31m             \u001b[0mt\u001b[0m \u001b[0;34m=\u001b[0m \u001b[0mself\u001b[0m\u001b[0;34m.\u001b[0m\u001b[0mtimeit\u001b[0m\u001b[0;34m(\u001b[0m\u001b[0mnumber\u001b[0m\u001b[0;34m)\u001b[0m\u001b[0;34m\u001b[0m\u001b[0;34m\u001b[0m\u001b[0m\n\u001b[0m\u001b[1;32m    207\u001b[0m             \u001b[0mr\u001b[0m\u001b[0;34m.\u001b[0m\u001b[0mappend\u001b[0m\u001b[0;34m(\u001b[0m\u001b[0mt\u001b[0m\u001b[0;34m)\u001b[0m\u001b[0;34m\u001b[0m\u001b[0;34m\u001b[0m\u001b[0m\n\u001b[1;32m    208\u001b[0m         \u001b[0;32mreturn\u001b[0m \u001b[0mr\u001b[0m\u001b[0;34m\u001b[0m\u001b[0;34m\u001b[0m\u001b[0m\n",
      "\u001b[0;32m/opt/conda/lib/python3.6/site-packages/IPython/core/magics/execution.py\u001b[0m in \u001b[0;36mtimeit\u001b[0;34m(self, number)\u001b[0m\n\u001b[1;32m    158\u001b[0m         \u001b[0mgc\u001b[0m\u001b[0;34m.\u001b[0m\u001b[0mdisable\u001b[0m\u001b[0;34m(\u001b[0m\u001b[0;34m)\u001b[0m\u001b[0;34m\u001b[0m\u001b[0;34m\u001b[0m\u001b[0m\n\u001b[1;32m    159\u001b[0m         \u001b[0;32mtry\u001b[0m\u001b[0;34m:\u001b[0m\u001b[0;34m\u001b[0m\u001b[0;34m\u001b[0m\u001b[0m\n\u001b[0;32m--> 160\u001b[0;31m             \u001b[0mtiming\u001b[0m \u001b[0;34m=\u001b[0m \u001b[0mself\u001b[0m\u001b[0;34m.\u001b[0m\u001b[0minner\u001b[0m\u001b[0;34m(\u001b[0m\u001b[0mit\u001b[0m\u001b[0;34m,\u001b[0m \u001b[0mself\u001b[0m\u001b[0;34m.\u001b[0m\u001b[0mtimer\u001b[0m\u001b[0;34m)\u001b[0m\u001b[0;34m\u001b[0m\u001b[0;34m\u001b[0m\u001b[0m\n\u001b[0m\u001b[1;32m    161\u001b[0m         \u001b[0;32mfinally\u001b[0m\u001b[0;34m:\u001b[0m\u001b[0;34m\u001b[0m\u001b[0;34m\u001b[0m\u001b[0m\n\u001b[1;32m    162\u001b[0m             \u001b[0;32mif\u001b[0m \u001b[0mgcold\u001b[0m\u001b[0;34m:\u001b[0m\u001b[0;34m\u001b[0m\u001b[0;34m\u001b[0m\u001b[0m\n",
      "\u001b[0;32m<magic-timeit>\u001b[0m in \u001b[0;36minner\u001b[0;34m(_it, _timer)\u001b[0m\n",
      "\u001b[0;31mNameError\u001b[0m: name 'primes_between_numba_parallel' is not defined"
     ]
    }
   ],
   "source": [
    "# Create dataframe\n",
    "df = pd.DataFrame(dict(Serial = [0, 0], Parallel = [0, 0]), index = ['numba', 'cython'])\n",
    "\n",
    "# Set upper bound\n",
    "upper = 1000000\n",
    "\n",
    "# Calculate reference time\n",
    "ref = %timeit -o -r3 -n3 primes_between(0, upper)\n",
    "ref = ref.average\n",
    "\n",
    "# numba serial\n",
    "numba_serial = %timeit -o -r3 -n3 primes_between_numba_serial(0, upper)\n",
    "numba_serial = numba_serial.average\n",
    "df.iloc[0, 0] = int(np.round(ref / numba_serial))\n",
    "\n",
    "# numba parallel\n",
    "numba_parallel = %timeit -o -r3 -n3 primes_between_numba_parallel(0, upper)\n",
    "numba_parallel = numba_parallel.average\n",
    "df.iloc[0, 1] = int(np.round(ref / numba_parallel))\n",
    "\n",
    "# cython serial\n",
    "cython_serial = %timeit -o -r3 -n3 primes_between_cython_serial(0, upper)\n",
    "cython_serial = cython_serial.average\n",
    "df.iloc[1, 0] = int(np.round(ref / cython_serial))\n",
    "\n",
    "# cython parallel\n",
    "#cython_parallel = %timeit -o -r3 -n3 primes_between_cython_parallel(0, upper)\n",
    "#cython_parallel = cython_parallel.average\n",
    "#df.iloc[1, 1] = int(np.round(ref / cython_parallel))\n",
    "\n",
    "df"
   ]
  },
  {
   "cell_type": "markdown",
   "metadata": {},
   "source": [
    "- (10 points) `multiprocessing`\n",
    "\n"
   ]
  },
  {
   "cell_type": "code",
   "execution_count": 5,
   "metadata": {},
   "outputs": [
    {
     "data": {
      "text/plain": [
       "array([     2,      3,      5, ..., 999961, 999979, 999983])"
      ]
     },
     "execution_count": 5,
     "metadata": {},
     "output_type": "execute_result"
    }
   ],
   "source": [
    "# Create array with appropriate partitions\n",
    "loop_array = np.array([0, 125000, 125001, 250000, 250001, 375000, 375001, 500000, \n",
    "                       500001, 625000, 625001, 750000, 750001, 875000, 875001, 1000000])\n",
    "\n",
    "# Parallelize using multiprocessing\n",
    "with mp.Pool(processes = 8) as pool:\n",
    "    res = pool.starmap(primes_between, np.array_split(loop_array, 8))\n",
    "    \n",
    "# Show result\n",
    "np.concatenate(res)"
   ]
  },
  {
   "cell_type": "markdown",
   "metadata": {},
   "source": [
    "- (10 points) `joblib`\n",
    "\n"
   ]
  },
  {
   "cell_type": "code",
   "execution_count": 25,
   "metadata": {},
   "outputs": [
    {
     "data": {
      "text/plain": [
       "array([     2,      3,      5, ..., 999961, 999979, 999983])"
      ]
     },
     "execution_count": 25,
     "metadata": {},
     "output_type": "execute_result"
    }
   ],
   "source": [
    "res = Parallel(n_jobs=8)(delayed(primes_between)(i - 125000, i) for i in range(125000, 1000001, 125000))\n",
    "np.concatenate(res).astype('int')"
   ]
  },
  {
   "cell_type": "markdown",
   "metadata": {},
   "source": [
    "- (10 points) `ipyparallel`"
   ]
  },
  {
   "cell_type": "code",
   "execution_count": 16,
   "metadata": {},
   "outputs": [
    {
     "name": "stdout",
     "output_type": "stream",
     "text": [
      "importing numpy on engine(s)\n"
     ]
    }
   ],
   "source": [
    "# Connect to cluster of remote engines\n",
    "rc = Client()\n",
    "dv = rc[:]\n",
    "\n",
    "# Import numpy on engine\n",
    "with dv.sync_imports():\n",
    "    import numpy"
   ]
  },
  {
   "cell_type": "markdown",
   "metadata": {},
   "source": [
    "We copy and paste our original python functions with two minor modifications:\n",
    "\n",
    "- Use the full name, numpy, instead of np. This change appears to be required when we use dv.sync_imports( )\n",
    "- We note with a decorator for primes_between( ) that it depends on is_prime( )"
   ]
  },
  {
   "cell_type": "code",
   "execution_count": 20,
   "metadata": {},
   "outputs": [],
   "source": [
    "def is_prime_ipy(n):\n",
    "    \"\"\"Returns True if a given integer n is prime and false otherwise\"\"\"\n",
    "\n",
    "    if n == 2:\n",
    "        return True\n",
    "    elif n < 2 or n % 2 == 0:\n",
    "        return False\n",
    "    else:\n",
    "        for i in range(3, int(numpy.sqrt(n))+1, 2):\n",
    "            if n % i == 0:\n",
    "                return False\n",
    "    return True"
   ]
  },
  {
   "cell_type": "code",
   "execution_count": 21,
   "metadata": {},
   "outputs": [],
   "source": [
    "@ipp.require(is_prime_ipy)\n",
    "def primes_between_ipy(n1, n2):\n",
    "    \"\"\"Returns prime numbers between n1 and n2 (inclusive on both ends) as a numpy array\"\"\"\n",
    "    \n",
    "    # Check to see which argument is larger\n",
    "    if n1 > n2:\n",
    "        n1, n2 = n2, n1\n",
    "    \n",
    "    # Initialize range of interest\n",
    "    primes = numpy.arange(n1, n2 + 1)\n",
    "    \n",
    "    # Mark all non-prime numbers\n",
    "    for i in range(primes.shape[0]):\n",
    "        if not is_prime(primes[i]):\n",
    "            primes[i] = -999\n",
    "    \n",
    "    # Return all primes\n",
    "    return primes[primes != -999]"
   ]
  },
  {
   "cell_type": "code",
   "execution_count": 22,
   "metadata": {},
   "outputs": [
    {
     "data": {
      "text/plain": [
       "array([     2,      3,      5, ..., 999961, 999979, 999983])"
      ]
     },
     "execution_count": 22,
     "metadata": {},
     "output_type": "execute_result"
    }
   ],
   "source": [
    "res = dv.map_sync(primes_between_ipy, [0, 250001, 500001, 750001], [250000, 500000, 750000, 1000000])\n",
    "np.concatenate(res)"
   ]
  }
 ],
 "metadata": {
  "kernelspec": {
   "display_name": "Python 3",
   "language": "python",
   "name": "python3"
  },
  "language_info": {
   "codemirror_mode": {
    "name": "ipython",
    "version": 3
   },
   "file_extension": ".py",
   "mimetype": "text/x-python",
   "name": "python",
   "nbconvert_exporter": "python",
   "pygments_lexer": "ipython3",
   "version": "3.6.10"
  }
 },
 "nbformat": 4,
 "nbformat_minor": 4
}
