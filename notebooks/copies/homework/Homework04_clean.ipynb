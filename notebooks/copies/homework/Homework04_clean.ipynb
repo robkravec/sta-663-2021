{
 "cells": [
  {
   "cell_type": "code",
   "execution_count": 1,
   "metadata": {},
   "outputs": [],
   "source": [
    "import math\n",
    "import numpy as np\n",
    "from numba import jit, njit, prange\n",
    "from joblib import Parallel, delayed\n",
    "from functools import partial\n",
    "import multiprocessing as mp\n",
    "from multiprocessing import Pool\n",
    "import ipyparallel as ipp\n",
    "from ipyparallel import Client\n",
    "import pandas as pd\n",
    "import timeit\n",
    "%load_ext cython"
   ]
  },
  {
   "cell_type": "markdown",
   "metadata": {},
   "source": [
    "**1**. (100 points)\n",
    "\n",
    "Write a predicate function `is_prime` that efficiently checks whether a number is prime. Use this to write a second function `primes_between` that returns the prime numbers between two integers as a `numpy` array.\n",
    "\n",
    "- (10 points) Do this in regular Python \n",
    "- (10 points) Accelerate using `numba` (serial version) \n",
    "- (15 points) Accelerate using `numba` (parallel version)\n",
    "- (10 points) Accelerate using `cython` (serial version) \n",
    "- (15 points) Accelerate using `cython` (parallel version)\n",
    "- (10 points) Report the speed-up multiplier as an integer of the `numba` and `cython` serial and parallel versions using `timeit` in a DataFrame for the numbers between 0 and 1,000,000\n",
    "- (10 points each) Run the serial version of the python `primes_between` function in parallel using\n",
    "    - `multiprocessing`\n",
    "    - `joblib`\n",
    "    - `ipyparallel`"
   ]
  },
  {
   "cell_type": "markdown",
   "metadata": {},
   "source": [
    "- (10 points) Do this in regular Python \n",
    "\n"
   ]
  },
  {
   "cell_type": "markdown",
   "metadata": {},
   "source": [
    "*Solution from Midterm 1 is used for is_prime( ) function. primes_between( ) function is written to be compatible (and comparable) with numba and cython versions down the line. I could write a more efficient python-only version of primes_between if that was the goal here*"
   ]
  },
  {
   "cell_type": "code",
   "execution_count": 2,
   "metadata": {},
   "outputs": [],
   "source": [
    "def is_prime(n):\n",
    "    \"\"\"Returns True if a given integer n is prime and false otherwise\"\"\"\n",
    "\n",
    "    if n == 2:\n",
    "        return True\n",
    "    elif n < 2 or n % 2 == 0:\n",
    "        return False\n",
    "    else:\n",
    "        for i in range(3, int(np.sqrt(n))+1, 2):\n",
    "            if n % i == 0:\n",
    "                return False\n",
    "    return True"
   ]
  },
  {
   "cell_type": "code",
   "execution_count": 3,
   "metadata": {},
   "outputs": [],
   "source": [
    "def primes_between(n1, n2):\n",
    "    \"\"\"Returns prime numbers between n1 and n2 (inclusive on both ends) as a numpy array\"\"\"\n",
    "    \n",
    "    # Check to see which argument is larger\n",
    "    if n1 > n2:\n",
    "        n1, n2 = n2, n1\n",
    "    \n",
    "    # Initialize range of interest\n",
    "    primes = np.arange(n1, n2 + 1)\n",
    "    \n",
    "    # Mark all non-prime numbers\n",
    "    for i in range(primes.shape[0]):\n",
    "        if not is_prime(primes[i]):\n",
    "            primes[i] = -999\n",
    "    \n",
    "    # Return all primes\n",
    "    return primes[primes != -999]"
   ]
  },
  {
   "cell_type": "code",
   "execution_count": 4,
   "metadata": {},
   "outputs": [
    {
     "data": {
      "text/plain": [
       "array([ 2,  3,  5,  7, 11, 13, 17, 19, 23, 29, 31, 37, 41, 43, 47])"
      ]
     },
     "execution_count": 4,
     "metadata": {},
     "output_type": "execute_result"
    }
   ],
   "source": [
    "# Prove that function works\n",
    "primes_between(0, 50)"
   ]
  },
  {
   "cell_type": "markdown",
   "metadata": {},
   "source": [
    "- (10 points) Accelerate using `numba` (serial version) \n",
    "\n"
   ]
  },
  {
   "cell_type": "code",
   "execution_count": 5,
   "metadata": {},
   "outputs": [],
   "source": [
    "@jit(nopython=True, cache=True)\n",
    "def is_prime_numba_serial(n):\n",
    "    \"\"\"Returns True if a given integer n is prime and false otherwise\"\"\"\n",
    "\n",
    "    if n == 2:\n",
    "        return True\n",
    "    elif n < 2 or n % 2 == 0:\n",
    "        return False\n",
    "    else:\n",
    "        for i in range(3, int(np.sqrt(n))+1, 2):\n",
    "            if n % i == 0:\n",
    "                return False\n",
    "    return True"
   ]
  },
  {
   "cell_type": "code",
   "execution_count": 6,
   "metadata": {},
   "outputs": [],
   "source": [
    "@jit(nopython=True, cache=True)\n",
    "def primes_between_numba_serial(n1, n2):\n",
    "    \"\"\"Returns prime numbers between n1 and n2 (exclusive on both ends) as a numpy array\"\"\"\n",
    "    \n",
    "    # Check to see which argument is larger\n",
    "    if n1 > n2:\n",
    "        n1, n2 = n2, n1\n",
    "    \n",
    "    # Initialize range of interest\n",
    "    primes = np.arange(n1, n2 + 1)\n",
    "    \n",
    "    # Mark all non-prime numbers\n",
    "    for i in range(primes.shape[0]):\n",
    "        if not is_prime_numba_serial(primes[i]):\n",
    "            primes[i] = -999\n",
    "    \n",
    "    # Return all primes\n",
    "    return primes[primes != -999]"
   ]
  },
  {
   "cell_type": "code",
   "execution_count": 7,
   "metadata": {},
   "outputs": [
    {
     "data": {
      "text/plain": [
       "array([ 2,  3,  5,  7, 11, 13, 17, 19, 23, 29, 31, 37, 41, 43, 47])"
      ]
     },
     "execution_count": 7,
     "metadata": {},
     "output_type": "execute_result"
    }
   ],
   "source": [
    "# Prove that function works\n",
    "primes_between_numba_serial(0, 50)"
   ]
  },
  {
   "cell_type": "markdown",
   "metadata": {},
   "source": [
    "- (15 points) Accelerate using `numba` (parallel version)\n",
    "\n"
   ]
  },
  {
   "cell_type": "markdown",
   "metadata": {},
   "source": [
    "*Here, we parallelize the \"primes_between\" function but leave the \"is_prime\" function as serial (because it only checks one number for each function call)*"
   ]
  },
  {
   "cell_type": "code",
   "execution_count": 8,
   "metadata": {},
   "outputs": [],
   "source": [
    "@njit(parallel = True)\n",
    "def primes_between_numba_parallel(n1, n2):\n",
    "    \"\"\"Returns prime numbers between n1 and n2 (exclusive on both ends) as a numpy array\"\"\"\n",
    "    \n",
    "    # Check to see which argument is larger\n",
    "    if n1 > n2:\n",
    "        n1, n2 = n2, n1\n",
    "    \n",
    "    # Initialize range of interest\n",
    "    primes = np.arange(n1, n2 + 1)\n",
    "    \n",
    "    # Mark all non-prime numbers\n",
    "    for i in prange(primes.shape[0]):\n",
    "        if not is_prime_numba_serial(primes[i]):\n",
    "            primes[i] = -999\n",
    "    \n",
    "    # Return all primes\n",
    "    return primes[primes != -999]"
   ]
  },
  {
   "cell_type": "code",
   "execution_count": 9,
   "metadata": {},
   "outputs": [
    {
     "data": {
      "text/plain": [
       "array([ 2,  3,  5,  7, 11, 13, 17, 19, 23, 29, 31, 37, 41, 43, 47])"
      ]
     },
     "execution_count": 9,
     "metadata": {},
     "output_type": "execute_result"
    }
   ],
   "source": [
    "# Prove that function works\n",
    "primes_between_numba_parallel(0, 50)"
   ]
  },
  {
   "cell_type": "markdown",
   "metadata": {},
   "source": [
    "- (10 points) Accelerate using `cython` (serial version) \n",
    "\n"
   ]
  },
  {
   "cell_type": "markdown",
   "metadata": {},
   "source": [
    "Reference on using numpy arrays in cython: https://www.futurelearn.com/info/courses/python-in-hpc/0/steps/65126"
   ]
  },
  {
   "cell_type": "code",
   "execution_count": 23,
   "metadata": {},
   "outputs": [],
   "source": [
    "%%cython\n",
    "\n",
    "import cython\n",
    "import numpy as np\n",
    "cimport numpy as cnp\n",
    "\n",
    "# Primitive function\n",
    "cdef bint is_prime_cython_serial(int n):\n",
    "    \"\"\"Returns True if a given integer n is prime and false otherwise\"\"\"\n",
    "    \n",
    "    # Declare variables\n",
    "    cdef int i\n",
    "    cdef int upper\n",
    "    upper = int(n ** 0.5 + 1)\n",
    "\n",
    "    # Perform checks    \n",
    "    if n == 2:\n",
    "        return 1\n",
    "    elif n < 2 or n % 2 == 0:\n",
    "        return 0\n",
    "    else:\n",
    "        for i in range(3, upper, 2):\n",
    "            if n % i == 0:\n",
    "                return 0\n",
    "    return 1\n",
    "\n",
    "def primes_between_cython_serial(int n1, int n2):\n",
    "    \"\"\"Returns prime numbers between n1 and n2 (exclusive on both ends) as a numpy array\"\"\"\n",
    "    \n",
    "    # Declare variables\n",
    "    cdef int i\n",
    "    cdef cnp.ndarray[cnp.int_t, ndim = 1] primes\n",
    "    \n",
    "    # Check to see which argument is larger\n",
    "    if n1 > n2:\n",
    "        n1, n2 = n2, n1\n",
    "    \n",
    "    # Initialize range of interest\n",
    "    primes = np.arange(n1, n2 + 1)\n",
    "    \n",
    "    # Mark all non-prime numbers\n",
    "    for i in range(primes.shape[0]):\n",
    "        if not is_prime_cython_serial(primes[i]):\n",
    "            primes[i] = -999\n",
    "    \n",
    "    # Return all primes\n",
    "    return primes[primes != -999]"
   ]
  },
  {
   "cell_type": "code",
   "execution_count": 24,
   "metadata": {},
   "outputs": [
    {
     "data": {
      "text/plain": [
       "array([ 2,  3,  5,  7, 11, 13, 17, 19, 23, 29, 31, 37, 41, 43, 47])"
      ]
     },
     "execution_count": 24,
     "metadata": {},
     "output_type": "execute_result"
    }
   ],
   "source": [
    "# Prove that function works\n",
    "primes_between_cython_serial(0, 50)"
   ]
  },
  {
   "cell_type": "markdown",
   "metadata": {},
   "source": [
    "- (15 points) Accelerate using `cython` (parallel version)\n",
    "\n"
   ]
  },
  {
   "cell_type": "code",
   "execution_count": 12,
   "metadata": {},
   "outputs": [],
   "source": [
    "%%cython --compile-args=-fopenmp --link-args=-fopenmp --force -I /usr/local/opt/libomp/include -L /usr/local/opt/libomp/lib\n",
    "\n",
    "import cython\n",
    "from cython.parallel import parallel, prange\n",
    "import numpy as np\n",
    "cimport numpy as cnp\n",
    "\n",
    "# Primitive function\n",
    "@cython.cdivision\n",
    "@cython.boundscheck(False)\n",
    "@cython.wraparound(False)\n",
    "cdef bint is_prime_cython_serial(int n) nogil:\n",
    "    \"\"\"Returns True if a given integer n is prime and false otherwise\"\"\"\n",
    "    \n",
    "    # Declare variables\n",
    "    cdef int i\n",
    "    cdef int upper\n",
    "    upper = int(n ** 0.5 + 1)\n",
    "    \n",
    "    # Perform checks    \n",
    "    if n == 2:\n",
    "        return 1\n",
    "    elif n < 2 or n % 2 == 0:\n",
    "        return 0\n",
    "    else:\n",
    "        for i in range(3, upper, 2):\n",
    "            if n % i == 0:\n",
    "                return 0\n",
    "    return 1\n",
    "\n",
    "@cython.boundscheck(False)\n",
    "@cython.wraparound(False)\n",
    "def primes_between_cython_parallel(int n1, int n2):\n",
    "    \"\"\"Returns prime numbers between n1 and n2 (exclusive on both ends) as a numpy array\"\"\"\n",
    "    \n",
    "    # Declare variables\n",
    "    cdef int i\n",
    "    cdef cnp.ndarray[cnp.int_t, ndim = 1] primes\n",
    "    \n",
    "    # Check to see which argument is larger\n",
    "    if n1 > n2:\n",
    "        n1, n2 = n2, n1\n",
    "    \n",
    "    # Initialize range of interest\n",
    "    primes = np.arange(n1, n2 + 1)\n",
    "    \n",
    "    # Mark all non-prime numbers\n",
    "    with cython.nogil, parallel():\n",
    "        for i in prange(primes.shape[0]):\n",
    "            if not is_prime_cython_serial(primes[i]):\n",
    "                primes[i] = -999\n",
    "    \n",
    "    # Return all primes\n",
    "    return primes[primes != -999]"
   ]
  },
  {
   "cell_type": "code",
   "execution_count": 13,
   "metadata": {},
   "outputs": [
    {
     "data": {
      "text/plain": [
       "array([ 2,  3,  5,  7, 11, 13, 17, 19, 23, 29, 31, 37, 41, 43, 47])"
      ]
     },
     "execution_count": 13,
     "metadata": {},
     "output_type": "execute_result"
    }
   ],
   "source": [
    "# Prove that function works\n",
    "primes_between_cython_parallel(0, 50)"
   ]
  },
  {
   "cell_type": "markdown",
   "metadata": {},
   "source": [
    "- (10 points) Report the speed-up multiplier as an integer of the `numba` and `cython` serial and parallel versions using `timeit` in a DataFrame for the numbers between 0 and 1,000,000\n",
    "\n"
   ]
  },
  {
   "cell_type": "markdown",
   "metadata": {},
   "source": [
    "*Values in data frame are calculated as (time for serial version in python) / (time for sped up version). A larger integer value denotes a greater speed-up*"
   ]
  },
  {
   "cell_type": "code",
   "execution_count": 14,
   "metadata": {},
   "outputs": [
    {
     "name": "stdout",
     "output_type": "stream",
     "text": [
      "20.4 s ± 48.6 ms per loop (mean ± std. dev. of 3 runs, 3 loops each)\n",
      "205 ms ± 747 µs per loop (mean ± std. dev. of 3 runs, 3 loops each)\n",
      "40 ms ± 3.7 ms per loop (mean ± std. dev. of 3 runs, 3 loops each)\n",
      "210 ms ± 1.37 ms per loop (mean ± std. dev. of 3 runs, 3 loops each)\n",
      "42 ms ± 609 µs per loop (mean ± std. dev. of 3 runs, 3 loops each)\n"
     ]
    },
    {
     "data": {
      "text/html": [
       "<div>\n",
       "<style scoped>\n",
       "    .dataframe tbody tr th:only-of-type {\n",
       "        vertical-align: middle;\n",
       "    }\n",
       "\n",
       "    .dataframe tbody tr th {\n",
       "        vertical-align: top;\n",
       "    }\n",
       "\n",
       "    .dataframe thead th {\n",
       "        text-align: right;\n",
       "    }\n",
       "</style>\n",
       "<table border=\"1\" class=\"dataframe\">\n",
       "  <thead>\n",
       "    <tr style=\"text-align: right;\">\n",
       "      <th></th>\n",
       "      <th>Serial</th>\n",
       "      <th>Parallel</th>\n",
       "    </tr>\n",
       "  </thead>\n",
       "  <tbody>\n",
       "    <tr>\n",
       "      <th>numba</th>\n",
       "      <td>99</td>\n",
       "      <td>510</td>\n",
       "    </tr>\n",
       "    <tr>\n",
       "      <th>cython</th>\n",
       "      <td>97</td>\n",
       "      <td>485</td>\n",
       "    </tr>\n",
       "  </tbody>\n",
       "</table>\n",
       "</div>"
      ],
      "text/plain": [
       "        Serial  Parallel\n",
       "numba       99       510\n",
       "cython      97       485"
      ]
     },
     "execution_count": 14,
     "metadata": {},
     "output_type": "execute_result"
    }
   ],
   "source": [
    "# Create dataframe\n",
    "df = pd.DataFrame(dict(Serial = [0, 0], Parallel = [0, 0]), index = ['numba', 'cython'])\n",
    "\n",
    "# Set upper bound\n",
    "upper = 1000000\n",
    "\n",
    "# Calculate reference time\n",
    "ref = %timeit -o -r3 -n5 primes_between(0, upper)\n",
    "ref = ref.average\n",
    "\n",
    "# numba serial\n",
    "numba_serial = %timeit -o -r3 -n5 primes_between_numba_serial(0, upper)\n",
    "numba_serial = numba_serial.average\n",
    "df.iloc[0, 0] = int(np.round(ref / numba_serial))\n",
    "\n",
    "# numba parallel\n",
    "numba_parallel = %timeit -o -r3 -n5 primes_between_numba_parallel(0, upper)\n",
    "numba_parallel = numba_parallel.average\n",
    "df.iloc[0, 1] = int(np.round(ref / numba_parallel))\n",
    "\n",
    "# cython serial\n",
    "cython_serial = %timeit -o -r3 -n5 primes_between_cython_serial(0, upper)\n",
    "cython_serial = cython_serial.average\n",
    "df.iloc[1, 0] = int(np.round(ref / cython_serial))\n",
    "\n",
    "# cython parallel\n",
    "cython_parallel = %timeit -o -r3 -n5 primes_between_cython_parallel(0, upper)\n",
    "cython_parallel = cython_parallel.average\n",
    "df.iloc[1, 1] = int(np.round(ref / cython_parallel))\n",
    "\n",
    "df"
   ]
  },
  {
   "cell_type": "markdown",
   "metadata": {},
   "source": [
    "- (10 points) `multiprocessing`\n",
    "\n"
   ]
  },
  {
   "cell_type": "code",
   "execution_count": 15,
   "metadata": {},
   "outputs": [
    {
     "data": {
      "text/plain": [
       "array([     2,      3,      5, ..., 999961, 999979, 999983])"
      ]
     },
     "execution_count": 15,
     "metadata": {},
     "output_type": "execute_result"
    }
   ],
   "source": [
    "# Create array with appropriate partitions\n",
    "loop_array = np.array([0, 125000, 125001, 250000, 250001, 375000, 375001, 500000, \n",
    "                       500001, 625000, 625001, 750000, 750001, 875000, 875001, 1000000])\n",
    "\n",
    "# Parallelize using multiprocessing\n",
    "with mp.Pool(processes = 8) as pool:\n",
    "    res = pool.starmap(primes_between, np.array_split(loop_array, 8))\n",
    "    \n",
    "# Show result\n",
    "np.concatenate(res)"
   ]
  },
  {
   "cell_type": "markdown",
   "metadata": {},
   "source": [
    "- (10 points) `joblib`\n",
    "\n"
   ]
  },
  {
   "cell_type": "code",
   "execution_count": 16,
   "metadata": {},
   "outputs": [
    {
     "data": {
      "text/plain": [
       "array([     2,      3,      5, ..., 999961, 999979, 999983])"
      ]
     },
     "execution_count": 16,
     "metadata": {},
     "output_type": "execute_result"
    }
   ],
   "source": [
    "res = Parallel(n_jobs=8)(delayed(primes_between)(i - 125000, i) for i in range(125000, 1000001, 125000))\n",
    "np.concatenate(res).astype('int')"
   ]
  },
  {
   "cell_type": "markdown",
   "metadata": {},
   "source": [
    "- (10 points) `ipyparallel`"
   ]
  },
  {
   "cell_type": "code",
   "execution_count": 17,
   "metadata": {},
   "outputs": [
    {
     "name": "stdout",
     "output_type": "stream",
     "text": [
      "importing numpy on engine(s)\n"
     ]
    }
   ],
   "source": [
    "# Connect to cluster of remote engines\n",
    "rc = Client()\n",
    "dv = rc[:]\n",
    "\n",
    "# Import numpy on engine\n",
    "with dv.sync_imports():\n",
    "    import numpy"
   ]
  },
  {
   "cell_type": "markdown",
   "metadata": {},
   "source": [
    "We copy and paste our original python functions with two minor modifications:\n",
    "\n",
    "- Use the full name, numpy, instead of np. This change appears to be required when we use dv.sync_imports( )\n",
    "- We note with a decorator for primes_between( ) that it depends on is_prime( )"
   ]
  },
  {
   "cell_type": "code",
   "execution_count": 18,
   "metadata": {},
   "outputs": [],
   "source": [
    "def is_prime_ipy(n):\n",
    "    \"\"\"Returns True if a given integer n is prime and false otherwise\"\"\"\n",
    "\n",
    "    if n == 2:\n",
    "        return True\n",
    "    elif n < 2 or n % 2 == 0:\n",
    "        return False\n",
    "    else:\n",
    "        for i in range(3, int(numpy.sqrt(n))+1, 2):\n",
    "            if n % i == 0:\n",
    "                return False\n",
    "    return True"
   ]
  },
  {
   "cell_type": "code",
   "execution_count": 21,
   "metadata": {},
   "outputs": [],
   "source": [
    "@ipp.require(is_prime_ipy)\n",
    "def primes_between_ipy(n1, n2):\n",
    "    \"\"\"Returns prime numbers between n1 and n2 (inclusive on both ends) as a numpy array\"\"\"\n",
    "    \n",
    "    # Check to see which argument is larger\n",
    "    if n1 > n2:\n",
    "        n1, n2 = n2, n1\n",
    "    \n",
    "    # Initialize range of interest\n",
    "    primes = numpy.arange(n1, n2 + 1)\n",
    "    \n",
    "    # Mark all non-prime numbers\n",
    "    for i in range(primes.shape[0]):\n",
    "        if not is_prime_ipy(primes[i]):\n",
    "            primes[i] = -999\n",
    "    \n",
    "    # Return all primes\n",
    "    return primes[primes != -999]"
   ]
  },
  {
   "cell_type": "code",
   "execution_count": 22,
   "metadata": {},
   "outputs": [
    {
     "data": {
      "text/plain": [
       "array([     2,      3,      5, ..., 999961, 999979, 999983])"
      ]
     },
     "execution_count": 22,
     "metadata": {},
     "output_type": "execute_result"
    }
   ],
   "source": [
    "res = dv.map_sync(primes_between_ipy, [0, 250001, 500001, 750001], [250000, 500000, 750000, 1000000])\n",
    "np.concatenate(res)"
   ]
  }
 ],
 "metadata": {
  "kernelspec": {
   "display_name": "Python 3",
   "language": "python",
   "name": "python3"
  },
  "language_info": {
   "codemirror_mode": {
    "name": "ipython",
    "version": 3
   },
   "file_extension": ".py",
   "mimetype": "text/x-python",
   "name": "python",
   "nbconvert_exporter": "python",
   "pygments_lexer": "ipython3",
   "version": "3.6.10"
  }
 },
 "nbformat": 4,
 "nbformat_minor": 4
}
