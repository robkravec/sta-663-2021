{
 "cells": [
  {
   "cell_type": "code",
   "execution_count": 23,
   "metadata": {},
   "outputs": [],
   "source": [
    "import numpy as np\n",
    "import string\n",
    "import random"
   ]
  },
  {
   "cell_type": "markdown",
   "metadata": {},
   "source": [
    "**1**. (25 points)\n",
    "\n",
    "The following iterative sequence is defined for the set of positive integers:\n",
    "\n",
    "- n → n/2 (n is even)\n",
    "- n → 3n + 1 (n is odd)\n",
    "\n",
    "Using the rule above and starting with 13, we generate the following sequence:\n",
    "\n",
    "13 → 40 → 20 → 10 → 5 → 16 → 8 → 4 → 2 → 1\n",
    "\n",
    "It can be seen that this sequence (starting at 13 and finishing at 1) contains 10 terms. Although it has not been proved yet (Collatz Problem), it is thought that all starting numbers finish at 1.\n",
    "\n",
    "Which starting number, under one million, produces the longest chain?\n",
    "\n",
    "NOTE: Once the chain starts the terms are allowed to go above one million."
   ]
  },
  {
   "cell_type": "code",
   "execution_count": 7,
   "metadata": {},
   "outputs": [],
   "source": [
    "# Define recursive function to count length of sequence, given a starting number\n",
    "def iter_sequence(start_num, chain_len = 1):\n",
    "    if start_num == 1:\n",
    "        return(chain_len)\n",
    "    if start_num % 2 == 0:\n",
    "        start_num /= 2\n",
    "    else:\n",
    "        start_num = 3*start_num + 1\n",
    "    chain_len += 1\n",
    "    return(iter_sequence(start_num, chain_len))"
   ]
  },
  {
   "cell_type": "code",
   "execution_count": 21,
   "metadata": {},
   "outputs": [
    {
     "name": "stdout",
     "output_type": "stream",
     "text": [
      "837799\n",
      "837799\n",
      "837799\n",
      "837799\n",
      "837799\n",
      "837799\n",
      "837799\n",
      "837799\n",
      "55.6 s ± 84.5 ms per loop (mean ± std. dev. of 7 runs, 1 loop each)\n"
     ]
    }
   ],
   "source": [
    "# Initialize result variables\n",
    "largest_start_num = 1 # Starting number for sequence with longest chain\n",
    "longest_chain_len = 1 # Number of terms in longest sequence\n",
    "\n",
    "# Iterate through all integers less than one million\n",
    "for num in range(1, 1000000):\n",
    "    chain_len = iter_sequence(num)\n",
    "    # If this sequence is the longest, update the records\n",
    "    if chain_len > longest_chain_len:\n",
    "        longest_chain_len = chain_len\n",
    "        largest_start_num = num\n",
    "\n",
    "# Display result\n",
    "print(largest_start_num)"
   ]
  },
  {
   "cell_type": "code",
   "execution_count": 18,
   "metadata": {},
   "outputs": [
    {
     "name": "stdout",
     "output_type": "stream",
     "text": [
      "837799\n",
      "837799\n",
      "837799\n",
      "837799\n",
      "837799\n",
      "837799\n",
      "837799\n",
      "837799\n",
      "2.19 s ± 16.3 ms per loop (mean ± std. dev. of 7 runs, 1 loop each)\n"
     ]
    }
   ],
   "source": [
    "# Initialize result variables\n",
    "largest_start_num = 1 # Starting number for sequence with longest chain\n",
    "longest_chain_len = 1 # Number of terms in longest sequence\n",
    "storage = {}\n",
    "\n",
    "# Iterate through all integers less than one million\n",
    "for num in range(1, 1000000):\n",
    "    # Reset chain length, and preserve original value of \"num\" before it is altered\n",
    "    chain_len = 0\n",
    "    storage_value = num\n",
    "    while num > 1:\n",
    "        if num % 2 == 0:\n",
    "            num /= 2\n",
    "        else:\n",
    "            num = 3*num + 1\n",
    "        chain_len += 1\n",
    "        if num in storage:\n",
    "            chain_len += storage[num]\n",
    "            break\n",
    "    storage[storage_value] = chain_len\n",
    "    if chain_len > longest_chain_len:\n",
    "        longest_chain_len = chain_len\n",
    "        largest_start_num = storage_value\n",
    "\n",
    "# Display result\n",
    "print(largest_start_num)"
   ]
  },
  {
   "cell_type": "code",
   "execution_count": 19,
   "metadata": {},
   "outputs": [
    {
     "name": "stdout",
     "output_type": "stream",
     "text": [
      "837799\n",
      "837799\n",
      "837799\n",
      "837799\n",
      "837799\n",
      "837799\n",
      "837799\n",
      "837799\n",
      "32.1 s ± 39.9 ms per loop (mean ± std. dev. of 7 runs, 1 loop each)\n"
     ]
    }
   ],
   "source": [
    "# Initialize result variables\n",
    "largest_start_num = 1 # Starting number for sequence with longest chain\n",
    "longest_chain_len = 1 # Number of terms in longest sequence\n",
    "\n",
    "# Iterate through all integers less than one million\n",
    "for num in range(1, 1000000):\n",
    "    # Reset chain length, and preserve original value of \"num\" before it is altered\n",
    "    chain_len = 0\n",
    "    storage_value = num\n",
    "    # Perform sequence rules until 1 is reached\n",
    "    while num > 1:\n",
    "        if num % 2 == 0:\n",
    "            num /= 2\n",
    "        else:\n",
    "            num = 3*num + 1\n",
    "        chain_len += 1\n",
    "    # If this sequence is the longest, update the records\n",
    "    if chain_len > longest_chain_len:\n",
    "        longest_chain_len = chain_len\n",
    "        largest_start_num = storage_value\n",
    "\n",
    "# Display result\n",
    "print(largest_start_num)"
   ]
  },
  {
   "cell_type": "code",
   "execution_count": null,
   "metadata": {},
   "outputs": [],
   "source": [
    "### Consider making code more efficient using a dictionary to store results that we've already seen\n",
    "### Look for other areas in homework to increase efficiency and/or refine comments"
   ]
  },
  {
   "cell_type": "markdown",
   "metadata": {},
   "source": [
    "**2** (25 points)\n",
    "\n",
    "\n",
    "- Perform the median polish to calculate just the *residuals* for this [example](https://mgimond.github.io/ES218/Week11a.html) in Python. \n",
    "- Use the matrix `xs` provided\n",
    "- Display the final result after 3 iterations to 1 decimal place and check if it agrees with \n",
    "\n",
    "![img](https://mgimond.github.io/ES218/img/twoway_09.jpg)"
   ]
  },
  {
   "cell_type": "code",
   "execution_count": 25,
   "metadata": {},
   "outputs": [],
   "source": [
    "xs = np.array([\n",
    "    (25.3,32.1,38.8,25.4), \n",
    "    (25.3,29,31,21.1),\n",
    "    (18.2,18.8,19.3,20.3),\n",
    "    (18.3,24.3,15.7,24),\n",
    "    (16.3,19,16.8,17.5)\n",
    "]).T"
   ]
  },
  {
   "cell_type": "code",
   "execution_count": 26,
   "metadata": {},
   "outputs": [
    {
     "name": "stdout",
     "output_type": "stream",
     "text": [
      "[[-1.4  0.2  0.  -1.   0.7]\n",
      " [ 1.4 -0.2 -3.4  1.  -0.7]\n",
      " [11.   4.7 -0.  -4.7  0. ]\n",
      " [-3.1 -5.9  0.3  2.9  0. ]]\n"
     ]
    }
   ],
   "source": [
    "# Initialize row_median and column median arrays\n",
    "row_medians = np.zeros(xs.shape[0] + 1)\n",
    "col_medians = np.zeros(xs.shape[1] + 1)\n",
    "\n",
    "# Calculate initial global median and residual table\n",
    "global_median = np.median(xs)\n",
    "xs_res = xs - global_median\n",
    "\n",
    "# Run three iterations of median polish\n",
    "for it in range(1, 4):\n",
    "    \n",
    "    # Calculate row medians, and subtract as instructed\n",
    "    med_col_medians = np.median(col_medians)\n",
    "    row_medians = np.median(xs_res, axis = 1)\n",
    "    global_median += med_col_medians\n",
    "    col_medians -= med_col_medians\n",
    "    xs_res -= np.array([row_medians]).reshape(-1, 1)\n",
    "    \n",
    "    # Calculate column medians, and subtract as instructed\n",
    "    med_row_medians = np.median(row_medians)\n",
    "    col_medians = np.median(xs_res, axis = 0).reshape(1, -1)\n",
    "    global_median += med_row_medians\n",
    "    row_medians -= med_row_medians\n",
    "    xs_res -= col_medians\n",
    "\n",
    "# Print resulting residual matrix rounded to one decimal point\n",
    "print(xs_res.round(decimals = 1))"
   ]
  },
  {
   "cell_type": "markdown",
   "metadata": {},
   "source": [
    "**3**. (50 points)\n",
    "\n",
    "A Caesar cipher is a very simple method of encoding and decoding data. The cipher simply replaces characters with the character offset by $k$ places. For example, if the offset is 3, we replace `a` with `d`, `b` with `e` etc. The cipher wraps around so we replace `y` with `b`, `z` with `c` and so on. Punctuation, spaces and numbers are left unchanged.\n",
    "\n",
    "- Write a function `encode` that takes as arguments a string and an integer offset and returns the encoded cipher.\n",
    "- Write a function `decode` that takes as arguments a cipher and an integer offset and returns the decoded string. \n",
    "- Write a function `auto_decode` that takes as argument a cipher and uses a statistical method to guess the optimal offset to decode the cipher, assuming the original string is in English which has the following letter frequency:\n",
    "\n",
    "```python\n",
    "freq = {\n",
    " 'a': 0.08167,\n",
    " 'b': 0.01492,\n",
    " 'c': 0.02782,\n",
    " 'd': 0.04253,\n",
    " 'e': 0.12702,\n",
    " 'f': 0.02228,\n",
    " 'g': 0.02015,\n",
    " 'h': 0.06094,\n",
    " 'i': 0.06966,\n",
    " 'j': 0.00153,\n",
    " 'k': 0.00772,\n",
    " 'l': 0.04025,\n",
    " 'm': 0.02406,\n",
    " 'n': 0.06749,\n",
    " 'o': 0.07507,\n",
    " 'p': 0.01929,\n",
    " 'q': 0.00095,\n",
    " 'r': 0.05987,\n",
    " 's': 0.06327,\n",
    " 't': 0.09056,\n",
    " 'u': 0.02758,\n",
    " 'v': 0.00978,\n",
    " 'w': 0.0236,\n",
    " 'x': 0.0015,\n",
    " 'y': 0.01974,\n",
    " 'z': 0.00074\n",
    "}\n",
    "```\n",
    "\n",
    "- Encode the following nursery rhyme using a random offset from 10 to 20, then recover the original using `auto_decode`:\n",
    "\n",
    "```text\n",
    "Baa, baa, black sheep,\n",
    "Have you any wool?\n",
    "Yes, sir, yes, sir,\n",
    "Three bags full;\n",
    "One for the master,\n",
    "And one for the dame,\n",
    "And one for the little boy\n",
    "Who lives down the lane.\n",
    "```"
   ]
  },
  {
   "cell_type": "code",
   "execution_count": 2,
   "metadata": {},
   "outputs": [],
   "source": [
    "# Input nursery rhyme above as a string\n",
    "rhyme = \"\"\"Baa, baa, black sheep,\n",
    "Have you any wool?\n",
    "Yes, sir, yes, sir,\n",
    "Three bags full;\n",
    "One for the master,\n",
    "And one for the dame,\n",
    "And one for the little boy\n",
    "Who lives down the lane.\n",
    "\"\"\""
   ]
  },
  {
   "cell_type": "code",
   "execution_count": 22,
   "metadata": {},
   "outputs": [],
   "source": [
    "# Input provided dictionary of letter frequency for English language\n",
    "expected_freq = {\n",
    " 'a': 0.08167,\n",
    " 'b': 0.01492,\n",
    " 'c': 0.02782,\n",
    " 'd': 0.04253,\n",
    " 'e': 0.12702,\n",
    " 'f': 0.02228,\n",
    " 'g': 0.02015,\n",
    " 'h': 0.06094,\n",
    " 'i': 0.06966,\n",
    " 'j': 0.00153,\n",
    " 'k': 0.00772,\n",
    " 'l': 0.04025,\n",
    " 'm': 0.02406,\n",
    " 'n': 0.06749,\n",
    " 'o': 0.07507,\n",
    " 'p': 0.01929,\n",
    " 'q': 0.00095,\n",
    " 'r': 0.05987,\n",
    " 's': 0.06327,\n",
    " 't': 0.09056,\n",
    " 'u': 0.02758,\n",
    " 'v': 0.00978,\n",
    " 'w': 0.0236,\n",
    " 'x': 0.0015,\n",
    " 'y': 0.01974,\n",
    " 'z': 0.00074\n",
    "}"
   ]
  },
  {
   "cell_type": "code",
   "execution_count": 3,
   "metadata": {},
   "outputs": [],
   "source": [
    "# Determine numerical bounds of `ord` function for lower and upper case letters\n",
    "lwr_bound_upr_case = ord('A')\n",
    "upr_bound_upr_case = ord('Z')\n",
    "lwr_bound_lwr_case = ord('a')\n",
    "upr_bound_lwr_case = ord('z')\n",
    "\n",
    "# Store number of letters in alphabet\n",
    "num_letters = len(string.ascii_lowercase)"
   ]
  },
  {
   "cell_type": "code",
   "execution_count": 4,
   "metadata": {},
   "outputs": [],
   "source": [
    "# Create encode function\n",
    "def encode(message, offset):\n",
    "    \"\"\"Takes a message (as a string) and an offset (as an integer)\n",
    "    \n",
    "    and returns an encoded version of the message (a cipher).\n",
    "    \"\"\"\n",
    "    \n",
    "    # Check for bad inputs\n",
    "    if not type(message) == str:\n",
    "        return(\"Please enter a string for the message argument\")\n",
    "    if not type(offset) == int:\n",
    "        return(\"Please enter an integer for the offset argument\")\n",
    "    \n",
    "    # Initialize output string\n",
    "    cipher = \"\"\n",
    "    \n",
    "    # Flag if offset is negative\n",
    "    if offset < 0:\n",
    "        neg_flag = -1\n",
    "    else:\n",
    "        neg_flag = 1\n",
    "    \n",
    "    # Loop through message and only encode letters\n",
    "    for char in message:\n",
    "        unadj_ord = offset + ord(char)\n",
    "        # For each encoding, check to see if cipher needs to wrap\n",
    "        if char in string.ascii_lowercase:\n",
    "            if unadj_ord in range(lwr_bound_lwr_case, upr_bound_lwr_case + 1):\n",
    "                cipher += chr(unadj_ord)\n",
    "            else:\n",
    "                cipher += chr(unadj_ord - neg_flag * num_letters)\n",
    "        elif char in string.ascii_uppercase:\n",
    "            if unadj_ord in range(lwr_bound_upr_case, upr_bound_upr_case + 1):\n",
    "                cipher += chr(unadj_ord)\n",
    "            else:\n",
    "                cipher += chr(unadj_ord - neg_flag * num_letters)\n",
    "        else:\n",
    "            cipher += char\n",
    "            \n",
    "    # Return encoded message\n",
    "    return(cipher)"
   ]
  },
  {
   "cell_type": "code",
   "execution_count": 5,
   "metadata": {},
   "outputs": [],
   "source": [
    "# Create decode function\n",
    "def decode(cipher, offset):\n",
    "    \"\"\"Takes an encoded cipher (as a string) and an offset (as an integer)\n",
    "    \n",
    "    and returns a decoded message.\n",
    "    \"\"\"\n",
    "    \n",
    "    # Check for bad inputs\n",
    "    if not type(cipher) == str:\n",
    "        return(\"Please enter a string for the cipher argument\")\n",
    "    if not type(offset) == int:\n",
    "        return(\"Please enter an integer for the offset argument\")\n",
    "    \n",
    "    # Return decoded message\n",
    "    return(encode(cipher, -offset))"
   ]
  },
  {
   "cell_type": "code",
   "execution_count": 44,
   "metadata": {},
   "outputs": [],
   "source": [
    "# Create auto-decode function\n",
    "def auto_decode(cipher):\n",
    "    \"\"\"Takes an encoded cipher (as a string) and attempts to\n",
    "    \n",
    "    guess the correct offset in order to return the decoded message.\n",
    "    \"\"\"\n",
    "    \n",
    "    # Check for bad input\n",
    "    if not type(cipher) == str:\n",
    "        return(\"Please enter a string for the cipher argument\")\n",
    "    \n",
    "    # Initialize smallest SSE and predicted offset\n",
    "    min_SSE = 10000\n",
    "    correct_offset = 0\n",
    "    \n",
    "    \n",
    "    # Loop through all potential offsets to see which gives min SSE\n",
    "    for offset in range(26):\n",
    "        decoded_message = decode(cipher, offset)\n",
    "        \n",
    "        # Count frequency of each letter in decoded message\n",
    "        letter_counts = {letter: 0 for letter in string.ascii_lowercase}\n",
    "        for letter in letter_counts:\n",
    "            letter_counts[letter] = decoded_message.lower().count(letter)\n",
    "        total_letters = sum(letter_counts.values())\n",
    "        letter_counts = {k: v / total_letters for k, v in letter_counts.items()}\n",
    "        \n",
    "        # Calculate SSE and compare with current minimum\n",
    "        SSE = 0\n",
    "        for key in expected_freq:\n",
    "            SSE += (letter_counts[key] - expected_freq[key]) ** 2\n",
    "        if SSE < min_SSE:\n",
    "            min_SSE = SSE\n",
    "            correct_offset = offset\n",
    "    \n",
    "    # Decode cipher using correct offset\n",
    "    return(decode(cipher, correct_offset))"
   ]
  },
  {
   "cell_type": "code",
   "execution_count": 63,
   "metadata": {},
   "outputs": [
    {
     "name": "stdout",
     "output_type": "stream",
     "text": [
      "Baa, baa, black sheep,\n",
      "Have you any wool?\n",
      "Yes, sir, yes, sir,\n",
      "Three bags full;\n",
      "One for the master,\n",
      "And one for the dame,\n",
      "And one for the little boy\n",
      "Who lives down the lane.\n",
      "\n"
     ]
    }
   ],
   "source": [
    "# Generate random offset from 10 to 20\n",
    "random_offset = np.random.randint(10, 21)\n",
    "\n",
    "# Encode nursery rhyme\n",
    "encoded_rhyme = encode(rhyme, random_offset)\n",
    "\n",
    "# Auto-decode\n",
    "print(auto_decode(encoded_rhyme))"
   ]
  }
 ],
 "metadata": {
  "kernelspec": {
   "display_name": "Python 3",
   "language": "python",
   "name": "python3"
  },
  "language_info": {
   "codemirror_mode": {
    "name": "ipython",
    "version": 3
   },
   "file_extension": ".py",
   "mimetype": "text/x-python",
   "name": "python",
   "nbconvert_exporter": "python",
   "pygments_lexer": "ipython3",
   "version": "3.6.10"
  }
 },
 "nbformat": 4,
 "nbformat_minor": 4
}
