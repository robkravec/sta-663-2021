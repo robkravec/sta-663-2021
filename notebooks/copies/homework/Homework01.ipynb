{
 "cells": [
  {
   "cell_type": "code",
   "execution_count": 16,
   "metadata": {},
   "outputs": [],
   "source": [
    "import numpy as np"
   ]
  },
  {
   "cell_type": "markdown",
   "metadata": {},
   "source": [
    "**1**. (25 points)\n",
    "\n",
    "The following iterative sequence is defined for the set of positive integers:\n",
    "\n",
    "- n → n/2 (n is even)\n",
    "- n → 3n + 1 (n is odd)\n",
    "\n",
    "Using the rule above and starting with 13, we generate the following sequence:\n",
    "\n",
    "13 → 40 → 20 → 10 → 5 → 16 → 8 → 4 → 2 → 1\n",
    "\n",
    "It can be seen that this sequence (starting at 13 and finishing at 1) contains 10 terms. Although it has not been proved yet (Collatz Problem), it is thought that all starting numbers finish at 1.\n",
    "\n",
    "Which starting number, under one million, produces the longest chain?\n",
    "\n",
    "NOTE: Once the chain starts the terms are allowed to go above one million."
   ]
  },
  {
   "cell_type": "code",
   "execution_count": 12,
   "metadata": {},
   "outputs": [
    {
     "name": "stdout",
     "output_type": "stream",
     "text": [
      "837799\n"
     ]
    }
   ],
   "source": [
    "# Initialize result variables\n",
    "largest_start_num = 1 # Starting number for sequence with longest chain\n",
    "longest_chain_len = 1 # Number of terms in longest sequence\n",
    "\n",
    "# Iterate through all integers less than one million\n",
    "for num in range(1, 1000000):\n",
    "    # Reset chain length, and preserve original value of \"num\" before it is altered\n",
    "    chain_len = 0\n",
    "    storage_value = num\n",
    "    # Perform sequence rules until 1 is reached\n",
    "    while num > 1:\n",
    "        if num % 2 == 0:\n",
    "            num /= 2\n",
    "        else:\n",
    "            num = 3*num + 1\n",
    "        chain_len += 1\n",
    "    # If this sequence is the longest, update the records\n",
    "    if chain_len > longest_chain_len:\n",
    "        longest_chain_len = chain_len\n",
    "        largest_start_num = storage_value\n",
    "\n",
    "# Display result\n",
    "print(largest_start_num)"
   ]
  },
  {
   "cell_type": "code",
   "execution_count": null,
   "metadata": {},
   "outputs": [],
   "source": [
    "### Consider making code more efficient using a dictionary to store results that we've already seen"
   ]
  },
  {
   "cell_type": "markdown",
   "metadata": {},
   "source": [
    "**2** (25 points)\n",
    "\n",
    "\n",
    "- Perform the median polish to calculate just the *residuals* for this [example](https://mgimond.github.io/ES218/Week11a.html) in Python. \n",
    "- Use the matrix `xs` provided\n",
    "- Display the final result after 3 iterations to 1 decimal place and check if it agrees with \n",
    "\n",
    "![img](https://mgimond.github.io/ES218/img/twoway_09.jpg)"
   ]
  },
  {
   "cell_type": "code",
   "execution_count": 13,
   "metadata": {},
   "outputs": [],
   "source": [
    "xs = np.array([\n",
    "    (25.3,32.1,38.8,25.4), \n",
    "    (25.3,29,31,21.1),\n",
    "    (18.2,18.8,19.3,20.3),\n",
    "    (18.3,24.3,15.7,24),\n",
    "    (16.3,19,16.8,17.5)\n",
    "]).T"
   ]
  },
  {
   "cell_type": "code",
   "execution_count": 32,
   "metadata": {},
   "outputs": [
    {
     "data": {
      "text/plain": [
       "array([18.3, 24.3, 19.3, 21.1])"
      ]
     },
     "execution_count": 32,
     "metadata": {},
     "output_type": "execute_result"
    }
   ],
   "source": [
    "np.median(xs) # Overall median\n",
    "np.median(xs, axis = 0) # Column median\n",
    "np.median(xs, axis = 1) # Row median"
   ]
  },
  {
   "cell_type": "code",
   "execution_count": 14,
   "metadata": {},
   "outputs": [
    {
     "data": {
      "text/plain": [
       "array([[25.3, 25.3, 18.2, 18.3, 16.3],\n",
       "       [32.1, 29. , 18.8, 24.3, 19. ],\n",
       "       [38.8, 31. , 19.3, 15.7, 16.8],\n",
       "       [25.4, 21.1, 20.3, 24. , 17.5]])"
      ]
     },
     "execution_count": 14,
     "metadata": {},
     "output_type": "execute_result"
    }
   ],
   "source": [
    "xs\n",
    "\n",
    "\n"
   ]
  },
  {
   "cell_type": "markdown",
   "metadata": {},
   "source": [
    "**3**. (50 points)\n",
    "\n",
    "A Caesar cipher is a very simple method of encoding and decoding data. The cipher simply replaces characters with the character offset by $k$ places. For example, if the offset is 3, we replace `a` with `d`, `b` with `e` etc. The cipher wraps around so we replace `y` with `b`, `z` with `c` and so on. Punctuation, spaces and numbers are left unchanged.\n",
    "\n",
    "- Write a function `encode` that takes as arguments a string and an integer offset and returns the encoded cipher.\n",
    "- Write a function `decode` that takes as arguments a cipher and an integer offset and returns the decoded string. \n",
    "- Write a function `auto_decode` that takes as argument a cipher and uses a statistical method to guess the optimal offset to decode the cipher, assuming the original string is in English which has the following letter frequency:\n",
    "\n",
    "```python\n",
    "freq = {\n",
    " 'a': 0.08167,\n",
    " 'b': 0.01492,\n",
    " 'c': 0.02782,\n",
    " 'd': 0.04253,\n",
    " 'e': 0.12702,\n",
    " 'f': 0.02228,\n",
    " 'g': 0.02015,\n",
    " 'h': 0.06094,\n",
    " 'i': 0.06966,\n",
    " 'j': 0.00153,\n",
    " 'k': 0.00772,\n",
    " 'l': 0.04025,\n",
    " 'm': 0.02406,\n",
    " 'n': 0.06749,\n",
    " 'o': 0.07507,\n",
    " 'p': 0.01929,\n",
    " 'q': 0.00095,\n",
    " 'r': 0.05987,\n",
    " 's': 0.06327,\n",
    " 't': 0.09056,\n",
    " 'u': 0.02758,\n",
    " 'v': 0.00978,\n",
    " 'w': 0.0236,\n",
    " 'x': 0.0015,\n",
    " 'y': 0.01974,\n",
    " 'z': 0.00074\n",
    "}\n",
    "```\n",
    "\n",
    "- Encode the following nursery rhyme using a random offset from 10 to 20, then recover the original using `auto_decode`:\n",
    "\n",
    "```text\n",
    "Baa, baa, black sheep,\n",
    "Have you any wool?\n",
    "Yes, sir, yes, sir,\n",
    "Three bags full;\n",
    "One for the master,\n",
    "And one for the dame,\n",
    "And one for the little boy\n",
    "Who lives down the lane.\n",
    "```"
   ]
  },
  {
   "cell_type": "code",
   "execution_count": null,
   "metadata": {},
   "outputs": [],
   "source": [
    "\n",
    "\n",
    "\n"
   ]
  }
 ],
 "metadata": {
  "kernelspec": {
   "display_name": "Python 3",
   "language": "python",
   "name": "python3"
  },
  "language_info": {
   "codemirror_mode": {
    "name": "ipython",
    "version": 3
   },
   "file_extension": ".py",
   "mimetype": "text/x-python",
   "name": "python",
   "nbconvert_exporter": "python",
   "pygments_lexer": "ipython3",
   "version": "3.6.10"
  }
 },
 "nbformat": 4,
 "nbformat_minor": 4
}
