{
 "cells": [
  {
   "cell_type": "code",
   "execution_count": 2,
   "metadata": {},
   "outputs": [],
   "source": [
    "import math\n",
    "import numpy as np\n",
    "from numba import jit\n",
    "from numba import njit, prange"
   ]
  },
  {
   "cell_type": "markdown",
   "metadata": {},
   "source": [
    "**1**. (100 points)\n",
    "\n",
    "Write a predicate function `is_prime` that efficiently checks whether a number is prime. Use this to write a second function `primes_between` that returns the prime numbers between two integers as a `numpy` array.\n",
    "\n",
    "- (10 points) Do this in regular Python \n",
    "- (10 points) Accelerate using `numba` (serial version) \n",
    "- (15 points) Accelerate using `numba` (parallel version)\n",
    "- (10 points) Accelerate using `cython` (serial version) \n",
    "- (15 points) Accelerate using `cython` (parallel version)\n",
    "- (10 points) Report the speed-up multiplier as an integer of the `numba` and `cython` serial and parallel versions using `timeit` in a DataFrame for the numbers between 0 and 1,000,000\n",
    "- (10 points each) Run the serial version of the python `primes_between` function in parallel using\n",
    "    - `multiprocessing`\n",
    "    - `joblib`\n",
    "    - `ipyparallel`"
   ]
  },
  {
   "cell_type": "markdown",
   "metadata": {},
   "source": [
    "- (10 points) Do this in regular Python \n",
    "\n"
   ]
  },
  {
   "cell_type": "markdown",
   "metadata": {},
   "source": [
    "*Simple loops are used to make code compatible with numba. Earlier versions of these versions contained checks for bad inputs and more compact code (with list comprehensions), but I ended up having to remove these features*"
   ]
  },
  {
   "cell_type": "code",
   "execution_count": 106,
   "metadata": {},
   "outputs": [],
   "source": [
    "def is_prime(n):\n",
    "    \"\"\"Returns True if a given integer n is prime and false otherwise\"\"\"\n",
    "\n",
    "    for num in range(2, math.ceil(n / 2) + 1):\n",
    "        if not n % num:\n",
    "            return False\n",
    "    return True"
   ]
  },
  {
   "cell_type": "code",
   "execution_count": 109,
   "metadata": {},
   "outputs": [],
   "source": [
    "def primes_between(n1, n2):\n",
    "    \"\"\"Returns prime numbers between n1 and n2 (exclusive on both ends) as a numpy array\"\"\"\n",
    "    \n",
    "    # Initialize output and loop through all numbers between n1 and n2\n",
    "    primes = []\n",
    "    for num in range(n1 + 1, n2):\n",
    "        if is_prime(num):\n",
    "            primes.append(num)\n",
    "    \n",
    "    # Return result\n",
    "    return np.array(primes)"
   ]
  },
  {
   "cell_type": "code",
   "execution_count": 110,
   "metadata": {},
   "outputs": [
    {
     "name": "stdout",
     "output_type": "stream",
     "text": [
      "2.28 ms ± 41.7 µs per loop (mean ± std. dev. of 7 runs, 100 loops each)\n"
     ]
    }
   ],
   "source": [
    "%%timeit\n",
    "# Test function\n",
    "primes_between(1, 1000)"
   ]
  },
  {
   "cell_type": "markdown",
   "metadata": {},
   "source": [
    "- (10 points) Accelerate using `numba` (serial version) \n",
    "\n"
   ]
  },
  {
   "cell_type": "code",
   "execution_count": 102,
   "metadata": {},
   "outputs": [],
   "source": [
    "@jit(nopython=True, cache=True)\n",
    "def is_prime_numba_serial(n):\n",
    "    \"\"\"Returns True if a given integer n is prime and false otherwise\"\"\"\n",
    "\n",
    "    for num in range(2, math.ceil(n / 2) + 1):\n",
    "        if not n % num:\n",
    "            return False\n",
    "    return True"
   ]
  },
  {
   "cell_type": "code",
   "execution_count": 103,
   "metadata": {},
   "outputs": [],
   "source": [
    "@jit(nopython=True, cache=True)\n",
    "def primes_between_numba_serial(n1, n2):\n",
    "    \"\"\"Returns prime numbers between n1 and n2 (exclusive on both ends) as a numpy array\"\"\"\n",
    "    # Initialize output and loop through all numbers between n1 and n2\n",
    "    primes = []\n",
    "    for num in range(n1 + 1, n2):\n",
    "        if is_prime_numba_serial(num):\n",
    "            primes.append(num)\n",
    "    \n",
    "    # Return result\n",
    "    return np.array(primes)"
   ]
  },
  {
   "cell_type": "code",
   "execution_count": 111,
   "metadata": {},
   "outputs": [
    {
     "name": "stdout",
     "output_type": "stream",
     "text": [
      "258 µs ± 3.11 µs per loop (mean ± std. dev. of 7 runs, 1000 loops each)\n"
     ]
    }
   ],
   "source": [
    "%%timeit\n",
    "# Test function\n",
    "primes_between_numba_serial(1, 1000)"
   ]
  },
  {
   "cell_type": "markdown",
   "metadata": {},
   "source": [
    "- (15 points) Accelerate using `numba` (parallel version)\n",
    "\n"
   ]
  },
  {
   "cell_type": "code",
   "execution_count": 3,
   "metadata": {},
   "outputs": [],
   "source": [
    "@njit(parallel=True)\n",
    "def is_prime_numba_parallel(n):\n",
    "    \"\"\"Returns True if a given integer n is prime and false otherwise\"\"\"\n",
    "\n",
    "    for num in prange(2, math.ceil(n / 2) + 1):\n",
    "        if not n % num:\n",
    "            return False\n",
    "    return True"
   ]
  },
  {
   "cell_type": "code",
   "execution_count": 4,
   "metadata": {},
   "outputs": [],
   "source": [
    "@njit(parallel=True)\n",
    "def primes_between_numba_parallel(n1, n2):\n",
    "    \"\"\"Returns prime numbers between n1 and n2 (exclusive on both ends) as a numpy array\"\"\"\n",
    "    # Initialize output and loop through all numbers between n1 and n2\n",
    "    primes = []\n",
    "    for num in prange(n1 + 1, n2):\n",
    "        if is_prime_numba_parallel(num):\n",
    "            primes.append(num)\n",
    "    \n",
    "    # Return result\n",
    "    return np.array(primes)"
   ]
  },
  {
   "cell_type": "code",
   "execution_count": 5,
   "metadata": {},
   "outputs": [
    {
     "name": "stderr",
     "output_type": "stream",
     "text": [
      "<ipython-input-4-ed4a68b43478>:7: NumbaPerformanceWarning: \n",
      "The keyword argument 'parallel=True' was specified but no transformation for parallel execution was possible.\n",
      "\n",
      "To find out why, try turning on parallel diagnostics, see http://numba.pydata.org/numba-doc/latest/user/parallel.html#diagnostics for help.\n",
      "\n",
      "File \"<ipython-input-3-ecdb3509b324>\", line 2:\n",
      "@njit(parallel=True)\n",
      "def is_prime_numba_parallel(n):\n",
      "^\n",
      "\n",
      "  if is_prime_numba_parallel(num):\n"
     ]
    },
    {
     "data": {
      "text/plain": [
       "array([2])"
      ]
     },
     "execution_count": 5,
     "metadata": {},
     "output_type": "execute_result"
    }
   ],
   "source": [
    "primes_between_numba_parallel(1, 3)"
   ]
  },
  {
   "cell_type": "code",
   "execution_count": 6,
   "metadata": {},
   "outputs": [
    {
     "name": "stdout",
     "output_type": "stream",
     "text": [
      " \n",
      "================================================================================\n",
      " Parallel Accelerator Optimizing:  Function primes_between_numba_parallel, \n",
      "<ipython-input-4-ed4a68b43478> (1)  \n",
      "================================================================================\n",
      "\n",
      "\n",
      "Parallel loop listing for  Function primes_between_numba_parallel, <ipython-input-4-ed4a68b43478> (1) \n",
      "-----------------------------------------------------------------------------------------------|loop #ID\n",
      "@njit(parallel=True)                                                                           | \n",
      "def primes_between_numba_parallel(n1, n2):                                                     | \n",
      "    \"\"\"Returns prime numbers between n1 and n2 (exclusive on both ends) as a numpy array\"\"\"    | \n",
      "    # Initialize output and loop through all numbers between n1 and n2                         | \n",
      "    primes = []                                                                                | \n",
      "    for num in prange(n1 + 1, n2):-------------------------------------------------------------| #0\n",
      "        if is_prime_numba_parallel(num):                                                       | \n",
      "            primes.append(num)                                                                 | \n",
      "                                                                                               | \n",
      "    # Return result                                                                            | \n",
      "    return np.array(primes)                                                                    | \n",
      "--------------------------------- Fusing loops ---------------------------------\n",
      "Attempting fusion of parallel loops (combines loops with similar properties)...\n",
      "----------------------------- Before Optimisation ------------------------------\n",
      "--------------------------------------------------------------------------------\n",
      "------------------------------ After Optimisation ------------------------------\n",
      "Parallel structure is already optimal.\n",
      "--------------------------------------------------------------------------------\n",
      "--------------------------------------------------------------------------------\n",
      " \n",
      "---------------------------Loop invariant code motion---------------------------\n",
      "Allocation hoisting:\n",
      "No allocation hoisting found\n",
      "\n",
      "Instruction hoisting:\n",
      "loop #0:\n",
      "  Has the following hoisted:\n",
      "    $24.2 = global(is_prime_numba_parallel: CPUDispatcher(<function is_prime_numba_parallel at 0x7fae5ffd87b8>))\n",
      "    $34.2 = getattr(value=_primes_6, attr=append)\n",
      "  Failed to hoist the following:\n",
      "    dependency: $24.4 = call $24.2($parfor__index_4.50, func=$24.2, args=[Var($parfor__index_4.50, <string>:2)], kws=(), vararg=None)\n",
      "    dependency: $34.4 = call $34.2($parfor__index_4.50, func=$34.2, args=[Var($parfor__index_4.50, <string>:2)], kws=(), vararg=None)\n",
      "--------------------------------------------------------------------------------\n"
     ]
    }
   ],
   "source": [
    "primes_between_numba_parallel.parallel_diagnostics(level=4)"
   ]
  },
  {
   "cell_type": "markdown",
   "metadata": {},
   "source": [
    "- (10 points) Accelerate using `cython` (serial version) \n",
    "\n"
   ]
  },
  {
   "cell_type": "code",
   "execution_count": null,
   "metadata": {},
   "outputs": [],
   "source": [
    "\n",
    "\n",
    "\n"
   ]
  },
  {
   "cell_type": "markdown",
   "metadata": {},
   "source": [
    "- (15 points) Accelerate using `cython` (parallel version)\n",
    "\n"
   ]
  },
  {
   "cell_type": "code",
   "execution_count": null,
   "metadata": {},
   "outputs": [],
   "source": [
    "\n",
    "\n",
    "\n"
   ]
  },
  {
   "cell_type": "markdown",
   "metadata": {},
   "source": [
    "- (10 points) Report the speed-up multiplier as an integer of the `numba` and `cython` serial and parallel versions using `timeit` in a DataFrame for the numbers between 0 and 1,000,000\n",
    "\n"
   ]
  },
  {
   "cell_type": "code",
   "execution_count": null,
   "metadata": {},
   "outputs": [],
   "source": [
    "\n",
    "\n",
    "\n"
   ]
  },
  {
   "cell_type": "markdown",
   "metadata": {},
   "source": [
    "- (10 points) `multiprocessing`\n",
    "\n"
   ]
  },
  {
   "cell_type": "code",
   "execution_count": null,
   "metadata": {},
   "outputs": [],
   "source": [
    "\n",
    "\n",
    "\n"
   ]
  },
  {
   "cell_type": "markdown",
   "metadata": {},
   "source": [
    "- (10 points) `joblib`\n",
    "\n"
   ]
  },
  {
   "cell_type": "code",
   "execution_count": null,
   "metadata": {},
   "outputs": [],
   "source": [
    "\n",
    "\n",
    "\n"
   ]
  },
  {
   "cell_type": "markdown",
   "metadata": {},
   "source": [
    "- (10 points) `ipyparallel`"
   ]
  },
  {
   "cell_type": "code",
   "execution_count": null,
   "metadata": {},
   "outputs": [],
   "source": [
    "\n",
    "\n",
    "\n"
   ]
  }
 ],
 "metadata": {
  "kernelspec": {
   "display_name": "Python 3",
   "language": "python",
   "name": "python3"
  },
  "language_info": {
   "codemirror_mode": {
    "name": "ipython",
    "version": 3
   },
   "file_extension": ".py",
   "mimetype": "text/x-python",
   "name": "python",
   "nbconvert_exporter": "python",
   "pygments_lexer": "ipython3",
   "version": "3.6.10"
  }
 },
 "nbformat": 4,
 "nbformat_minor": 4
}
