{
 "cells": [
  {
   "cell_type": "code",
   "execution_count": 1,
   "metadata": {},
   "outputs": [],
   "source": [
    "import numpy as np\n",
    "import scipy.linalg as la\n",
    "import matplotlib.pyplot as plt"
   ]
  },
  {
   "cell_type": "markdown",
   "metadata": {},
   "source": [
    "**1**.(20 points)\n",
    "\n",
    "Consider the following system of equations:\n",
    "\n",
    "$$\\begin{align*}\n",
    "2x_1& - x_2&    +x_3    &=& 6\\\\\n",
    "-x_1& +2x_2& -  x_3 &=& 2\\\\\n",
    " x_1   &  -x_2& + x_3 &=& 1\n",
    "\\end{align*}$$\n",
    "\n",
    "1. Consider the system in matrix form $Ax=b$ and define $A$, $b$ in numpy. (5 points)\n",
    "2. Show that $A$ is positive-definite (5 points)\n",
    "3. Use the appropriate matrix decomposition function in numpy and back-substitution to solve the system (10 points)"
   ]
  },
  {
   "cell_type": "code",
   "execution_count": 27,
   "metadata": {},
   "outputs": [
    {
     "name": "stdout",
     "output_type": "stream",
     "text": [
      "[[ 2 -1  1]\n",
      " [-1  2 -1]\n",
      " [ 1 -1  1]]\n",
      "[[6]\n",
      " [2]\n",
      " [1]]\n"
     ]
    }
   ],
   "source": [
    "# Define A and b\n",
    "A = np.array([2, -1, 1, -1, 2, -1, 1, -1, 1]).reshape(3, 3)\n",
    "b = np.array([6, 2, 1]).reshape(-1, 1)\n",
    "\n",
    "# Print A and b\n",
    "print(A)\n",
    "print(b)"
   ]
  },
  {
   "cell_type": "markdown",
   "metadata": {},
   "source": [
    "*We verify that A is positive definite by (1) visually confirming that it is a symmetric matrix and (2) showing that all three eigenvalues of A are positive.*"
   ]
  },
  {
   "cell_type": "code",
   "execution_count": 28,
   "metadata": {},
   "outputs": [
    {
     "data": {
      "text/plain": [
       "array([3.73205081, 1.        , 0.26794919])"
      ]
     },
     "execution_count": 28,
     "metadata": {},
     "output_type": "execute_result"
    }
   ],
   "source": [
    "np.linalg.eigvals(A)"
   ]
  },
  {
   "cell_type": "markdown",
   "metadata": {},
   "source": [
    "*Since A is positive definite, we can use the Cholesky decomposition to solve the system of equations.*\n",
    "\n",
    "*After obtaining the Cholesky decomposition, A = CC', we can solve the following two equations in order using backwards substitution:*\n",
    "\n",
    "- Cy = b\n",
    "- C'x = y\n",
    "\n",
    "*We show these 3 steps in order below*"
   ]
  },
  {
   "cell_type": "code",
   "execution_count": 29,
   "metadata": {},
   "outputs": [
    {
     "data": {
      "text/plain": [
       "array([[ 1.41421356,  0.        ,  0.        ],\n",
       "       [-0.70710678,  1.22474487,  0.        ],\n",
       "       [ 0.70710678, -0.40824829,  0.57735027]])"
      ]
     },
     "execution_count": 29,
     "metadata": {},
     "output_type": "execute_result"
    }
   ],
   "source": [
    "# Find C\n",
    "C = np.linalg.cholesky(A)\n",
    "C"
   ]
  },
  {
   "cell_type": "code",
   "execution_count": 5,
   "metadata": {},
   "outputs": [
    {
     "data": {
      "text/plain": [
       "array([[ 4.24264069],\n",
       "       [ 4.0824829 ],\n",
       "       [-0.57735027]])"
      ]
     },
     "execution_count": 5,
     "metadata": {},
     "output_type": "execute_result"
    }
   ],
   "source": [
    "# Solve Cy = b\n",
    "y = la.solve_triangular(C, b, lower=True)\n",
    "y"
   ]
  },
  {
   "cell_type": "code",
   "execution_count": 6,
   "metadata": {},
   "outputs": [
    {
     "data": {
      "text/plain": [
       "array([[ 5.],\n",
       "       [ 3.],\n",
       "       [-1.]])"
      ]
     },
     "execution_count": 6,
     "metadata": {},
     "output_type": "execute_result"
    }
   ],
   "source": [
    "# Solve C'x = y, which returns the result of the original system\n",
    "la.solve_triangular(C.T, y)"
   ]
  },
  {
   "cell_type": "markdown",
   "metadata": {},
   "source": [
    "*We can check our answer by simply solving the original system without the matrix decomposition*"
   ]
  },
  {
   "cell_type": "code",
   "execution_count": 14,
   "metadata": {},
   "outputs": [
    {
     "data": {
      "text/plain": [
       "array([[ 5.],\n",
       "       [ 3.],\n",
       "       [-1.]])"
      ]
     },
     "execution_count": 14,
     "metadata": {},
     "output_type": "execute_result"
    }
   ],
   "source": [
    "np.linalg.solve(A, b)"
   ]
  },
  {
   "cell_type": "markdown",
   "metadata": {},
   "source": [
    "*In the event that the backsubstitution is meant to be manual (i.e., not using a solve function), we can do so as follows*"
   ]
  },
  {
   "cell_type": "code",
   "execution_count": 35,
   "metadata": {},
   "outputs": [
    {
     "name": "stdout",
     "output_type": "stream",
     "text": [
      "[[ 1.41421356  0.          0.        ]\n",
      " [-0.70710678  1.22474487  0.        ]\n",
      " [ 0.70710678 -0.40824829  0.57735027]]\n"
     ]
    },
    {
     "data": {
      "text/plain": [
       "array([[ 4.24264069],\n",
       "       [ 4.0824829 ],\n",
       "       [-0.57735027]])"
      ]
     },
     "execution_count": 35,
     "metadata": {},
     "output_type": "execute_result"
    }
   ],
   "source": [
    "# print C for reference\n",
    "print(C)\n",
    "\n",
    "# Initialize and solve for y (from Cy = b)\n",
    "y = np.zeros(A.shape[0]).reshape(-1, 1)\n",
    "y[0] = b[0] / C[0, 0]\n",
    "y[1] = (b[1] - C[1, 0] * y[0]) / C[1, 1]\n",
    "y[2] = (b[2] - C[2, 0] * y[0] - C[2, 1] * y[1]) / C[2, 2]\n",
    "y"
   ]
  },
  {
   "cell_type": "code",
   "execution_count": 33,
   "metadata": {},
   "outputs": [
    {
     "name": "stdout",
     "output_type": "stream",
     "text": [
      "[[ 1.41421356 -0.70710678  0.70710678]\n",
      " [ 0.          1.22474487 -0.40824829]\n",
      " [ 0.          0.          0.57735027]]\n"
     ]
    },
    {
     "data": {
      "text/plain": [
       "array([[ 5.],\n",
       "       [ 3.],\n",
       "       [-1.]])"
      ]
     },
     "execution_count": 33,
     "metadata": {},
     "output_type": "execute_result"
    }
   ],
   "source": [
    "# Print C' for reference\n",
    "print(C.T)\n",
    "\n",
    "# Initialize and solve for x (from C'x = y)\n",
    "x = np.zeros(A.shape[0]).reshape(-1, 1)\n",
    "x[2] = y[2] / C.T[2, 2]\n",
    "x[1] = (y[1] - C.T[1, 2] * x[2]) / C.T[1, 1]\n",
    "x[0] = (y[0] - C.T[0, 2] * x[2] - C.T[0, 1] * x[1]) / C[0, 0]\n",
    "x"
   ]
  },
  {
   "cell_type": "markdown",
   "metadata": {},
   "source": [
    "**2**. (20 points)\n",
    "\n",
    "Exact geometric solutions with $n = m$\n",
    "\n",
    "- Find the equation of the line that passes through the points (2,1) and (3,7)\n",
    "- Find the equation of the circle that passes through the points (1,7), (6,2) and (4,6)\n",
    "\n",
    "Hint: The equation of a circle can be written as\n",
    "\n",
    "$$\n",
    "(x - a)^2 + (y - b)^2 = r^2\n",
    "$$"
   ]
  },
  {
   "cell_type": "markdown",
   "metadata": {},
   "source": [
    "*We can start with finding a line that passes through the points (2, 1) and (3, 7). To do so, we solve the equation y = X$\\beta$. The y values are given directly in the points, as is the 2nd column of the X matrix. We just have to remember to add a column of ones to the beginning of the X matrix to determine the intercept*"
   ]
  },
  {
   "cell_type": "code",
   "execution_count": 30,
   "metadata": {},
   "outputs": [
    {
     "name": "stdout",
     "output_type": "stream",
     "text": [
      "y = -11.0 + 6.0x\n"
     ]
    }
   ],
   "source": [
    "# Define and solve system\n",
    "y = np.array([1, 7]).reshape(-1, 1)\n",
    "X = np.array([1, 2, 1, 3]).reshape(-1, 2)\n",
    "β = np.linalg.solve(X, y)\n",
    "\n",
    "# Print out equation of line\n",
    "print('y = ' + str(β[0][0]) + ' + ' + str(β[1][0]) + 'x')"
   ]
  },
  {
   "cell_type": "markdown",
   "metadata": {},
   "source": [
    "*To fit a circle that goes through the points (1, 7), (6, 2), and (4, 6), we can also recognize that the equation of a circle can be written as $Ax + By + C = x^2 + y^2$*\n",
    "\n",
    "*Once we solve for A, B, and C, we'll be able to determine the equation of the circle*"
   ]
  },
  {
   "cell_type": "code",
   "execution_count": 31,
   "metadata": {},
   "outputs": [
    {
     "name": "stdout",
     "output_type": "stream",
     "text": [
      "(x - 1.0)^2 + (y - 2.0)^2 = 25.0\n"
     ]
    }
   ],
   "source": [
    "# Define and solve system\n",
    "y = np.array([1**2 + 7**2, 6**2 + 2**2, 4**2 + 6**2]).reshape(-1, 1)\n",
    "A = np.array([1, 7, 1, 6, 2, 1, 4, 6, 1]).reshape(3, -1)\n",
    "x = np.linalg.solve(A, y)\n",
    "\n",
    "# Extract a, b, and r-squared from result\n",
    "a = np.round(x[0][0] / 2, decimals = 3)\n",
    "b = np.round(x[1][0] / 2, decimals = 3)\n",
    "r2 = np.round(x[2][0] + a**2 + b**2, decimals = 3)\n",
    "\n",
    "# Print equation of circle\n",
    "print('(x - ' + str(a) + ')^2 + (y - ' + str(b) + \")^2 = \" + str(r2))"
   ]
  },
  {
   "cell_type": "markdown",
   "metadata": {},
   "source": [
    "**3**. 20 points\n",
    "\n",
    "- Load the matrix in `Q2.npy` - this consists of two columns representing the x and y coordinates of 10 points\n",
    "- Find the equation of the circle that best fits these points\n",
    "- Plot the points and fitted circle\n",
    "\n",
    "Hint: You need to estimate the center of the circle and its radius."
   ]
  },
  {
   "cell_type": "markdown",
   "metadata": {},
   "source": [
    "*Similarly to the last problem, we'll solve $Ax + By + C = x^2 + y^2$. However, this time, there will not be an exact solution because m > n. As a result, we'll need to use the least squares solution*"
   ]
  },
  {
   "cell_type": "code",
   "execution_count": 43,
   "metadata": {},
   "outputs": [
    {
     "name": "stdout",
     "output_type": "stream",
     "text": [
      "(x - 0.024)^2 + (y + 0.035)^2 = 4.031\n"
     ]
    }
   ],
   "source": [
    "# Load data\n",
    "data = np.load('Q2.npy')\n",
    "\n",
    "# Define and solve system\n",
    "y = (data ** 2).sum(axis = 1).reshape(-1, 1)\n",
    "A = np.c_[data, np.ones(shape = y.shape[0]).reshape(-1, 1)]\n",
    "x, res, rank, s, = la.lstsq(A, y)\n",
    "\n",
    "# Extract a, b, and r-squared from result\n",
    "a = np.round(x[0][0] / 2, decimals = 3)\n",
    "b = np.round(x[1][0] / 2, decimals = 3)\n",
    "r2 = np.round(x[2][0] + a**2 + b**2, decimals = 3)\n",
    "\n",
    "# Print equation of circle\n",
    "print('(x - ' + str(a) + ')^2 + (y + ' + str(np.abs(b)) + \")^2 = \" + str(r2))"
   ]
  },
  {
   "cell_type": "code",
   "execution_count": 77,
   "metadata": {},
   "outputs": [
    {
     "data": {
      "image/png": "[encoded data removed]",
      "text/plain": [
       "<Figure size 432x288 with 1 Axes>"
      ]
     },
     "metadata": {},
     "output_type": "display_data"
    }
   ],
   "source": [
    "# Plot the points\n",
    "plt.scatter(x = data[:, 0], y = data[:, 1]);\n",
    "\n",
    "# Plot fitted circle\n",
    "x_fit = np.linspace(start = a - np.sqrt(r2), stop = a + np.sqrt(r2), num = 1000)\n",
    "y_fit = np.sqrt(r2 - (x_fit - a) ** 2) + b\n",
    "plt.plot(x_fit, y_fit, 'b');\n",
    "plt.plot(x_fit, -y_fit, 'b');\n",
    "plt.axis('equal');"
   ]
  },
  {
   "cell_type": "markdown",
   "metadata": {},
   "source": [
    "**4**. 20 points\n",
    "\n",
    "The figure below shows the current population of Durham, Chapel Hill and Raleigh. Arrows show fractions that move between cities each year.\n",
    "\n",
    "- What are the population sizes of the 3 cities after 3 years have passed?\n",
    "- Find the steady state population of the 3 cities by solving a linear system.\n",
    "\n",
    "Assume no births, deaths or any other fluxes other than those shown.\n",
    "\n",
    "![img](Q3.png)"
   ]
  },
  {
   "cell_type": "markdown",
   "metadata": {},
   "source": [
    "*From the diagram above, we can write the following system of equations in matrix form:*\n",
    "\n",
    "$\\begin{pmatrix} CH \\\\ D \\\\ R \\end{pmatrix}_{n+1} = \\begin{pmatrix} 0.5 & 0.05 & 0.2 \\\\ 0.2 & 0.9 & 0 \\\\ 0.3 & 0.05 & 0.8 \\end{pmatrix} \\begin{pmatrix} CH \\\\ D \\\\ R \\end{pmatrix}_n$ \n",
    "\n",
    "*We also note that* $\\begin{pmatrix} CH \\\\ D \\\\ R \\end{pmatrix}_0 = \\begin{pmatrix} 80,000 \\\\ 300,000 \\\\ 500,000 \\end{pmatrix}$\n",
    "\n",
    "*We can solve this problem by performing a change of basis, using an eigenvector basis:* $A = V\\Lambda V^{-1}$ where V is a matrix of eigenvectors and $\\Lambda$ is a diagonal matrix of eigenvalues. This approach will allow us to both easily calculate the population sizes after 3 years and find the steady state population"
   ]
  },
  {
   "cell_type": "code",
   "execution_count": 2,
   "metadata": {},
   "outputs": [
    {
     "data": {
      "text/plain": [
       "array([[0.5 , 0.05, 0.2 ],\n",
       "       [0.2 , 0.9 , 0.  ],\n",
       "       [0.3 , 0.05, 0.8 ]])"
      ]
     },
     "execution_count": 2,
     "metadata": {},
     "output_type": "execute_result"
    }
   ],
   "source": [
    "# Perform spectral decomposition\n",
    "A = np.array([0.5, 0.05, 0.2, 0.2, 0.9, 0, 0.3, 0.05, 0.8]).reshape(3, 3)\n",
    "x0 = np.array([80000, 300000, 500000]).reshape(-1, 1)\n",
    "e, V = la.eig(A)\n",
    "Λ = np.diag(e)\n",
    "\n",
    "# Confirm that decomposition worked properly... should return A\n",
    "np.round((V @ Λ @ np.linalg.inv(V)).real, decimals = 2)"
   ]
  },
  {
   "cell_type": "markdown",
   "metadata": {},
   "source": [
    "*We can calculate the population sizes of the 3 cities after 3 years have passed by using the following equation:*\n",
    "\n",
    "$\\begin{pmatrix} CH \\\\ D \\\\ R \\end{pmatrix}_3 = V \\Lambda ^3 V \\begin{pmatrix} CH \\\\ D \\\\ R \\end{pmatrix}_0$"
   ]
  },
  {
   "cell_type": "code",
   "execution_count": 99,
   "metadata": {},
   "outputs": [
    {
     "data": {
      "text/plain": [
       "array([[186620.],\n",
       "       [295480.],\n",
       "       [397900.]])"
      ]
     },
     "execution_count": 99,
     "metadata": {},
     "output_type": "execute_result"
    }
   ],
   "source": [
    "(V @ np.power(Λ, 3) @ np.linalg.inv(V) @ x0).real"
   ]
  },
  {
   "cell_type": "markdown",
   "metadata": {},
   "source": [
    "*We can find the steady state population by inspecting the eigenvalues and eigenvectors. We see that two of the eigenvalues are less than 1 and one eigenvalue is equal to 1. As n approaches infinity, the eigenvector corresponding to the eigenvalue of 1 will fully define the ratio of populations between the 3 cities.*"
   ]
  },
  {
   "cell_type": "code",
   "execution_count": 101,
   "metadata": {},
   "outputs": [
    {
     "data": {
      "text/plain": [
       "(array([[0.35505103, 0.        , 0.        ],\n",
       "        [0.        , 1.        , 0.        ],\n",
       "        [0.        , 0.        , 0.84494897]]),\n",
       " array([[ 0.80703591, -0.33333333,  0.21753892],\n",
       "        [-0.2961877 , -0.66666667, -0.79031741],\n",
       "        [-0.51084821, -0.66666667,  0.57277849]]))"
      ]
     },
     "execution_count": 101,
     "metadata": {},
     "output_type": "execute_result"
    }
   ],
   "source": [
    "# Print eigenvalues and eigenvectors\n",
    "Λ.real, V"
   ]
  },
  {
   "cell_type": "code",
   "execution_count": 108,
   "metadata": {},
   "outputs": [
    {
     "data": {
      "text/plain": [
       "array([[176000.],\n",
       "       [352000.],\n",
       "       [352000.]])"
      ]
     },
     "execution_count": 108,
     "metadata": {},
     "output_type": "execute_result"
    }
   ],
   "source": [
    "# Calculate steady state populations\n",
    "x0.sum() * (V[:, 1] / V[:, 1].sum()).reshape(-1, 1)"
   ]
  },
  {
   "cell_type": "markdown",
   "metadata": {},
   "source": [
    "*To increase our confidence that the above logic and calculations are correct, we can also calculate the city populations for a large value of n (say 1,000) and see how close the answers are. Below, we see that the answers are virtually identical.*"
   ]
  },
  {
   "cell_type": "code",
   "execution_count": 111,
   "metadata": {},
   "outputs": [
    {
     "data": {
      "text/plain": [
       "array([[176000.],\n",
       "       [352000.],\n",
       "       [352000.]])"
      ]
     },
     "execution_count": 111,
     "metadata": {},
     "output_type": "execute_result"
    }
   ],
   "source": [
    "np.round((V @ np.power(Λ, 1000) @ np.linalg.inv(V) @ x0).real, decimals = 1)"
   ]
  },
  {
   "cell_type": "markdown",
   "metadata": {},
   "source": [
    "**5** (20 points)\n",
    "\n",
    "The file `Q5.npy` contains the x and y coordinates in cols 1 and 2 respectively. \n",
    "\n",
    "- Find a cubic polynomial model to fit the data using the normal equations\n",
    "- Provide a geometric interpretation of the solution in terms of projection of a vector onto a space. What is the vector, what is the basis of the space, and what does the numerical solution you obtained represent?"
   ]
  },
  {
   "cell_type": "code",
   "execution_count": 120,
   "metadata": {},
   "outputs": [
    {
     "data": {
      "text/plain": [
       "array([-1.99235962, -1.02188927, -0.54438689,  0.99809019])"
      ]
     },
     "execution_count": 120,
     "metadata": {},
     "output_type": "execute_result"
    }
   ],
   "source": [
    "# Load data, and extract x and y values\n",
    "data = np.load('Q5.npy')\n",
    "x = data[:, 0]\n",
    "y = data[:, 1]\n",
    "\n",
    "# Create matrix, A\n",
    "A = np.c_[np.ones(shape = x.shape[0]), x, x ** 2, x ** 3]\n",
    "\n",
    "# Solve for beta using the normal equations\n",
    "β = np.linalg.inv(A.T @ A) @ A.T @ y\n",
    "β"
   ]
  },
  {
   "cell_type": "code",
   "execution_count": 121,
   "metadata": {},
   "outputs": [
    {
     "data": {
      "text/plain": [
       "array([-1.99235962, -1.02188927, -0.54438689,  0.99809019])"
      ]
     },
     "execution_count": 121,
     "metadata": {},
     "output_type": "execute_result"
    }
   ],
   "source": [
    "# Compare result from normal equations with result from scipy least squares function\n",
    "β2, res, rank, s, = la.lstsq(A, y)\n",
    "β2"
   ]
  },
  {
   "cell_type": "markdown",
   "metadata": {},
   "source": [
    "*We are faced with a problem in which we have 100 (x, y) data points and are interested in fitting y as a cubic polynomial of x. As a result, we need to solve a 100x4 matrix, X, which includes a column of ones to model an intercept and 3 columns corresponding to different powers of x (1, 2, 3). Since m >>n, it is highly unlikely that an exact solution exists.*\n",
    "\n",
    "*Stated geometrically, we have a vector, y, which does not lie in the column space of X. Using the normal equations, we are able to find a projection of y, $\\widehat{y} = X \\widehat{\\beta}$*, which lies in the column space of X. To answer the different components of the question directly:*\n",
    "\n",
    "- Vector: y\n",
    "- Space of interest: The column space of X\n",
    "- Basis of the space: Since X in invertible, the columns of X form a basis of the column space of X\n",
    "- Numerical solution: $\\widehat{\\beta}$ is the set of coefficients for $\\widehat{y} = X \\widehat{\\beta}$ such that the sum of squared residuals is minimized. The resulting vector, $\\widehat{y}$, is a projection of y into the column space of X"
   ]
  }
 ],
 "metadata": {
  "kernelspec": {
   "display_name": "Python 3",
   "language": "python",
   "name": "python3"
  },
  "language_info": {
   "codemirror_mode": {
    "name": "ipython",
    "version": 3
   },
   "file_extension": ".py",
   "mimetype": "text/x-python",
   "name": "python",
   "nbconvert_exporter": "python",
   "pygments_lexer": "ipython3",
   "version": "3.6.10"
  }
 },
 "nbformat": 4,
 "nbformat_minor": 2
}
