{
 "cells": [
  {
   "cell_type": "markdown",
   "metadata": {},
   "source": [
    "**1**.(20 points)\n",
    "\n",
    "Consider the following system of equations:\n",
    "\n",
    "$$\\begin{align*}\n",
    "2x_1& - x_2&    +x_x    &=& 6\\\\\n",
    "-x_1& +2x_2& -  x_3 &=& 2\\\\\n",
    " x_1   &  -x_2& + x_3 &=& 1\n",
    "\\end{align*}$$\n",
    "\n",
    "1. Consider the system in matrix form $Ax=b$ and define $A$, $b$ in numpy. (5 points)\n",
    "2. Show that $A$ is positive-definite (5 points)\n",
    "3. Use the appropriate matrix decomposition function in numpy and back-substitution to solve the system (10 points)"
   ]
  },
  {
   "cell_type": "code",
   "execution_count": null,
   "metadata": {},
   "outputs": [],
   "source": [
    "\n",
    "\n",
    "\n"
   ]
  },
  {
   "cell_type": "markdown",
   "metadata": {},
   "source": [
    "**2**. (20 points)\n",
    "\n",
    "Exact geometric solutions with $n = m$\n",
    "\n",
    "- Find the equation of the line that passes through the points (2,1) and (3,7)\n",
    "- Find the equation of the circle that passes through the points (1,7), (6,2) and (4,6)\n",
    "\n",
    "Hint: The equation of a circle can be written as\n",
    "\n",
    "$$\n",
    "(x - a)^2 + (y - b)^2 = r^2\n",
    "$$"
   ]
  },
  {
   "cell_type": "code",
   "execution_count": null,
   "metadata": {},
   "outputs": [],
   "source": [
    "\n",
    "\n",
    "\n"
   ]
  },
  {
   "cell_type": "markdown",
   "metadata": {},
   "source": [
    "**3**. 20 points\n",
    "\n",
    "- Load the matrix in `Q2.npy` - this consists of two columns representing the x and y coordinates of 10 points\n",
    "- Find the equation of the circle that best fits these points\n",
    "- Plot the points and fitted circle\n",
    "\n",
    "Hint: You need to estimate the center of the circle and its radius."
   ]
  },
  {
   "cell_type": "code",
   "execution_count": 9,
   "metadata": {},
   "outputs": [],
   "source": [
    "\n",
    "\n",
    "\n"
   ]
  },
  {
   "cell_type": "markdown",
   "metadata": {},
   "source": [
    "**4**. 20 points\n",
    "\n",
    "The figure below shows the current population of Durham, Chapel Hill and Raleigh. Arrows show fractions that move between cities each year.\n",
    "\n",
    "- What are the population sizes of the 3 cities after 3 years have passed?\n",
    "- Find the steady state population of the 3 cities by solving a linear system.\n",
    "\n",
    "Assume no births, deaths or any other fluxes other than those shown.\n",
    "\n",
    "![img](Q3.png)"
   ]
  },
  {
   "cell_type": "code",
   "execution_count": 15,
   "metadata": {},
   "outputs": [],
   "source": [
    "\n",
    "\n",
    "\n"
   ]
  },
  {
   "cell_type": "markdown",
   "metadata": {},
   "source": [
    "**5** (20 points)\n",
    "\n",
    "The file `Q5.npy` contains the x and y coordinates in cols 1 and 2 respectively. \n",
    "\n",
    "- Find a cubic polynomial model to fit the data using the normal equations\n",
    "- Provide a geometric interpretation of the solution in terms of projection of a vector onto a space. What is the vector, what is the basis of the space, and what does the numerical solution you obtained represent?"
   ]
  },
  {
   "cell_type": "code",
   "execution_count": 22,
   "metadata": {},
   "outputs": [],
   "source": [
    "\n",
    "\n",
    "\n"
   ]
  }
 ],
 "metadata": {
  "kernelspec": {
   "display_name": "Python 3",
   "language": "python",
   "name": "python3"
  },
  "language_info": {
   "codemirror_mode": {
    "name": "ipython",
    "version": 3
   },
   "file_extension": ".py",
   "mimetype": "text/x-python",
   "name": "python",
   "nbconvert_exporter": "python",
   "pygments_lexer": "ipython3",
   "version": "3.8.5"
  }
 },
 "nbformat": 4,
 "nbformat_minor": 2
}
