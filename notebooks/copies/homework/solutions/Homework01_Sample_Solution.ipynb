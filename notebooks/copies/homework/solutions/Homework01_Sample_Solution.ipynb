{
 "cells": [
  {
   "cell_type": "code",
   "execution_count": 1,
   "metadata": {},
   "outputs": [],
   "source": [
    "import numpy as np\n",
    "import time\n",
    "import string"
   ]
  },
  {
   "cell_type": "markdown",
   "metadata": {},
   "source": [
    "**1**. (25 points)\n",
    "\n",
    "The following iterative sequence is defined for the set of positive integers:\n",
    "\n",
    "- n → n/2 (n is even)\n",
    "- n → 3n + 1 (n is odd)\n",
    "\n",
    "Using the rule above and starting with 13, we generate the following sequence:\n",
    "\n",
    "13 → 40 → 20 → 10 → 5 → 16 → 8 → 4 → 2 → 1\n",
    "\n",
    "It can be seen that this sequence (starting at 13 and finishing at 1) contains 10 terms. Although it has not been proved yet (Collatz Problem), it is thought that all starting numbers finish at 1.\n",
    "\n",
    "Which starting number, under one million, produces the longest chain?\n",
    "\n",
    "NOTE: Once the chain starts the terms are allowed to go above one million."
   ]
  },
  {
   "cell_type": "markdown",
   "metadata": {},
   "source": [
    "**Straightforward Solution**: Loop through 1 - 1,000,000, and keep track of the maximum length of chain and corresponding starting number."
   ]
  },
  {
   "cell_type": "code",
   "execution_count": 2,
   "metadata": {},
   "outputs": [
    {
     "name": "stdout",
     "output_type": "stream",
     "text": [
      "837799\n",
      "CPU times: user 17.8 s, sys: 8 ms, total: 17.8 s\n",
      "Wall time: 17.8 s\n"
     ]
    }
   ],
   "source": [
    "%%time\n",
    "\n",
    "def length(starting_num):\n",
    "    l = 1\n",
    "    while starting_num != 1:\n",
    "        starting_num = starting_num // 2 if starting_num % 2 == 0 else starting_num * 3 + 1\n",
    "        l += 1\n",
    "    return l\n",
    "\n",
    "maximum_len, maximum_start = None, None\n",
    "for num in range(1, 1000001):\n",
    "    cur_len = length(num)\n",
    "    if maximum_len is None or cur_len > maximum_len: # cannot change order: short circuit evaluation of `or`\n",
    "        maximum_len, maximum_start = cur_len, num\n",
    "        \n",
    "print(maximum_start)"
   ]
  },
  {
   "cell_type": "markdown",
   "metadata": {},
   "source": [
    "**Recursion:** The recursion can be formulated as $$\\texttt{chain-len}(i) = 1 + \\left\\{\\begin{aligned}\\texttt{chain-len}(i // 2)\\quad i\\text{ is even};\\\\\\texttt{chain-len}(i * 3 + 1)\\quad i\\text{ is odd}.\n",
    "\\end{aligned}\\right.$$"
   ]
  },
  {
   "cell_type": "code",
   "execution_count": 3,
   "metadata": {},
   "outputs": [
    {
     "name": "stdout",
     "output_type": "stream",
     "text": [
      "837799\n",
      "Total function calls: 132434424\n",
      "CPU times: user 43.6 s, sys: 20 ms, total: 43.6 s\n",
      "Wall time: 43.6 s\n"
     ]
    }
   ],
   "source": [
    "%%time\n",
    "\n",
    "# num_function_calls = 0\n",
    "\n",
    "def length(starting_num):\n",
    "    # global num_function_calls\n",
    "    # num_function_calls += 1\n",
    "    if starting_num == 1:\n",
    "        return 1\n",
    "    elif starting_num % 2 == 0:\n",
    "        return 1 + length(starting_num // 2)\n",
    "    else:\n",
    "        return 1 + length(starting_num * 3 + 1)\n",
    "\n",
    "maximum_len, maximum_start = None, None\n",
    "for num in range(1, 1000001):\n",
    "    cur_len = length(num)\n",
    "    if maximum_len is None or cur_len > maximum_len: # cannot change order: short circuit evaluation of `or`\n",
    "        maximum_len, maximum_start = cur_len, num\n",
    "\n",
    "print(maximum_start)\n",
    "# print(f'Total function calls: {num_function_calls}')"
   ]
  },
  {
   "cell_type": "markdown",
   "metadata": {},
   "source": [
    "Recursion is slower as a result of many function calls. However, recursion often helps in simplifying complex problems."
   ]
  },
  {
   "cell_type": "markdown",
   "metadata": {},
   "source": [
    "**Faster Solution:** We can actually make use of the information we obtained in previous computation."
   ]
  },
  {
   "cell_type": "markdown",
   "metadata": {},
   "source": [
    "Take the following example: Suppose we have calculated `chain-len(10) = 7`: 10 → 5 → 16 → 8 → 4 → 2 → 1. We can speed up the calculation in two ways:\n",
    "\n",
    "1) We should not need to calculate `chain-len(16)`;\n",
    "\n",
    "2) We should not need to calculate `chain-len(13)` to the last step (13 → 40 → 20 → 10 → 5 → 16 → 8 → 4 → 2 → 1)."
   ]
  },
  {
   "cell_type": "code",
   "execution_count": 4,
   "metadata": {},
   "outputs": [
    {
     "name": "stdout",
     "output_type": "stream",
     "text": [
      "837799\n",
      "Total function calls: 3168610\n",
      "CPU times: user 2.24 s, sys: 116 ms, total: 2.35 s\n",
      "Wall time: 2.35 s\n"
     ]
    }
   ],
   "source": [
    "%%time\n",
    "\n",
    "# num_function_calls = 0\n",
    "chain_len_dict = {1: 1}\n",
    "\n",
    "def length(starting_num):\n",
    "    # global num_function_calls\n",
    "    num_function_calls += 1\n",
    "    \n",
    "    # already calculated: just return the value\n",
    "    if starting_num in chain_len_dict.keys():\n",
    "        return chain_len_dict[starting_num]\n",
    "    \n",
    "    new_num = starting_num // 2 if starting_num % 2 == 0 else starting_num * 3 + 1\n",
    "    # if the length of chain from new_num is l, then the length from starting_num is l+1.\n",
    "    result = 1 + length(new_num) \n",
    "    \n",
    "    # cache the result\n",
    "    chain_len_dict[starting_num] = result\n",
    "    return result\n",
    "\n",
    "maximum_len, maximum_start = None, None\n",
    "for num in range(1, 1000001):\n",
    "    cur_len = length(num)\n",
    "    if maximum_len is None or cur_len > maximum_len: # cannot change order: short circuit evaluation of `or`\n",
    "        maximum_len, maximum_start = cur_len, num\n",
    "\n",
    "print(maximum_start)\n",
    "# print(f'Total function calls: {num_function_calls}')"
   ]
  },
  {
   "cell_type": "markdown",
   "metadata": {},
   "source": [
    "**Optional: only for your interest**\n",
    "\n",
    "- List: `a = [..., ..., ..., ..., ..., ...]`. Use `a[i]` to denote the value of `chain-len(i)`.\n",
    "\n",
    "- Dict: `a = {...:..., ...:..., ...:..., ...:...}`. When you visit `i`, put `i:chain-len(i)` into the dictionary.\n",
    "\n",
    "In Python, searching whether an element is in a dictionary (based on hashmap) and fetching the key takes $O(1)$ to $O(n)$ time (depending on how many elements are in the set), while searching whether an element is in a list takes $O(n)$ time. Therefore, we prefer using a dictionary to store the visited elements.\n",
    "\n",
    "However, taking an element out from a list using index only takes $O(1)$ time. Therefore, for the list implementation, we do not simply put visited elements in a list; instead, we create a big list where each element corresponds to an index. This is called as \"exchanging space for time\"."
   ]
  },
  {
   "cell_type": "markdown",
   "metadata": {},
   "source": [
    "**Fact 1**: We will sooner or later have calculated all `chain-len(i)` for `1 <= i <= 1000000`;\n",
    "\n",
    "**Fact 2**: We may encounter some `chain-len(i)` values where `i` is larger than `1000000`, and we do not yet know how much the number can be.\n",
    "\n",
    "Due to fact 2, we cannot pre-assign a list and use `list[i]` to store the value of `chain-len(i)`. (We even don't know how large the list should be. Even if we know an upper bound, this may also be a waste of memory space.)\n",
    "\n",
    "Due to fact 1, if we use a dictionary to store `i` and corresponding `chain-len(i)`, the dictionary will at least have 1000000 elements, which might make searching slower.\n",
    "\n",
    "A compromise is to use a list for `1 <= i <= 1000000` and use a dictionary for other values encountered."
   ]
  },
  {
   "cell_type": "code",
   "execution_count": 5,
   "metadata": {
    "scrolled": true
   },
   "outputs": [
    {
     "name": "stdout",
     "output_type": "stream",
     "text": [
      "837799\n",
      "CPU times: user 1.73 s, sys: 84 ms, total: 1.82 s\n",
      "Wall time: 1.81 s\n"
     ]
    }
   ],
   "source": [
    "%%time\n",
    "\n",
    "chain_len_list = [None] * 1000001\n",
    "chain_len_list[1] = 1 # Why we need this?\n",
    "chain_len_dict = {}\n",
    "\n",
    "def length(starting_num):\n",
    "    # already calculated: just return the value\n",
    "    if starting_num <= 1000000 and chain_len_list[starting_num]: \n",
    "        return chain_len_list[starting_num]\n",
    "    if starting_num > 1000000 and starting_num in chain_len_dict.keys():\n",
    "        return chain_len_dict[starting_num]\n",
    "    \n",
    "    new_num = starting_num // 2 if starting_num % 2 == 0 else starting_num * 3 + 1\n",
    "    # if the length of chain from new_num is l, then the length from starting_num is l+1.\n",
    "    result = 1 + length(new_num) \n",
    "    \n",
    "    # cache the result\n",
    "    if starting_num <= 1000000:\n",
    "        chain_len_list[starting_num] = result\n",
    "    else:\n",
    "        chain_len_dict[starting_num] = result\n",
    "    return result\n",
    "\n",
    "maximum_len, maximum_start = None, None\n",
    "for num in range(1, 1000001):\n",
    "    cur_len = length(num)\n",
    "    if maximum_len is None or cur_len > maximum_len: # cannot change order: short circuit evaluation of `or`\n",
    "        maximum_len, maximum_start = cur_len, num\n",
    "print(maximum_start)"
   ]
  },
  {
   "cell_type": "markdown",
   "metadata": {},
   "source": [
    "**2** (25 points)\n",
    "\n",
    "\n",
    "- Perform the median polish to calculate just the *residuals* for this [example](https://mgimond.github.io/ES218/Week11a.html) in Python. \n",
    "- Use the matrix `xs` provided\n",
    "- Display the final result after 3 iterations to 1 decimal place and check if it agrees with \n",
    "\n",
    "![img](https://mgimond.github.io/ES218/img/twoway_09.jpg)"
   ]
  },
  {
   "cell_type": "code",
   "execution_count": 6,
   "metadata": {},
   "outputs": [],
   "source": [
    "xs = np.array([\n",
    "    (25.3,32.1,38.8,25.4), \n",
    "    (25.3,29,31,21.1),\n",
    "    (18.2,18.8,19.3,20.3),\n",
    "    (18.3,24.3,15.7,24),\n",
    "    (16.3,19,16.8,17.5)\n",
    "]).T"
   ]
  },
  {
   "cell_type": "code",
   "execution_count": 7,
   "metadata": {},
   "outputs": [
    {
     "data": {
      "text/plain": [
       "array([[-1.4,  0.2,  0. , -1. ,  0.7],\n",
       "       [ 1.4, -0.2, -3.4,  1. , -0.7],\n",
       "       [11. ,  4.7, -0. , -4.7,  0. ],\n",
       "       [-3.1, -5.9,  0.3,  2.9,  0. ]])"
      ]
     },
     "execution_count": 7,
     "metadata": {},
     "output_type": "execute_result"
    }
   ],
   "source": [
    "def loop(array, nloop):\n",
    "    nrow, ncol = array.shape\n",
    "    \n",
    "    # Step 1: Compute overall median and residual table\n",
    "    overall_median = np.median(array)\n",
    "    residual_table = array - overall_median # broadcast\n",
    "    row_effect = np.zeros(nrow)\n",
    "    col_effect = np.zeros(ncol)\n",
    "    \n",
    "    for i in range(nloop):\n",
    "        # Step 2: Compute the row medians\n",
    "        row_medians = np.median(residual_table, axis = 1)\n",
    "        med_col_effect = np.median(col_effect)\n",
    "\n",
    "        # Step 3: Create a new residual table from the row medians\n",
    "        row_effect += row_medians\n",
    "        overall_median += med_col_effect\n",
    "        col_effect -= med_col_effect\n",
    "        residual_table -= row_medians[:, None]\n",
    "        \n",
    "        # Step 4: Compute the column medians\n",
    "        col_medians = np.median(residual_table, axis = 0)\n",
    "        med_row_effect = np.median(row_effect)\n",
    "        \n",
    "        # Step 5: Create a new residual table from the column medians\n",
    "        col_effect += col_medians\n",
    "        overall_median += med_row_effect\n",
    "        row_effect -= med_row_effect\n",
    "        residual_table -= col_medians\n",
    "    \n",
    "    return np.round(residual_table, 1)\n",
    "\n",
    "loop(xs, 3)"
   ]
  },
  {
   "cell_type": "code",
   "execution_count": 8,
   "metadata": {},
   "outputs": [
    {
     "data": {
      "text/plain": [
       "array([[-1.4,  0.2,  0. , -1. ,  0.7],\n",
       "       [ 1.4, -0.2, -3.4,  1. , -0.7],\n",
       "       [11. ,  4.7, -0. , -4.7,  0. ],\n",
       "       [-3.1, -5.9,  0.3,  2.9,  0. ]])"
      ]
     },
     "execution_count": 8,
     "metadata": {},
     "output_type": "execute_result"
    }
   ],
   "source": [
    "def loop(array, nloop):\n",
    "    overall_median = np.median(array)\n",
    "    residual_table = array - overall_median\n",
    "    for i in range(3):\n",
    "        row_medians = np.median(residual_table, axis = 1)\n",
    "        residual_table -= row_medians[:, None]\n",
    "        col_medians = np.median(residual_table, axis = 0)\n",
    "        residual_table -= col_medians\n",
    "    return np.round(residual_table, 1)\n",
    "\n",
    "loop(xs, 3)"
   ]
  },
  {
   "cell_type": "markdown",
   "metadata": {},
   "source": [
    "**3**. (50 points)\n",
    "\n",
    "A Caesar cipher is a very simple method of encoding and decoding data. The cipher simply replaces characters with the character offset by $k$ places. For example, if the offset is 3, we replace `a` with `d`, `b` with `e` etc. The cipher wraps around so we replace `y` with `b`, `z` with `c` and so on. Punctuation, spaces and numbers are left unchanged.\n",
    "\n",
    "- Write a function `encode` that takes as arguments a string and an integer offset and returns the encoded cipher.\n",
    "- Write a function `decode` that takes as arguments a cipher and an integer offset and returns the decoded string. \n",
    "- Write a function `auto_decode` that takes as argument a cipher and uses a statistical method to guess the optimal offset to decode the cipher, assuming the original string is in English which has the following letter frequency:\n",
    "\n",
    "```python\n",
    "freq = {\n",
    " 'a': 0.08167,\n",
    " 'b': 0.01492,\n",
    " 'c': 0.02782,\n",
    " 'd': 0.04253,\n",
    " 'e': 0.12702,\n",
    " 'f': 0.02228,\n",
    " 'g': 0.02015,\n",
    " 'h': 0.06094,\n",
    " 'i': 0.06966,\n",
    " 'j': 0.00153,\n",
    " 'k': 0.00772,\n",
    " 'l': 0.04025,\n",
    " 'm': 0.02406,\n",
    " 'n': 0.06749,\n",
    " 'o': 0.07507,\n",
    " 'p': 0.01929,\n",
    " 'q': 0.00095,\n",
    " 'r': 0.05987,\n",
    " 's': 0.06327,\n",
    " 't': 0.09056,\n",
    " 'u': 0.02758,\n",
    " 'v': 0.00978,\n",
    " 'w': 0.0236,\n",
    " 'x': 0.0015,\n",
    " 'y': 0.01974,\n",
    " 'z': 0.00074\n",
    "}\n",
    "```\n",
    "\n",
    "- Encode the following nursery rhyme using a random offset from 10 to 20, then recover the original using `auto_decode`:\n",
    "\n",
    "```text\n",
    "Baa, baa, black sheep,\n",
    "Have you any wool?\n",
    "Yes, sir, yes, sir,\n",
    "Three bags full;\n",
    "One for the master,\n",
    "And one for the dame,\n",
    "And one for the little boy\n",
    "Who lives down the lane.\n",
    "```"
   ]
  },
  {
   "cell_type": "code",
   "execution_count": 9,
   "metadata": {},
   "outputs": [],
   "source": [
    "def encode(s, offset):\n",
    "    offset = offset % 26 # let offset be within 0 and 25 (mod 26)\n",
    "    shift = lambda letters: letters[offset:] + letters[:offset] \n",
    "    # offset is defined outside shift, so it can be used in the lambda expression.\n",
    "    # offset is similar to global variable for shift\n",
    "    all_letters = string.ascii_lowercase + string.ascii_uppercase\n",
    "    shifted_letters = shift(string.ascii_lowercase) + shift(string.ascii_uppercase)\n",
    "    return s.translate(str.maketrans(all_letters, shifted_letters))"
   ]
  },
  {
   "cell_type": "markdown",
   "metadata": {},
   "source": [
    "$-30 = -2 \\times 26 + 22$ (python, R) - round down the quotient\n",
    "\n",
    "$-30 = -1 \\times 26 + (-4)$ (C, C++) - round the quotient towards zero\n",
    "\n",
    "In both cases, you can write `offset = (offset % 26 + 26) % 26` to get non-negative remainders."
   ]
  },
  {
   "cell_type": "code",
   "execution_count": 10,
   "metadata": {},
   "outputs": [],
   "source": [
    "def decode(s, offset):\n",
    "    return encode(s, -offset)"
   ]
  },
  {
   "cell_type": "markdown",
   "metadata": {},
   "source": [
    "How can we determine what offset the rhyme is encoded? We can do this based on the frequencies of each letter.\n",
    "\n",
    "An easy way is to identify the most common letter as `'e'`, since it has the highest frequency of appearance."
   ]
  },
  {
   "cell_type": "markdown",
   "metadata": {},
   "source": [
    "If you suspect that only using one letter might be subject to randomness,\n",
    "- Theoretical frequency: $f = (f_1, f_2, \\cdots, f_{26})$.\n",
    "\n",
    "- Empirical frequency under offset $i$: $f^{(i)} = (f_1^{(i)}, f_2^{(i)},\\cdots, f_{26}^{(i)})$.\n",
    "\n",
    "Find $i$ such that $f^{(i)}$ is the closest to $f$."
   ]
  },
  {
   "cell_type": "markdown",
   "metadata": {},
   "source": [
    "$f$ and $f^{(i)}$ are two points in $\\mathbb{R}^{26}$, or the 25-simplex $\\Delta^{25}$.\n",
    "\n",
    "Metrics:\n",
    "\n",
    "- inner product: $d_i = \\sum f_jf_j^{(i)}$;\n",
    "\n",
    "- $L_2$-norm: $d_i^2 = \\sum (f_j - f_j^{(i)})^2$;\n",
    "\n",
    "Kullback-Leibler divergence: $D_{KL}(f || f^{(i)})$."
   ]
  },
  {
   "cell_type": "code",
   "execution_count": 11,
   "metadata": {},
   "outputs": [],
   "source": [
    "freq = {\n",
    " 'a': 0.08167,\n",
    " 'b': 0.01492,\n",
    " 'c': 0.02782,\n",
    " 'd': 0.04253,\n",
    " 'e': 0.12702,\n",
    " 'f': 0.02228,\n",
    " 'g': 0.02015,\n",
    " 'h': 0.06094,\n",
    " 'i': 0.06966,\n",
    " 'j': 0.00153,\n",
    " 'k': 0.00772,\n",
    " 'l': 0.04025,\n",
    " 'm': 0.02406,\n",
    " 'n': 0.06749,\n",
    " 'o': 0.07507,\n",
    " 'p': 0.01929,\n",
    " 'q': 0.00095,\n",
    " 'r': 0.05987,\n",
    " 's': 0.06327,\n",
    " 't': 0.09056,\n",
    " 'u': 0.02758,\n",
    " 'v': 0.00978,\n",
    " 'w': 0.0236,\n",
    " 'x': 0.0015,\n",
    " 'y': 0.01974,\n",
    " 'z': 0.00074\n",
    "}"
   ]
  },
  {
   "cell_type": "code",
   "execution_count": 12,
   "metadata": {},
   "outputs": [],
   "source": [
    "rhyme = '''\n",
    "    Baa, baa, black sheep,\n",
    "    Have you any wool?\n",
    "    Yes, sir, yes, sir,\n",
    "    Three bags full;\n",
    "    One for the master,\n",
    "    And one for the dame,\n",
    "    And one for the little boy\n",
    "    Who lives down the lane.\n",
    "'''"
   ]
  },
  {
   "cell_type": "code",
   "execution_count": 13,
   "metadata": {},
   "outputs": [],
   "source": [
    "encoded_rhyme = encode(rhyme, np.random.randint(10, 21))"
   ]
  },
  {
   "cell_type": "code",
   "execution_count": 14,
   "metadata": {},
   "outputs": [
    {
     "name": "stdout",
     "output_type": "stream",
     "text": [
      "\n",
      "    Mll, mll, mwlnv dsppa,\n",
      "    Slgp jzf lyj hzzw?\n",
      "    Jpd, dtc, jpd, dtc,\n",
      "    Escpp mlrd qfww;\n",
      "    Zyp qzc esp xldepc,\n",
      "    Lyo zyp qzc esp olxp,\n",
      "    Lyo zyp qzc esp wteewp mzj\n",
      "    Hsz wtgpd ozhy esp wlyp.\n",
      "\n"
     ]
    }
   ],
   "source": [
    "print(encoded_rhyme)"
   ]
  },
  {
   "cell_type": "code",
   "execution_count": 15,
   "metadata": {},
   "outputs": [],
   "source": [
    "from collections import Counter\n",
    "import re\n",
    "l = Counter(re.sub(r'[^a-zA-Z]', '', encoded_rhyme.lower())).most_common(1)[0][0] # find the most common letter\n",
    "offset = ord(l) - ord('e')\n",
    "decoded_rhyme = decode(encoded_rhyme, offset)"
   ]
  },
  {
   "cell_type": "code",
   "execution_count": 16,
   "metadata": {},
   "outputs": [
    {
     "name": "stdout",
     "output_type": "stream",
     "text": [
      "\n",
      "    Baa, baa, black sheep,\n",
      "    Have you any wool?\n",
      "    Yes, sir, yes, sir,\n",
      "    Three bags full;\n",
      "    One for the master,\n",
      "    And one for the dame,\n",
      "    And one for the little boy\n",
      "    Who lives down the lane.\n",
      "\n"
     ]
    }
   ],
   "source": [
    "print(decoded_rhyme)"
   ]
  },
  {
   "cell_type": "code",
   "execution_count": null,
   "metadata": {},
   "outputs": [],
   "source": []
  }
 ],
 "metadata": {
  "kernelspec": {
   "display_name": "Python 3",
   "language": "python",
   "name": "python3"
  },
  "language_info": {
   "codemirror_mode": {
    "name": "ipython",
    "version": 3
   },
   "file_extension": ".py",
   "mimetype": "text/x-python",
   "name": "python",
   "nbconvert_exporter": "python",
   "pygments_lexer": "ipython3",
   "version": "3.6.10"
  }
 },
 "nbformat": 4,
 "nbformat_minor": 4
}
