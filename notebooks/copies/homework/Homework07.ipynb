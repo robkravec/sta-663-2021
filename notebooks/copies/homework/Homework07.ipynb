{
 "cells": [
  {
   "cell_type": "markdown",
   "metadata": {},
   "source": [
    "# Homework 07:  Topic Modeling with Latent Semantic Analysis"
   ]
  },
  {
   "cell_type": "code",
   "execution_count": 1,
   "metadata": {},
   "outputs": [],
   "source": [
    "import numpy as np\n",
    "import string\n",
    "import math\n",
    "from collections import Counter\n",
    "import scipy.linalg as la\n",
    "from scipy import stats\n",
    "from scipy import cluster\n",
    "from scipy import spatial\n",
    "import matplotlib.pyplot as plt\n",
    "import pickle\n",
    "import pandas as pd"
   ]
  },
  {
   "cell_type": "markdown",
   "metadata": {},
   "source": [
    "Latent Semantic Analysis (LSA) is a method for finding latent similarities between documents treated as a bag of words by using a low rank approximation. It is used for document classification, clustering and retrieval. For example, LSA can be used to search for prior art given a new patent application. In this homework, we will implement a small library for simple latent semantic analysis as a practical example of the application of SVD. The ideas are very similar to PCA. SVD is also used in recommender systems in an similar fashion (for an SVD-based recommender system library, see [Surpise](http://surpriselib.com)). \n",
    "\n",
    "We will implement a toy example of LSA to get familiar with the ideas. If you want to use LSA or similar methods for statistical language analysis, the most efficient Python libraries are probably [gensim](https://radimrehurek.com/gensim/) and [spaCy](https://spacy.io) - these also provide an online algorithm - i.e. the training information can be continuously updated. Other useful functions for processing natural language can be found in the [Natural Language Toolkit](http://www.nltk.org/)."
   ]
  },
  {
   "cell_type": "markdown",
   "metadata": {},
   "source": [
    "**Note**: The SVD from scipy.linalg performs a full decomposition, which is inefficient since we only need to decompose until we get the first k singluar values. If the SVD from `scipy.linalg` is too slow, please use the `sparsesvd` function from the [sparsesvd](https://pypi.python.org/pypi/sparsesvd/) package to perform SVD instead.  You can install in the usual way with \n",
    "```\n",
    "!pip install sparsesvd\n",
    "```\n",
    "\n",
    "Then import the following\n",
    "```python\n",
    "from sparsesvd import sparsesvd \n",
    "from scipy.sparse import csc_matrix \n",
    "```\n",
    "\n",
    "and use as follows\n",
    "```python\n",
    "sparsesvd(csc_matrix(M), k=10)\n",
    "```"
   ]
  },
  {
   "cell_type": "markdown",
   "metadata": {},
   "source": [
    "**Exercise 1 (20 points)**.  Calculating pairwise distance matrices.\n",
    "\n",
    "Suppose we want to construct a distance matrix between the rows of a matrix. For example, given the matrix \n",
    "\n",
    "```python\n",
    "M = np.array([[1,2,3],[4,5,6]])\n",
    "```\n",
    "\n",
    "the distance matrix using Euclidean distance as the measure would be\n",
    "```python\n",
    "[[ 0.000  1.414  2.828]\n",
    " [ 1.414  0.000  1.414]\n",
    " [ 2.828  1.414  0.000]] \n",
    "```\n",
    "if $M$ was a collection of column vectors.\n",
    "\n",
    "Write a function to calculate the pairwise-distance matrix given the matrix $M$ and some arbitrary distance function. Your functions should have the following signature:\n",
    "```\n",
    "def func_name(M, distance_func):\n",
    "    pass\n",
    "```\n",
    "\n",
    "0. Write a distance function for the Euclidean, squared Euclidean and cosine measures.\n",
    "1. Write the function using looping for M as a collection of row vectors.\n",
    "2. Write the function using looping for M as a collection of column vectors.\n",
    "3. Write the function using broadcasting for M as a collection of row vectors.\n",
    "4. Write the function using broadcasting for M as a collection of column vectors. \n",
    "\n",
    "For 3 and 4, try to avoid using transposition (but if you get stuck, there will be no penalty for using transposition)."
   ]
  },
  {
   "cell_type": "markdown",
   "metadata": {},
   "source": [
    "We start by defining M exactly as it is in the instructions above (which makes it a collection of row vectors)"
   ]
  },
  {
   "cell_type": "code",
   "execution_count": 2,
   "metadata": {},
   "outputs": [
    {
     "data": {
      "text/plain": [
       "array([[1, 2, 3],\n",
       "       [4, 5, 6]])"
      ]
     },
     "execution_count": 2,
     "metadata": {},
     "output_type": "execute_result"
    }
   ],
   "source": [
    "M = np.array([[1,2,3],[4,5,6]])\n",
    "M"
   ]
  },
  {
   "cell_type": "markdown",
   "metadata": {},
   "source": [
    "Write a distance function for the Euclidean, squared Euclidean, and cosine measures. I also define a dot product function that will be helpful for the parts of this question that require broadcasting"
   ]
  },
  {
   "cell_type": "code",
   "execution_count": 3,
   "metadata": {},
   "outputs": [],
   "source": [
    "def dot_prod(v1, v2):\n",
    "    \"\"\"Calculate dot product between two input vectors\"\"\"\n",
    "    return (v1 * v2).sum(axis = -1)"
   ]
  },
  {
   "cell_type": "code",
   "execution_count": 4,
   "metadata": {},
   "outputs": [],
   "source": [
    "def sq_euclid(v1, v2):\n",
    "    \"\"\"Calculate pairwise squared Euclidean distances between two input vectors\"\"\"\n",
    "    return dot_prod(v1 - v2, v1 - v2)"
   ]
  },
  {
   "cell_type": "code",
   "execution_count": 5,
   "metadata": {},
   "outputs": [],
   "source": [
    "def euclid(v1, v2):\n",
    "    \"\"\"Calculate pairwise Euclidean distances between two input vectors\"\"\"\n",
    "    return np.sqrt(sq_euclid(v1, v2))"
   ]
  },
  {
   "cell_type": "code",
   "execution_count": 6,
   "metadata": {},
   "outputs": [],
   "source": [
    "def cos_dist(v1, v2):\n",
    "    \"\"\"Calculate cosine distance between two input vectors\"\"\"\n",
    "    return 1 - dot_prod(v1, v2) / (np.sqrt(dot_prod(v1, v1)) * np.sqrt(dot_prod(v2, v2)))"
   ]
  },
  {
   "cell_type": "markdown",
   "metadata": {},
   "source": [
    "Write the function using looping for M as a collection of row vectors"
   ]
  },
  {
   "cell_type": "code",
   "execution_count": 7,
   "metadata": {},
   "outputs": [],
   "source": [
    "def part2(M, distance_func):\n",
    "    \"\"\"Compute specified distance metric between rows of M, where M is specified as a collection of row vectors\"\"\"\n",
    "    result = np.zeros(shape = (M.shape[0], M.shape[0]))\n",
    "    for i in range(M.shape[0]):\n",
    "        for j in range(i + 1, M.shape[0]):\n",
    "            result[i, j] = distance_func(M[i, :], M[j, :])\n",
    "    return result + result.T"
   ]
  },
  {
   "cell_type": "code",
   "execution_count": 8,
   "metadata": {},
   "outputs": [
    {
     "name": "stdout",
     "output_type": "stream",
     "text": [
      "Euclidean distance\n",
      "[[0.    5.196]\n",
      " [5.196 0.   ]]\n",
      "Squared euclidean distance\n",
      "[[ 0. 27.]\n",
      " [27.  0.]]\n",
      "Cosine distance\n",
      "[[0.    0.025]\n",
      " [0.025 0.   ]]\n"
     ]
    }
   ],
   "source": [
    "# Euclidean distance\n",
    "print(\"Euclidean distance\")\n",
    "print(np.round(part2(M, euclid), decimals = 3))\n",
    "\n",
    "# Squared euclidean distance\n",
    "print(\"Squared euclidean distance\")\n",
    "print(np.round(part2(M, sq_euclid), decimals = 3))\n",
    "\n",
    "# Cosine distance\n",
    "print(\"Cosine distance\")\n",
    "print(np.round(part2(M, cos_dist), decimals = 3))"
   ]
  },
  {
   "cell_type": "markdown",
   "metadata": {},
   "source": [
    "Write the function using looping for M as a collection of column vectors"
   ]
  },
  {
   "cell_type": "markdown",
   "metadata": {},
   "source": [
    "*A solution using transposition* "
   ]
  },
  {
   "cell_type": "code",
   "execution_count": 9,
   "metadata": {},
   "outputs": [],
   "source": [
    "def part3(M, distance_func):\n",
    "    \"\"\"Compute specified distance metric between rows of M, where M is specified as a collection of column vectors\"\"\"\n",
    "    return part2(M.T, distance_func)"
   ]
  },
  {
   "cell_type": "code",
   "execution_count": 10,
   "metadata": {},
   "outputs": [
    {
     "name": "stdout",
     "output_type": "stream",
     "text": [
      "Euclidean distance\n",
      "[[0.    1.414 2.828]\n",
      " [1.414 0.    1.414]\n",
      " [2.828 1.414 0.   ]]\n",
      "Squared euclidean distance\n",
      "[[0. 2. 8.]\n",
      " [2. 0. 2.]\n",
      " [8. 2. 0.]]\n",
      "Cosine distance\n",
      "[[0.    0.009 0.024]\n",
      " [0.009 0.    0.003]\n",
      " [0.024 0.003 0.   ]]\n"
     ]
    }
   ],
   "source": [
    "# Euclidean distance\n",
    "print(\"Euclidean distance\")\n",
    "print(np.round(part3(M, euclid), decimals = 3))\n",
    "\n",
    "# Squared euclidean distance\n",
    "print(\"Squared euclidean distance\")\n",
    "print(np.round(part3(M, sq_euclid), decimals = 3))\n",
    "\n",
    "# Cosine distance\n",
    "print(\"Cosine distance\")\n",
    "print(np.round(part3(M, cos_dist), decimals = 3))"
   ]
  },
  {
   "cell_type": "markdown",
   "metadata": {},
   "source": [
    "*A solution without transposition*"
   ]
  },
  {
   "cell_type": "code",
   "execution_count": 11,
   "metadata": {},
   "outputs": [],
   "source": [
    "def part3_2(M, distance_func):\n",
    "    \"\"\"Compute specified distance metric between rows of M, where M is specified as a collection of column vectors\"\"\"\n",
    "    result = np.zeros(shape = (M.shape[1], M.shape[1]))\n",
    "    for i in range(M.shape[1]):\n",
    "        for j in range(i + 1, M.shape[1]):\n",
    "            result[i, j] = distance_func(M[:, i], M[:, j])\n",
    "    return result + result.T"
   ]
  },
  {
   "cell_type": "code",
   "execution_count": 12,
   "metadata": {},
   "outputs": [
    {
     "name": "stdout",
     "output_type": "stream",
     "text": [
      "Euclidean distance\n",
      "[[0.    1.414 2.828]\n",
      " [1.414 0.    1.414]\n",
      " [2.828 1.414 0.   ]]\n",
      "Squared euclidean distance\n",
      "[[0. 2. 8.]\n",
      " [2. 0. 2.]\n",
      " [8. 2. 0.]]\n",
      "Cosine distance\n",
      "[[0.    0.009 0.024]\n",
      " [0.009 0.    0.003]\n",
      " [0.024 0.003 0.   ]]\n"
     ]
    }
   ],
   "source": [
    "# Euclidean distance\n",
    "print(\"Euclidean distance\")\n",
    "print(np.round(part3_2(M, euclid), decimals = 3))\n",
    "\n",
    "# Squared euclidean distance\n",
    "print(\"Squared euclidean distance\")\n",
    "print(np.round(part3_2(M, sq_euclid), decimals = 3))\n",
    "\n",
    "# Cosine distance\n",
    "print(\"Cosine distance\")\n",
    "print(np.round(part3_2(M, cos_dist), decimals = 3))"
   ]
  },
  {
   "cell_type": "markdown",
   "metadata": {},
   "source": [
    "Write the function using broadcasting for M as a collection of row vectors"
   ]
  },
  {
   "cell_type": "code",
   "execution_count": 13,
   "metadata": {},
   "outputs": [],
   "source": [
    "def part4(M, distance_func):\n",
    "    \"\"\"Compute specified distance metric between rows of M, where M is specified as a collection of row vectors\"\"\"\n",
    "    return distance_func(M[None, :], M[:, None])"
   ]
  },
  {
   "cell_type": "code",
   "execution_count": 14,
   "metadata": {},
   "outputs": [
    {
     "name": "stdout",
     "output_type": "stream",
     "text": [
      "Euclidean distance\n",
      "[[0.    5.196]\n",
      " [5.196 0.   ]]\n",
      "Squared euclidean distance\n",
      "[[ 0 27]\n",
      " [27  0]]\n",
      "Cosine distance\n",
      "[[0.    0.025]\n",
      " [0.025 0.   ]]\n"
     ]
    }
   ],
   "source": [
    "# Euclidean distance\n",
    "print(\"Euclidean distance\")\n",
    "print(np.round(part4(M, euclid), decimals = 3))\n",
    "\n",
    "# Squared euclidean distance\n",
    "print(\"Squared euclidean distance\")\n",
    "print(np.round(part4(M, sq_euclid), decimals = 3))\n",
    "\n",
    "# Cosine distance\n",
    "print(\"Cosine distance\")\n",
    "print(np.round(part4(M, cos_dist), decimals = 3))"
   ]
  },
  {
   "cell_type": "markdown",
   "metadata": {},
   "source": [
    "Write the function using broadcasting for M as a collection of column vectors"
   ]
  },
  {
   "cell_type": "markdown",
   "metadata": {},
   "source": [
    "*A solution using transposition (I was, unfortunately, unable to figure this problem out without using transposition)* "
   ]
  },
  {
   "cell_type": "code",
   "execution_count": 15,
   "metadata": {},
   "outputs": [],
   "source": [
    "def part5(M, distance_func):\n",
    "    \"\"\"Compute specified distance metric between rows of M, where M is specified as a collection of column vectors\"\"\"\n",
    "    return distance_func(M.T[None, :], M.T[:, None])"
   ]
  },
  {
   "cell_type": "code",
   "execution_count": 16,
   "metadata": {},
   "outputs": [
    {
     "name": "stdout",
     "output_type": "stream",
     "text": [
      "Euclidean distance\n",
      "[[0.    1.414 2.828]\n",
      " [1.414 0.    1.414]\n",
      " [2.828 1.414 0.   ]]\n",
      "Squared euclidean distance\n",
      "[[0 2 8]\n",
      " [2 0 2]\n",
      " [8 2 0]]\n",
      "Cosine distance\n",
      "[[ 0.     0.009  0.024]\n",
      " [ 0.009 -0.     0.003]\n",
      " [ 0.024  0.003  0.   ]]\n"
     ]
    }
   ],
   "source": [
    "# Euclidean distance\n",
    "print(\"Euclidean distance\")\n",
    "print(np.round(part5(M, euclid), decimals = 3))\n",
    "\n",
    "# Squared euclidean distance\n",
    "print(\"Squared euclidean distance\")\n",
    "print(np.round(part5(M, sq_euclid), decimals = 3))\n",
    "\n",
    "# Cosine distance\n",
    "print(\"Cosine distance\")\n",
    "print(np.round(part5(M, cos_dist), decimals = 3))"
   ]
  },
  {
   "cell_type": "code",
   "execution_count": null,
   "metadata": {},
   "outputs": [],
   "source": []
  },
  {
   "cell_type": "markdown",
   "metadata": {},
   "source": [
    "**Exercise 2 (20 points)**. Write 3 functions to calculate the term frequency (tf), the inverse document frequency (idf) and the product (tf-idf). Each function should take a single argument `docs`, which is a dictionary of (key=identifier, value=document text) pairs, and return an appropriately sized array. Convert '-' to ' ' (space), remove punctuation, convert text to lowercase and split on whitespace to generate a collection of terms from the document text.\n",
    "\n",
    "- tf = the number of occurrences of term $i$ in document $j$\n",
    "- idf = $\\log \\frac{n}{1 + \\text{df}_i}$ where $n$ is the total number of documents and $\\text{df}_i$ is the number of documents in which term $i$ occurs.\n",
    "\n",
    "Print the table of tf-idf values for the following document collection\n",
    "\n",
    "```\n",
    "s1 = \"The quick brown fox\"\n",
    "s2 = \"Brown fox jumps over the jumps jumps jumps\"\n",
    "s3 = \"The the the lazy dog elephant.\"\n",
    "s4 = \"The the the the the dog peacock lion tiger elephant\"\n",
    "\n",
    "docs = {'s1': s1, 's2': s2, 's3': s3, 's4': s4}\n",
    "```"
   ]
  },
  {
   "cell_type": "code",
   "execution_count": 17,
   "metadata": {},
   "outputs": [],
   "source": [
    "# Create dictionary for testing\n",
    "s1 = \"The quick brown fox\"\n",
    "s2 = \"Brown fox jumps over the jumps jumps jumps\"\n",
    "s3 = \"The the the lazy dog elephant.\"\n",
    "s4 = \"The the the the the dog peacock lion tiger elephant\"\n",
    "\n",
    "docs = {'s1': s1, 's2': s2, 's3': s3, 's4': s4}"
   ]
  },
  {
   "cell_type": "code",
   "execution_count": 18,
   "metadata": {},
   "outputs": [],
   "source": [
    "def format_text(doc):\n",
    "    \"\"\"Formats text from a single document\"\"\"\n",
    "    doc = doc.translate(str.maketrans('-', ' ')).lower()\n",
    "    return doc.translate(str.maketrans('', '', string.punctuation)).split()"
   ]
  },
  {
   "cell_type": "code",
   "execution_count": 19,
   "metadata": {},
   "outputs": [],
   "source": [
    "def calc_tf(docs):\n",
    "    \"\"\"Calculate term frequency for all documents in the input\"\"\"\n",
    "    \n",
    "    # Find all unique words in docs\n",
    "    words = np.unique(format_text(str(list(docs.values()))))\n",
    "    \n",
    "    # Initialize output array and column counter\n",
    "    result = np.zeros(shape = (len(words), len(list(docs.keys()))))\n",
    "    col = 0\n",
    "    \n",
    "    # For each document, count words, and assign to tf-matrix\n",
    "    for doc in docs:\n",
    "        counted_words = Counter(format_text(docs[doc]))\n",
    "        for word in counted_words.elements():\n",
    "            row = np.where(words == word)\n",
    "            result[row, col] = counted_words[word]\n",
    "        col += 1\n",
    "    \n",
    "    # Return result\n",
    "    return result"
   ]
  },
  {
   "cell_type": "code",
   "execution_count": 20,
   "metadata": {},
   "outputs": [],
   "source": [
    "def calc_idf(docs):\n",
    "    \"\"\"Calculate inverse document frequency\"\"\"\n",
    "    \n",
    "    # Find all unique words in docs\n",
    "    words = np.unique(format_text(str(list(docs.values()))))\n",
    "    \n",
    "    # Initialize output array\n",
    "    df = np.zeros(len(words))\n",
    "    \n",
    "    # Determine number of documents in input\n",
    "    n = len(list(docs.keys()))\n",
    "    \n",
    "    # Calculate df\n",
    "    for doc in docs:\n",
    "        words_unique = np.unique(format_text(docs[doc]))\n",
    "        for word in words_unique:\n",
    "            index = np.where(words == word)\n",
    "            df[index] += 1\n",
    "    \n",
    "    # Return idf\n",
    "    return (np.log(n / (1 + df))).reshape(-1, 1)"
   ]
  },
  {
   "cell_type": "code",
   "execution_count": 21,
   "metadata": {},
   "outputs": [],
   "source": [
    "def calc_tf_idf(docs):\n",
    "    \"\"\"Calculate tf-idf, given input documents\"\"\"\n",
    "    return calc_tf(docs) * calc_idf(docs)"
   ]
  },
  {
   "cell_type": "markdown",
   "metadata": {},
   "source": [
    "*At this point, I display the results of the 3 requested functions on the given dictionary of documents*"
   ]
  },
  {
   "cell_type": "code",
   "execution_count": 22,
   "metadata": {},
   "outputs": [
    {
     "data": {
      "text/plain": [
       "array([[1., 1., 0., 0.],\n",
       "       [0., 0., 1., 1.],\n",
       "       [0., 0., 1., 1.],\n",
       "       [1., 1., 0., 0.],\n",
       "       [0., 4., 0., 0.],\n",
       "       [0., 0., 1., 0.],\n",
       "       [0., 0., 0., 1.],\n",
       "       [0., 1., 0., 0.],\n",
       "       [0., 0., 0., 1.],\n",
       "       [1., 0., 0., 0.],\n",
       "       [1., 1., 3., 5.],\n",
       "       [0., 0., 0., 1.]])"
      ]
     },
     "execution_count": 22,
     "metadata": {},
     "output_type": "execute_result"
    }
   ],
   "source": [
    "calc_tf(docs)"
   ]
  },
  {
   "cell_type": "code",
   "execution_count": 23,
   "metadata": {},
   "outputs": [
    {
     "data": {
      "text/plain": [
       "array([[ 0.28768207],\n",
       "       [ 0.28768207],\n",
       "       [ 0.28768207],\n",
       "       [ 0.28768207],\n",
       "       [ 0.69314718],\n",
       "       [ 0.69314718],\n",
       "       [ 0.69314718],\n",
       "       [ 0.69314718],\n",
       "       [ 0.69314718],\n",
       "       [ 0.69314718],\n",
       "       [-0.22314355],\n",
       "       [ 0.69314718]])"
      ]
     },
     "execution_count": 23,
     "metadata": {},
     "output_type": "execute_result"
    }
   ],
   "source": [
    "calc_idf(docs)"
   ]
  },
  {
   "cell_type": "code",
   "execution_count": 24,
   "metadata": {},
   "outputs": [
    {
     "data": {
      "text/plain": [
       "array([[ 0.28768207,  0.28768207,  0.        ,  0.        ],\n",
       "       [ 0.        ,  0.        ,  0.28768207,  0.28768207],\n",
       "       [ 0.        ,  0.        ,  0.28768207,  0.28768207],\n",
       "       [ 0.28768207,  0.28768207,  0.        ,  0.        ],\n",
       "       [ 0.        ,  2.77258872,  0.        ,  0.        ],\n",
       "       [ 0.        ,  0.        ,  0.69314718,  0.        ],\n",
       "       [ 0.        ,  0.        ,  0.        ,  0.69314718],\n",
       "       [ 0.        ,  0.69314718,  0.        ,  0.        ],\n",
       "       [ 0.        ,  0.        ,  0.        ,  0.69314718],\n",
       "       [ 0.69314718,  0.        ,  0.        ,  0.        ],\n",
       "       [-0.22314355, -0.22314355, -0.66943065, -1.11571776],\n",
       "       [ 0.        ,  0.        ,  0.        ,  0.69314718]])"
      ]
     },
     "execution_count": 24,
     "metadata": {},
     "output_type": "execute_result"
    }
   ],
   "source": [
    "calc_tf_idf(docs)"
   ]
  },
  {
   "cell_type": "markdown",
   "metadata": {},
   "source": [
    "**Exercise 3 (20 points)**. \n",
    "\n",
    "1. Write a function that takes a matrix $M$ and an integer $k$ as arguments, and reconstructs a reduced matrix using only the $k$ largest singular values. Use the `scipy.linagl.svd` function to perform the decomposition. This is the least squares approximation to the matrix $M$ in $k$ dimensions.\n",
    "\n",
    "2. Apply the function you just wrote to the following term-frequency matrix for a set of $9$ documents using $k=2$ and print the reconstructed matrix $M'$.\n",
    "```\n",
    "M = np.array([[1, 0, 0, 1, 0, 0, 0, 0, 0],\n",
    "       [1, 0, 1, 0, 0, 0, 0, 0, 0],\n",
    "       [1, 1, 0, 0, 0, 0, 0, 0, 0],\n",
    "       [0, 1, 1, 0, 1, 0, 0, 0, 0],\n",
    "       [0, 1, 1, 2, 0, 0, 0, 0, 0],\n",
    "       [0, 1, 0, 0, 1, 0, 0, 0, 0],\n",
    "       [0, 1, 0, 0, 1, 0, 0, 0, 0],\n",
    "       [0, 0, 1, 1, 0, 0, 0, 0, 0],\n",
    "       [0, 1, 0, 0, 0, 0, 0, 0, 1],\n",
    "       [0, 0, 0, 0, 0, 1, 1, 1, 0],\n",
    "       [0, 0, 0, 0, 0, 0, 1, 1, 1],\n",
    "       [0, 0, 0, 0, 0, 0, 0, 1, 1]])\n",
    "```\n",
    "\n",
    "3. Calculate the pairwise correlation matrix for the original matrix M and the reconstructed matrix using $k=2$ singular values (you may use [scipy.stats.spearmanr](http://docs.scipy.org/doc/scipy/reference/generated/scipy.stats.spearmanr.html) to do the calculations). Consider the first 5 sets of documents as one group $G1$ and the last 4 as another group $G2$ (i.e. first 5 and last 4 columns). What is the average within group correlation for $G1$, $G2$ and the average cross-group correlation for G1-G2 using either $M$ or $M'$. (Do not include self-correlation in the within-group calculations.)."
   ]
  },
  {
   "cell_type": "markdown",
   "metadata": {},
   "source": [
    "Write a function that takes a matrix, `M`, and an integer, `k`, and reconstructs a reduced matrix using only the `k` largest singular values"
   ]
  },
  {
   "cell_type": "code",
   "execution_count": 25,
   "metadata": {},
   "outputs": [],
   "source": [
    "def reduced_matrix(M, k):\n",
    "    \"\"\"Returns reduced matrix using only k largest singular values of M\"\"\"\n",
    "    U, s, Vt = la.svd(M, full_matrices = False)\n",
    "    return U[:, :k] @ np.diag(s[:k]) @ Vt[:k, :]"
   ]
  },
  {
   "cell_type": "markdown",
   "metadata": {},
   "source": [
    "Apply the function to the provided `M` using k = 2, and print the resulting `M'`"
   ]
  },
  {
   "cell_type": "code",
   "execution_count": 26,
   "metadata": {},
   "outputs": [
    {
     "data": {
      "text/plain": [
       "array([[ 0.162,  0.4  ,  0.379,  0.468,  0.176, -0.053, -0.115, -0.159,\n",
       "        -0.092],\n",
       "       [ 0.141,  0.37 ,  0.329,  0.4  ,  0.165, -0.033, -0.071, -0.097,\n",
       "        -0.043],\n",
       "       [ 0.152,  0.505,  0.358,  0.41 ,  0.236,  0.024,  0.06 ,  0.087,\n",
       "         0.124],\n",
       "       [ 0.258,  0.841,  0.606,  0.697,  0.392,  0.033,  0.083,  0.122,\n",
       "         0.187],\n",
       "       [ 0.449,  1.234,  1.051,  1.266,  0.556, -0.074, -0.155, -0.21 ,\n",
       "        -0.049],\n",
       "       [ 0.16 ,  0.582,  0.375,  0.417,  0.277,  0.056,  0.132,  0.189,\n",
       "         0.217],\n",
       "       [ 0.16 ,  0.582,  0.375,  0.417,  0.277,  0.056,  0.132,  0.189,\n",
       "         0.217],\n",
       "       [ 0.218,  0.55 ,  0.511,  0.628,  0.243, -0.065, -0.143, -0.197,\n",
       "        -0.108],\n",
       "       [ 0.097,  0.532,  0.23 ,  0.212,  0.267,  0.137,  0.315,  0.444,\n",
       "         0.425],\n",
       "       [-0.061,  0.232, -0.139, -0.266,  0.145,  0.24 ,  0.546,  0.767,\n",
       "         0.664],\n",
       "       [-0.065,  0.335, -0.146, -0.301,  0.203,  0.306,  0.695,  0.977,\n",
       "         0.849],\n",
       "       [-0.043,  0.254, -0.097, -0.208,  0.152,  0.221,  0.503,  0.707,\n",
       "         0.616]])"
      ]
     },
     "execution_count": 26,
     "metadata": {},
     "output_type": "execute_result"
    }
   ],
   "source": [
    "# Given matrix, M\n",
    "M = np.array([[1, 0, 0, 1, 0, 0, 0, 0, 0],\n",
    "       [1, 0, 1, 0, 0, 0, 0, 0, 0],\n",
    "       [1, 1, 0, 0, 0, 0, 0, 0, 0],\n",
    "       [0, 1, 1, 0, 1, 0, 0, 0, 0],\n",
    "       [0, 1, 1, 2, 0, 0, 0, 0, 0],\n",
    "       [0, 1, 0, 0, 1, 0, 0, 0, 0],\n",
    "       [0, 1, 0, 0, 1, 0, 0, 0, 0],\n",
    "       [0, 0, 1, 1, 0, 0, 0, 0, 0],\n",
    "       [0, 1, 0, 0, 0, 0, 0, 0, 1],\n",
    "       [0, 0, 0, 0, 0, 1, 1, 1, 0],\n",
    "       [0, 0, 0, 0, 0, 0, 1, 1, 1],\n",
    "       [0, 0, 0, 0, 0, 0, 0, 1, 1]])\n",
    "\n",
    "# Print M'\n",
    "M_prime = reduced_matrix(M, 2)\n",
    "np.round(M_prime, decimals = 3)"
   ]
  },
  {
   "cell_type": "markdown",
   "metadata": {},
   "source": [
    "Next, I calculate a pairwise correlation matrix between the columns of (1) M and (2) M'. For each of the resulting correlation matrices, I then calculate the 3 requested metrics: average within group correlation for G1, average within group correlation for G2, and average cross-group correlation between G1 and G2"
   ]
  },
  {
   "cell_type": "markdown",
   "metadata": {},
   "source": [
    "*Reference for excluding diagonal from average: https://stackoverflow.com/questions/62250799/mean-of-non-diagonal-elements-of-each-row-numpy*"
   ]
  },
  {
   "cell_type": "code",
   "execution_count": 27,
   "metadata": {},
   "outputs": [
    {
     "name": "stdout",
     "output_type": "stream",
     "text": [
      "All values below are for original matrix, M\n",
      "G1 average within group correlation: 0.011\n",
      "G2 average within group correlation: 0.435\n",
      "Average cross-group correlation between G1 and G2: -0.308\n"
     ]
    }
   ],
   "source": [
    "# Calculate pairwise correlation matrix using original matrix, M\n",
    "M_corr = stats.spearmanr(M, axis = 0)[0]\n",
    "print(\"All values below are for original matrix, M\")\n",
    "\n",
    "# Find average within group correlation for G1 (documents 1-5)\n",
    "G1 = M_corr[0:5, 0:5]\n",
    "weights = np.ones(shape = G1.shape)\n",
    "np.fill_diagonal(weights, 0)\n",
    "G1_corr = np.average(G1, weights = weights)\n",
    "print(\"G1 average within group correlation: \" + str(np.round(G1_corr, decimals = 3)))\n",
    "\n",
    "# Find average within group correlation for G2 (documents 6-9)\n",
    "G2 = M_corr[5:9, 5:9]\n",
    "weights = np.ones(shape = G2.shape)\n",
    "np.fill_diagonal(weights, 0)\n",
    "G2_corr = np.average(G2, weights = weights)\n",
    "print(\"G2 average within group correlation: \" + str(np.round(G2_corr, decimals = 3)))\n",
    "\n",
    "# Find average cross-group correlation for G1-G2\n",
    "cross_group = M_corr[0:5, 5:9]\n",
    "cross_group_corr = cross_group.mean()\n",
    "print(\"Average cross-group correlation between G1 and G2: \" + str(np.round(cross_group_corr, decimals = 3)))"
   ]
  },
  {
   "cell_type": "code",
   "execution_count": 28,
   "metadata": {},
   "outputs": [
    {
     "name": "stdout",
     "output_type": "stream",
     "text": [
      "All values below are for M'\n",
      "G1 average within group correlation: 0.865\n",
      "G2 average within group correlation: 0.99\n",
      "Average cross-group correlation between G1 and G2: -0.677\n"
     ]
    }
   ],
   "source": [
    "# Calculate pairwise correlation matrix M'\n",
    "M_prime_corr = stats.spearmanr(M_prime, axis = 0)[0]\n",
    "print(\"All values below are for M'\")\n",
    "\n",
    "# Find average within group correlation for G1 (documents 1-5)\n",
    "G1 = M_prime_corr[0:5, 0:5]\n",
    "weights = np.ones(shape = G1.shape)\n",
    "np.fill_diagonal(weights, 0)\n",
    "G1_corr = np.average(G1, weights = weights)\n",
    "print(\"G1 average within group correlation: \" + str(np.round(G1_corr, decimals = 3)))\n",
    "\n",
    "# Find average within group correlation for G2 (documents 6-9)\n",
    "G2 = M_prime_corr[5:9, 5:9]\n",
    "weights = np.ones(shape = G2.shape)\n",
    "np.fill_diagonal(weights, 0)\n",
    "G2_corr = np.average(G2, weights = weights)\n",
    "print(\"G2 average within group correlation: \" + str(np.round(G2_corr, decimals = 3)))\n",
    "\n",
    "# Find average cross-group correlation for G1-G2\n",
    "cross_group = M_prime_corr[0:5, 5:9]\n",
    "cross_group_corr = cross_group.mean()\n",
    "print(\"Average cross-group correlation between G1 and G2: \" + str(np.round(cross_group_corr, decimals = 3)))"
   ]
  },
  {
   "cell_type": "markdown",
   "metadata": {},
   "source": [
    "In case it's helpful, I'll also print out the pointwise correlation matrices for M and M'"
   ]
  },
  {
   "cell_type": "code",
   "execution_count": 29,
   "metadata": {},
   "outputs": [
    {
     "name": "stdout",
     "output_type": "stream",
     "text": [
      "Correlation matrix for M\n",
      "[[ 1.         -0.19245009  0.          0.07339758 -0.33333333 -0.17407766\n",
      "  -0.25819889 -0.33333333 -0.33333333]\n",
      " [-0.19245009  1.          0.         -0.12712835  0.57735027 -0.30151134\n",
      "  -0.4472136  -0.57735027 -0.19245009]\n",
      " [ 0.          0.          1.          0.43822991  0.         -0.21320072\n",
      "  -0.31622777 -0.40824829 -0.40824829]\n",
      " [ 0.07339758 -0.12712835  0.43822991  1.         -0.33028913 -0.17248787\n",
      "  -0.25584086 -0.33028913 -0.33028913]\n",
      " [-0.33333333  0.57735027  0.         -0.33028913  1.         -0.17407766\n",
      "  -0.25819889 -0.33333333 -0.33333333]\n",
      " [-0.17407766 -0.30151134 -0.21320072 -0.17248787 -0.17407766  1.\n",
      "   0.67419986  0.52223297 -0.17407766]\n",
      " [-0.25819889 -0.4472136  -0.31622777 -0.25584086 -0.25819889  0.67419986\n",
      "   1.          0.77459667  0.25819889]\n",
      " [-0.33333333 -0.57735027 -0.40824829 -0.33028913 -0.33333333  0.52223297\n",
      "   0.77459667  1.          0.55555556]\n",
      " [-0.33333333 -0.19245009 -0.40824829 -0.33028913 -0.33333333 -0.17407766\n",
      "   0.25819889  0.55555556  1.        ]]\n",
      "\n",
      "Correlation for M'\n",
      "[[ 1.          0.84413439  1.          0.99825022  0.71929825 -0.83712913\n",
      "  -0.83712913 -0.83712913 -0.80210281]\n",
      " [ 0.84413439  1.          0.84413439  0.83916084  0.97022916 -0.55244755\n",
      "  -0.55244755 -0.55244755 -0.47552448]\n",
      " [ 1.          0.84413439  1.          0.99825022  0.71929825 -0.83712913\n",
      "  -0.83712913 -0.83712913 -0.80210281]\n",
      " [ 0.99825022  0.83916084  0.99825022  1.          0.71803963 -0.83916084\n",
      "  -0.83916084 -0.83916084 -0.8041958 ]\n",
      " [ 0.71929825  0.97022916  0.71929825  0.71803963  1.         -0.38879219\n",
      "  -0.38879219 -0.38879219 -0.29772375]\n",
      " [-0.83712913 -0.55244755 -0.83712913 -0.83916084 -0.38879219  1.\n",
      "   1.          1.          0.97902098]\n",
      " [-0.83712913 -0.55244755 -0.83712913 -0.83916084 -0.38879219  1.\n",
      "   1.          1.          0.97902098]\n",
      " [-0.83712913 -0.55244755 -0.83712913 -0.83916084 -0.38879219  1.\n",
      "   1.          1.          0.97902098]\n",
      " [-0.80210281 -0.47552448 -0.80210281 -0.8041958  -0.29772375  0.97902098\n",
      "   0.97902098  0.97902098  1.        ]]\n"
     ]
    }
   ],
   "source": [
    "print(\"Correlation matrix for M\")\n",
    "print(M_corr)\n",
    "print(\"\\nCorrelation for M'\")\n",
    "print(M_prime_corr)"
   ]
  },
  {
   "cell_type": "markdown",
   "metadata": {},
   "source": [
    "This large difference in results begs the question of whether M is well approximated by its rank 2 approximation. Below, I show that it is not well approximated in 2 ways: (1) by showing that the first two singular values contain only about 40% of the total information in M and (2) plotting M and M' to visually see the difference"
   ]
  },
  {
   "cell_type": "code",
   "execution_count": 30,
   "metadata": {},
   "outputs": [
    {
     "data": {
      "text/plain": [
       "array([0.23101137, 0.40676182, 0.56952945, 0.68324357, 0.78729783,\n",
       "       0.87762994, 0.93612142, 0.97485292, 1.        ])"
      ]
     },
     "execution_count": 30,
     "metadata": {},
     "output_type": "execute_result"
    }
   ],
   "source": [
    "# Perform SVD, and look at cumulative sum of singular values\n",
    "U, s, Vt = la.svd(M, full_matrices = False)\n",
    "s.cumsum() / s.sum()"
   ]
  },
  {
   "cell_type": "code",
   "execution_count": 31,
   "metadata": {},
   "outputs": [
    {
     "data": {
      "image/png": "[encoded data removed]",
      "text/plain": [
       "<Figure size 432x288 with 1 Axes>"
      ]
     },
     "metadata": {},
     "output_type": "display_data"
    }
   ],
   "source": [
    "plt.imshow(M);"
   ]
  },
  {
   "cell_type": "code",
   "execution_count": 32,
   "metadata": {},
   "outputs": [
    {
     "data": {
      "image/png": "[encoded data removed]",
      "text/plain": [
       "<Figure size 432x288 with 1 Axes>"
      ]
     },
     "metadata": {},
     "output_type": "display_data"
    }
   ],
   "source": [
    "plt.imshow(M_prime);"
   ]
  },
  {
   "cell_type": "markdown",
   "metadata": {},
   "source": [
    "**Exercise 4 (40 points)**. Clustering with LSA\n",
    "\n",
    "1. Begin by loading a PubMed database of selected article titles using 'pickle'. With the following:\n",
    "```import pickle\n",
    "docs = pickle.load(open('pubmed.pic', 'rb'))```\n",
    "\n",
    "    Create a tf-idf matrix for every term that appears at least once in any of the documents. What is the shape of the tf-idf matrix? \n",
    "\n",
    "2. Perform SVD on the tf-idf matrix to obtain $U \\Sigma V^T$ (often written as $T \\Sigma D^T$ in this context with $T$ representing the terms and $D$ representing the documents). If we set all but the top $k$ singular values to 0, the reconstructed matrix is essentially $U_k \\Sigma_k V_k^T$, where $U_k$ is $m \\times k$, $\\Sigma_k$ is $k \\times k$ and $V_k^T$ is $k \\times n$. Terms in this reduced space are represented by $U_k \\Sigma_k$ and documents by $\\Sigma_k V^T_k$. Reconstruct the matrix using the first $k=10$ singular values.\n",
    "\n",
    "3. Use agglomerative hierarchical clustering with complete linkage to plot a dendrogram and comment on the likely number of  document clusters with $k = 100$. Use the dendrogram function from [SciPy ](https://docs.scipy.org/doc/scipy-0.15.1/reference/generated/scipy.cluster.hierarchy.dendrogram.html).\n",
    "\n",
    "4. Determine how similar each of the original documents is to the new document `data/mystery.txt`. Since $A = U \\Sigma V^T$, we also have $V = A^T U \\Sigma^{-1}$ using orthogonality and the rule for transposing matrix products. This suggests that in order to map the new document to the same concept space, first find the tf-idf vector $v$ for the new document - this must contain all (and only) the terms present in the existing tf-idx matrix. Then the query vector $q$ is given by $v^T U_k \\Sigma_k^{-1}$. Find the 10 documents most similar to the new document and the 10 most dissimilar. "
   ]
  },
  {
   "cell_type": "markdown",
   "metadata": {},
   "source": [
    "First, I load the data using the provided command"
   ]
  },
  {
   "cell_type": "code",
   "execution_count": 33,
   "metadata": {},
   "outputs": [],
   "source": [
    "docs = pickle.load(open('pubmed.pic', 'rb'))"
   ]
  },
  {
   "cell_type": "markdown",
   "metadata": {},
   "source": [
    "Next, I create the tf-idf matrix, and display the shape (6638 unique words across 178 documents). We should note that exercise 2 does not ask us to remove numbers from the text. As a result, the first approximately 500 \"words\" are comprised of numbers (or mixes of numbers and letters that have been created by removing punctuation). There are also some odd words scattered throughout, which are also likely generated by the removal of punctuation (e.g., clinicaltrialsgov probably came from clinicaltrials.gov)"
   ]
  },
  {
   "cell_type": "code",
   "execution_count": 34,
   "metadata": {},
   "outputs": [
    {
     "data": {
      "text/plain": [
       "(6637, 178)"
      ]
     },
     "execution_count": 34,
     "metadata": {},
     "output_type": "execute_result"
    }
   ],
   "source": [
    "tf_idf = calc_tf_idf(docs)\n",
    "tf_idf.shape"
   ]
  },
  {
   "cell_type": "markdown",
   "metadata": {},
   "source": [
    "Reconstruct the tf-idf matrix using the top 10 singular values"
   ]
  },
  {
   "cell_type": "code",
   "execution_count": 35,
   "metadata": {},
   "outputs": [
    {
     "data": {
      "text/plain": [
       "array([[ 0.22488722,  0.14493265,  0.06938604, ..., -0.24978827,\n",
       "         0.05141983,  0.0591974 ],\n",
       "       [-0.0082814 ,  0.02739802,  0.01388569, ...,  0.08294592,\n",
       "         0.01381737,  0.00538284],\n",
       "       [ 3.41970782,  0.00767375,  0.00524131, ..., -0.19214861,\n",
       "         0.01350216,  0.03530764],\n",
       "       ...,\n",
       "       [-0.01042938,  0.01882172,  0.01636263, ...,  0.00773283,\n",
       "         0.00503755,  0.00898484],\n",
       "       [-0.09699196,  0.10855586,  0.0812415 , ...,  0.16197456,\n",
       "         0.04208899,  0.03965072],\n",
       "       [-0.00694228,  0.02495235,  0.0192693 , ...,  0.01775939,\n",
       "         0.00757027,  0.01016944]])"
      ]
     },
     "execution_count": 35,
     "metadata": {},
     "output_type": "execute_result"
    }
   ],
   "source": [
    "tf_idf_10 = reduced_matrix(M = tf_idf, k = 10)\n",
    "tf_idf_10"
   ]
  },
  {
   "cell_type": "markdown",
   "metadata": {},
   "source": [
    "Use agglomerative hierarchical clustering with complete linkage to plot a dendrogram and comment on the likely number of document clusters with  k=100.\n",
    "\n",
    "The instructions for the 2nd part of this exercise say that $\\Sigma_kV_k^T$ contains the information related to the documents, so I'll build a dendrogram based on these terms alone.\n",
    "\n",
    "As a sanity check, I also build a dendrogram using $U_k \\Sigma_k V_k^T$ and find that they look approximately the same.\n",
    "\n",
    "In both cases, it's pretty challenging to discern distinct cluster. By default, the algorithm selects clusters and displays them in different colors, which would yield an answer of 2 clusters. However, upon visual inspection, I could argue that there are potentially 3-4 different clusters of documents"
   ]
  },
  {
   "cell_type": "code",
   "execution_count": 36,
   "metadata": {},
   "outputs": [
    {
     "data": {
      "image/png": "[encoded data removed]",
      "text/plain": [
       "<Figure size 1440x720 with 1 Axes>"
      ]
     },
     "metadata": {},
     "output_type": "display_data"
    }
   ],
   "source": [
    "### Create dendrogram using only S_k * V_k^T\n",
    "\n",
    "# Reconstruct tf-idf matrix using the top 100 singular values (and keeping information about the documents)\n",
    "k = 100\n",
    "U, s, Vt = la.svd(tf_idf, full_matrices = False)\n",
    "skVkt = np.diag(s[:k]) @ Vt[:k, :]\n",
    "\n",
    "# Plot the dendrogram\n",
    "Z = cluster.hierarchy.linkage(skVkt.T, method = 'complete')\n",
    "plt.figure(figsize=(20, 10));\n",
    "cluster.hierarchy.dendrogram(Z, leaf_rotation = 90., leaf_font_size = 8); #, color_threshold = 100);"
   ]
  },
  {
   "cell_type": "code",
   "execution_count": 37,
   "metadata": {},
   "outputs": [
    {
     "data": {
      "image/png": "[encoded data removed]",
      "text/plain": [
       "<Figure size 1440x720 with 1 Axes>"
      ]
     },
     "metadata": {},
     "output_type": "display_data"
    }
   ],
   "source": [
    "### Create dendrogram using U_k * S_k * V_k^T\n",
    "\n",
    "# Reconstruct tf-idf matrix using the top 100 singular values\n",
    "tf_idf_100 = reduced_matrix(M = tf_idf, k = 100)\n",
    "\n",
    "# Plot the dendrogram\n",
    "Z = cluster.hierarchy.linkage(tf_idf_100.T, method = 'complete')\n",
    "plt.figure(figsize=(20, 10));\n",
    "cluster.hierarchy.dendrogram(Z, leaf_rotation = 90., leaf_font_size = 8); #, color_threshold = 100);"
   ]
  },
  {
   "cell_type": "markdown",
   "metadata": {},
   "source": [
    "Determine how similar each of the original documents is to the new document `data/mystery.txt`."
   ]
  },
  {
   "cell_type": "markdown",
   "metadata": {},
   "source": [
    "First, I'll read in the data. Upon visual inspection, I see that the mystery document is about blood-glucose control for patients with type 2 diabetes"
   ]
  },
  {
   "cell_type": "code",
   "execution_count": 38,
   "metadata": {},
   "outputs": [],
   "source": [
    "with open('mystery.txt') as f:\n",
    "    mystery = f.read()"
   ]
  },
  {
   "cell_type": "markdown",
   "metadata": {},
   "source": [
    "Next, I calculate the tf-idf vector for the mystery document"
   ]
  },
  {
   "cell_type": "code",
   "execution_count": 39,
   "metadata": {},
   "outputs": [],
   "source": [
    "# Define list of words that were in `docs`\n",
    "words = np.unique(format_text(str(list(docs.values()))))\n",
    "\n",
    "# Create term frequency vector\n",
    "tf_vec = np.zeros(words.shape)\n",
    "counted_words = Counter(format_text(mystery))\n",
    "for word in counted_words.elements():\n",
    "    if word in words:\n",
    "        index = np.where(words == word)\n",
    "        tf_vec[index] = counted_words[word]\n",
    "\n",
    "# Next, we need the idf vector from the original docs input\n",
    "idf = calc_idf(docs)\n",
    "\n",
    "# Lastly, we calculate the tf-idf\n",
    "tf_idf_vec = tf_vec.reshape(-1, 1) * idf"
   ]
  },
  {
   "cell_type": "markdown",
   "metadata": {},
   "source": [
    "Next, I'll calculate q, which is defined in the problem as $v^T U_k \\Sigma_k^{-1}$"
   ]
  },
  {
   "cell_type": "code",
   "execution_count": 40,
   "metadata": {},
   "outputs": [],
   "source": [
    "q = tf_idf_vec.T @ U[:, :k] @ np.linalg.inv(np.diag(s[:k]))"
   ]
  },
  {
   "cell_type": "markdown",
   "metadata": {},
   "source": [
    "We know that $V_k = A_k^T U_k \\Sigma_k^{-1}$. The result is a 178 x 100 matrix in which each row corresponds to a single document"
   ]
  },
  {
   "cell_type": "code",
   "execution_count": 41,
   "metadata": {},
   "outputs": [],
   "source": [
    "Vk = tf_idf_100.T @ U[:, :k] @ np.linalg.inv(np.diag(s[:k]))"
   ]
  },
  {
   "cell_type": "markdown",
   "metadata": {},
   "source": [
    "Now, we can choose an appropriate distance metric to compare q and each row of $V_k$. I'll choose the cosine measure, which helps us to find vectors in similar directions, regardless of magnitude (which seems aligned with the purpose of this problem)"
   ]
  },
  {
   "cell_type": "code",
   "execution_count": 42,
   "metadata": {},
   "outputs": [],
   "source": [
    "# Initialize distance vector\n",
    "cos_dist_vec = np.zeros(shape = (Vk.shape[0]))\n",
    "\n",
    "# Find cosine distance between q and each row of Vk\n",
    "for row in range(Vk.shape[0]):\n",
    "    cos_dist_vec[row] = cos_dist(q, Vk[row, :])"
   ]
  },
  {
   "cell_type": "markdown",
   "metadata": {},
   "source": [
    "Lastly, I'll create a dataframe with the document names and their corresponding cosine distances from the mystery text (where smaller distances correspond to more similar articles)."
   ]
  },
  {
   "cell_type": "code",
   "execution_count": 43,
   "metadata": {},
   "outputs": [],
   "source": [
    "df = pd.DataFrame(dict(Titles = list(docs.keys()),\n",
    "                       Distance = list(cos_dist_vec)))\n",
    "df_sorted = df.sort_values(by = 'Distance').reset_index(drop = True)"
   ]
  },
  {
   "cell_type": "markdown",
   "metadata": {},
   "source": [
    "See the 10 most similar articles below, which all seems to have something to do with diabetes and/or overall health"
   ]
  },
  {
   "cell_type": "code",
   "execution_count": 44,
   "metadata": {},
   "outputs": [
    {
     "data": {
      "text/html": [
       "<div>\n",
       "<style scoped>\n",
       "    .dataframe tbody tr th:only-of-type {\n",
       "        vertical-align: middle;\n",
       "    }\n",
       "\n",
       "    .dataframe tbody tr th {\n",
       "        vertical-align: top;\n",
       "    }\n",
       "\n",
       "    .dataframe thead th {\n",
       "        text-align: right;\n",
       "    }\n",
       "</style>\n",
       "<table border=\"1\" class=\"dataframe\">\n",
       "  <thead>\n",
       "    <tr style=\"text-align: right;\">\n",
       "      <th></th>\n",
       "      <th>Titles</th>\n",
       "      <th>Distance</th>\n",
       "    </tr>\n",
       "  </thead>\n",
       "  <tbody>\n",
       "    <tr>\n",
       "      <th>0</th>\n",
       "      <td>Diabetes Numeracy and Blood Glucose Control: A...</td>\n",
       "      <td>0.331678</td>\n",
       "    </tr>\n",
       "    <tr>\n",
       "      <th>1</th>\n",
       "      <td>Feasibility of the SMART Project: A Text Messa...</td>\n",
       "      <td>0.420888</td>\n",
       "    </tr>\n",
       "    <tr>\n",
       "      <th>2</th>\n",
       "      <td>Health Care Utilization Among U.S. Adults With...</td>\n",
       "      <td>0.455508</td>\n",
       "    </tr>\n",
       "    <tr>\n",
       "      <th>3</th>\n",
       "      <td>Outcomes of a Diabetes Education Program for R...</td>\n",
       "      <td>0.518326</td>\n",
       "    </tr>\n",
       "    <tr>\n",
       "      <th>4</th>\n",
       "      <td>Effect of Self-Efficacy on Weight Loss: A Psyc...</td>\n",
       "      <td>0.543886</td>\n",
       "    </tr>\n",
       "    <tr>\n",
       "      <th>5</th>\n",
       "      <td>\"Living Well with Diabetes\": Evaluation of a P...</td>\n",
       "      <td>0.549593</td>\n",
       "    </tr>\n",
       "    <tr>\n",
       "      <th>6</th>\n",
       "      <td>Efficacy and Safety of Saxagliptin as Add-On T...</td>\n",
       "      <td>0.561801</td>\n",
       "    </tr>\n",
       "    <tr>\n",
       "      <th>7</th>\n",
       "      <td>Demographic Disparities Among Medicare Benefic...</td>\n",
       "      <td>0.566171</td>\n",
       "    </tr>\n",
       "    <tr>\n",
       "      <th>8</th>\n",
       "      <td>Disparities in Postpartum Follow-Up in Women W...</td>\n",
       "      <td>0.567595</td>\n",
       "    </tr>\n",
       "    <tr>\n",
       "      <th>9</th>\n",
       "      <td>Evaluating the toxic and beneficial effects of...</td>\n",
       "      <td>0.578242</td>\n",
       "    </tr>\n",
       "  </tbody>\n",
       "</table>\n",
       "</div>"
      ],
      "text/plain": [
       "                                              Titles  Distance\n",
       "0  Diabetes Numeracy and Blood Glucose Control: A...  0.331678\n",
       "1  Feasibility of the SMART Project: A Text Messa...  0.420888\n",
       "2  Health Care Utilization Among U.S. Adults With...  0.455508\n",
       "3  Outcomes of a Diabetes Education Program for R...  0.518326\n",
       "4  Effect of Self-Efficacy on Weight Loss: A Psyc...  0.543886\n",
       "5  \"Living Well with Diabetes\": Evaluation of a P...  0.549593\n",
       "6  Efficacy and Safety of Saxagliptin as Add-On T...  0.561801\n",
       "7  Demographic Disparities Among Medicare Benefic...  0.566171\n",
       "8  Disparities in Postpartum Follow-Up in Women W...  0.567595\n",
       "9  Evaluating the toxic and beneficial effects of...  0.578242"
      ]
     },
     "execution_count": 44,
     "metadata": {},
     "output_type": "execute_result"
    }
   ],
   "source": [
    "df_sorted.head(n = 10)"
   ]
  },
  {
   "cell_type": "markdown",
   "metadata": {},
   "source": [
    "See the 10 most dissimilar articles below, which appear to be technical papers that may use specialized words not found in the mystery text"
   ]
  },
  {
   "cell_type": "code",
   "execution_count": 45,
   "metadata": {},
   "outputs": [
    {
     "data": {
      "text/html": [
       "<div>\n",
       "<style scoped>\n",
       "    .dataframe tbody tr th:only-of-type {\n",
       "        vertical-align: middle;\n",
       "    }\n",
       "\n",
       "    .dataframe tbody tr th {\n",
       "        vertical-align: top;\n",
       "    }\n",
       "\n",
       "    .dataframe thead th {\n",
       "        text-align: right;\n",
       "    }\n",
       "</style>\n",
       "<table border=\"1\" class=\"dataframe\">\n",
       "  <thead>\n",
       "    <tr style=\"text-align: right;\">\n",
       "      <th></th>\n",
       "      <th>Titles</th>\n",
       "      <th>Distance</th>\n",
       "    </tr>\n",
       "  </thead>\n",
       "  <tbody>\n",
       "    <tr>\n",
       "      <th>168</th>\n",
       "      <td>Improving Lateral-Flow Immunoassay (LFIA) Diag...</td>\n",
       "      <td>1.038690</td>\n",
       "    </tr>\n",
       "    <tr>\n",
       "      <th>169</th>\n",
       "      <td>Vitamin D supplementation in children with ast...</td>\n",
       "      <td>1.042510</td>\n",
       "    </tr>\n",
       "    <tr>\n",
       "      <th>170</th>\n",
       "      <td>Cerebral malaria as a risk factor for the deve...</td>\n",
       "      <td>1.044571</td>\n",
       "    </tr>\n",
       "    <tr>\n",
       "      <th>171</th>\n",
       "      <td>In situ hybridization and sequence analysis re...</td>\n",
       "      <td>1.060246</td>\n",
       "    </tr>\n",
       "    <tr>\n",
       "      <th>172</th>\n",
       "      <td>Nerve Growth Factor Potentiates Nicotinic Syna...</td>\n",
       "      <td>1.062951</td>\n",
       "    </tr>\n",
       "    <tr>\n",
       "      <th>173</th>\n",
       "      <td>CD4 T-cell subsets in malaria: TH1/TH2 revisited.</td>\n",
       "      <td>1.068511</td>\n",
       "    </tr>\n",
       "    <tr>\n",
       "      <th>174</th>\n",
       "      <td>Crystal Structures of the Carboxyl cGMP Bindin...</td>\n",
       "      <td>1.080242</td>\n",
       "    </tr>\n",
       "    <tr>\n",
       "      <th>175</th>\n",
       "      <td>Antibodies to the Plasmodium falciparum protei...</td>\n",
       "      <td>1.106713</td>\n",
       "    </tr>\n",
       "    <tr>\n",
       "      <th>176</th>\n",
       "      <td>IRGM3 contributes to immunopathology and is re...</td>\n",
       "      <td>1.162624</td>\n",
       "    </tr>\n",
       "    <tr>\n",
       "      <th>177</th>\n",
       "      <td>CD40 Is Required for Protective Immunity again...</td>\n",
       "      <td>1.188550</td>\n",
       "    </tr>\n",
       "  </tbody>\n",
       "</table>\n",
       "</div>"
      ],
      "text/plain": [
       "                                                Titles  Distance\n",
       "168  Improving Lateral-Flow Immunoassay (LFIA) Diag...  1.038690\n",
       "169  Vitamin D supplementation in children with ast...  1.042510\n",
       "170  Cerebral malaria as a risk factor for the deve...  1.044571\n",
       "171  In situ hybridization and sequence analysis re...  1.060246\n",
       "172  Nerve Growth Factor Potentiates Nicotinic Syna...  1.062951\n",
       "173  CD4 T-cell subsets in malaria: TH1/TH2 revisited.  1.068511\n",
       "174  Crystal Structures of the Carboxyl cGMP Bindin...  1.080242\n",
       "175  Antibodies to the Plasmodium falciparum protei...  1.106713\n",
       "176  IRGM3 contributes to immunopathology and is re...  1.162624\n",
       "177  CD40 Is Required for Protective Immunity again...  1.188550"
      ]
     },
     "execution_count": 45,
     "metadata": {},
     "output_type": "execute_result"
    }
   ],
   "source": [
    "df_sorted.tail(n = 10)"
   ]
  },
  {
   "cell_type": "code",
   "execution_count": null,
   "metadata": {},
   "outputs": [],
   "source": []
  },
  {
   "cell_type": "markdown",
   "metadata": {},
   "source": [
    "**Notes on the Pubmed articles**\n",
    "\n",
    "These were downloaded with the following script.\n",
    "\n",
    "```python\n",
    "from Bio import Entrez, Medline\n",
    "Entrez.email = \"YOUR EMAIL HERE\"\n",
    "import cPickle\n",
    "\n",
    "try:\n",
    "    docs = cPickle.load(open('pubmed.pic'))\n",
    "except Exception, e:\n",
    "    print e\n",
    "\n",
    "    docs = {}\n",
    "    for term in ['plasmodium', 'diabetes', 'asthma', 'cytometry']:\n",
    "        handle = Entrez.esearch(db=\"pubmed\", term=term, retmax=50)\n",
    "        result = Entrez.read(handle)\n",
    "        handle.close()\n",
    "        idlist = result[\"IdList\"]\n",
    "        handle2 = Entrez.efetch(db=\"pubmed\", id=idlist, rettype=\"medline\", retmode=\"text\")\n",
    "        result2 = Medline.parse(handle2)\n",
    "        for record in result2:\n",
    "            title = record.get(\"TI\", None)\n",
    "            abstract = record.get(\"AB\", None)\n",
    "            if title is None or abstract is None:\n",
    "                continue\n",
    "            docs[title] = '\\n'.join([title, abstract])\n",
    "            print title\n",
    "        handle2.close()\n",
    "    cPickle.dump(docs, open('pubmed.pic', 'w'))\n",
    "docs.values()\n",
    "```"
   ]
  }
 ],
 "metadata": {
  "kernelspec": {
   "display_name": "Python 3",
   "language": "python",
   "name": "python3"
  },
  "language_info": {
   "codemirror_mode": {
    "name": "ipython",
    "version": 3
   },
   "file_extension": ".py",
   "mimetype": "text/x-python",
   "name": "python",
   "nbconvert_exporter": "python",
   "pygments_lexer": "ipython3",
   "version": "3.6.10"
  }
 },
 "nbformat": 4,
 "nbformat_minor": 1
}
