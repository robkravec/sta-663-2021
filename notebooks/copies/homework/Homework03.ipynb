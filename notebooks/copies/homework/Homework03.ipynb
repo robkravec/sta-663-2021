{
 "cells": [
  {
   "cell_type": "markdown",
   "metadata": {},
   "source": [
    "**1**. (20 points) \n",
    "\n",
    "Create a `pandas` DataFrame with these values\n",
    "\n",
    "|name|a-b-|a-b+|a+b-|a+b+|\n",
    "|-|-|-|-|-|\n",
    "|ann|1|2|3|4|\n",
    "|bob|5|6|7|8|\n",
    "\n",
    "Now convert it to another DataFrame so that it looks like\n",
    "\n",
    "|    | name   | a   | b   |   value |\n",
    "|---:|:-------|:----|:----|--------:|\n",
    "|  0 | ann    | -   | -   |       1 |\n",
    "|  2 | ann    | -   | +   |       2 |\n",
    "|  4 | ann    | +   | -   |       3 |\n",
    "|  6 | ann    | +   | +   |       4 |\n",
    "|  1 | bob    | -   | -   |       5 |\n",
    "|  3 | bob    | -   | +   |       6 |\n",
    "|  5 | bob    | +   | -   |       7 |\n",
    "|  7 | bob    | +   | +   |       8 |\n",
    "\n",
    "Note - all information used to construct the second DataFrame must be derived from the first one."
   ]
  },
  {
   "cell_type": "code",
   "execution_count": null,
   "metadata": {},
   "outputs": [],
   "source": [
    "\n",
    "\n",
    "\n"
   ]
  },
  {
   "cell_type": "markdown",
   "metadata": {},
   "source": [
    "**2**. (20 points)\n",
    "\n",
    "Simulate $n$ coin toss experiments, in which you toss a coin $k$ times for each experiment. Find the maximum run length of heads (e.g. the sequence `T,T,H,H,H,T,H,H` has a maximum run length of 3 heads in each experiment.  What is the most common maximum run length?\n",
    "\n",
    "Let $n$ = 10,000 and $k=100$."
   ]
  },
  {
   "cell_type": "code",
   "execution_count": null,
   "metadata": {},
   "outputs": [],
   "source": [
    "\n",
    "\n",
    "\n"
   ]
  },
  {
   "cell_type": "markdown",
   "metadata": {},
   "source": [
    "**3**. (20 points)\n",
    "\n",
    "Wikipedia gives this algorithm for finding prime numbers\n",
    "\n",
    "To find all the prime numbers less than or equal to a given integer n by Eratosthenes' method:\n",
    "\n",
    "- Create a list of consecutive integers from 2 through n: (2, 3, 4, ..., n).\n",
    "- Initially, let p equal 2, the smallest prime number.\n",
    "- Enumerate the multiples of p by counting to n from 2p in increments of p, and mark them in the list (these will be 2p, 3p, 4p, ...; the p itself should not be marked).\n",
    "- Find the first number greater than p in the list that is not marked. If there was no such number, stop. Otherwise, let p now equal this new number (which is the next prime), and repeat from step 3.\n",
    "- When the algorithm terminates, the numbers remaining not marked in the list are all the primes below n.\n",
    "\n",
    "Find all primes less than 1,000 using this method.\n",
    "\n",
    "- You may use `numpy` and do not have to follow the algorithm exactly if you can achieve the same results."
   ]
  },
  {
   "cell_type": "code",
   "execution_count": null,
   "metadata": {},
   "outputs": [],
   "source": [
    "\n",
    "\n",
    "\n"
   ]
  },
  {
   "cell_type": "markdown",
   "metadata": {},
   "source": [
    "**4**. (40 points)\n",
    "\n",
    "Write code to generate a plot similar to those shown below using the explanation for generation of 1D Cellular Automata found [here](http://mathworld.wolfram.com/ElementaryCellularAutomaton.html). You should only need to use standard Python, `numpy` and `matplotllib`.\n",
    "\n",
    "![automata](http://mathworld.wolfram.com/images/eps-gif/ElementaryCA_850.gif)\n",
    "\n",
    "\n",
    "\n",
    "The input to the function making the plots should be a simple list of rules\n",
    "\n",
    "```python\n",
    "rules = [30, 54, 60, 62, 90, 94, 102, 110, 122, 126, \n",
    "         150, 158, 182, 188, 190, 220, 222, 250]\n",
    "```\n",
    "\n",
    "which you feed into your `make_plots` function\n",
    "```python\n",
    "make_plots(rules, niter)\n",
    "```\n",
    "\n",
    "You may, of course, write other helper functions to keep your code modular."
   ]
  },
  {
   "cell_type": "code",
   "execution_count": null,
   "metadata": {},
   "outputs": [],
   "source": [
    "\n",
    "\n",
    "\n"
   ]
  }
 ],
 "metadata": {
  "kernelspec": {
   "display_name": "Python 3",
   "language": "python",
   "name": "python3"
  },
  "language_info": {
   "codemirror_mode": {
    "name": "ipython",
    "version": 3
   },
   "file_extension": ".py",
   "mimetype": "text/x-python",
   "name": "python",
   "nbconvert_exporter": "python",
   "pygments_lexer": "ipython3",
   "version": "3.8.5"
  }
 },
 "nbformat": 4,
 "nbformat_minor": 2
}
