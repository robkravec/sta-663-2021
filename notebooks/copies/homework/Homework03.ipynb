{
 "cells": [
  {
   "cell_type": "code",
   "execution_count": 2,
   "metadata": {},
   "outputs": [],
   "source": [
    "import pandas as pd\n",
    "import numpy as np\n",
    "import matplotlib.pyplot as plt\n",
    "from matplotlib.colors import ListedColormap\n",
    "import re\n",
    "from collections import Counter\n",
    "import math\n",
    "np.random.seed(123)"
   ]
  },
  {
   "cell_type": "markdown",
   "metadata": {},
   "source": [
    "**1**. (20 points) \n",
    "\n",
    "Create a `pandas` DataFrame with these values\n",
    "\n",
    "|name|a-b-|a-b+|a+b-|a+b+|\n",
    "|-|-|-|-|-|\n",
    "|ann|1|2|3|4|\n",
    "|bob|5|6|7|8|\n",
    "\n",
    "Now convert it to another DataFrame so that it looks like\n",
    "\n",
    "|    | name   | a   | b   |   value |\n",
    "|---:|:-------|:----|:----|--------:|\n",
    "|  0 | ann    | -   | -   |       1 |\n",
    "|  2 | ann    | -   | +   |       2 |\n",
    "|  4 | ann    | +   | -   |       3 |\n",
    "|  6 | ann    | +   | +   |       4 |\n",
    "|  1 | bob    | -   | -   |       5 |\n",
    "|  3 | bob    | -   | +   |       6 |\n",
    "|  5 | bob    | +   | -   |       7 |\n",
    "|  7 | bob    | +   | +   |       8 |\n",
    "\n",
    "Note - all information used to construct the second DataFrame must be derived from the first one."
   ]
  },
  {
   "cell_type": "code",
   "execution_count": 152,
   "metadata": {},
   "outputs": [
    {
     "data": {
      "text/html": [
       "<div>\n",
       "<style scoped>\n",
       "    .dataframe tbody tr th:only-of-type {\n",
       "        vertical-align: middle;\n",
       "    }\n",
       "\n",
       "    .dataframe tbody tr th {\n",
       "        vertical-align: top;\n",
       "    }\n",
       "\n",
       "    .dataframe thead th {\n",
       "        text-align: right;\n",
       "    }\n",
       "</style>\n",
       "<table border=\"1\" class=\"dataframe\">\n",
       "  <thead>\n",
       "    <tr style=\"text-align: right;\">\n",
       "      <th></th>\n",
       "      <th>name</th>\n",
       "      <th>a</th>\n",
       "      <th>b</th>\n",
       "      <th>value</th>\n",
       "    </tr>\n",
       "  </thead>\n",
       "  <tbody>\n",
       "    <tr>\n",
       "      <th>0</th>\n",
       "      <td>ann</td>\n",
       "      <td>-</td>\n",
       "      <td>-</td>\n",
       "      <td>1</td>\n",
       "    </tr>\n",
       "    <tr>\n",
       "      <th>2</th>\n",
       "      <td>ann</td>\n",
       "      <td>-</td>\n",
       "      <td>+</td>\n",
       "      <td>2</td>\n",
       "    </tr>\n",
       "    <tr>\n",
       "      <th>4</th>\n",
       "      <td>ann</td>\n",
       "      <td>+</td>\n",
       "      <td>-</td>\n",
       "      <td>3</td>\n",
       "    </tr>\n",
       "    <tr>\n",
       "      <th>6</th>\n",
       "      <td>ann</td>\n",
       "      <td>+</td>\n",
       "      <td>+</td>\n",
       "      <td>4</td>\n",
       "    </tr>\n",
       "    <tr>\n",
       "      <th>1</th>\n",
       "      <td>bob</td>\n",
       "      <td>-</td>\n",
       "      <td>-</td>\n",
       "      <td>5</td>\n",
       "    </tr>\n",
       "    <tr>\n",
       "      <th>3</th>\n",
       "      <td>bob</td>\n",
       "      <td>-</td>\n",
       "      <td>+</td>\n",
       "      <td>6</td>\n",
       "    </tr>\n",
       "    <tr>\n",
       "      <th>5</th>\n",
       "      <td>bob</td>\n",
       "      <td>+</td>\n",
       "      <td>-</td>\n",
       "      <td>7</td>\n",
       "    </tr>\n",
       "    <tr>\n",
       "      <th>7</th>\n",
       "      <td>bob</td>\n",
       "      <td>+</td>\n",
       "      <td>+</td>\n",
       "      <td>8</td>\n",
       "    </tr>\n",
       "  </tbody>\n",
       "</table>\n",
       "</div>"
      ],
      "text/plain": [
       "  name  a  b  value\n",
       "0  ann  -  -      1\n",
       "2  ann  -  +      2\n",
       "4  ann  +  -      3\n",
       "6  ann  +  +      4\n",
       "1  bob  -  -      5\n",
       "3  bob  -  +      6\n",
       "5  bob  +  -      7\n",
       "7  bob  +  +      8"
      ]
     },
     "execution_count": 152,
     "metadata": {},
     "output_type": "execute_result"
    }
   ],
   "source": [
    "# Create starting DataFrame\n",
    "start_df = pd.DataFrame(data = np.arange(1, 9).reshape(2, -1),\n",
    "                       columns = ['a-b-', 'a-b+', 'a+b-', 'a+b+'])\n",
    "start_df.insert(0, 'name', ['ann', 'bob'])\n",
    "\n",
    "# Melt dataframe to create 8 rows\n",
    "melt_df = pd.melt(frame = start_df, id_vars = 'name', value_name = 'value').sort_values(by = 'value')\n",
    "\n",
    "# Transform 'variable' column into desired end state\n",
    "melt_df.insert(1, melt_df.variable.str.slice(stop = 1)[0], melt_df.variable.str.slice(start = 1, stop = 2))\n",
    "melt_df.insert(2, melt_df.variable.str.slice(start = 2, stop = 3)[0], melt_df.variable.str.slice(start = 3))\n",
    "melt_df = melt_df.drop(columns = 'variable')\n",
    "\n",
    "# Display result\n",
    "melt_df"
   ]
  },
  {
   "cell_type": "markdown",
   "metadata": {},
   "source": [
    "**2**. (20 points)\n",
    "\n",
    "Simulate $n$ coin toss experiments, in which you toss a coin $k$ times for each experiment. Find the maximum run length of heads (e.g. the sequence `T,T,H,H,H,T,H,H` has a maximum run length of 3 heads in each experiment.  What is the most common maximum run length?\n",
    "\n",
    "Let $n$ = 10,000 and $k=100$."
   ]
  },
  {
   "cell_type": "code",
   "execution_count": 68,
   "metadata": {},
   "outputs": [],
   "source": [
    "def count_heads(num_flips):\n",
    "    \"\"\"Flips a coin the amount of times specified and returns the longest streak of consecutive heads\"\"\"\n",
    "    outcome = str(np.random.binomial(n = 1, size = num_flips, p = 0.5)).translate(str.maketrans('', '', '\\n '))\n",
    "    if \"1\" in outcome:\n",
    "        return len(max(re.findall(pattern = r'1+', string = outcome), key = len)) \n",
    "    else:\n",
    "        return 0"
   ]
  },
  {
   "cell_type": "code",
   "execution_count": 126,
   "metadata": {},
   "outputs": [
    {
     "name": "stdout",
     "output_type": "stream",
     "text": [
      "CPU times: user 0 ns, sys: 0 ns, total: 0 ns\n",
      "Wall time: 430 µs\n"
     ]
    },
    {
     "data": {
      "text/plain": [
       "5"
      ]
     },
     "execution_count": 126,
     "metadata": {},
     "output_type": "execute_result"
    }
   ],
   "source": [
    "%%time\n",
    "# Should be able to parallelize this problem using the above function\n",
    "count_heads(5)"
   ]
  },
  {
   "cell_type": "code",
   "execution_count": 5,
   "metadata": {},
   "outputs": [
    {
     "name": "stdout",
     "output_type": "stream",
     "text": [
      "Maximum run length: 18\n",
      "Most common run length: 5\n",
      "CPU times: user 2.59 s, sys: 48 ms, total: 2.64 s\n",
      "Wall time: 2.58 s\n"
     ]
    }
   ],
   "source": [
    "%%time\n",
    "\n",
    "# Set constants, and initialize outcome storage\n",
    "n = 10000\n",
    "k = 100\n",
    "max_heads = np.zeros(n)\n",
    "\n",
    "# Perform 10,000 experiments\n",
    "for flip in range(n):\n",
    "    outcome = str(np.random.binomial(n = 1, size = k, p = 0.5)).translate(str.maketrans('', '', '\\n '))\n",
    "    max_heads[flip] = len(max(re.findall(pattern = r'1+', string = outcome), key = len)) \n",
    "    \n",
    "# Print results\n",
    "print(\"Maximum run length: \" + str(int(max(max_heads))))\n",
    "print(\"Most common run length: \" + str(int(Counter(max_heads).most_common(1)[0][0])))"
   ]
  },
  {
   "cell_type": "markdown",
   "metadata": {},
   "source": [
    "**3**. (20 points)\n",
    "\n",
    "Wikipedia gives this algorithm for finding prime numbers\n",
    "\n",
    "To find all the prime numbers less than or equal to a given integer n by Eratosthenes' method:\n",
    "\n",
    "- Create a list of consecutive integers from 2 through n: (2, 3, 4, ..., n).\n",
    "- Initially, let p equal 2, the smallest prime number.\n",
    "- Enumerate the multiples of p by counting to n from 2p in increments of p, and mark them in the list (these will be 2p, 3p, 4p, ...; the p itself should not be marked).\n",
    "- Find the first number greater than p in the list that is not marked. If there was no such number, stop. Otherwise, let p now equal this new number (which is the next prime), and repeat from step 3.\n",
    "- When the algorithm terminates, the numbers remaining not marked in the list are all the primes below n.\n",
    "\n",
    "Find all primes less than 1,000 using this method.\n",
    "\n",
    "- You may use `numpy` and do not have to follow the algorithm exactly if you can achieve the same results."
   ]
  },
  {
   "cell_type": "markdown",
   "metadata": {},
   "source": [
    "*I demonstrate two potential solutions to this problem:*\n",
    "\n",
    "- *Using filter(), which turns out to be a bit slower*\n",
    "- *Using a while loop*"
   ]
  },
  {
   "cell_type": "code",
   "execution_count": 148,
   "metadata": {},
   "outputs": [
    {
     "name": "stdout",
     "output_type": "stream",
     "text": [
      "[2, 3, 5, 7, 11, 13, 17, 19, 23, 29, 31, 37, 41, 43, 47, 53, 59, 61, 67, 71, 73, 79, 83, 89, 97, 101, 103, 107, 109, 113, 127, 131, 137, 139, 149, 151, 157, 163, 167, 173, 179, 181, 191, 193, 197, 199, 211, 223, 227, 229, 233, 239, 241, 251, 257, 263, 269, 271, 277, 281, 283, 293, 307, 311, 313, 317, 331, 337, 347, 349, 353, 359, 367, 373, 379, 383, 389, 397, 401, 409, 419, 421, 431, 433, 439, 443, 449, 457, 461, 463, 467, 479, 487, 491, 499, 503, 509, 521, 523, 541, 547, 557, 563, 569, 571, 577, 587, 593, 599, 601, 607, 613, 617, 619, 631, 641, 643, 647, 653, 659, 661, 673, 677, 683, 691, 701, 709, 719, 727, 733, 739, 743, 751, 757, 761, 769, 773, 787, 797, 809, 811, 821, 823, 827, 829, 839, 853, 857, 859, 863, 877, 881, 883, 887, 907, 911, 919, 929, 937, 941, 947, 953, 967, 971, 977, 983, 991, 997]CPU times: user 32 ms, sys: 0 ns, total: 32 ms\n",
      "Wall time: 28.8 ms\n"
     ]
    }
   ],
   "source": [
    "%%time\n",
    "\n",
    "# Create list of all numbers below upper bound (in this case, 1000)\n",
    "upper_bound = 1000\n",
    "all_nums = list(range(2, upper_bound))\n",
    "\n",
    "# Perform algorithm\n",
    "for num in all_nums:\n",
    "    all_nums = list(filter(lambda x: x % num != 0 or x == num, all_nums))\n",
    "\n",
    "# View results\n",
    "print(all_nums, end = '')  "
   ]
  },
  {
   "cell_type": "code",
   "execution_count": 149,
   "metadata": {},
   "outputs": [
    {
     "name": "stdout",
     "output_type": "stream",
     "text": [
      "[2, 3, 5, 7, 11, 13, 17, 19, 23, 29, 31, 37, 41, 43, 47, 53, 59, 61, 67, 71, 73, 79, 83, 89, 97, 101, 103, 107, 109, 113, 127, 131, 137, 139, 149, 151, 157, 163, 167, 173, 179, 181, 191, 193, 197, 199, 211, 223, 227, 229, 233, 239, 241, 251, 257, 263, 269, 271, 277, 281, 283, 293, 307, 311, 313, 317, 331, 337, 347, 349, 353, 359, 367, 373, 379, 383, 389, 397, 401, 409, 419, 421, 431, 433, 439, 443, 449, 457, 461, 463, 467, 479, 487, 491, 499, 503, 509, 521, 523, 541, 547, 557, 563, 569, 571, 577, 587, 593, 599, 601, 607, 613, 617, 619, 631, 641, 643, 647, 653, 659, 661, 673, 677, 683, 691, 701, 709, 719, 727, 733, 739, 743, 751, 757, 761, 769, 773, 787, 797, 809, 811, 821, 823, 827, 829, 839, 853, 857, 859, 863, 877, 881, 883, 887, 907, 911, 919, 929, 937, 941, 947, 953, 967, 971, 977, 983, 991, 997]CPU times: user 12 ms, sys: 0 ns, total: 12 ms\n",
      "Wall time: 9.17 ms\n"
     ]
    }
   ],
   "source": [
    "%%time\n",
    "\n",
    "# Create list of all numbers below upper bound (in this case, 1000)\n",
    "upper_bound = 1000\n",
    "all_nums = list(range(2, upper_bound))\n",
    "\n",
    "# Perform algorithm\n",
    "for num in all_nums:\n",
    "    multiplier = 2\n",
    "    while num * multiplier < upper_bound:\n",
    "        if num * multiplier in all_nums:\n",
    "            all_nums.remove(num * multiplier)\n",
    "        multiplier += 1\n",
    "        \n",
    "# View results\n",
    "print(all_nums, end = '')"
   ]
  },
  {
   "cell_type": "markdown",
   "metadata": {},
   "source": [
    "**4**. (40 points)\n",
    "\n",
    "Write code to generate a plot similar to those shown below using the explanation for generation of 1D Cellular Automata found [here](http://mathworld.wolfram.com/ElementaryCellularAutomaton.html). You should only need to use standard Python, `numpy` and `matplotllib`.\n",
    "\n",
    "![automata](http://mathworld.wolfram.com/images/eps-gif/ElementaryCA_850.gif)\n",
    "\n",
    "\n",
    "\n",
    "The input to the function making the plots should be a simple list of rules\n",
    "\n",
    "```python\n",
    "rules = [30, 54, 60, 62, 90, 94, 102, 110, 122, 126, \n",
    "         150, 158, 182, 188, 190, 220, 222, 250]\n",
    "```\n",
    "\n",
    "which you feed into your `make_plots` function\n",
    "```python\n",
    "make_plots(rules, niter)\n",
    "```\n",
    "\n",
    "You may, of course, write other helper functions to keep your code modular."
   ]
  },
  {
   "cell_type": "code",
   "execution_count": 153,
   "metadata": {},
   "outputs": [],
   "source": [
    "def create_array(niter, rule, binary_states):\n",
    "    \"\"\"Creates array of 1's and zeros corresponding to 1D Cellular Automata for given rule and number\n",
    "    of iterations\n",
    "    \"\"\"\n",
    "    \n",
    "    # Convert rule (as integer) to 8-bit binary, which corresponds to provided binary states (in order)\n",
    "    outcomes = format(rule, '08b')\n",
    "    \n",
    "    # Initialize result matrix\n",
    "    result = np.zeros(shape = (1 + niter, 1 + 2*niter + 2))\n",
    "    result[0, niter + 1] += 1\n",
    "    \n",
    "    # Fill in rows of array one at a time\n",
    "    for curr_iter in range(1, niter + 1):\n",
    "        prev_row = result[curr_iter - 1, :]\n",
    "        states = np.c_[prev_row[:-2], prev_row[1:-1], prev_row[2:]][niter - curr_iter : niter + curr_iter + 1]\n",
    "        indices = [binary_states.index(list(states[entry])) for entry in range(len(states))]\n",
    "        result[curr_iter, niter - curr_iter + 1 : niter + curr_iter + 2] = \\\n",
    "            np.array([outcomes[index] for index in indices], dtype = int)\n",
    "    \n",
    "    # Return result\n",
    "    return result[:, 1:-1]"
   ]
  },
  {
   "cell_type": "code",
   "execution_count": 154,
   "metadata": {},
   "outputs": [],
   "source": [
    "def plotting(rules, niter, binary_states):\n",
    "    \"\"\"Takes set of rules and plots 1D Cellular Automata\"\"\"\n",
    "    \n",
    "    # Determine optimal number of rows and columns for display, given number of rules\n",
    "    if len(rules) % 3 == 0:\n",
    "        num_col = 3\n",
    "    elif len(rules) <= 1:\n",
    "        num_col = 1\n",
    "    else:\n",
    "        num_col = 2\n",
    "    num_row = math.ceil(len(rules) / num_col)\n",
    "    \n",
    "    # Generate plots\n",
    "    axes = []\n",
    "    fig = plt.figure(figsize = (10, 2 * num_row))\n",
    "    for location in range(num_row * num_col):\n",
    "        cell_array = create_array(niter = niter, rule = rules[location], binary_states = binary_states)\n",
    "        axes.append(fig.add_subplot(num_row, num_col, location + 1))\n",
    "        axes[-1].set_title(\"rule \" + str(rules[location]))\n",
    "        plt.pcolormesh(cell_array, edgecolors = 'k', linewidth = 0.01, cmap=ListedColormap(['white', 'black']))\n",
    "        axes[-1].set_aspect('equal')\n",
    "        axes[-1].invert_yaxis()\n",
    "        axes[-1].set_xticklabels([])\n",
    "        axes[-1].set_yticklabels([])\n",
    "        axes[-1].xaxis.set_ticks_position('none')\n",
    "        axes[-1].yaxis.set_ticks_position('none')"
   ]
  },
  {
   "cell_type": "code",
   "execution_count": 155,
   "metadata": {},
   "outputs": [],
   "source": [
    "def make_plots(rules, niter):\n",
    "    \"\"\"Plots 1D Cellular Automata based on specified rules and number of iterations\"\"\"\n",
    "    \n",
    "    # Check for valid rules inputs\n",
    "    if not isinstance(rules, list):\n",
    "        print(\"The rules argument should be a list of integers\")\n",
    "        return \n",
    "    elif not all(isinstance(entry, int) for entry in rules):\n",
    "        print(\"All entries in the list of rules should be integers\")\n",
    "        return\n",
    "    elif rules == []:\n",
    "        print(\"Please enter a non-empty list of rules\")\n",
    "        return\n",
    "    \n",
    "    # Check for valid niter input\n",
    "    if (not isinstance(niter, int)) or (isinstance(niter, int) and niter <= 0):\n",
    "        print(\"The niter argument should be an integer greater than zero\")\n",
    "        return\n",
    "    \n",
    "    # Define binary states\n",
    "    binary_states = [[1, 1, 1], [1, 1, 0], [1, 0, 1], [1, 0, 0], [0, 1, 1], [0, 1, 0], [0, 0, 1], [0, 0, 0]]\n",
    "    \n",
    "    # Generate plots\n",
    "    plotting(rules, niter, binary_states)"
   ]
  },
  {
   "cell_type": "code",
   "execution_count": 157,
   "metadata": {},
   "outputs": [
    {
     "name": "stdout",
     "output_type": "stream",
     "text": [
      "CPU times: user 572 ms, sys: 0 ns, total: 572 ms\n",
      "Wall time: 568 ms\n"
     ]
    },
    {
     "data": {
      "image/png": "[encoded data removed]",
      "text/plain": [
       "<Figure size 720x864 with 18 Axes>"
      ]
     },
     "metadata": {},
     "output_type": "display_data"
    }
   ],
   "source": [
    "# Test function\n",
    "rules = [30, 54, 60, 62, 90, 94, 102, 110, 122, 126, 150, 158, 182, 188, 190, 220, 222, 250]\n",
    "make_plots(rules = rules, niter = 15)"
   ]
  }
 ],
 "metadata": {
  "kernelspec": {
   "display_name": "Python 3",
   "language": "python",
   "name": "python3"
  },
  "language_info": {
   "codemirror_mode": {
    "name": "ipython",
    "version": 3
   },
   "file_extension": ".py",
   "mimetype": "text/x-python",
   "name": "python",
   "nbconvert_exporter": "python",
   "pygments_lexer": "ipython3",
   "version": "3.6.10"
  }
 },
 "nbformat": 4,
 "nbformat_minor": 2
}
