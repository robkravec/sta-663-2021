{
 "cells": [
  {
   "cell_type": "markdown",
   "metadata": {},
   "source": [
    "**1**. The FizzBuzz problem. \n",
    "\n",
    "> Write a program that prints the numbers from 1 to 100. But for multiples of three print “Fizz” instead of the number and for the multiples of five print “Buzz”. For numbers which are multiples of both three and five print “FizzBuzz”."
   ]
  },
  {
   "cell_type": "code",
   "execution_count": 1,
   "metadata": {},
   "outputs": [
    {
     "name": "stdout",
     "output_type": "stream",
     "text": [
      "1 2 Fizz 4 Buzz Fizz 7 8 Fizz Buzz 11 Fizz 13 14 FizzBuzz 16 17 Fizz 19 Buzz Fizz 22 23 Fizz Buzz 26 Fizz 28 29 FizzBuzz 31 32 Fizz 34 Buzz Fizz 37 38 Fizz Buzz 41 Fizz 43 44 FizzBuzz 46 47 Fizz 49 Buzz Fizz 52 53 Fizz Buzz 56 Fizz 58 59 FizzBuzz 61 62 Fizz 64 Buzz Fizz 67 68 Fizz Buzz 71 Fizz 73 74 FizzBuzz 76 77 Fizz 79 Buzz Fizz 82 83 Fizz Buzz 86 Fizz 88 89 FizzBuzz 91 92 Fizz 94 Buzz Fizz 97 98 Fizz Buzz "
     ]
    }
   ],
   "source": [
    "for i in range(1, 101):\n",
    "    if i % 15 == 0:\n",
    "        print(\"FizzBuzz\", end = \" \")\n",
    "    elif i % 3 == 0:\n",
    "        print(\"Fizz\", end = \" \")\n",
    "    elif i % 5 == 0:\n",
    "        print(\"Buzz\", end = \" \")\n",
    "    else:\n",
    "        print(i, end = \" \")"
   ]
  },
  {
   "cell_type": "markdown",
   "metadata": {},
   "source": [
    "**2**. Pythagorean triplets\n",
    "\n",
    "A Pythagorean triplet is a tuple of positive integers $(a, b, c)$ such that $a^2 + b^2 = c^2$. For example, (3,4,5) is a Pythagorean triplet. Make a list of all Pythagorean triplets where $a \\le b \\lt 50$.\n",
    "\n",
    "Note: Floating point numbers in Python have a useful method `is_integer`."
   ]
  },
  {
   "cell_type": "code",
   "execution_count": 10,
   "metadata": {},
   "outputs": [
    {
     "name": "stdout",
     "output_type": "stream",
     "text": [
      "[(3, 4, 5), (5, 12, 13), (6, 8, 10), (7, 24, 25), (8, 15, 17), (9, 12, 15), (9, 40, 41), (10, 24, 26), (12, 16, 20), (12, 35, 37), (14, 48, 50), (15, 20, 25), (15, 36, 39), (16, 30, 34), (18, 24, 30), (20, 21, 29), (20, 48, 52), (21, 28, 35), (24, 32, 40), (24, 45, 51), (27, 36, 45), (28, 45, 53), (30, 40, 50), (33, 44, 55), (36, 48, 60), (40, 42, 58)]\n"
     ]
    }
   ],
   "source": [
    "# Import math\n",
    "import math\n",
    "\n",
    "# Initialize result\n",
    "result = []\n",
    "\n",
    "# Loop through potential values of a and b\n",
    "for i in range(1, 50):\n",
    "    for j in range(i, 50):\n",
    "        c_sq = i ** 2 + j ** 2\n",
    "        if math.sqrt(c_sq).is_integer():\n",
    "            result.append((i, j, int(math.sqrt(c_sq))))\n",
    "print(result)"
   ]
  },
  {
   "cell_type": "markdown",
   "metadata": {},
   "source": [
    "**3**. Find characters that are common to both the strings below."
   ]
  },
  {
   "cell_type": "code",
   "execution_count": 11,
   "metadata": {},
   "outputs": [],
   "source": [
    "s1 = 'lajfljaljfljfkajljfljalkfjdlsajflajfljaljljalkjfljeionalvnkleijildsjlkdajlfdjlaj'\n",
    "s2 = 'eoiuroeuoqrueojnnqiu0iunn uoidsjoia3inluhei38410unadsmiu4njeknkaioourjdknalouold'"
   ]
  },
  {
   "cell_type": "code",
   "execution_count": 30,
   "metadata": {},
   "outputs": [
    {
     "name": "stdout",
     "output_type": "stream",
     "text": [
      "['a', 'd', 'e', 'i', 'j', 'k', 'l', 'n', 'o', 's']\n"
     ]
    },
    {
     "data": {
      "text/plain": [
       "{'a', 'd', 'e', 'i', 'j', 'k', 'l', 'n', 'o', 's'}"
      ]
     },
     "execution_count": 30,
     "metadata": {},
     "output_type": "execute_result"
    }
   ],
   "source": [
    "# Create sets\n",
    "s1_set = set(s1)\n",
    "s2_set = set(s2)\n",
    "\n",
    "# Initialize result\n",
    "result = []\n",
    "\n",
    "# Perform search\n",
    "for letter in s1_set:\n",
    "    if letter in s2_set:\n",
    "        result.append(letter)\n",
    "        \n",
    "# Print result\n",
    "result.sort()\n",
    "print(result)\n",
    "\n",
    "###### Much simpler result from solutions\n",
    "set(s1).intersection(s2)\n",
    "\n",
    "# If we wanted to see all value contained in s1 or s2, we would use set(s1).union(s2)"
   ]
  },
  {
   "cell_type": "markdown",
   "metadata": {},
   "source": [
    "**4**. Implement a function to perform bubble sort and use it to sort the list below. Present the sorted list in descending order.\n",
    "\n",
    "From Wikipedia\n",
    "\n",
    "> Bubble sort, sometimes referred to as sinking sort, is a simple sorting algorithm that repeatedly steps through the list, compares adjacent elements and swaps them if they are in the wrong order. The pass through the list is repeated until the list is sorted."
   ]
  },
  {
   "cell_type": "code",
   "execution_count": 3,
   "metadata": {},
   "outputs": [],
   "source": [
    "xs = [7,4,2,3,1,4,9,9,8,4,5,1,3]"
   ]
  },
  {
   "cell_type": "code",
   "execution_count": 26,
   "metadata": {},
   "outputs": [
    {
     "name": "stdout",
     "output_type": "stream",
     "text": [
      "[9, 9, 8, 7, 5, 4, 4, 4, 3, 3, 2, 1, 1]\n"
     ]
    }
   ],
   "source": [
    "# Initialize swap counter\n",
    "counter = 100\n",
    "\n",
    "# Stop sorting when no swaps have been made in the previous pass\n",
    "while counter > 0:\n",
    "    counter = 0\n",
    "    for index, num in enumerate(xs[:-1]):\n",
    "        if xs[index] < xs[index + 1]:\n",
    "            xs[index], xs[index + 1] = xs[index + 1], xs[index]\n",
    "            counter += 1\n",
    "\n",
    "# Return result\n",
    "print(xs)"
   ]
  },
  {
   "cell_type": "code",
   "execution_count": null,
   "metadata": {},
   "outputs": [],
   "source": [
    "# Result from solutions\n",
    "def bubblesort(xs):\n",
    "    \"\"\"Bubble sort.\n",
    "    \n",
    "    xs is an unsorted list.\n",
    "    \"\"\"\n",
    "    \n",
    "    n = len(xs)\n",
    "    if n <= 1:\n",
    "        return xs\n",
    "\n",
    "    for i in range(n):\n",
    "        for j in range(i+1, n):\n",
    "            if xs[j] < xs[i]:\n",
    "                xs[i], xs[j] = xs[j], xs[i]\n",
    "    \n",
    "    return xs"
   ]
  },
  {
   "cell_type": "code",
   "execution_count": 6,
   "metadata": {},
   "outputs": [
    {
     "data": {
      "text/plain": [
       "[9, 9, 8, 7, 5, 4, 4, 4, 3, 3, 2, 1, 1]"
      ]
     },
     "execution_count": 6,
     "metadata": {},
     "output_type": "execute_result"
    }
   ],
   "source": [
    "# Can use recursion\n",
    "def bubble_sort_2(array):\n",
    "    if len(array) == 1:\n",
    "        return array\n",
    "    for i in range(len(array) - 1):\n",
    "        if array[i] < array[i + 1]:\n",
    "            array[i], array[i + 1] = array[i + 1], array[i]\n",
    "    return bubble_sort_2(array[:-1]) + [array[-1]]\n",
    "\n",
    "bubble_sort_2(xs)"
   ]
  },
  {
   "cell_type": "code",
   "execution_count": 35,
   "metadata": {},
   "outputs": [
    {
     "name": "stdout",
     "output_type": "stream",
     "text": [
      "[1, 1, 2, 3, 3, 4, 4, 4, 5, 7, 8, 9, 9]\n",
      "[1, 1, 2, 3, 3, 4, 4, 4, 5, 7, 8, 9, 9]\n"
     ]
    }
   ],
   "source": [
    "# Can reverse a list using the following commands\n",
    "print(list(reversed(xs)))\n",
    "print(xs[::-1])"
   ]
  },
  {
   "cell_type": "code",
   "execution_count": 7,
   "metadata": {},
   "outputs": [
    {
     "data": {
      "text/plain": [
       "[9, 9, 8, 7, 5, 4, 4, 4, 3, 3, 2, 1, 1]"
      ]
     },
     "execution_count": 7,
     "metadata": {},
     "output_type": "execute_result"
    }
   ],
   "source": [
    "# Built-in function\n",
    "sorted(xs, reverse = True)"
   ]
  },
  {
   "cell_type": "code",
   "execution_count": 8,
   "metadata": {},
   "outputs": [
    {
     "name": "stdout",
     "output_type": "stream",
     "text": [
      "1.36 µs ± 4.2 ns per loop (mean ± std. dev. of 7 runs, 1000000 loops each)\n"
     ]
    }
   ],
   "source": [
    "%timeit sorted(xs, reverse = True)"
   ]
  },
  {
   "cell_type": "code",
   "execution_count": 9,
   "metadata": {},
   "outputs": [
    {
     "name": "stdout",
     "output_type": "stream",
     "text": [
      "16.1 µs ± 57.4 ns per loop (mean ± std. dev. of 7 runs, 100000 loops each)\n"
     ]
    }
   ],
   "source": [
    "%timeit bubble_sort_2(xs)"
   ]
  }
 ],
 "metadata": {
  "kernelspec": {
   "display_name": "Python 3",
   "language": "python",
   "name": "python3"
  },
  "language_info": {
   "codemirror_mode": {
    "name": "ipython",
    "version": 3
   },
   "file_extension": ".py",
   "mimetype": "text/x-python",
   "name": "python",
   "nbconvert_exporter": "python",
   "pygments_lexer": "ipython3",
   "version": "3.6.10"
  }
 },
 "nbformat": 4,
 "nbformat_minor": 4
}
