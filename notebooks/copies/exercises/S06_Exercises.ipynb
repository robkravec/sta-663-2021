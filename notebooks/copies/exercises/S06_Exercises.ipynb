{
 "cells": [
  {
   "cell_type": "code",
   "execution_count": 1,
   "metadata": {},
   "outputs": [],
   "source": [
    "from functools import reduce"
   ]
  },
  {
   "cell_type": "markdown",
   "metadata": {},
   "source": [
    "**1**.\n",
    "\n",
    "Rewrite the following code using map, filter and reduce."
   ]
  },
  {
   "cell_type": "code",
   "execution_count": 10,
   "metadata": {},
   "outputs": [
    {
     "data": {
      "text/plain": [
       "1053"
      ]
     },
     "execution_count": 10,
     "metadata": {},
     "output_type": "execute_result"
    }
   ],
   "source": [
    "xs = []\n",
    "for x in range(10):\n",
    "    if x % 3:\n",
    "        xs.append(x**3)\n",
    "sum(xs)"
   ]
  },
  {
   "cell_type": "code",
   "execution_count": 7,
   "metadata": {},
   "outputs": [
    {
     "data": {
      "text/plain": [
       "1053"
      ]
     },
     "execution_count": 7,
     "metadata": {},
     "output_type": "execute_result"
    }
   ],
   "source": [
    "reduce(lambda x, y: x + y,\n",
    "       map(lambda x: x**3,\n",
    "           filter(lambda x: x % 3, range(10))))"
   ]
  },
  {
   "cell_type": "markdown",
   "metadata": {},
   "source": [
    "**2**.\n",
    "\n",
    "Euclid's algorithm to find the greatest common divisor (GCD) of two numbers $a$ and $b$:\n",
    "\n",
    "If b is 0 then the GCD is a, otherwise the GCD is the GCD of $b$ and $a \\mod b$. Implement the `gcd` function and use it to find the least common multiple of 741 and 91."
   ]
  },
  {
   "cell_type": "code",
   "execution_count": 11,
   "metadata": {},
   "outputs": [],
   "source": [
    "def gcd(a, b):\n",
    "    \"\"\"Finds greatest common denominator of a and b\"\"\"\n",
    "\n",
    "    if b == 0:\n",
    "        return(a)\n",
    "    else:\n",
    "        return(gcd(b, a % b))"
   ]
  },
  {
   "cell_type": "code",
   "execution_count": 13,
   "metadata": {},
   "outputs": [
    {
     "name": "stdout",
     "output_type": "stream",
     "text": [
      "CPU times: user 0 ns, sys: 0 ns, total: 0 ns\n",
      "Wall time: 10.3 µs\n"
     ]
    },
    {
     "data": {
      "text/plain": [
       "13"
      ]
     },
     "execution_count": 13,
     "metadata": {},
     "output_type": "execute_result"
    }
   ],
   "source": [
    "gcd(741, 91)"
   ]
  },
  {
   "cell_type": "code",
   "execution_count": 103,
   "metadata": {},
   "outputs": [],
   "source": [
    "def lcm(a, b):\n",
    "    \"\"\"Finds least common multiple of a and b\"\"\"\n",
    "    return a * b // gcd(a, b)"
   ]
  },
  {
   "cell_type": "code",
   "execution_count": 104,
   "metadata": {},
   "outputs": [
    {
     "data": {
      "text/plain": [
       "5187"
      ]
     },
     "execution_count": 104,
     "metadata": {},
     "output_type": "execute_result"
    }
   ],
   "source": [
    "lcm(741, 91)"
   ]
  },
  {
   "cell_type": "markdown",
   "metadata": {},
   "source": [
    "**3**. \n",
    "\n",
    "The Fibonacci sequence is 1,1,2,3,5,8,13,.... where each number is the sum of the two preceding it. \n",
    "\n",
    "- Write a recursive function to calculate the nth Fibonacci number \n",
    "- Write a decorator (i.e. not using `lru_cache` or similar) that caches previously seen values and apply it to the Fibonacci function. \n",
    "- Add a print statement to see how many function calls are made for $n=10$ for the plain and decorated versions"
   ]
  },
  {
   "cell_type": "code",
   "execution_count": 26,
   "metadata": {},
   "outputs": [],
   "source": [
    "from functools import lru_cache"
   ]
  },
  {
   "cell_type": "code",
   "execution_count": 108,
   "metadata": {},
   "outputs": [],
   "source": [
    "#@lru_cache(maxsize = None)\n",
    "@cache\n",
    "def fib(n):\n",
    "    \"\"\"Returns nth fibonacci sequence value\"\"\"\n",
    "    print(f'fib({n})', end=', ')\n",
    "    if n <= 0:\n",
    "        return []\n",
    "    elif n == 1:\n",
    "        return 1\n",
    "    elif n == 2:\n",
    "        return 1\n",
    "    else: \n",
    "        return fib(n-2) + fib(n-1)"
   ]
  },
  {
   "cell_type": "code",
   "execution_count": 105,
   "metadata": {},
   "outputs": [],
   "source": [
    "# From solutions\n",
    "def cache(f):\n",
    "    store = {}\n",
    "    def g(n):\n",
    "        if n not in store:\n",
    "            store[n] = f(n)\n",
    "        return store[n]\n",
    "    return g"
   ]
  },
  {
   "cell_type": "code",
   "execution_count": 107,
   "metadata": {},
   "outputs": [
    {
     "name": "stdout",
     "output_type": "stream",
     "text": [
      "fib(10), fib(8), fib(6), fib(4), fib(2), fib(3), fib(1), fib(2), fib(5), fib(3), fib(1), fib(2), fib(4), fib(2), fib(3), fib(1), fib(2), fib(7), fib(5), fib(3), fib(1), fib(2), fib(4), fib(2), fib(3), fib(1), fib(2), fib(6), fib(4), fib(2), fib(3), fib(1), fib(2), fib(5), fib(3), fib(1), fib(2), fib(4), fib(2), fib(3), fib(1), fib(2), fib(9), fib(7), fib(5), fib(3), fib(1), fib(2), fib(4), fib(2), fib(3), fib(1), fib(2), fib(6), fib(4), fib(2), fib(3), fib(1), fib(2), fib(5), fib(3), fib(1), fib(2), fib(4), fib(2), fib(3), fib(1), fib(2), fib(8), fib(6), fib(4), fib(2), fib(3), fib(1), fib(2), fib(5), fib(3), fib(1), fib(2), fib(4), fib(2), fib(3), fib(1), fib(2), fib(7), fib(5), fib(3), fib(1), fib(2), fib(4), fib(2), fib(3), fib(1), fib(2), fib(6), fib(4), fib(2), fib(3), fib(1), fib(2), fib(5), fib(3), fib(1), fib(2), fib(4), fib(2), fib(3), fib(1), fib(2), "
     ]
    },
    {
     "data": {
      "text/plain": [
       "55"
      ]
     },
     "execution_count": 107,
     "metadata": {},
     "output_type": "execute_result"
    }
   ],
   "source": [
    "# Without cache\n",
    "fib(10)"
   ]
  },
  {
   "cell_type": "code",
   "execution_count": 109,
   "metadata": {},
   "outputs": [
    {
     "name": "stdout",
     "output_type": "stream",
     "text": [
      "fib(10), fib(8), fib(6), fib(4), fib(2), fib(3), fib(1), fib(5), fib(7), fib(9), "
     ]
    },
    {
     "data": {
      "text/plain": [
       "55"
      ]
     },
     "execution_count": 109,
     "metadata": {},
     "output_type": "execute_result"
    }
   ],
   "source": [
    "# With cache\n",
    "fib(10)"
   ]
  },
  {
   "cell_type": "markdown",
   "metadata": {},
   "source": [
    "**4**. \n",
    "\n",
    "Write a function that flattens an arbitrarily nested list. For this exercise, you can assume that it will always be a nested list that is given. Use this function to flatten `xs = [1,[2,3],[4,[5,[6]]]]` into a list.\n",
    "\n",
    "Hint: use `yield` recursively."
   ]
  },
  {
   "cell_type": "code",
   "execution_count": 8,
   "metadata": {},
   "outputs": [],
   "source": [
    "xs = [1,[2,3],[4,[5,[6]]]]\n",
    "ys = [1, 2, 3]\n",
    "zs = [[1, [1, [1, [1, 2, 3], 4, 5], 6, 7], 8, 9], 10]"
   ]
  },
  {
   "cell_type": "code",
   "execution_count": 11,
   "metadata": {},
   "outputs": [],
   "source": [
    "# Was able to accomplish the task on my own using recursion with return, not yield\n",
    "def flatten(nest_list):\n",
    "    \"\"\"Flattens an arbitrarily nested list\"\"\"\n",
    "    \n",
    "    if len(nest_list) == 0:\n",
    "        return nest_list\n",
    "    if str(nest_list[0]).isdigit():\n",
    "        return [nest_list[0]] + flatten(nest_list[1:])\n",
    "    else:\n",
    "        return [nest_list[0][0]] + flatten(nest_list[0][1:] + nest_list[1:])"
   ]
  },
  {
   "cell_type": "code",
   "execution_count": 12,
   "metadata": {},
   "outputs": [
    {
     "name": "stdout",
     "output_type": "stream",
     "text": [
      "[1, 2, 3, 4, 5, 6]\n",
      "[1, 2, 3]\n",
      "[1, 1, 1, 1, 2, 3, 4, 5, 6, 7, 8, 9, 10]\n",
      "CPU times: user 0 ns, sys: 0 ns, total: 0 ns\n",
      "Wall time: 566 µs\n"
     ]
    }
   ],
   "source": [
    "%%time\n",
    "print(flatten(xs))\n",
    "print(flatten(ys))\n",
    "print(flatten(zs))"
   ]
  },
  {
   "cell_type": "code",
   "execution_count": 14,
   "metadata": {},
   "outputs": [],
   "source": [
    "# From solutions\n",
    "def flat(xs):\n",
    "    for x in xs:\n",
    "        if isinstance(x, list):\n",
    "            yield from flat(x)\n",
    "        else:\n",
    "            yield x"
   ]
  },
  {
   "cell_type": "code",
   "execution_count": 15,
   "metadata": {},
   "outputs": [
    {
     "name": "stdout",
     "output_type": "stream",
     "text": [
      "[1, 2, 3, 4, 5, 6]\n",
      "[1, 2, 3]\n",
      "[1, 1, 1, 1, 2, 3, 4, 5, 6, 7, 8, 9, 10]\n",
      "CPU times: user 0 ns, sys: 0 ns, total: 0 ns\n",
      "Wall time: 509 µs\n"
     ]
    }
   ],
   "source": [
    "%%time\n",
    "print(list(flat(xs)))\n",
    "print(list(flat(ys)))\n",
    "print(list(flat(zs)))"
   ]
  }
 ],
 "metadata": {
  "kernelspec": {
   "display_name": "Python 3",
   "language": "python",
   "name": "python3"
  },
  "language_info": {
   "codemirror_mode": {
    "name": "ipython",
    "version": 3
   },
   "file_extension": ".py",
   "mimetype": "text/x-python",
   "name": "python",
   "nbconvert_exporter": "python",
   "pygments_lexer": "ipython3",
   "version": "3.6.10"
  }
 },
 "nbformat": 4,
 "nbformat_minor": 4
}
