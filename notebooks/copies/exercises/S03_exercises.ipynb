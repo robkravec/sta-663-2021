{
 "cells": [
  {
   "cell_type": "code",
   "execution_count": 1,
   "metadata": {},
   "outputs": [],
   "source": [
    "import numpy as np"
   ]
  },
  {
   "cell_type": "code",
   "execution_count": 2,
   "metadata": {},
   "outputs": [],
   "source": [
    "np.set_printoptions(precision=2)"
   ]
  },
  {
   "cell_type": "markdown",
   "metadata": {},
   "source": [
    "**1**.\n",
    "\n",
    "A palindromic number reads the same both ways. The largest palindrome made from the product of two 2-digit numbers is 9009 = 91 × 99.\n",
    "\n",
    "Find the largest palindrome made from the product of two 3-digit numbers.\n",
    "\n",
    "(Source: Project Euler Problem 4)"
   ]
  },
  {
   "cell_type": "code",
   "execution_count": 65,
   "metadata": {},
   "outputs": [
    {
     "name": "stdout",
     "output_type": "stream",
     "text": [
      "913 * 993 = 906609\n"
     ]
    }
   ],
   "source": [
    "# Initialize largest palindrome\n",
    "largest_pal = 0\n",
    "large_i = 0\n",
    "large_j = 0\n",
    "\n",
    "# Loop through all possible combinations\n",
    "for i in range(100, 1001):\n",
    "    for j in range(100, 1001):\n",
    "        product = i * j\n",
    "        if str(product) == str(product)[::-1] and product > largest_pal:\n",
    "            largest_pal = product\n",
    "            large_i = i\n",
    "            large_j = j\n",
    "\n",
    "# Display result\n",
    "print(str(large_i) + \" * \" + str(large_j) + \" = \" + str(largest_pal))"
   ]
  },
  {
   "cell_type": "markdown",
   "metadata": {},
   "source": [
    "**2**.\n",
    "\n",
    "Construc the following matrix\n",
    "\n",
    "```python\n",
    "array([[18, 13, 10,  9, 10, 13, 18],\n",
    "       [13,  8,  5,  4,  5,  8, 13],\n",
    "       [10,  5,  2,  1,  2,  5, 10],\n",
    "       [ 9,  4,  1,  0,  1,  4,  9],\n",
    "       [10,  5,  2,  1,  2,  5, 10],\n",
    "       [13,  8,  5,  4,  5,  8, 13],\n",
    "       [18, 13, 10,  9, 10, 13, 18]])\n",
    "```"
   ]
  },
  {
   "cell_type": "code",
   "execution_count": 32,
   "metadata": {},
   "outputs": [
    {
     "data": {
      "text/plain": [
       "array([[18, 13, 10,  9, 10, 13, 18],\n",
       "       [13,  8,  5,  4,  4,  8, 13],\n",
       "       [10,  5,  2,  1,  2,  5, 10],\n",
       "       [ 9,  4,  1,  0,  1,  4,  9],\n",
       "       [10,  5,  2,  1,  2,  5, 10],\n",
       "       [13,  8,  5,  4,  4,  8, 13],\n",
       "       [18, 13, 10,  9, 10, 13, 18]])"
      ]
     },
     "execution_count": 32,
     "metadata": {},
     "output_type": "execute_result"
    }
   ],
   "source": [
    "# Construct individual rows\n",
    "row1_7 = np.array([18, 13, 10, 9, 10, 13, 18]).reshape(1, -1)\n",
    "row2_6 = np.array([13, 8, 5, 4, 4, 8, 13]).reshape(1, -1)\n",
    "row3_5 = np.array([10, 5, 2, 1, 2, 5, 10]).reshape(1, -1)\n",
    "row4 = np.array([9, 4, 1, 0, 1, 4, 9]).reshape(1, -1)\n",
    "\n",
    "# Perform row stacking\n",
    "np.r_[row1_7, row2_6, row3_5, row4, row3_5, row2_6, row1_7]"
   ]
  },
  {
   "cell_type": "code",
   "execution_count": 66,
   "metadata": {},
   "outputs": [
    {
     "data": {
      "text/plain": [
       "array([[18, 13, 10,  9, 10, 13, 18],\n",
       "       [13,  8,  5,  4,  5,  8, 13],\n",
       "       [10,  5,  2,  1,  2,  5, 10],\n",
       "       [ 9,  4,  1,  0,  1,  4,  9],\n",
       "       [10,  5,  2,  1,  2,  5, 10],\n",
       "       [13,  8,  5,  4,  5,  8, 13],\n",
       "       [18, 13, 10,  9, 10, 13, 18]])"
      ]
     },
     "execution_count": 66,
     "metadata": {},
     "output_type": "execute_result"
    }
   ],
   "source": [
    "# From solutions (using np.fromfunction)\n",
    "np.fromfunction(lambda i,j: (i-3)**2 + (j-3)**2, [7,7]).astype('int')"
   ]
  },
  {
   "cell_type": "markdown",
   "metadata": {},
   "source": [
    "**3**.\n",
    "\n",
    "Using numpy and string manipulation, create a DNA string with 150 bases that have the following probabilities: (A, 0.5), (C, 0.2), (T, 0.2), (G, 0.1). Find the most common triplet of bases in among sliding windows of this DNA string. For example, a sliding window of size 3 for GATTACA would be GAT, ATT, TTA, TAC, ..."
   ]
  },
  {
   "cell_type": "code",
   "execution_count": 67,
   "metadata": {},
   "outputs": [
    {
     "name": "stdout",
     "output_type": "stream",
     "text": [
      "[('AAA', 19), ('ACA', 12), ('AAC', 12), ('ATA', 8), ('GAA', 7), ('CAA', 7), ('CAT', 6), ('AAT', 6), ('TAA', 6), ('CAC', 6), ('TCA', 5), ('CGA', 4), ('ACT', 4), ('CTC', 4), ('ACC', 3), ('ATC', 3), ('TAC', 2), ('ACG', 2), ('ATT', 2), ('TTA', 2), ('CCA', 2), ('TAT', 2), ('TCC', 2), ('CCT', 2), ('AGA', 2), ('ATG', 2), ('TGA', 2), ('TCG', 2), ('AAG', 2), ('CTT', 1), ('CAG', 1), ('AGC', 1), ('GCA', 1), ('CTA', 1), ('TAG', 1), ('GAT', 1), ('TTC', 1), ('AGT', 1), ('GTC', 1)]\n"
     ]
    }
   ],
   "source": [
    "# Sample 150 bases with given probabilities\n",
    "choices = np.array([\"A\", \"C\", \"T\", \"G\"])\n",
    "probs = np.array([0.5, 0.2, 0.2, 0.1])\n",
    "dna_array = np.random.choice(a = choices, size = 150, replace = True, p = probs)\n",
    "\n",
    "# Create a single string out of the sampled bases\n",
    "dna_string = \"\".join(list(dna_array))\n",
    "\n",
    "# Find most common triplet\n",
    "triplets_dict = {}\n",
    "for index, base in enumerate(dna_string[:-2]):\n",
    "    current_triplet = dna_string[index] + dna_string[index + 1] + dna_string[index + 2]\n",
    "    triplets_dict[current_triplet] = triplets_dict.get(current_triplet, 0) + 1\n",
    "\n",
    "# Display result\n",
    "#print(triplets_dict)\n",
    "\n",
    "# Display sorted results\n",
    "print(sorted(triplets_dict.items(), key = lambda x: -x[1]))"
   ]
  },
  {
   "cell_type": "code",
   "execution_count": 68,
   "metadata": {},
   "outputs": [
    {
     "data": {
      "text/plain": [
       "[('AAA', 19)]"
      ]
     },
     "execution_count": 68,
     "metadata": {},
     "output_type": "execute_result"
    }
   ],
   "source": [
    "# Solutions suggest using collection to determine most common triplet\n",
    "from collections import Counter\n",
    "Counter(triplets_dict).most_common(1)"
   ]
  },
  {
   "cell_type": "code",
   "execution_count": null,
   "metadata": {},
   "outputs": [],
   "source": [
    "# Full solution provided, which leverages lambda function\n",
    "dna = np.random.choice(list('ACTG'), size=150, p=[0.5,0.2,0.2,0.1])\n",
    "triplets = list(map(lambda x: ''.join(x), np.c_[dna[:-2], dna[1:-1], dna[2:]]))\n",
    "Counter(triplets).most_common(1)"
   ]
  },
  {
   "cell_type": "markdown",
   "metadata": {},
   "source": [
    "**4**.\n",
    "\n",
    "- Using only base Python and numpy, create a pairwise distance matrix of the two sets of *row* vectors given\n",
    "- Scale the distances so that each *row* has mean zero and standard deviation 1\n",
    "\n",
    "Use Euclidean distance."
   ]
  },
  {
   "cell_type": "code",
   "execution_count": 61,
   "metadata": {},
   "outputs": [],
   "source": [
    "np.random.seed(123)\n",
    "xs = np.random.randint(1,10, (10, 5))\n",
    "ys = np.random.randint(1,10, (8, 5))"
   ]
  },
  {
   "cell_type": "code",
   "execution_count": 81,
   "metadata": {},
   "outputs": [
    {
     "name": "stdout",
     "output_type": "stream",
     "text": [
      "[[ 1.57 -1.77 -0.32 -0.12  0.33  1.16  0.06 -0.9 ]\n",
      " [ 0.64  0.44 -0.71 -0.62 -0.59  1.88  0.5  -1.55]\n",
      " [ 1.42 -0.97 -0.8   0.64  0.07  1.23 -0.02 -1.57]\n",
      " [ 1.73 -1.18 -0.45 -1.18  0.61  1.18 -0.29 -0.41]\n",
      " [-1.9   0.79  1.11  0.79 -0.92 -0.78  0.31  0.59]\n",
      " [-0.63  0.26  0.66  2.06 -0.92 -1.35 -0.35  0.26]\n",
      " [ 1.64 -1.52 -0.15  0.94  0.07  0.75 -0.74 -1.  ]\n",
      " [ 0.79 -0.37  0.79 -1.81 -0.48  1.51  0.41 -0.83]\n",
      " [-0.78  0.75  0.91 -2.16 -0.51  0.58  0.58  0.64]\n",
      " [ 0.9  -1.04 -0.39 -1.99  1.02  0.27  0.4   0.84]]\n"
     ]
    }
   ],
   "source": [
    "# Calculate result without centering and scaling\n",
    "result = np.zeros(shape = (10, 8))\n",
    "for index_x, rowx in enumerate(xs):\n",
    "    for index_y, rowy in enumerate(ys):\n",
    "        #result[index_x, index_y] = np.dot(rowx, rowy) ** 0.5\n",
    "        result[index_x, index_y] = (sum((rowx - rowy) ** 2)) ** 0.5\n",
    "\n",
    "        \n",
    "# Calculate row means, and subtract from each row\n",
    "row_means = np.mean(result, axis = 1).reshape(10, -1)\n",
    "row_sd = np.std(result, axis = 1).reshape(10, -1)\n",
    "scaled_result = (result - row_means) / row_sd\n",
    "print(scaled_result)"
   ]
  }
 ],
 "metadata": {
  "kernelspec": {
   "display_name": "Python 3",
   "language": "python",
   "name": "python3"
  },
  "language_info": {
   "codemirror_mode": {
    "name": "ipython",
    "version": 3
   },
   "file_extension": ".py",
   "mimetype": "text/x-python",
   "name": "python",
   "nbconvert_exporter": "python",
   "pygments_lexer": "ipython3",
   "version": "3.6.10"
  }
 },
 "nbformat": 4,
 "nbformat_minor": 4
}
