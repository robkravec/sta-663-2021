{
 "cells": [
  {
   "cell_type": "code",
   "execution_count": 1,
   "metadata": {},
   "outputs": [],
   "source": [
    "from sympy import *"
   ]
  },
  {
   "cell_type": "code",
   "execution_count": 2,
   "metadata": {},
   "outputs": [
    {
     "name": "stdout",
     "output_type": "stream",
     "text": [
      "IPython console for SymPy 1.5.1 (Python 3.6.10-64-bit) (ground types: gmpy)\n",
      "\n",
      "These commands were executed:\n",
      ">>> from __future__ import division\n",
      ">>> from sympy import *\n",
      ">>> x, y, z, t = symbols('x y z t')\n",
      ">>> k, m, n = symbols('k m n', integer=True)\n",
      ">>> f, g, h = symbols('f g h', cls=Function)\n",
      ">>> init_printing()\n",
      "\n",
      "Documentation can be found at https://docs.sympy.org/1.5.1/\n",
      "\n"
     ]
    }
   ],
   "source": [
    "from sympy import init_session\n",
    "init_session()"
   ]
  },
  {
   "cell_type": "markdown",
   "metadata": {},
   "source": [
    "No solutions will be provided,  but you can check your solution using `sympy` or `numpy.linalg`"
   ]
  },
  {
   "cell_type": "markdown",
   "metadata": {},
   "source": [
    "**1**.\n",
    "\n",
    "Let \n",
    "\n",
    "$$A = \\pmatrix{1 & 3\\\\2 & 6}$$\n",
    "\n",
    "* Find a set of basis vectors for $C(A), N(A), C(A^T), N(A^T)$\n",
    "* Find which subspaces are orthogonal to each other (i.e. all vectors in the first subspace are orthogonal to all vectors in the second subspace)\n",
    "* Express $A$ as the product of two vectors\n",
    "* If $Ax = b$, describe the geometric constraints on $b$ for there to be a solution $x$\n",
    "* Check your results using `sympy` and `numpy.linalg`"
   ]
  },
  {
   "cell_type": "code",
   "execution_count": 3,
   "metadata": {},
   "outputs": [
    {
     "data": {
      "image/png": "[encoded data removed]",
      "text/latex": [
       "$\\displaystyle \\left[\\begin{matrix}1 & 3\\\\2 & 6\\end{matrix}\\right]$"
      ],
      "text/plain": [
       "⎡1  3⎤\n",
       "⎢    ⎥\n",
       "⎣2  6⎦"
      ]
     },
     "execution_count": 3,
     "metadata": {},
     "output_type": "execute_result"
    }
   ],
   "source": [
    "A = Matrix([[1, 3], [2, 6]])\n",
    "A"
   ]
  },
  {
   "cell_type": "code",
   "execution_count": 4,
   "metadata": {},
   "outputs": [
    {
     "data": {
      "image/png": "[encoded data removed]",
      "text/latex": [
       "$\\displaystyle \\left[ \\left[\\begin{matrix}1\\\\2\\end{matrix}\\right]\\right]$"
      ],
      "text/plain": [
       "⎡⎡1⎤⎤\n",
       "⎢⎢ ⎥⎥\n",
       "⎣⎣2⎦⎦"
      ]
     },
     "execution_count": 4,
     "metadata": {},
     "output_type": "execute_result"
    }
   ],
   "source": [
    "A.columnspace()"
   ]
  },
  {
   "cell_type": "code",
   "execution_count": 5,
   "metadata": {},
   "outputs": [
    {
     "data": {
      "image/png": "[encoded data removed]",
      "text/latex": [
       "$\\displaystyle \\left[ \\left[\\begin{matrix}-3\\\\1\\end{matrix}\\right]\\right]$"
      ],
      "text/plain": [
       "⎡⎡-3⎤⎤\n",
       "⎢⎢  ⎥⎥\n",
       "⎣⎣1 ⎦⎦"
      ]
     },
     "execution_count": 5,
     "metadata": {},
     "output_type": "execute_result"
    }
   ],
   "source": [
    "A.nullspace()"
   ]
  },
  {
   "cell_type": "code",
   "execution_count": 6,
   "metadata": {},
   "outputs": [
    {
     "data": {
      "image/png": "[encoded data removed]",
      "text/latex": [
       "$\\displaystyle \\left[ \\left[\\begin{matrix}1\\\\3\\end{matrix}\\right]\\right]$"
      ],
      "text/plain": [
       "⎡⎡1⎤⎤\n",
       "⎢⎢ ⎥⎥\n",
       "⎣⎣3⎦⎦"
      ]
     },
     "execution_count": 6,
     "metadata": {},
     "output_type": "execute_result"
    }
   ],
   "source": [
    "A.T.columnspace()"
   ]
  },
  {
   "cell_type": "code",
   "execution_count": 7,
   "metadata": {},
   "outputs": [
    {
     "data": {
      "image/png": "[encoded data removed]",
      "text/latex": [
       "$\\displaystyle \\left[ \\left[\\begin{matrix}-2\\\\1\\end{matrix}\\right]\\right]$"
      ],
      "text/plain": [
       "⎡⎡-2⎤⎤\n",
       "⎢⎢  ⎥⎥\n",
       "⎣⎣1 ⎦⎦"
      ]
     },
     "execution_count": 7,
     "metadata": {},
     "output_type": "execute_result"
    }
   ],
   "source": [
    "A.T.nullspace()"
   ]
  },
  {
   "cell_type": "code",
   "execution_count": 11,
   "metadata": {},
   "outputs": [
    {
     "data": {
      "image/png": "[encoded data removed]",
      "text/latex": [
       "$\\displaystyle \\left[\\begin{matrix}1\\\\2\\end{matrix}\\right]$"
      ],
      "text/plain": [
       "⎡1⎤\n",
       "⎢ ⎥\n",
       "⎣2⎦"
      ]
     },
     "execution_count": 11,
     "metadata": {},
     "output_type": "execute_result"
    }
   ],
   "source": [
    "A1 = Matrix([1, 2])\n",
    "A1"
   ]
  },
  {
   "cell_type": "code",
   "execution_count": 12,
   "metadata": {},
   "outputs": [
    {
     "data": {
      "image/png": "[encoded data removed]",
      "text/latex": [
       "$\\displaystyle \\left[\\begin{matrix}1 & 3\\end{matrix}\\right]$"
      ],
      "text/plain": [
       "[1  3]"
      ]
     },
     "execution_count": 12,
     "metadata": {},
     "output_type": "execute_result"
    }
   ],
   "source": [
    "A2 = Matrix([[1, 3]])\n",
    "A2"
   ]
  },
  {
   "cell_type": "code",
   "execution_count": 13,
   "metadata": {},
   "outputs": [
    {
     "data": {
      "image/png": "[encoded data removed]",
      "text/latex": [
       "$\\displaystyle \\left[\\begin{matrix}1 & 3\\\\2 & 6\\end{matrix}\\right]$"
      ],
      "text/plain": [
       "⎡1  3⎤\n",
       "⎢    ⎥\n",
       "⎣2  6⎦"
      ]
     },
     "execution_count": 13,
     "metadata": {},
     "output_type": "execute_result"
    }
   ],
   "source": [
    "A1 * A2"
   ]
  },
  {
   "cell_type": "markdown",
   "metadata": {},
   "source": [
    "**2**.\n",
    "\n",
    "Let \n",
    "\n",
    "$$A = \\pmatrix{1 & 1 & 1\\\\2& 3 & 5\\\\4 & 6 & 8}$$\n",
    "\n",
    "* Find $A^{-1}$ by Gaussian elimination\n",
    "* Find the LU and LDU decomposition of $A$ by hand\n",
    "* Find the Cholesky decomposition of $A^TA$ by hand\n",
    "* Check your results using `sympy` and `numpy.linalg`"
   ]
  },
  {
   "cell_type": "code",
   "execution_count": 14,
   "metadata": {},
   "outputs": [
    {
     "data": {
      "image/png": "[encoded data removed]",
      "text/latex": [
       "$\\displaystyle \\left[\\begin{matrix}1 & 1 & 1\\\\2 & 3 & 5\\\\4 & 6 & 8\\end{matrix}\\right]$"
      ],
      "text/plain": [
       "⎡1  1  1⎤\n",
       "⎢       ⎥\n",
       "⎢2  3  5⎥\n",
       "⎢       ⎥\n",
       "⎣4  6  8⎦"
      ]
     },
     "execution_count": 14,
     "metadata": {},
     "output_type": "execute_result"
    }
   ],
   "source": [
    "A = Matrix([[1, 1, 1], [2, 3, 5], [4, 6, 8]])\n",
    "A"
   ]
  },
  {
   "cell_type": "code",
   "execution_count": 15,
   "metadata": {},
   "outputs": [
    {
     "data": {
      "image/png": "[encoded data removed]",
      "text/latex": [
       "$\\displaystyle \\left[\\begin{matrix}3 & 1 & -1\\\\-2 & -2 & \\frac{3}{2}\\\\0 & 1 & - \\frac{1}{2}\\end{matrix}\\right]$"
      ],
      "text/plain": [
       "⎡3   1    -1 ⎤\n",
       "⎢            ⎥\n",
       "⎢-2  -2  3/2 ⎥\n",
       "⎢            ⎥\n",
       "⎣0   1   -1/2⎦"
      ]
     },
     "execution_count": 15,
     "metadata": {},
     "output_type": "execute_result"
    }
   ],
   "source": [
    "A.inv()"
   ]
  },
  {
   "cell_type": "code",
   "execution_count": 16,
   "metadata": {},
   "outputs": [
    {
     "data": {
      "image/png": "[encoded data removed]",
      "text/latex": [
       "$\\displaystyle \\left( \\left[\\begin{matrix}1 & 0 & 0\\\\2 & 1 & 0\\\\4 & 2 & 1\\end{matrix}\\right], \\  \\left[\\begin{matrix}1 & 1 & 1\\\\0 & 1 & 3\\\\0 & 0 & -2\\end{matrix}\\right], \\  \\left[ \\right]\\right)$"
      ],
      "text/plain": [
       "⎛⎡1  0  0⎤  ⎡1  1  1 ⎤    ⎞\n",
       "⎜⎢       ⎥  ⎢        ⎥    ⎟\n",
       "⎜⎢2  1  0⎥, ⎢0  1  3 ⎥, []⎟\n",
       "⎜⎢       ⎥  ⎢        ⎥    ⎟\n",
       "⎝⎣4  2  1⎦  ⎣0  0  -2⎦    ⎠"
      ]
     },
     "execution_count": 16,
     "metadata": {},
     "output_type": "execute_result"
    }
   ],
   "source": [
    "A.LUdecomposition()"
   ]
  },
  {
   "cell_type": "code",
   "execution_count": 21,
   "metadata": {},
   "outputs": [
    {
     "data": {
      "image/png": "[encoded data removed]",
      "text/latex": [
       "$\\displaystyle \\left[\\begin{matrix}\\sqrt{21} & 0 & 0\\\\\\frac{31 \\sqrt{21}}{21} & \\frac{\\sqrt{105}}{21} & 0\\\\\\frac{43 \\sqrt{21}}{21} & \\frac{11 \\sqrt{105}}{105} & \\frac{2 \\sqrt{5}}{5}\\end{matrix}\\right]$"
      ],
      "text/plain": [
       "⎡ √21       0      0  ⎤\n",
       "⎢                     ⎥\n",
       "⎢31⋅√21   √105        ⎥\n",
       "⎢──────   ────     0  ⎥\n",
       "⎢  21      21         ⎥\n",
       "⎢                     ⎥\n",
       "⎢43⋅√21  11⋅√105  2⋅√5⎥\n",
       "⎢──────  ───────  ────⎥\n",
       "⎣  21      105     5  ⎦"
      ]
     },
     "execution_count": 21,
     "metadata": {},
     "output_type": "execute_result"
    }
   ],
   "source": [
    "(A.T * A).cholesky()"
   ]
  },
  {
   "cell_type": "markdown",
   "metadata": {},
   "source": [
    "**3**.\n",
    "\n",
    "A population of immortal being grows as follows every year\n",
    "\n",
    "\\begin{eqnarray}\n",
    "\\text{child} &\\to& \\text{adult} \\\\\n",
    "\\text{adult} &\\to& \\text{child} + \\text{adult}  \n",
    "\\end{eqnarray}\n",
    "\n",
    "That is, if you are a child in Year 1, you will be an adult in Year 2. If you are an adult in Year 1, you remain an adult in Year 2 and you produce a child. \n",
    "\n",
    "* Express the number of adults and children in Year(n+1) as function of the number of adults and children in Year(n) as a matrix equation\n",
    "* Find the eigenvalues and eigenvectors of the resulting matrix by hand\n",
    "* Check your results using `sympy` and `numpy.linalg`\n",
    "* Explain geometrically why the ratio of adults to children as $n \\to \\infty$ approaches the larger eigenvalue\n",
    "* Using `numpy`, evaluate the 10 years of population growth starting from a single child"
   ]
  },
  {
   "cell_type": "code",
   "execution_count": null,
   "metadata": {},
   "outputs": [],
   "source": []
  },
  {
   "cell_type": "markdown",
   "metadata": {},
   "source": [
    "**4**.\n",
    "\n",
    "A vector $x$ has coordinates $\\pmatrix{1 \\\\ 1}$  with basis vectors $\\left\\{ \\pmatrix{1 \\\\ 0}, \\pmatrix{1 \\\\ 1} \\right\\}$. \n",
    "\n",
    "* What will its coordinates be with basis vectors $\\left\\{ \\pmatrix{1 \\\\ 2}, \\pmatrix{0 \\\\ 1} \\right\\}$?\n",
    "* Do this manually using your understanding of coordinates as coefficients for the linear combination of basis vectors\n",
    "* Do this by matrix multiplication using the change of basis matrix\n",
    "\n",
    "Hint: Try doing the change of basis in two steps, using the standard basis $\\left\\{ \\pmatrix{1 \\\\ 0}, \\pmatrix{0 \\\\ 1} \\right\\}$ as an intermediate"
   ]
  },
  {
   "cell_type": "code",
   "execution_count": null,
   "metadata": {},
   "outputs": [],
   "source": []
  }
 ],
 "metadata": {
  "kernelspec": {
   "display_name": "Python 3",
   "language": "python",
   "name": "python3"
  },
  "language_info": {
   "codemirror_mode": {
    "name": "ipython",
    "version": 3
   },
   "file_extension": ".py",
   "mimetype": "text/x-python",
   "name": "python",
   "nbconvert_exporter": "python",
   "pygments_lexer": "ipython3",
   "version": "3.6.10"
  }
 },
 "nbformat": 4,
 "nbformat_minor": 4
}
