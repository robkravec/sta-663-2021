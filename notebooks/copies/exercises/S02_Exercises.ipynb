{
 "cells": [
  {
   "cell_type": "markdown",
   "metadata": {},
   "source": [
    "Try to solve each exercise using two different approaches."
   ]
  },
  {
   "cell_type": "code",
   "execution_count": 30,
   "metadata": {},
   "outputs": [],
   "source": [
    "import re\n",
    "import string"
   ]
  },
  {
   "cell_type": "markdown",
   "metadata": {},
   "source": [
    "**1**. Find the longset run of Heads in the string recording coin tosses below.\n",
    "\n"
   ]
  },
  {
   "cell_type": "code",
   "execution_count": 3,
   "metadata": {},
   "outputs": [],
   "source": [
    "tosses = 'THTTTTHTTTHTTTHHTTTHTTTHTHHTHHHHTHHTTTHTTHHTHTHHTHTHHHTHTTHHTHHTHHHTHTTHTTTHTHTTHTHHTTTHTTHHTHTHHTHTHHTTTHHHHHTTHTHHTTTTHTTHTHHTHHTTHHTTTHTTHHHHHHHHHHTHTTTTTTHHHTHHTHTTHTHTTTTHTHHHTTTHHTHTTHTHHHTHTHTHTHHHHHHHHHTHTTHHHHTTHTTHTTTTHTTTTHTHTTHHTTHHHHTTTHHHTHTHTHHTHTTTTTTTHHTTHHHHTHHHTTTHHHTTHHTTHTTHTTTHTTHHHTHTHHTHHHTHTHTTTHHHHHTTTHHHHHHTHHHTTHTTTHHTHTTTTTHTTTHHTTTTHTHHHTHTTTHTTHTTTHHTHHTTTTHHHTHTTTTHHTHHTTHHTTHHTHHTHTTHHHHHHTTTTTHTHHTTHHHHHHHTTTTHHTTTHHTHTHHTTHHTTTHHHTTTTTHHHTTHHHHTHTTTTHHTTHHTTHTTTTTTTTHHTTTTHHHHTHHHHHTTTTHHHTTHTTHTTHTTHHHTTHTHTHTHTHHHHTTHHHHHTHHTTHHTTTTHTHHTHHTTHHTHTHHTTHTTHTTTHTTTHHTHTTTHHHHHHHHHTHHHTTHHHTHTHHTHHHTTTTTHTHTHHHTHTHTTHHTTHTTHTHTHTTTHTHHTHHTTHHHTHTTTTHTTHTHTHTTTTHHTHHHTTHHTTHTHHHTHTHTTTTHTTHHHTHTTHTHTTTTTHTHHHHTTHHTHTTHHHTTTTTTTHHTHHHTHHHTTTTHHHTTTHTHTTTHTTTHHHHTHTHHTHHTTTTHTTHTTHHHHHHHHTHTTTTHHHTTTTHTTTTHHHHHHHTTTHHHHHTHHHHTTTHHHTTHTHHTHTTTHTHTHHTTTHHHTHTHHHHHTHHHHHTTTTHTTTHTHHTTHTTHTHHTTTHHTTTHTTTTHTTTTTTTHTTHTHHTTTTHTTTTHHHHTHTTHHTHTTTTHTTTHHHHHHTHTHTHH'"
   ]
  },
  {
   "cell_type": "code",
   "execution_count": 4,
   "metadata": {},
   "outputs": [
    {
     "name": "stdout",
     "output_type": "stream",
     "text": [
      "HHHHHHHHHH\n"
     ]
    }
   ],
   "source": [
    "# Initialize counter of current and longest stretches of heads\n",
    "longest_heads = 0\n",
    "current_heads = 0\n",
    "\n",
    "# Loop through elements of string, counting when the element is \"H\"\n",
    "for toss in tosses:\n",
    "    if toss == \"H\":\n",
    "        current_heads += 1\n",
    "    else:\n",
    "        if current_heads > longest_heads:\n",
    "            longest_heads = current_heads\n",
    "        current_heads = 0\n",
    "\n",
    "# Print longest run of Heads\n",
    "print(longest_heads * \"H\")"
   ]
  },
  {
   "cell_type": "code",
   "execution_count": 24,
   "metadata": {},
   "outputs": [
    {
     "data": {
      "text/plain": [
       "'HHHHHHHHHH'"
      ]
     },
     "execution_count": 24,
     "metadata": {},
     "output_type": "execute_result"
    }
   ],
   "source": [
    "# Another (better) option using regular expressions\n",
    "\n",
    "max(re.findall('H+', tosses), key=len)"
   ]
  },
  {
   "cell_type": "markdown",
   "metadata": {},
   "source": [
    "**2**. Find all the words starting wtih `k` that are in `data/wonderland.txt` but not in `data/lookingglass.txt`. Remove punctuation and ignore case."
   ]
  },
  {
   "cell_type": "code",
   "execution_count": 2,
   "metadata": {
    "scrolled": true
   },
   "outputs": [],
   "source": [
    "# Read in both files\n",
    "with open('data/wonderland.txt') as f:\n",
    "    wonder = f.read()\n",
    "    \n",
    "with open('data/lookingglass.txt') as f:\n",
    "    looking = f.read()"
   ]
  },
  {
   "cell_type": "code",
   "execution_count": 27,
   "metadata": {},
   "outputs": [
    {
     "name": "stdout",
     "output_type": "stream",
     "text": [
      "['key', 'kid', 'kill', 'killing', 'kills', 'kissed', 'kitchen', 'knave', 'kneel', 'knelt', 'knot', 'knowledge', 'knuckles']\n",
      "['key', 'kid', 'kill', 'killing', 'kills', 'kissed', 'kitchen', 'knave', 'kneel', 'knelt', 'knot', 'knowledge', 'knuckles']\n"
     ]
    }
   ],
   "source": [
    "# Find all words starting with k\n",
    "wonder_k = set(re.findall(r'\\bk[a-z]*\\b', wonder.lower()))\n",
    "looking_k = set(re.findall(r'\\bk[a-z]*\\b', looking.lower()))\n",
    "\n",
    "# Determine overlap using list comprehension\n",
    "overlap = [word for word in wonder_k if not word in looking_k]\n",
    "print(sorted(overlap))\n",
    "\n",
    "# Determine overlap by subtracting one set from another\n",
    "print(sorted(wonder_k - looking_k))"
   ]
  },
  {
   "cell_type": "code",
   "execution_count": 35,
   "metadata": {},
   "outputs": [
    {
     "name": "stdout",
     "output_type": "stream",
     "text": [
      "['key', 'kid', 'kill', 'killing', 'kills', 'kind”', 'king”', 'kissed', 'kitchen', 'knave', 'kneel', 'knelt', 'knock', 'knocking”', 'knot', 'knot”', 'knowledge', 'know—and', 'know—no', 'know—”', 'know”', 'knuckles']\n"
     ]
    }
   ],
   "source": [
    "# Additional option from solutions\n",
    "# First, create a list of words (not including punctuation) from each .txt file\n",
    "tbl = wonder.maketrans('', '', string.punctuation)\n",
    "wonder_words = wonder.lower().translate(tbl).split()\n",
    "looking_words = looking.lower().translate(tbl).split()\n",
    "\n",
    "# Then, use combination of techniques above (and str.startswith)\n",
    "k_words = [word for word in set(wonder_words) - set(looking_words) if word.startswith('k')]\n",
    "print(sorted(k_words))"
   ]
  },
  {
   "cell_type": "markdown",
   "metadata": {},
   "source": [
    "I don't love some of the punctuation that survives when we use str.startswith('k') instead of the regular expression. I'm also troubled by the fact that \"knock\" shows up in this list because we can show below that \"knock\" shows up several times in lookingglass.txt"
   ]
  },
  {
   "cell_type": "code",
   "execution_count": 38,
   "metadata": {},
   "outputs": [
    {
     "data": {
      "text/plain": [
       "['knock', 'knock', 'knock', 'knock', 'knock', 'knock', 'knock', 'knock']"
      ]
     },
     "execution_count": 38,
     "metadata": {},
     "output_type": "execute_result"
    }
   ],
   "source": [
    "re.findall(\"knock\", looking.lower())"
   ]
  },
  {
   "cell_type": "markdown",
   "metadata": {},
   "source": [
    "**3**. Create a dictionary of the number of times each word in the list from the problem above appears in `data/wonderland.txt`"
   ]
  },
  {
   "cell_type": "markdown",
   "metadata": {},
   "source": [
    "From lecture: \n",
    "dictionary.get(key, 0) returns the value for the given key but also provides a default value (in this case zero)"
   ]
  },
  {
   "cell_type": "code",
   "execution_count": 39,
   "metadata": {},
   "outputs": [
    {
     "name": "stdout",
     "output_type": "stream",
     "text": [
      "{'knelt': 1, 'kneel': 1, 'kitchen': 4, 'kills': 1, 'knot': 2, 'kill': 3, 'killing': 1, 'knave': 9, 'kissed': 1, 'knuckles': 1, 'kid': 5, 'knowledge': 3, 'key': 10}\n"
     ]
    }
   ],
   "source": [
    "# Using dictionary comprehension\n",
    "k_word_dict = {word: wonder.lower().count(word) for word in overlap}\n",
    "print(k_word_dict)"
   ]
  },
  {
   "cell_type": "markdown",
   "metadata": {},
   "source": [
    "**4**. Find the reverse complement of the DNA sequence shown below.\n",
    "\n",
    "The following bases are complementary a → t, c → g, t → a, g → c. Reverse complement means reverse each base with its complement, then reverse the entire sequence."
   ]
  },
  {
   "cell_type": "code",
   "execution_count": 6,
   "metadata": {},
   "outputs": [],
   "source": [
    "dna = '''\n",
    "          aaattgaaga gtttgatcat ggctcagatt gaacgctggc ggcaggccta acacatgcaa\n",
    "       61 gtcgaacggt aacaggaaga agcttgctct ttgctgacga gtggcggacg ggtgagtaat\n",
    "      121 gtctgggaaa ctgcctgatg gagggggata actactggaa acggtagcta ataccgcata\n",
    "      181 acgtcgcaag accaaagagg gggaccttcg ggcctcttgc catcggatgt gcccagatgg\n",
    "      241 gattagctag taggtggggt aacggctcac ctaggcgacg atccctagct ggtctgagag\n",
    "      301 gatgaccagc cacactggaa ctgagacacg gtccagactc ctacgggagg cagcagtggg\n",
    "      361 gaatattgca caatgggcgc aagcctgatg cagccatgcc gcgtgtatga agaaggcctt\n",
    "      421 cgggttgtaa agtactttca gcggggagga agggagtaaa gttaatacct ttgctcattg\n",
    "      481 acgttacccg cagaagaagc accggctaac tccgtgccag cagccgcggt aatacggagg\n",
    "      541 gtgcaagcgt taatcggaat tactgggcgt aaagcgcacg caggcggttt gttaagtcag\n",
    "      601 atgtgaaatc cccgggctca acctgggaac tgcatctgat actggcaagc ttgagtctcg\n",
    "      661 tagagggggg tagaattcca ggtgtagcgg tgaaatgcgt agagatctgg aggaataccg\n",
    "      721 gtggcgaagg cggccccctg gacgaagact gacgctcagg tgcgaaagcg tggggagcaa\n",
    "      781 acaggattag ataccctggt agtccacgcc gtaaacgatg tcgacttgga ggttgtgccc\n",
    "      841 ttgaggcgtg gcttccggag ctaacgcgtt aagtcgaccg cctggggagt acggccgcaa\n",
    "      901 ggttaaaact caaatgaatt gacgggggcc cgcacaagcg gtggagcatg tggtttaatt\n",
    "      961 cgatgcaacg cgaagaacct tacctggtct tgacatccac ggaagttttc agagatgaga\n",
    "     1021 atgtgccttc gggaaccgtg agacaggtgc tgcatggctg tcgtcagctc gtgttgtgaa\n",
    "     1081 atgttgggtt aagtcccgca acgagcgcaa cccttatcct ttgttgccag cggtccggcc\n",
    "     1141 gggaactcaa aggagactgc cagtgataaa ctggaggaag gtggggatga cgtcaagtca\n",
    "     1201 tcatggccct tacgaccagg gctacacacg tgctacaatg gcgcatacaa agagaagcga\n",
    "     1261 cctcgcgaga gcaagcggac ctcataaagt gcgtcgtagt ccggattgga gtctgcaact\n",
    "     1321 cgactccatg aagtcggaat cgctagtaat cgtggatcag aatgccacgg tgaatacgtt\n",
    "     1381 cccgggcctt gtacacaccg cccgtcacac catgggagtg ggttgcaaaa gaagtaggta\n",
    "     1441 gcttaacctt cgggagggcg cttaccactt tgtgattcat gactggggtg aagtcgtaac\n",
    "     1501 aaggtaaccg taggggaacc tgcggttgga tcacctcctt a\n",
    "'''"
   ]
  },
  {
   "cell_type": "code",
   "execution_count": 37,
   "metadata": {},
   "outputs": [
    {
     "data": {
      "text/plain": [
       "'taaggaggtgatccaaccgcaggttcccctacggttacctt0gttacgacttcaccccagtcatgaatcacaaagtggtaagcgccctcccgaaggttaagctacctacttcttttgcaacccactcccatggtgtgacgggcggtgtgtacaaggcccgggaacgtattcaccgtggcattctgatccacgattactagcgattccgacttcatggagtcgagttgcagactccaatccggactacgacgcactttatgaggtccgcttgctctcgcgaggtcgcttctctttgtatgcgccattgtagcacgtgtgtagccctggtcgtaagggccatga0tgacttgacgtcatccccaccttcctccagtttatcactggcagtctcctttgagttcccggccggaccgctggcaacaaaggataagggttgcgctcgttgcgggacttaacccaacat0ttcacaacacgagctgacgacagccatgcagcacctgtctcacggttcccgaaggcacat0tctcatctctgaaaacttccgtggatgtcaagaccaggtaaggttcttcgcgttgcatcgaattaaaccacatgctccaccgcttgtgcgggcccccgtcaattcatttgagttttaacc0ttgcggccgtactccccaggcggtcgacttaacgcgttagctccggaagccacgcctcaagggcacaacctccaagtcgacatcgtttacggcgtggactaccagggtatctaatcctgtttgctccccacgctttcgcacctgagcgtcagtcttcgtccagggggccgccttcgccaccggtattcctccagatctctacgcatttcaccgctacacctggaattctacccccctctacgagactcaagcttgccagtatcagatgcagttcccaggttgagcccggggatttcacat0ctgacttaacaaaccgcctgcgtgcgctttacgcccagtaattccgattaacgcttgcaccctccgtattaccgcggctgctggcacggagttagccggtgcttcttctgcgggtaacgtcaatgagcaaaggtattaactttactcccttcctccccgctgaaagtactttacaacccgaaggccttcttcatacacgcggcatggctgcatcaggcttgcgcccattgtgcaatattccccactgctgcctcccgtaggagtctggaccgtgtctcagttccagtgtggctggtcatc0ctctcagaccagctagggatcgtcgcctaggtgagccgttaccccacctactagctaatcccatctgggcacatccgatggcaagaggcccgaaggtccccctctttggtcttgcgacgttatgcggtattagctaccgtttccagtagttatccccctccatcaggcagtttcccagacattactcacccgtccgccactcgtcagcaaagagcaagcttcttcctgttaccgttcgacttgcatgtgttaggcctgccgccagcgttcaatctgagccatgatcaaactcttcaattt'"
      ]
     },
     "execution_count": 37,
     "metadata": {},
     "output_type": "execute_result"
    }
   ],
   "source": [
    "# Note: str.maketrans is case sensitive!\n",
    "dna.translate(str.maketrans('actg', 'tgac', '123456789\\n '))[::-1]"
   ]
  },
  {
   "cell_type": "code",
   "execution_count": 40,
   "metadata": {},
   "outputs": [
    {
     "data": {
      "text/plain": [
       "'taaggaggtgatccaaccgcaggttcccctacggttaccttgttacgacttcaccccagtcatgaatcacaaagtggtaagcgccctcccgaaggttaagctacctacttcttttgcaacccactcccatggtgtgacgggcggtgtgtacaaggcccgggaacgtattcaccgtggcattctgatccacgattactagcgattccgacttcatggagtcgagttgcagactccaatccggactacgacgcactttatgaggtccgcttgctctcgcgaggtcgcttctctttgtatgcgccattgtagcacgtgtgtagccctggtcgtaagggccatgatgacttgacgtcatccccaccttcctccagtttatcactggcagtctcctttgagttcccggccggaccgctggcaacaaaggataagggttgcgctcgttgcgggacttaacccaacatttcacaacacgagctgacgacagccatgcagcacctgtctcacggttcccgaaggcacattctcatctctgaaaacttccgtggatgtcaagaccaggtaaggttcttcgcgttgcatcgaattaaaccacatgctccaccgcttgtgcgggcccccgtcaattcatttgagttttaaccttgcggccgtactccccaggcggtcgacttaacgcgttagctccggaagccacgcctcaagggcacaacctccaagtcgacatcgtttacggcgtggactaccagggtatctaatcctgtttgctccccacgctttcgcacctgagcgtcagtcttcgtccagggggccgccttcgccaccggtattcctccagatctctacgcatttcaccgctacacctggaattctacccccctctacgagactcaagcttgccagtatcagatgcagttcccaggttgagcccggggatttcacatctgacttaacaaaccgcctgcgtgcgctttacgcccagtaattccgattaacgcttgcaccctccgtattaccgcggctgctggcacggagttagccggtgcttcttctgcgggtaacgtcaatgagcaaaggtattaactttactcccttcctccccgctgaaagtactttacaacccgaaggccttcttcatacacgcggcatggctgcatcaggcttgcgcccattgtgcaatattccccactgctgcctcccgtaggagtctggaccgtgtctcagttccagtgtggctggtcatcctctcagaccagctagggatcgtcgcctaggtgagccgttaccccacctactagctaatcccatctgggcacatccgatggcaagaggcccgaaggtccccctctttggtcttgcgacgttatgcggtattagctaccgtttccagtagttatccccctccatcaggcagtttcccagacattactcacccgtccgccactcgtcagcaaagagcaagcttcttcctgttaccgttcgacttgcatgtgttaggcctgccgccagcgttcaatctgagccatgatcaaactcttcaattt'"
      ]
     },
     "execution_count": 40,
     "metadata": {},
     "output_type": "execute_result"
    }
   ],
   "source": [
    "# An option using a loop\n",
    "rc = []\n",
    "for nuc in dna:\n",
    "    if nuc == 'a':\n",
    "        rc.append('t')\n",
    "    elif nuc == 't':\n",
    "        rc.append('a')\n",
    "    elif nuc == 'c':\n",
    "        rc.append('g')\n",
    "    elif nuc == 'g':\n",
    "        rc.append('c')\n",
    "''.join(rc)[::-1]"
   ]
  }
 ],
 "metadata": {
  "kernelspec": {
   "display_name": "Python 3",
   "language": "python",
   "name": "python3"
  },
  "language_info": {
   "codemirror_mode": {
    "name": "ipython",
    "version": 3
   },
   "file_extension": ".py",
   "mimetype": "text/x-python",
   "name": "python",
   "nbconvert_exporter": "python",
   "pygments_lexer": "ipython3",
   "version": "3.6.10"
  }
 },
 "nbformat": 4,
 "nbformat_minor": 4
}
