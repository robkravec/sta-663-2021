{
 "cells": [
  {
   "cell_type": "markdown",
   "metadata": {},
   "source": [
    "Try to solve each exercise using two different approaches."
   ]
  },
  {
   "cell_type": "markdown",
   "metadata": {},
   "source": [
    "**1**. Find the longset run of Heads in the string recording coin tosses below.\n",
    "\n"
   ]
  },
  {
   "cell_type": "code",
   "execution_count": 1,
   "metadata": {},
   "outputs": [],
   "source": [
    "tosses = 'THTTTTHTTTHTTTHHTTTHTTTHTHHTHHHHTHHTTTHTTHHTHTHHTHTHHHTHTTHHTHHTHHHTHTTHTTTHTHTTHTHHTTTHTTHHTHTHHTHTHHTTTHHHHHTTHTHHTTTTHTTHTHHTHHTTHHTTTHTTHHHHHHHHHHTHTTTTTTHHHTHHTHTTHTHTTTTHTHHHTTTHHTHTTHTHHHTHTHTHTHHHHHHHHHTHTTHHHHTTHTTHTTTTHTTTTHTHTTHHTTHHHHTTTHHHTHTHTHHTHTTTTTTTHHTTHHHHTHHHTTTHHHTTHHTTHTTHTTTHTTHHHTHTHHTHHHTHTHTTTHHHHHTTTHHHHHHTHHHTTHTTTHHTHTTTTTHTTTHHTTTTHTHHHTHTTTHTTHTTTHHTHHTTTTHHHTHTTTTHHTHHTTHHTTHHTHHTHTTHHHHHHTTTTTHTHHTTHHHHHHHTTTTHHTTTHHTHTHHTTHHTTTHHHTTTTTHHHTTHHHHTHTTTTHHTTHHTTHTTTTTTTTHHTTTTHHHHTHHHHHTTTTHHHTTHTTHTTHTTHHHTTHTHTHTHTHHHHTTHHHHHTHHTTHHTTTTHTHHTHHTTHHTHTHHTTHTTHTTTHTTTHHTHTTTHHHHHHHHHTHHHTTHHHTHTHHTHHHTTTTTHTHTHHHTHTHTTHHTTHTTHTHTHTTTHTHHTHHTTHHHTHTTTTHTTHTHTHTTTTHHTHHHTTHHTTHTHHHTHTHTTTTHTTHHHTHTTHTHTTTTTHTHHHHTTHHTHTTHHHTTTTTTTHHTHHHTHHHTTTTHHHTTTHTHTTTHTTTHHHHTHTHHTHHTTTTHTTHTTHHHHHHHHTHTTTTHHHTTTTHTTTTHHHHHHHTTTHHHHHTHHHHTTTHHHTTHTHHTHTTTHTHTHHTTTHHHTHTHHHHHTHHHHHTTTTHTTTHTHHTTHTTHTHHTTTHHTTTHTTTTHTTTTTTTHTTHTHHTTTTHTTTTHHHHTHTTHHTHTTTTHTTTHHHHHHTHTHTHH'"
   ]
  },
  {
   "cell_type": "code",
   "execution_count": null,
   "metadata": {},
   "outputs": [],
   "source": [
    "\n",
    "\n",
    "\n"
   ]
  },
  {
   "cell_type": "markdown",
   "metadata": {},
   "source": [
    "**2**. Find all the words starting wtih `k` that are in `data/wonderland.txt` but not in `data/lookingglass.txt`. Remove punctuation and ignore case."
   ]
  },
  {
   "cell_type": "code",
   "execution_count": null,
   "metadata": {},
   "outputs": [],
   "source": [
    "\n",
    "\n",
    "\n"
   ]
  },
  {
   "cell_type": "markdown",
   "metadata": {},
   "source": [
    "**3**. Create a dictionary of the number of times each word in the list from the problem above appears in `data/wonderland.txt`"
   ]
  },
  {
   "cell_type": "code",
   "execution_count": null,
   "metadata": {},
   "outputs": [],
   "source": [
    "\n",
    "\n",
    "\n"
   ]
  },
  {
   "cell_type": "markdown",
   "metadata": {},
   "source": [
    "**4**. Find the reverse complement of the DNA sequence shown below.\n",
    "\n",
    "The following bases are complementary a → t, c → g, t → a, g → c. Reverse complement means reverse each base with its complement, then reverse the entire sequence."
   ]
  },
  {
   "cell_type": "code",
   "execution_count": 14,
   "metadata": {},
   "outputs": [],
   "source": [
    "dna = '''\n",
    "          aaattgaaga gtttgatcat ggctcagatt gaacgctggc ggcaggccta acacatgcaa\n",
    "       61 gtcgaacggt aacaggaaga agcttgctct ttgctgacga gtggcggacg ggtgagtaat\n",
    "      121 gtctgggaaa ctgcctgatg gagggggata actactggaa acggtagcta ataccgcata\n",
    "      181 acgtcgcaag accaaagagg gggaccttcg ggcctcttgc catcggatgt gcccagatgg\n",
    "      241 gattagctag taggtggggt aacggctcac ctaggcgacg atccctagct ggtctgagag\n",
    "      301 gatgaccagc cacactggaa ctgagacacg gtccagactc ctacgggagg cagcagtggg\n",
    "      361 gaatattgca caatgggcgc aagcctgatg cagccatgcc gcgtgtatga agaaggcctt\n",
    "      421 cgggttgtaa agtactttca gcggggagga agggagtaaa gttaatacct ttgctcattg\n",
    "      481 acgttacccg cagaagaagc accggctaac tccgtgccag cagccgcggt aatacggagg\n",
    "      541 gtgcaagcgt taatcggaat tactgggcgt aaagcgcacg caggcggttt gttaagtcag\n",
    "      601 atgtgaaatc cccgggctca acctgggaac tgcatctgat actggcaagc ttgagtctcg\n",
    "      661 tagagggggg tagaattcca ggtgtagcgg tgaaatgcgt agagatctgg aggaataccg\n",
    "      721 gtggcgaagg cggccccctg gacgaagact gacgctcagg tgcgaaagcg tggggagcaa\n",
    "      781 acaggattag ataccctggt agtccacgcc gtaaacgatg tcgacttgga ggttgtgccc\n",
    "      841 ttgaggcgtg gcttccggag ctaacgcgtt aagtcgaccg cctggggagt acggccgcaa\n",
    "      901 ggttaaaact caaatgaatt gacgggggcc cgcacaagcg gtggagcatg tggtttaatt\n",
    "      961 cgatgcaacg cgaagaacct tacctggtct tgacatccac ggaagttttc agagatgaga\n",
    "     1021 atgtgccttc gggaaccgtg agacaggtgc tgcatggctg tcgtcagctc gtgttgtgaa\n",
    "     1081 atgttgggtt aagtcccgca acgagcgcaa cccttatcct ttgttgccag cggtccggcc\n",
    "     1141 gggaactcaa aggagactgc cagtgataaa ctggaggaag gtggggatga cgtcaagtca\n",
    "     1201 tcatggccct tacgaccagg gctacacacg tgctacaatg gcgcatacaa agagaagcga\n",
    "     1261 cctcgcgaga gcaagcggac ctcataaagt gcgtcgtagt ccggattgga gtctgcaact\n",
    "     1321 cgactccatg aagtcggaat cgctagtaat cgtggatcag aatgccacgg tgaatacgtt\n",
    "     1381 cccgggcctt gtacacaccg cccgtcacac catgggagtg ggttgcaaaa gaagtaggta\n",
    "     1441 gcttaacctt cgggagggcg cttaccactt tgtgattcat gactggggtg aagtcgtaac\n",
    "     1501 aaggtaaccg taggggaacc tgcggttgga tcacctcctt a\n",
    "'''"
   ]
  },
  {
   "cell_type": "code",
   "execution_count": null,
   "metadata": {},
   "outputs": [],
   "source": [
    "\n",
    "\n",
    "\n"
   ]
  }
 ],
 "metadata": {
  "kernelspec": {
   "display_name": "Python 3.8.5 64-bit",
   "language": "python",
   "name": "python38564bit02a66c47ce504b05b2ef5646cfed96c2"
  },
  "language_info": {
   "codemirror_mode": {
    "name": "ipython",
    "version": 3
   },
   "file_extension": ".py",
   "mimetype": "text/x-python",
   "name": "python",
   "nbconvert_exporter": "python",
   "pygments_lexer": "ipython3",
   "version": "3.8.5"
  }
 },
 "nbformat": 4,
 "nbformat_minor": 4
}
