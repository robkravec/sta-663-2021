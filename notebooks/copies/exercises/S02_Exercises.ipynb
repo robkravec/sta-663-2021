{
 "cells": [
  {
   "cell_type": "markdown",
   "metadata": {},
   "source": [
    "Try to solve each exercise using two different approaches."
   ]
  },
  {
   "cell_type": "markdown",
   "metadata": {},
   "source": [
    "**1**. Find the longset run of Heads in the string recording coin tosses below.\n",
    "\n"
   ]
  },
  {
   "cell_type": "code",
   "execution_count": 3,
   "metadata": {},
   "outputs": [],
   "source": [
    "tosses = 'THTTTTHTTTHTTTHHTTTHTTTHTHHTHHHHTHHTTTHTTHHTHTHHTHTHHHTHTTHHTHHTHHHTHTTHTTTHTHTTHTHHTTTHTTHHTHTHHTHTHHTTTHHHHHTTHTHHTTTTHTTHTHHTHHTTHHTTTHTTHHHHHHHHHHTHTTTTTTHHHTHHTHTTHTHTTTTHTHHHTTTHHTHTTHTHHHTHTHTHTHHHHHHHHHTHTTHHHHTTHTTHTTTTHTTTTHTHTTHHTTHHHHTTTHHHTHTHTHHTHTTTTTTTHHTTHHHHTHHHTTTHHHTTHHTTHTTHTTTHTTHHHTHTHHTHHHTHTHTTTHHHHHTTTHHHHHHTHHHTTHTTTHHTHTTTTTHTTTHHTTTTHTHHHTHTTTHTTHTTTHHTHHTTTTHHHTHTTTTHHTHHTTHHTTHHTHHTHTTHHHHHHTTTTTHTHHTTHHHHHHHTTTTHHTTTHHTHTHHTTHHTTTHHHTTTTTHHHTTHHHHTHTTTTHHTTHHTTHTTTTTTTTHHTTTTHHHHTHHHHHTTTTHHHTTHTTHTTHTTHHHTTHTHTHTHTHHHHTTHHHHHTHHTTHHTTTTHTHHTHHTTHHTHTHHTTHTTHTTTHTTTHHTHTTTHHHHHHHHHTHHHTTHHHTHTHHTHHHTTTTTHTHTHHHTHTHTTHHTTHTTHTHTHTTTHTHHTHHTTHHHTHTTTTHTTHTHTHTTTTHHTHHHTTHHTTHTHHHTHTHTTTTHTTHHHTHTTHTHTTTTTHTHHHHTTHHTHTTHHHTTTTTTTHHTHHHTHHHTTTTHHHTTTHTHTTTHTTTHHHHTHTHHTHHTTTTHTTHTTHHHHHHHHTHTTTTHHHTTTTHTTTTHHHHHHHTTTHHHHHTHHHHTTTHHHTTHTHHTHTTTHTHTHHTTTHHHTHTHHHHHTHHHHHTTTTHTTTHTHHTTHTTHTHHTTTHHTTTHTTTTHTTTTTTTHTTHTHHTTTTHTTTTHHHHTHTTHHTHTTTTHTTTHHHHHHTHTHTHH'"
   ]
  },
  {
   "cell_type": "code",
   "execution_count": 4,
   "metadata": {},
   "outputs": [
    {
     "name": "stdout",
     "output_type": "stream",
     "text": [
      "HHHHHHHHHH\n"
     ]
    }
   ],
   "source": [
    "# Initialize counter of current and longest stretches of heads\n",
    "longest_heads = 0\n",
    "current_heads = 0\n",
    "\n",
    "# Loop through elements of string, counting when the element is \"H\"\n",
    "for toss in tosses:\n",
    "    if toss == \"H\":\n",
    "        current_heads += 1\n",
    "    else:\n",
    "        if current_heads > longest_heads:\n",
    "            longest_heads = current_heads\n",
    "        current_heads = 0\n",
    "\n",
    "# Print longest run of Heads\n",
    "print(longest_heads * \"H\")"
   ]
  },
  {
   "cell_type": "code",
   "execution_count": 24,
   "metadata": {},
   "outputs": [
    {
     "data": {
      "text/plain": [
       "'HHHHHHHHHH'"
      ]
     },
     "execution_count": 24,
     "metadata": {},
     "output_type": "execute_result"
    }
   ],
   "source": [
    "# Another (better) option using regular expressions\n",
    "\n",
    "import re\n",
    "\n",
    "max(re.findall('H+', tosses), key=len)"
   ]
  },
  {
   "cell_type": "markdown",
   "metadata": {},
   "source": [
    "**2**. Find all the words starting wtih `k` that are in `data/wonderland.txt` but not in `data/lookingglass.txt`. Remove punctuation and ignore case."
   ]
  },
  {
   "cell_type": "code",
   "execution_count": 1,
   "metadata": {
    "scrolled": true
   },
   "outputs": [],
   "source": [
    "# Read in both files\n",
    "with open('data/wonderland.txt') as f:\n",
    "    wonder = f.read()\n",
    "    \n",
    "with open('data/lookingglass.txt') as f:\n",
    "    looking = f.read()"
   ]
  },
  {
   "cell_type": "markdown",
   "metadata": {},
   "source": [
    "**3**. Create a dictionary of the number of times each word in the list from the problem above appears in `data/wonderland.txt`"
   ]
  },
  {
   "cell_type": "code",
   "execution_count": null,
   "metadata": {},
   "outputs": [],
   "source": [
    "\n",
    "\n",
    "\n"
   ]
  },
  {
   "cell_type": "markdown",
   "metadata": {},
   "source": [
    "**4**. Find the reverse complement of the DNA sequence shown below.\n",
    "\n",
    "The following bases are complementary a → t, c → g, t → a, g → c. Reverse complement means reverse each base with its complement, then reverse the entire sequence."
   ]
  },
  {
   "cell_type": "code",
   "execution_count": 6,
   "metadata": {},
   "outputs": [],
   "source": [
    "dna = '''\n",
    "          aaattgaaga gtttgatcat ggctcagatt gaacgctggc ggcaggccta acacatgcaa\n",
    "       61 gtcgaacggt aacaggaaga agcttgctct ttgctgacga gtggcggacg ggtgagtaat\n",
    "      121 gtctgggaaa ctgcctgatg gagggggata actactggaa acggtagcta ataccgcata\n",
    "      181 acgtcgcaag accaaagagg gggaccttcg ggcctcttgc catcggatgt gcccagatgg\n",
    "      241 gattagctag taggtggggt aacggctcac ctaggcgacg atccctagct ggtctgagag\n",
    "      301 gatgaccagc cacactggaa ctgagacacg gtccagactc ctacgggagg cagcagtggg\n",
    "      361 gaatattgca caatgggcgc aagcctgatg cagccatgcc gcgtgtatga agaaggcctt\n",
    "      421 cgggttgtaa agtactttca gcggggagga agggagtaaa gttaatacct ttgctcattg\n",
    "      481 acgttacccg cagaagaagc accggctaac tccgtgccag cagccgcggt aatacggagg\n",
    "      541 gtgcaagcgt taatcggaat tactgggcgt aaagcgcacg caggcggttt gttaagtcag\n",
    "      601 atgtgaaatc cccgggctca acctgggaac tgcatctgat actggcaagc ttgagtctcg\n",
    "      661 tagagggggg tagaattcca ggtgtagcgg tgaaatgcgt agagatctgg aggaataccg\n",
    "      721 gtggcgaagg cggccccctg gacgaagact gacgctcagg tgcgaaagcg tggggagcaa\n",
    "      781 acaggattag ataccctggt agtccacgcc gtaaacgatg tcgacttgga ggttgtgccc\n",
    "      841 ttgaggcgtg gcttccggag ctaacgcgtt aagtcgaccg cctggggagt acggccgcaa\n",
    "      901 ggttaaaact caaatgaatt gacgggggcc cgcacaagcg gtggagcatg tggtttaatt\n",
    "      961 cgatgcaacg cgaagaacct tacctggtct tgacatccac ggaagttttc agagatgaga\n",
    "     1021 atgtgccttc gggaaccgtg agacaggtgc tgcatggctg tcgtcagctc gtgttgtgaa\n",
    "     1081 atgttgggtt aagtcccgca acgagcgcaa cccttatcct ttgttgccag cggtccggcc\n",
    "     1141 gggaactcaa aggagactgc cagtgataaa ctggaggaag gtggggatga cgtcaagtca\n",
    "     1201 tcatggccct tacgaccagg gctacacacg tgctacaatg gcgcatacaa agagaagcga\n",
    "     1261 cctcgcgaga gcaagcggac ctcataaagt gcgtcgtagt ccggattgga gtctgcaact\n",
    "     1321 cgactccatg aagtcggaat cgctagtaat cgtggatcag aatgccacgg tgaatacgtt\n",
    "     1381 cccgggcctt gtacacaccg cccgtcacac catgggagtg ggttgcaaaa gaagtaggta\n",
    "     1441 gcttaacctt cgggagggcg cttaccactt tgtgattcat gactggggtg aagtcgtaac\n",
    "     1501 aaggtaaccg taggggaacc tgcggttgga tcacctcctt a\n",
    "'''"
   ]
  },
  {
   "cell_type": "code",
   "execution_count": 10,
   "metadata": {},
   "outputs": [
    {
     "data": {
      "text/plain": [
       "'\\n          aaattgaaga gtttgatcat ggctcagatt gaacgctggc ggcaggccta acacatgcaa\\n       61 gtcgaacggt aacaggaaga agcttgctct ttgctgacga gtggcggacg ggtgagtaat\\n      121 gtctgggaaa ctgcctgatg gagggggata actactggaa acggtagcta ataccgcata\\n      181 acgtcgcaag accaaagagg gggaccttcg ggcctcttgc catcggatgt gcccagatgg\\n      241 gattagctag taggtggggt aacggctcac ctaggcgacg atccctagct ggtctgagag\\n      301 gatgaccagc cacactggaa ctgagacacg gtccagactc ctacgggagg cagcagtggg\\n      361 gaatattgca caatgggcgc aagcctgatg cagccatgcc gcgtgtatga agaaggcctt\\n      421 cgggttgtaa agtactttca gcggggagga agggagtaaa gttaatacct ttgctcattg\\n      481 acgttacccg cagaagaagc accggctaac tccgtgccag cagccgcggt aatacggagg\\n      541 gtgcaagcgt taatcggaat tactgggcgt aaagcgcacg caggcggttt gttaagtcag\\n      601 atgtgaaatc cccgggctca acctgggaac tgcatctgat actggcaagc ttgagtctcg\\n      661 tagagggggg tagaattcca ggtgtagcgg tgaaatgcgt agagatctgg aggaataccg\\n      721 gtggcgaagg cggccccctg gacgaagact gacgctcagg tgcgaaagcg tggggagcaa\\n      781 acaggattag ataccctggt agtccacgcc gtaaacgatg tcgacttgga ggttgtgccc\\n      841 ttgaggcgtg gcttccggag ctaacgcgtt aagtcgaccg cctggggagt acggccgcaa\\n      901 ggttaaaact caaatgaatt gacgggggcc cgcacaagcg gtggagcatg tggtttaatt\\n      961 cgatgcaacg cgaagaacct tacctggtct tgacatccac ggaagttttc agagatgaga\\n     1021 atgtgccttc gggaaccgtg agacaggtgc tgcatggctg tcgtcagctc gtgttgtgaa\\n     1081 atgttgggtt aagtcccgca acgagcgcaa cccttatcct ttgttgccag cggtccggcc\\n     1141 gggaactcaa aggagactgc cagtgataaa ctggaggaag gtggggatga cgtcaagtca\\n     1201 tcatggccct tacgaccagg gctacacacg tgctacaatg gcgcatacaa agagaagcga\\n     1261 cctcgcgaga gcaagcggac ctcataaagt gcgtcgtagt ccggattgga gtctgcaact\\n     1321 cgactccatg aagtcggaat cgctagtaat cgtggatcag aatgccacgg tgaatacgtt\\n     1381 cccgggcctt gtacacaccg cccgtcacac catgggagtg ggttgcaaaa gaagtaggta\\n     1441 gcttaacctt cgggagggcg cttaccactt tgtgattcat gactggggtg aagtcgtaac\\n     1501 aaggtaaccg taggggaacc tgcggttgga tcacctcctt a\\n'"
      ]
     },
     "execution_count": 10,
     "metadata": {},
     "output_type": "execute_result"
    }
   ],
   "source": [
    "dna"
   ]
  },
  {
   "cell_type": "code",
   "execution_count": 37,
   "metadata": {},
   "outputs": [
    {
     "data": {
      "text/plain": [
       "'taaggaggtgatccaaccgcaggttcccctacggttacctt0gttacgacttcaccccagtcatgaatcacaaagtggtaagcgccctcccgaaggttaagctacctacttcttttgcaacccactcccatggtgtgacgggcggtgtgtacaaggcccgggaacgtattcaccgtggcattctgatccacgattactagcgattccgacttcatggagtcgagttgcagactccaatccggactacgacgcactttatgaggtccgcttgctctcgcgaggtcgcttctctttgtatgcgccattgtagcacgtgtgtagccctggtcgtaagggccatga0tgacttgacgtcatccccaccttcctccagtttatcactggcagtctcctttgagttcccggccggaccgctggcaacaaaggataagggttgcgctcgttgcgggacttaacccaacat0ttcacaacacgagctgacgacagccatgcagcacctgtctcacggttcccgaaggcacat0tctcatctctgaaaacttccgtggatgtcaagaccaggtaaggttcttcgcgttgcatcgaattaaaccacatgctccaccgcttgtgcgggcccccgtcaattcatttgagttttaacc0ttgcggccgtactccccaggcggtcgacttaacgcgttagctccggaagccacgcctcaagggcacaacctccaagtcgacatcgtttacggcgtggactaccagggtatctaatcctgtttgctccccacgctttcgcacctgagcgtcagtcttcgtccagggggccgccttcgccaccggtattcctccagatctctacgcatttcaccgctacacctggaattctacccccctctacgagactcaagcttgccagtatcagatgcagttcccaggttgagcccggggatttcacat0ctgacttaacaaaccgcctgcgtgcgctttacgcccagtaattccgattaacgcttgcaccctccgtattaccgcggctgctggcacggagttagccggtgcttcttctgcgggtaacgtcaatgagcaaaggtattaactttactcccttcctccccgctgaaagtactttacaacccgaaggccttcttcatacacgcggcatggctgcatcaggcttgcgcccattgtgcaatattccccactgctgcctcccgtaggagtctggaccgtgtctcagttccagtgtggctggtcatc0ctctcagaccagctagggatcgtcgcctaggtgagccgttaccccacctactagctaatcccatctgggcacatccgatggcaagaggcccgaaggtccccctctttggtcttgcgacgttatgcggtattagctaccgtttccagtagttatccccctccatcaggcagtttcccagacattactcacccgtccgccactcgtcagcaaagagcaagcttcttcctgttaccgttcgacttgcatgtgttaggcctgccgccagcgttcaatctgagccatgatcaaactcttcaattt'"
      ]
     },
     "execution_count": 37,
     "metadata": {},
     "output_type": "execute_result"
    }
   ],
   "source": [
    "# Note: str.maketrans is case sensitive!\n",
    "dna.translate(str.maketrans('actg', 'tgac', '123456789\\n '))[::-1]"
   ]
  },
  {
   "cell_type": "code",
   "execution_count": 40,
   "metadata": {},
   "outputs": [
    {
     "data": {
      "text/plain": [
       "'taaggaggtgatccaaccgcaggttcccctacggttaccttgttacgacttcaccccagtcatgaatcacaaagtggtaagcgccctcccgaaggttaagctacctacttcttttgcaacccactcccatggtgtgacgggcggtgtgtacaaggcccgggaacgtattcaccgtggcattctgatccacgattactagcgattccgacttcatggagtcgagttgcagactccaatccggactacgacgcactttatgaggtccgcttgctctcgcgaggtcgcttctctttgtatgcgccattgtagcacgtgtgtagccctggtcgtaagggccatgatgacttgacgtcatccccaccttcctccagtttatcactggcagtctcctttgagttcccggccggaccgctggcaacaaaggataagggttgcgctcgttgcgggacttaacccaacatttcacaacacgagctgacgacagccatgcagcacctgtctcacggttcccgaaggcacattctcatctctgaaaacttccgtggatgtcaagaccaggtaaggttcttcgcgttgcatcgaattaaaccacatgctccaccgcttgtgcgggcccccgtcaattcatttgagttttaaccttgcggccgtactccccaggcggtcgacttaacgcgttagctccggaagccacgcctcaagggcacaacctccaagtcgacatcgtttacggcgtggactaccagggtatctaatcctgtttgctccccacgctttcgcacctgagcgtcagtcttcgtccagggggccgccttcgccaccggtattcctccagatctctacgcatttcaccgctacacctggaattctacccccctctacgagactcaagcttgccagtatcagatgcagttcccaggttgagcccggggatttcacatctgacttaacaaaccgcctgcgtgcgctttacgcccagtaattccgattaacgcttgcaccctccgtattaccgcggctgctggcacggagttagccggtgcttcttctgcgggtaacgtcaatgagcaaaggtattaactttactcccttcctccccgctgaaagtactttacaacccgaaggccttcttcatacacgcggcatggctgcatcaggcttgcgcccattgtgcaatattccccactgctgcctcccgtaggagtctggaccgtgtctcagttccagtgtggctggtcatcctctcagaccagctagggatcgtcgcctaggtgagccgttaccccacctactagctaatcccatctgggcacatccgatggcaagaggcccgaaggtccccctctttggtcttgcgacgttatgcggtattagctaccgtttccagtagttatccccctccatcaggcagtttcccagacattactcacccgtccgccactcgtcagcaaagagcaagcttcttcctgttaccgttcgacttgcatgtgttaggcctgccgccagcgttcaatctgagccatgatcaaactcttcaattt'"
      ]
     },
     "execution_count": 40,
     "metadata": {},
     "output_type": "execute_result"
    }
   ],
   "source": [
    "# An option using a loop\n",
    "rc = []\n",
    "for nuc in dna:\n",
    "    if nuc == 'a':\n",
    "        rc.append('t')\n",
    "    elif nuc == 't':\n",
    "        rc.append('a')\n",
    "    elif nuc == 'c':\n",
    "        rc.append('g')\n",
    "    elif nuc == 'g':\n",
    "        rc.append('c')\n",
    "''.join(rc)[::-1]"
   ]
  }
 ],
 "metadata": {
  "kernelspec": {
   "display_name": "Python 3",
   "language": "python",
   "name": "python3"
  },
  "language_info": {
   "codemirror_mode": {
    "name": "ipython",
    "version": 3
   },
   "file_extension": ".py",
   "mimetype": "text/x-python",
   "name": "python",
   "nbconvert_exporter": "python",
   "pygments_lexer": "ipython3",
   "version": "3.6.10"
  }
 },
 "nbformat": 4,
 "nbformat_minor": 4
}
