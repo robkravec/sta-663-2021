{
 "cells": [
  {
   "cell_type": "markdown",
   "metadata": {},
   "source": [
    "# Line search in gradient and Newton directions"
   ]
  },
  {
   "cell_type": "code",
   "execution_count": null,
   "metadata": {},
   "outputs": [],
   "source": [
    "%matplotlib inline"
   ]
  },
  {
   "cell_type": "code",
   "execution_count": null,
   "metadata": {},
   "outputs": [],
   "source": [
    "import matplotlib.pyplot as plt\n",
    "from scipy.optimize import minimize_scalar\n",
    "import numpy as np"
   ]
  },
  {
   "cell_type": "markdown",
   "metadata": {},
   "source": [
    "## Demo functions"
   ]
  },
  {
   "cell_type": "code",
   "execution_count": null,
   "metadata": {},
   "outputs": [],
   "source": [
    "def f1(x):\n",
    "    return x[0]**2 + x[1]**2"
   ]
  },
  {
   "cell_type": "code",
   "execution_count": null,
   "metadata": {},
   "outputs": [],
   "source": [
    "def grad1(x):\n",
    "    return np.array([2*x[0], 2*x[1]]).reshape([-1,1])"
   ]
  },
  {
   "cell_type": "code",
   "execution_count": null,
   "metadata": {},
   "outputs": [],
   "source": [
    "def hess1(x):\n",
    "    return np.array([\n",
    "        [2, 0],\n",
    "        [0, 2]\n",
    "    ])"
   ]
  },
  {
   "cell_type": "code",
   "execution_count": null,
   "metadata": {},
   "outputs": [],
   "source": [
    "x = np.linspace(-5, 5, 100)\n",
    "y = np.linspace(-5, 5, 100)\n",
    "X, Y = np.meshgrid(x, y)\n",
    "Z = X**2 + Y**2\n",
    "plt.contour(X, Y, Z, 10)\n",
    "plt.axis('square')\n",
    "pass"
   ]
  },
  {
   "cell_type": "code",
   "execution_count": null,
   "metadata": {},
   "outputs": [],
   "source": [
    "np.c_[X.ravel(), Y.ravel()].shape"
   ]
  },
  {
   "cell_type": "code",
   "execution_count": null,
   "metadata": {},
   "outputs": [],
   "source": [
    "def f2(x):\n",
    "    return x[0]**2 + 10*x[1]**2"
   ]
  },
  {
   "cell_type": "code",
   "execution_count": null,
   "metadata": {},
   "outputs": [],
   "source": [
    "def grad2(x):\n",
    "    return np.array([2*x[0], 20*x[1]]).reshape([-1,1])"
   ]
  },
  {
   "cell_type": "code",
   "execution_count": null,
   "metadata": {},
   "outputs": [],
   "source": [
    "def hess2(x):\n",
    "    return np.array([\n",
    "        [2, 0],\n",
    "        [0, 20]\n",
    "    ])"
   ]
  },
  {
   "cell_type": "code",
   "execution_count": null,
   "metadata": {},
   "outputs": [],
   "source": [
    "x = np.linspace(-5, 5, 100)\n",
    "y = np.linspace(-5, 5, 100)\n",
    "X, Y = np.meshgrid(x, y)\n",
    "Z = X**2 + 10*Y**2\n",
    "plt.contour(X, Y, Z, 10)\n",
    "plt.axis('square')\n",
    "pass"
   ]
  },
  {
   "cell_type": "markdown",
   "metadata": {},
   "source": [
    "## Gradient descent with step size found by numerical minimization"
   ]
  },
  {
   "cell_type": "code",
   "execution_count": null,
   "metadata": {},
   "outputs": [],
   "source": [
    "def gd(x, f, grad, max_iter=10):\n",
    "    orbit = np.zeros((max_iter+1, len(x)))\n",
    "    orbit[0] = x.ravel()\n",
    "    for i in range(max_iter):\n",
    "        res = minimize_scalar(lambda alpha: f(x - alpha * grad(x)))\n",
    "        alpha = res.x\n",
    "        x = x - alpha * grad(x)\n",
    "        orbit[i+1] = x.ravel()\n",
    "    return orbit"
   ]
  },
  {
   "cell_type": "markdown",
   "metadata": {},
   "source": [
    "## Gradient descent with analytic step size for quadratic function"
   ]
  },
  {
   "cell_type": "code",
   "execution_count": null,
   "metadata": {},
   "outputs": [],
   "source": [
    "def gd_alt(x, f, grad, hess, max_iter=10):\n",
    "    orbit = np.zeros((max_iter+1, len(x)))\n",
    "    orbit[0] = x.ravel()\n",
    "    for i in range(max_iter):\n",
    "        p = -grad(x)\n",
    "        alpha = (p.T @ p)/(p.T @ hess(x) @ p)        \n",
    "        x = x - alpha * grad(x)\n",
    "        orbit[i+1] = x.ravel()\n",
    "    return orbit"
   ]
  },
  {
   "cell_type": "code",
   "execution_count": null,
   "metadata": {},
   "outputs": [],
   "source": [
    "x0 = np.array([4,3]).reshape([-1,1])"
   ]
  },
  {
   "cell_type": "code",
   "execution_count": null,
   "metadata": {},
   "outputs": [],
   "source": [
    "orbit1 = gd(x0, f1, grad1, max_iter=5)"
   ]
  },
  {
   "cell_type": "code",
   "execution_count": null,
   "metadata": {},
   "outputs": [],
   "source": [
    "x = np.linspace(-5, 5, 100)\n",
    "y = np.linspace(-5, 5, 100)\n",
    "X, Y = np.meshgrid(x, y)\n",
    "Z = X**2 + Y**2\n",
    "plt.contour(X, Y, Z, 10)\n",
    "plt.plot(orbit1[:, 0], orbit1[:, 1], '-')\n",
    "plt.scatter(orbit1[0:1, 0], orbit1[0:1, 1])\n",
    "plt.axis('square')\n",
    "pass"
   ]
  },
  {
   "cell_type": "code",
   "execution_count": null,
   "metadata": {},
   "outputs": [],
   "source": [
    "orbit1a = gd_alt(x0, f1, grad1, hess1, max_iter=5)"
   ]
  },
  {
   "cell_type": "code",
   "execution_count": null,
   "metadata": {},
   "outputs": [],
   "source": [
    "x = np.linspace(-5, 5, 100)\n",
    "y = np.linspace(-5, 5, 100)\n",
    "X, Y = np.meshgrid(x, y)\n",
    "Z = X**2 + Y**2\n",
    "plt.contour(X, Y, Z, 10)\n",
    "plt.plot(orbit1a[:, 0], orbit1a[:, 1], '-')\n",
    "plt.scatter(orbit1a[0:1, 0], orbit1a[0:1, 1])\n",
    "plt.axis('square')\n",
    "pass"
   ]
  },
  {
   "cell_type": "code",
   "execution_count": null,
   "metadata": {},
   "outputs": [],
   "source": [
    "orbit2 = gd(x0, f2, grad2, max_iter=5)"
   ]
  },
  {
   "cell_type": "code",
   "execution_count": null,
   "metadata": {},
   "outputs": [],
   "source": [
    "x = np.linspace(-5, 5, 100)\n",
    "y = np.linspace(-5, 5, 100)\n",
    "X, Y = np.meshgrid(x, y)\n",
    "Z = X**2 + 10*Y**2\n",
    "plt.contour(X, Y, Z, 10)\n",
    "plt.plot(orbit2[:, 0], orbit2[:, 1], '-')\n",
    "plt.scatter(orbit2[0:1, 0], orbit2[0:1, 1])\n",
    "plt.axis('square')\n",
    "pass"
   ]
  },
  {
   "cell_type": "code",
   "execution_count": null,
   "metadata": {},
   "outputs": [],
   "source": [
    "orbit2a = gd_alt(x0, f2, grad2, hess2, max_iter=5)"
   ]
  },
  {
   "cell_type": "code",
   "execution_count": null,
   "metadata": {},
   "outputs": [],
   "source": [
    "x = np.linspace(-5, 5, 100)\n",
    "y = np.linspace(-5, 5, 100)\n",
    "X, Y = np.meshgrid(x, y)\n",
    "Z = X**2 + 10*Y**2\n",
    "plt.contour(X, Y, Z, 10)\n",
    "plt.plot(orbit2a[:, 0], orbit2a[:, 1], '-')\n",
    "plt.scatter(orbit2a[0:1, 0], orbit2a[0:1, 1])\n",
    "plt.axis('square')\n",
    "pass"
   ]
  },
  {
   "cell_type": "markdown",
   "metadata": {},
   "source": [
    "## Line search in Newton direction with analytic step size"
   ]
  },
  {
   "cell_type": "code",
   "execution_count": null,
   "metadata": {},
   "outputs": [],
   "source": [
    "def newton(x, f, grad, hess, max_iter=5):\n",
    "    orbit = np.zeros((max_iter+1, len(x)))\n",
    "    orbit[0] = x.ravel()\n",
    "    for i in range(max_iter):\n",
    "        x = x - np.linalg.inv(hess(x)) @ grad(x)\n",
    "        orbit[i+1] = x.ravel()\n",
    "    return orbit"
   ]
  },
  {
   "cell_type": "code",
   "execution_count": null,
   "metadata": {},
   "outputs": [],
   "source": [
    "orbit3 = newton(x0, f1, grad1, hess1, max_iter=5)"
   ]
  },
  {
   "cell_type": "code",
   "execution_count": null,
   "metadata": {},
   "outputs": [],
   "source": [
    "x = np.linspace(-5, 5, 100)\n",
    "y = np.linspace(-5, 5, 100)\n",
    "X, Y = np.meshgrid(x, y)\n",
    "Z = X**2 + Y**2\n",
    "plt.contour(X, Y, Z, 10)\n",
    "plt.plot(orbit3[:, 0], orbit3[:, 1], '-')\n",
    "plt.scatter(orbit3[0:1, 0], orbit3[0:1, 1])\n",
    "plt.axis('square')\n",
    "pass"
   ]
  },
  {
   "cell_type": "code",
   "execution_count": null,
   "metadata": {},
   "outputs": [],
   "source": [
    "orbit4 = newton(x0, f2, grad2, hess2, max_iter=5)"
   ]
  },
  {
   "cell_type": "code",
   "execution_count": null,
   "metadata": {},
   "outputs": [],
   "source": [
    "x = np.linspace(-5, 5, 100)\n",
    "y = np.linspace(-5, 5, 100)\n",
    "X, Y = np.meshgrid(x, y)\n",
    "Z = X**2 + 10*Y**2\n",
    "plt.contour(X, Y, Z, 10)\n",
    "plt.plot(orbit4[:, 0], orbit4[:, 1], '-')\n",
    "plt.scatter(orbit4[0:1, 0], orbit4[0:1, 1])\n",
    "plt.axis('square')\n",
    "pass"
   ]
  },
  {
   "cell_type": "code",
   "execution_count": null,
   "metadata": {},
   "outputs": [],
   "source": []
  }
 ],
 "metadata": {
  "kernelspec": {
   "display_name": "Python 3",
   "language": "python",
   "name": "python3"
  },
  "language_info": {
   "codemirror_mode": {
    "name": "ipython",
    "version": 3
   },
   "file_extension": ".py",
   "mimetype": "text/x-python",
   "name": "python",
   "nbconvert_exporter": "python",
   "pygments_lexer": "ipython3",
   "version": "3.8.5"
  }
 },
 "nbformat": 4,
 "nbformat_minor": 2
}
