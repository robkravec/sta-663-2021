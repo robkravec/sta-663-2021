{
 "cells": [
  {
   "cell_type": "code",
   "execution_count": 1,
   "metadata": {},
   "outputs": [],
   "source": [
    "%matplotlib inline\n",
    "\n",
    "import matplotlib.pyplot as plt\n",
    "import numpy as np\n",
    "from scipy import stats"
   ]
  },
  {
   "cell_type": "markdown",
   "metadata": {},
   "source": [
    "# Monte Carlo integration"
   ]
  },
  {
   "cell_type": "markdown",
   "metadata": {},
   "source": [
    "## Simple Monte Carlo integration\n",
    "\n",
    "The basic idea of Monte Carlo integration is very simple and only requires elementary statistics. Suppose we want to find the value of \n",
    "$$\n",
    "I = \\int_a^b f(x) dx\n",
    "$$\n",
    "in some region with volume $V$. Monte Carlo integration estimates this integral by estimating the fraction of random points that fall below $f(x)$ multiplied by $V$. \n",
    "\n",
    "\n",
    "In a statistical context, we use Monte Carlo integration to estimate the expectation\n",
    "$$\n",
    "E[g(X)] = \\int_X g(x) p(x) dx\n",
    "$$\n",
    "\n",
    "with\n",
    "\n",
    "$$\n",
    "\\bar{g_n} = \\frac{1}{n} \\sum_{i=1}^n g(x_i)\n",
    "$$\n",
    "where $x_i \\sim p$ is a draw from the density $p$.\n",
    "\n",
    "We can estimate the Monte Carlo variance of the approximation as\n",
    "$$\n",
    "v_n = \\frac{1}{n^2} \\sum_{o=1}^n (g(x_i) - \\bar{g_n})^2)\n",
    "$$\n",
    "\n",
    "Also, from the Central Limit Theorem,\n",
    "\n",
    "$$\n",
    "\\frac{\\bar{g_n} - E[g(X)]}{\\sqrt{v_n}} \\sim \\mathcal{N}(0, 1)\n",
    "$$\n",
    "\n",
    "The convergence of Monte Carlo integration is $\\mathcal{0}(n^{1/2})$ and independent of the dimensionality. Hence Monte Carlo integration generally beats numerical integration for moderate- and high-dimensional integration since numerical integration (quadrature) converges as $\\mathcal{0}(n^{d})$. Even for low dimensional problems, Monte Carlo integration may have an advantage when the volume to be integrated is concentrated in a very small region and we can use information from the distribution to draw samples more often in the region of importance.\n",
    "\n",
    "An elementary, readable description of Monte Carlo integration and variance reduction techniques can be found [here](https://www.cs.dartmouth.edu/~wjarosz/publications/dissertation/appendixA.pdf)."
   ]
  },
  {
   "cell_type": "markdown",
   "metadata": {},
   "source": [
    "## Intuition behind Monte Carlo integration"
   ]
  },
  {
   "cell_type": "markdown",
   "metadata": {},
   "source": [
    "We want to find some integral \n",
    "\n",
    "$$I = \\int{f(x)} \\, dx$$\n",
    "\n",
    "Consider the expectation of a function $g(x)$ with respect to some distribution $p(x)$. By definition, we have\n",
    "\n",
    "$$\n",
    "E[g(x)] = \\int{g(x) \\, p(x) \\, dx}\n",
    "$$\n",
    "\n",
    "If we choose $g(x) = f(x)/p(x)$, then we have\n",
    "\n",
    "$$\n",
    "\\begin{align}\n",
    "E[g(x)] &= \\int{\\frac{f(x}{p(x)} \\, p(x) \\, dx} \\\\\n",
    "&= \\int{f(x) dx} \\\\\n",
    "&= I\n",
    "\\end{align}\n",
    "$$\n",
    "\n",
    "By the law of large numbers, the average converges on the expectation, so we have\n",
    "\n",
    "$$\n",
    "I \\approx \\bar{g_n} = \\frac{1}{n} \\sum_{i=1}^n g(x_i)\n",
    "$$\n",
    "\n",
    "If $f(x)$ is a proper integral (i.e. bounded), and $p(x)$ is the uniform distribution, then $g(x) = f(x)$ and this is known as ordinary Monte Carlo. If the integral of $f(x)$ is improper, then we need to use another distribution with the same support as $f(x)$."
   ]
  },
  {
   "cell_type": "markdown",
   "metadata": {},
   "source": [
    "**Example: Estimating $\\pi$**\n",
    "\n",
    "We have a function \n",
    "\n",
    "$$\n",
    "f(x, y) = \n",
    "\\begin{cases}\n",
    "1 & \\text{if}\\ x^2 + y^2 \\le 1 \\\\\n",
    "0 & \\text{otherwise}\n",
    "\\end{cases}\n",
    "$$\n",
    "\n",
    "whose integral is\n",
    "$$\n",
    "I = \\int_{-1}^{1} \\int_{-1}^{1} f(x,y) dx dy = \\pi\n",
    "$$\n",
    "\n",
    "So a Monte Carlo estimate of $\\pi$ is \n",
    "$$\n",
    "Q = 4 \\sum_{i=1}^{N} f(x, y)\n",
    "$$\n",
    "\n",
    "if we sample $p$ from the standard uniform distribution in $\\mathbb{R}^2$."
   ]
  },
  {
   "cell_type": "code",
   "execution_count": 6,
   "metadata": {},
   "outputs": [],
   "source": [
    "from scipy import stats"
   ]
  },
  {
   "cell_type": "code",
   "execution_count": 7,
   "metadata": {},
   "outputs": [
    {
     "data": {
      "image/png": "[encoded data removed]",
      "text/plain": [
       "<Figure size 432x288 with 1 Axes>"
      ]
     },
     "metadata": {
      "needs_background": "light"
     },
     "output_type": "display_data"
    }
   ],
   "source": [
    "x = np.linspace(-3,3,100)\n",
    "dist = stats.norm(0,1)\n",
    "a = -2\n",
    "b = 0\n",
    "plt.plot(x, dist.pdf(x))\n",
    "plt.fill_between(np.linspace(a,b,100), dist.pdf(np.linspace(a,b,100)), alpha=0.5)\n",
    "plt.text(b+0.1, 0.1, 'p=%.4f' % (dist.cdf(b) - dist.cdf(a)), fontsize=14)\n",
    "pass"
   ]
  },
  {
   "cell_type": "markdown",
   "metadata": {},
   "source": [
    "#### Using quadrature"
   ]
  },
  {
   "cell_type": "code",
   "execution_count": 8,
   "metadata": {},
   "outputs": [],
   "source": [
    "from scipy.integrate import quad"
   ]
  },
  {
   "cell_type": "code",
   "execution_count": 9,
   "metadata": {},
   "outputs": [
    {
     "data": {
      "text/plain": [
       "0.47724986805182085"
      ]
     },
     "execution_count": 9,
     "metadata": {},
     "output_type": "execute_result"
    }
   ],
   "source": [
    "y, err = quad(dist.pdf, a, b)\n",
    "y"
   ]
  },
  {
   "cell_type": "markdown",
   "metadata": {},
   "source": [
    "#### Simple Monte Carlo integration"
   ]
  },
  {
   "cell_type": "markdown",
   "metadata": {},
   "source": [
    "If we can sample directly from the target distribution $N(0,1)$"
   ]
  },
  {
   "cell_type": "code",
   "execution_count": 10,
   "metadata": {},
   "outputs": [
    {
     "data": {
      "text/plain": [
       "0.4738"
      ]
     },
     "execution_count": 10,
     "metadata": {},
     "output_type": "execute_result"
    }
   ],
   "source": [
    "n = 10000\n",
    "x = dist.rvs(n)\n",
    "np.sum((a < x) & (x < b))/n"
   ]
  },
  {
   "cell_type": "markdown",
   "metadata": {},
   "source": [
    "If we cannot sample directly from the target distribution $N(0,1)$ but can evaluate it at any point. \n",
    "\n",
    "Recall that $g(x) = \\frac{f(x)}{p(x)}$. Since $p(x)$ is $U(a, b)$, $p(x) = \\frac{1}{b-a}$. So we want to calculate\n",
    "\n",
    "$$\n",
    "\\frac{1}{n} \\sum_{i=1}^n (b-a) f(x)\n",
    "$$"
   ]
  },
  {
   "cell_type": "code",
   "execution_count": 11,
   "metadata": {},
   "outputs": [
    {
     "data": {
      "text/plain": [
       "0.48069595176138846"
      ]
     },
     "execution_count": 11,
     "metadata": {},
     "output_type": "execute_result"
    }
   ],
   "source": [
    "n = 10000\n",
    "x = np.random.uniform(a, b, n)\n",
    "np.mean((b-a)*dist.pdf(x))"
   ]
  },
  {
   "cell_type": "markdown",
   "metadata": {},
   "source": [
    "## Intuition for error rate\n",
    "\n",
    "We will just work this out for a proper integral $f(x)$ defined in the unit cube and bounded by $|f(x)| \\le 1$. Draw a random uniform vector $x$ in the unit cube. Then\n",
    "\n",
    "$$\n",
    "\\begin{align}\n",
    "E[f(x_i)] &= \\int{f(x) p(x) dx} = I \\\\\n",
    "\\text{Var}[f(x_i)] &= \\int{(f(x_i) - I )^2 p(x) \\, dx} \\\\\n",
    "&= \\int{f(x)^2 \\, p(x) \\, dx} - 2I \\int(f(x) \\, p(x) \\, dx + I^2 \\int{p(x) \\, dx} \\\\\n",
    "&= \\int{f(x)^2 \\, p(x) \\, dx}  + I^2 \\\\\n",
    "& \\le \\int{f(x)^2 \\, p(x) \\, dx} \\\\\n",
    "& \\le \\int{p(x) \\, dx} = 1\n",
    "\\end{align}\n",
    "$$\n",
    "\n",
    "Now consider summing over many such IID draws $S_n = f(x_1) + f(x_2) + \\cdots + f(x_n)$. We have\n",
    "\n",
    "$$\n",
    "\\begin{align}\n",
    "E[S_n] &= nI \\\\\n",
    "\\text{Var}[S_n] & \\le n\n",
    "\\end{align}\n",
    "$$\n",
    "\n",
    "and as expected, we see that $I \\approx S_n/n$. From Chebyshev's inequality,\n",
    "\n",
    "$$\n",
    "\\begin{align}\n",
    "P \\left( \\left| \\frac{s_n}{n} - I \\right| \\ge \\epsilon \\right)  &= \n",
    "P \\left( \\left| s_n - nI \\right| \\ge n \\epsilon \\right) & \\le \\frac{\\text{Var}[s_n]}{n^2 \\epsilon^2} & \\le\n",
    "\\frac{1}{n \\epsilon^2} = \\delta\n",
    "\\end{align}\n",
    "$$\n",
    "\n",
    "Suppose we want 1% accuracy and 99% confidence - i.e. set $\\epsilon = \\delta = 0.01$. The above inequality tells us that we can achieve this with just $n = 1/(\\delta \\epsilon^2) = 1,000,000$ samples, regardless of the data dimensionality."
   ]
  },
  {
   "cell_type": "markdown",
   "metadata": {},
   "source": [
    "### Example\n",
    "\n",
    "We want to estimate the following integral $\\int_0^1 e^x dx$. "
   ]
  },
  {
   "cell_type": "code",
   "execution_count": 12,
   "metadata": {},
   "outputs": [
    {
     "data": {
      "image/png": "[encoded data removed]",
      "text/plain": [
       "<Figure size 432x288 with 1 Axes>"
      ]
     },
     "metadata": {
      "needs_background": "light"
     },
     "output_type": "display_data"
    }
   ],
   "source": [
    "x = np.linspace(0, 1, 100)\n",
    "plt.plot(x, np.exp(x))\n",
    "plt.xlim([0,1])\n",
    "plt.ylim([0, np.exp(1)])\n",
    "pass"
   ]
  },
  {
   "cell_type": "markdown",
   "metadata": {},
   "source": [
    "#### Analytic solution"
   ]
  },
  {
   "cell_type": "code",
   "execution_count": 13,
   "metadata": {},
   "outputs": [
    {
     "data": {
      "text/plain": [
       "1.71828182845905"
      ]
     },
     "execution_count": 13,
     "metadata": {},
     "output_type": "execute_result"
    }
   ],
   "source": [
    "from sympy import symbols, integrate, exp\n",
    "\n",
    "x = symbols('x')\n",
    "expr = integrate(exp(x), (x,0,1))\n",
    "expr.evalf()"
   ]
  },
  {
   "cell_type": "markdown",
   "metadata": {},
   "source": [
    "#### Using quadrature"
   ]
  },
  {
   "cell_type": "code",
   "execution_count": 14,
   "metadata": {},
   "outputs": [
    {
     "data": {
      "text/plain": [
       "1.7182818284590453"
      ]
     },
     "execution_count": 14,
     "metadata": {},
     "output_type": "execute_result"
    }
   ],
   "source": [
    "from scipy import integrate\n",
    "\n",
    "y, err = integrate.quad(exp, 0, 1)\n",
    "y"
   ]
  },
  {
   "cell_type": "markdown",
   "metadata": {},
   "source": [
    "#### Monte Carlo integration"
   ]
  },
  {
   "cell_type": "code",
   "execution_count": 15,
   "metadata": {},
   "outputs": [
    {
     "name": "stdout",
     "output_type": "stream",
     "text": [
      "        10 1.847075\n",
      "       100 1.845910\n",
      "      1000 1.731000\n",
      "     10000 1.727204\n",
      "    100000 1.719337\n",
      "   1000000 1.718142\n",
      "  10000000 1.718240\n",
      " 100000000 1.718388\n"
     ]
    }
   ],
   "source": [
    "for n in 10**np.array([1,2,3,4,5,6,7,8]):\n",
    "    x = np.random.uniform(0, 1, n)\n",
    "    sol = np.mean(np.exp(x))\n",
    "    print('%10d %.6f' % (n, sol))"
   ]
  },
  {
   "cell_type": "markdown",
   "metadata": {},
   "source": [
    "### Monitoring variance in Monte Carlo integration\n",
    "\n",
    "We are often interested in knowing how many iterations it takes for Monte Carlo integration to \"converge\". To do this, we would like some estimate of the variance, and it is useful to inspect such plots. One simple way to get confidence intervals for the plot of Monte Carlo estimate against number of iterations is simply to do many such simulations.\n",
    "\n",
    "For the example, we will try to estimate the function (again)\n",
    "\n",
    "$$\n",
    "f(x) = x \\cos 71 x + \\sin 13x, \\ \\  0 \\le x \\le 1\n",
    "$$"
   ]
  },
  {
   "cell_type": "code",
   "execution_count": 16,
   "metadata": {},
   "outputs": [],
   "source": [
    "def f(x):\n",
    "    return x * np.cos(71*x) + np.sin(13*x)"
   ]
  },
  {
   "cell_type": "code",
   "execution_count": 17,
   "metadata": {},
   "outputs": [
    {
     "data": {
      "image/png": "[encoded data removed]",
      "text/plain": [
       "<Figure size 432x288 with 1 Axes>"
      ]
     },
     "metadata": {
      "needs_background": "light"
     },
     "output_type": "display_data"
    }
   ],
   "source": [
    "x = np.linspace(0, 1, 100)\n",
    "plt.plot(x, f(x))\n",
    "pass"
   ]
  },
  {
   "cell_type": "markdown",
   "metadata": {},
   "source": [
    "#### Single MC integration estimate"
   ]
  },
  {
   "cell_type": "code",
   "execution_count": 18,
   "metadata": {},
   "outputs": [
    {
     "data": {
      "text/plain": [
       "0.03103616434230248"
      ]
     },
     "execution_count": 18,
     "metadata": {},
     "output_type": "execute_result"
    }
   ],
   "source": [
    "n = 100\n",
    "x = f(np.random.random(n))\n",
    "y = 1.0/n * np.sum(x)\n",
    "y"
   ]
  },
  {
   "cell_type": "markdown",
   "metadata": {},
   "source": [
    "#### Using multiple independent sequences to monitor convergence\n",
    "\n",
    "We vary the sample size from 1 to 100 and calculate the value of $y = \\sum{x}/n$ for 1000 replicates. We then plot the 2.5th and 97.5th percentile of the 1000 values of $y$ to see how the variation in $y$ changes with sample size. The blue lines indicate the 2.5th and 97.5th percentiles, and the red line a sample path."
   ]
  },
  {
   "cell_type": "code",
   "execution_count": 19,
   "metadata": {},
   "outputs": [],
   "source": [
    "n = 100\n",
    "reps = 1000\n",
    "\n",
    "x = f(np.random.random((n, reps)))\n",
    "y = 1/np.arange(1, n+1)[:, None] * np.cumsum(x, axis=0)\n",
    "upper, lower = np.percentile(y, [2.5, 97.5], axis=1)"
   ]
  },
  {
   "cell_type": "code",
   "execution_count": 20,
   "metadata": {},
   "outputs": [
    {
     "data": {
      "image/png": "[encoded data removed]",
      "text/plain": [
       "<Figure size 432x288 with 1 Axes>"
      ]
     },
     "metadata": {
      "needs_background": "light"
     },
     "output_type": "display_data"
    }
   ],
   "source": [
    "plt.plot(np.arange(1, n+1), y, c='grey', alpha=0.02)\n",
    "plt.plot(np.arange(1, n+1), y[:, 0], c='red', linewidth=1);\n",
    "plt.plot(np.arange(1, n+1), upper, 'b', np.arange(1, n+1), lower, 'b')\n",
    "pass"
   ]
  },
  {
   "cell_type": "markdown",
   "metadata": {},
   "source": [
    "#### Using bootstrap to monitor convergence\n",
    "\n",
    "If it is too expensive to do 1000 replicates, we can use a bootstrap instead."
   ]
  },
  {
   "cell_type": "code",
   "execution_count": 21,
   "metadata": {},
   "outputs": [],
   "source": [
    "xb = np.random.choice(x[:,0], (n, reps), replace=True)\n",
    "yb = 1/np.arange(1, n+1)[:, None] * np.cumsum(xb, axis=0)\n",
    "upper, lower = np.percentile(yb, [2.5, 97.5], axis=1)"
   ]
  },
  {
   "cell_type": "code",
   "execution_count": 22,
   "metadata": {},
   "outputs": [
    {
     "data": {
      "image/png": "[encoded data removed]",
      "text/plain": [
       "<Figure size 432x288 with 1 Axes>"
      ]
     },
     "metadata": {
      "needs_background": "light"
     },
     "output_type": "display_data"
    }
   ],
   "source": [
    "plt.plot(np.arange(1, n+1)[:, None], yb, c='grey', alpha=0.02)\n",
    "plt.plot(np.arange(1, n+1), yb[:, 0], c='red', linewidth=1)\n",
    "plt.plot(np.arange(1, n+1), upper, 'b', np.arange(1, n+1), lower, 'b')\n",
    "pass"
   ]
  },
  {
   "cell_type": "markdown",
   "metadata": {},
   "source": [
    "## Variance Reduction\n",
    "\n",
    "With independent samples, the variance of the Monte Carlo estimate is \n",
    "\n",
    "\n",
    "$$\n",
    "\\begin{align}\n",
    "\\text{Var}[\\bar{g_n}] &= \\text{Var} \\left[ \\frac{1}{N}\\sum_{i=1}^{N} \\frac{f(x_i)}{p(x_i)} \\right] \\\\\n",
    "&= \\frac{1}{N^2} \\sum_{i=1}^{N}  \\text{Var} \\left[ \\frac{f(x_i)}{p(x_i)} \\right] \\\\\n",
    "&= \\frac{1}{N^2} \\sum_{i=1}^{N} \\text{Var}[Y_i] \\\\\n",
    "&= \\frac{1}{N} \\text{Var}[Y_i]\n",
    "\\end{align}\n",
    "$$\n",
    "\n",
    "where $Y_i = f(x_i)/p(x_i)$. In general, we want to make $\\text{Var}[\\bar{g_n}]$ as small as possible for the same number of samples. There are several variance reduction techniques (also colorfully known as Monte Carlo swindles) that have been described - we illustrate the change of variables and importance sampling techniques here."
   ]
  },
  {
   "cell_type": "markdown",
   "metadata": {},
   "source": [
    "### Change of variables\n",
    "\n",
    "The Cauchy distribution is given by \n",
    "$$\n",
    "f(x) = \\frac{1}{\\pi (1 + x^2)}, \\ \\ -\\infty \\lt x \\lt \\infty \n",
    "$$\n",
    "\n",
    "Suppose we want to integrate the tail probability $P(X > 3)$ using Monte Carlo. One way to do this is to draw many samples form a Cauchy distribution, and count how many of them are greater than 3, but this is extremely inefficient."
   ]
  },
  {
   "cell_type": "markdown",
   "metadata": {},
   "source": [
    "#### Only 10% of samples will be used"
   ]
  },
  {
   "cell_type": "code",
   "execution_count": 23,
   "metadata": {},
   "outputs": [
    {
     "data": {
      "text/plain": [
       "0.10241638234956674"
      ]
     },
     "execution_count": 23,
     "metadata": {},
     "output_type": "execute_result"
    }
   ],
   "source": [
    "import scipy.stats as stats\n",
    "\n",
    "h_true = 1 - stats.cauchy().cdf(3)\n",
    "h_true"
   ]
  },
  {
   "cell_type": "code",
   "execution_count": 24,
   "metadata": {},
   "outputs": [
    {
     "data": {
      "text/plain": [
       "(0.13, 0.26932817794994063)"
      ]
     },
     "execution_count": 24,
     "metadata": {},
     "output_type": "execute_result"
    }
   ],
   "source": [
    "n = 100\n",
    "\n",
    "x = stats.cauchy().rvs(n)\n",
    "h_mc = 1.0/n * np.sum(x > 3)\n",
    "h_mc, np.abs(h_mc - h_true)/h_true"
   ]
  },
  {
   "cell_type": "markdown",
   "metadata": {},
   "source": [
    "#### A change of variables lets us use 100% of draws\n",
    "\n",
    "We are trying to estimate the quantity\n",
    "\n",
    "$$\n",
    "\\int_3^\\infty \\frac{1}{\\pi (1 + x^2)} dx\n",
    "$$\n",
    "\n",
    "Using the substitution $y = 3/x$ (and a little algebra), we get\n",
    "\n",
    "$$\n",
    "\\int_0^1 \\frac{3}{\\pi(9 + y^2)} dy\n",
    "$$\n",
    "\n",
    "Hence, a much more efficient MC estimator is \n",
    "\n",
    "$$\n",
    "\\frac{1}{n} \\sum_{i=1}^n \\frac{3}{\\pi(9 + y_i^2)}\n",
    "$$\n",
    "\n",
    "where $y_i \\sim \\mathcal{U}(0, 1)$."
   ]
  },
  {
   "cell_type": "code",
   "execution_count": 25,
   "metadata": {},
   "outputs": [
    {
     "data": {
      "text/plain": [
       "(0.10219440906830025, 0.002167361082027339)"
      ]
     },
     "execution_count": 25,
     "metadata": {},
     "output_type": "execute_result"
    }
   ],
   "source": [
    "y = stats.uniform().rvs(n)\n",
    "h_cv = 1.0/n * np.sum(3.0/(np.pi * (9 + y**2)))\n",
    "h_cv, np.abs(h_cv - h_true)/h_true"
   ]
  },
  {
   "cell_type": "markdown",
   "metadata": {},
   "source": [
    "### Importance sampling\n",
    "\n",
    "Suppose we want to evaluate\n",
    "\n",
    "$$\n",
    "I = \\int{h(x)\\,p(x) \\, dx}\n",
    "$$\n",
    "\n",
    "where $h(x)$ is some function and $p(x)$ is the PDF of $y$. If it is hard to sample directly from $p$, we can introduce a new density function $q(x)$ that is easy to sample from, and write\n",
    "\n",
    "$$\n",
    "I = \\int{h(x)\\, p(x)\\, dx} = \\int{h(x)\\, \\frac{p(x)}{q(x)} \\, q(x) \\, dx}\n",
    "$$\n",
    "\n",
    "In other words, we sample from $h(y)$ where $y \\sim q$ and weight it by the likelihood ratio $\\frac{p(y)}{q(y)}$, estimating the integral as\n",
    "\n",
    "$$\n",
    "\\frac{1}{n}\\sum_{i=1}^n \\frac{p(y_i)}{q(y_i)} h(y_i)\n",
    "$$\n",
    "\n",
    "Sometimes, even if we can sample from $p$ directly, it is more efficient to use another distribution."
   ]
  },
  {
   "cell_type": "markdown",
   "metadata": {},
   "source": [
    "#### Example\n",
    "\n",
    "Suppose we want to estimate the tail probability of $\\mathcal{N}(0, 1)$ for $P(X > 5)$. Regular MC integration using samples from $\\mathcal{N}(0, 1)$ is hopeless since nearly all samples will be rejected. However, we can use the exponential density truncated at 5 as the importance function and use importance sampling. Note that $h$ here is simply the identify function."
   ]
  },
  {
   "cell_type": "code",
   "execution_count": 26,
   "metadata": {},
   "outputs": [
    {
     "data": {
      "image/png": "[encoded data removed]",
      "text/plain": [
       "<Figure size 432x288 with 1 Axes>"
      ]
     },
     "metadata": {
      "needs_background": "light"
     },
     "output_type": "display_data"
    }
   ],
   "source": [
    "x = np.linspace(4, 10, 100)\n",
    "plt.plot(x, stats.expon(5).pdf(x))\n",
    "plt.plot(x, stats.norm().pdf(x))\n",
    "pass"
   ]
  },
  {
   "cell_type": "markdown",
   "metadata": {},
   "source": [
    "#### Expected answer\n",
    "\n",
    "We expect about 3 draws out of 10,000,000 from $\\mathcal{N}(0, 1)$ to have a value greater than 5. Hence simply sampling from $\\mathcal{N}(0, 1)$ is hopelessly inefficient for Monte Carlo integration."
   ]
  },
  {
   "cell_type": "code",
   "execution_count": 27,
   "metadata": {},
   "outputs": [
    {
     "data": {
      "text/plain": [
       "'%.10f'"
      ]
     },
     "execution_count": 27,
     "metadata": {},
     "output_type": "execute_result"
    }
   ],
   "source": [
    "%precision 10"
   ]
  },
  {
   "cell_type": "code",
   "execution_count": 28,
   "metadata": {},
   "outputs": [
    {
     "data": {
      "text/plain": [
       "2.866515719235352e-07"
      ]
     },
     "execution_count": 28,
     "metadata": {},
     "output_type": "execute_result"
    }
   ],
   "source": [
    "v_true = 1 - stats.norm().cdf(5)\n",
    "v_true"
   ]
  },
  {
   "cell_type": "markdown",
   "metadata": {},
   "source": [
    "#### Using direct Monte Carlo integration"
   ]
  },
  {
   "cell_type": "code",
   "execution_count": 29,
   "metadata": {},
   "outputs": [
    {
     "data": {
      "text/plain": [
       "(0.0, 1.0)"
      ]
     },
     "execution_count": 29,
     "metadata": {},
     "output_type": "execute_result"
    }
   ],
   "source": [
    "n = 10000\n",
    "y = stats.norm().rvs(n)\n",
    "v_mc = 1.0/n * np.sum(y > 5)\n",
    "# estimate and relative error\n",
    "v_mc, np.abs(v_mc - v_true)/v_true "
   ]
  },
  {
   "cell_type": "markdown",
   "metadata": {},
   "source": [
    "#### Using importance sampling"
   ]
  },
  {
   "cell_type": "code",
   "execution_count": 30,
   "metadata": {},
   "outputs": [
    {
     "data": {
      "text/plain": [
       "(2.8290057563382236e-07, 0.01308555981236137)"
      ]
     },
     "execution_count": 30,
     "metadata": {},
     "output_type": "execute_result"
    }
   ],
   "source": [
    "n = 10000\n",
    "y = stats.expon(loc=5).rvs(n)\n",
    "v_is = 1.0/n * np.sum(stats.norm().pdf(y)/stats.expon(loc=5).pdf(y))\n",
    "# estimate and relative error\n",
    "v_is, np.abs(v_is- v_true)/v_true"
   ]
  },
  {
   "cell_type": "code",
   "execution_count": null,
   "metadata": {},
   "outputs": [],
   "source": []
  }
 ],
 "metadata": {
  "kernelspec": {
   "display_name": "Python 3",
   "language": "python",
   "name": "python3"
  },
  "language_info": {
   "codemirror_mode": {
    "name": "ipython",
    "version": 3
   },
   "file_extension": ".py",
   "mimetype": "text/x-python",
   "name": "python",
   "nbconvert_exporter": "python",
   "pygments_lexer": "ipython3",
   "version": "3.8.5"
  }
 },
 "nbformat": 4,
 "nbformat_minor": 1
}
