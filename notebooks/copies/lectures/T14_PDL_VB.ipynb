{
 "cells": [
  {
   "cell_type": "markdown",
   "metadata": {},
   "source": [
    "# Variational Bayes"
   ]
  },
  {
   "cell_type": "code",
   "execution_count": 1,
   "metadata": {},
   "outputs": [],
   "source": [
    "import silence_tensorflow.auto\n",
    "import tensorflow as tf"
   ]
  },
  {
   "cell_type": "code",
   "execution_count": 2,
   "metadata": {},
   "outputs": [],
   "source": [
    "import tensorflow_probability as tfp\n",
    "tfd = tfp.distributions"
   ]
  },
  {
   "cell_type": "code",
   "execution_count": 3,
   "metadata": {},
   "outputs": [],
   "source": [
    "%matplotlib inline\n",
    "import matplotlib.pyplot as plt\n",
    "import numpy as np"
   ]
  },
  {
   "cell_type": "code",
   "execution_count": 4,
   "metadata": {},
   "outputs": [],
   "source": [
    "np.random.seed(42)\n",
    "n = 40\n",
    "x = np.linspace(-2, 2, n)\n",
    "a = 2\n",
    "b = -1\n",
    "σ = 3\n",
    "y = a*x + b + np.random.normal(0, σ, n)"
   ]
  },
  {
   "cell_type": "code",
   "execution_count": 5,
   "metadata": {},
   "outputs": [],
   "source": [
    "x = x.astype('float32').reshape(-1,1)\n",
    "y = y.astype('float32').reshape(-1,1)"
   ]
  },
  {
   "cell_type": "markdown",
   "metadata": {},
   "source": [
    "#### Least squares solution\n",
    "\n",
    "Same maximum likelihood for normal errors."
   ]
  },
  {
   "cell_type": "code",
   "execution_count": 6,
   "metadata": {},
   "outputs": [
    {
     "data": {
      "text/plain": [
       "(array([1.40295034]), array([-1.65591054]))"
      ]
     },
     "execution_count": 6,
     "metadata": {},
     "output_type": "execute_result"
    }
   ],
   "source": [
    "b_mle, a_mle = np.linalg.lstsq(np.c_[np.ones(n), x], y, rcond=None)[0]\n",
    "a_mle, b_mle"
   ]
  },
  {
   "cell_type": "code",
   "execution_count": 7,
   "metadata": {},
   "outputs": [
    {
     "data": {
      "image/png": "[encoded data removed]",
      "text/plain": [
       "<Figure size 432x288 with 1 Axes>"
      ]
     },
     "metadata": {
      "needs_background": "light"
     },
     "output_type": "display_data"
    }
   ],
   "source": [
    "plt.scatter(x, y)\n",
    "plt.plot(x, a_mle * x + b_mle, c='r')\n",
    "pass"
   ]
  },
  {
   "cell_type": "markdown",
   "metadata": {},
   "source": [
    "### VB step-by-step"
   ]
  },
  {
   "cell_type": "code",
   "execution_count": 8,
   "metadata": {},
   "outputs": [
    {
     "name": "stdout",
     "output_type": "stream",
     "text": [
      "    0 loss 102.923 μa 1.000 μb 1.000\n",
      "    1 loss 155.290 μa 0.997 μb 0.993\n",
      " 1000 loss 100.621 μa 1.186 μb -1.336\n",
      " 2000 loss 100.991 μa 1.207 μb -1.332\n",
      " 3000 loss 101.166 μa 1.240 μb -1.345\n",
      " 4000 loss 101.075 μa 1.221 μb -1.372\n",
      " 5000 loss 100.309 μa 1.237 μb -1.347\n",
      " 6000 loss 100.890 μa 1.185 μb -1.343\n",
      " 7000 loss 105.364 μa 1.182 μb -1.344\n",
      " 8000 loss 102.745 μa 1.220 μb -1.329\n",
      " 9000 loss 103.017 μa 1.227 μb -1.378\n",
      "10000 loss 101.812 μa 1.195 μb -1.353\n"
     ]
    }
   ],
   "source": [
    "w = tf.Variable([1.,1.,1.,1.])\n",
    "ϵ = tfd.Normal(loc=0, scale=1)\n",
    "lr = 0.001\n",
    "epochs = 10001\n",
    "for i in range(epochs):\n",
    "    with tf.GradientTape() as tape:\n",
    "        μa1 = w[0]\n",
    "        σa1 = tf.math.softplus(w[1])\n",
    "        μb1 = w[2]\n",
    "        σb1 = tf.math.softplus(w[3])\n",
    "        \n",
    "        loss_kl = (-0.5 * \n",
    "                   (1 + tf.math.log(σa1**2) - σa1**2 - μa1**2 +\n",
    "                    1 + tf.math.log(σb1**2) - σb1**2 - μb1**2))\n",
    "        \n",
    "        # Reparameterization trick\n",
    "        a = μa1 + σa1 * ϵ.sample()\n",
    "        b = μb1 + σb1 * ϵ.sample()\n",
    "        y_prob = tfd.Normal(loc=x*a + b, scale=σ)\n",
    "        loss_nll = -tf.reduce_sum(y_prob.log_prob(y))\n",
    "        \n",
    "        loss = loss_kl + loss_nll\n",
    "        grad = tape.gradient(loss, w)\n",
    "    w = tf.Variable(w - lr*grad)\n",
    "    if i % (epochs // 10) == 0 or i < 2:\n",
    "        print('%5d' %i, 'loss %.3f' % loss.numpy(),\n",
    "              'μa %.3f' % μa1.numpy(), 'μb %.3f' % μb1.numpy())"
   ]
  },
  {
   "cell_type": "code",
   "execution_count": 9,
   "metadata": {},
   "outputs": [
    {
     "data": {
      "image/png": "[encoded data removed]",
      "text/plain": [
       "<Figure size 432x288 with 1 Axes>"
      ]
     },
     "metadata": {
      "needs_background": "light"
     },
     "output_type": "display_data"
    }
   ],
   "source": [
    "plt.scatter(x, y)\n",
    "plt.plot(x, a_mle * x + b_mle, c='r')\n",
    "plt.plot(x, μa1 * x + μb1, c='g')\n",
    "plt.plot(x, x + 1, c='b')\n",
    "plt.legend(['MLE', 'Post', 'Prior'])\n",
    "pass"
   ]
  }
 ],
 "metadata": {
  "kernelspec": {
   "display_name": "Python 3.8.5 64-bit",
   "language": "python",
   "name": "python38564bit02a66c47ce504b05b2ef5646cfed96c2"
  },
  "language_info": {
   "codemirror_mode": {
    "name": "ipython",
    "version": 3
   },
   "file_extension": ".py",
   "mimetype": "text/x-python",
   "name": "python",
   "nbconvert_exporter": "python",
   "pygments_lexer": "ipython3",
   "version": "3.8.5"
  }
 },
 "nbformat": 4,
 "nbformat_minor": 4
}
