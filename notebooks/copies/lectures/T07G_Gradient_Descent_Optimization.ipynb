{
 "cells": [
  {
   "cell_type": "markdown",
   "metadata": {},
   "source": [
    "# Gradient Descent Optimizations\n",
    "\n",
    "Mini-batch and stochastic gradient descent is widely used in deep learning, where the large number of parameters and  limited memory make the use of more sophisticated optimization methods impractical. Many methods have been proposed to accelerate gradient descent in this context, and here we sketch the ideas behind some of the most popular algorithms."
   ]
  },
  {
   "cell_type": "code",
   "execution_count": 2,
   "metadata": {},
   "outputs": [],
   "source": [
    "%matplotlib inline"
   ]
  },
  {
   "cell_type": "code",
   "execution_count": 3,
   "metadata": {},
   "outputs": [],
   "source": [
    "import matplotlib.pyplot as plt\n",
    "import numpy as np"
   ]
  },
  {
   "cell_type": "markdown",
   "metadata": {},
   "source": [
    "## Smoothing with exponentially weighted averages"
   ]
  },
  {
   "cell_type": "code",
   "execution_count": null,
   "metadata": {},
   "outputs": [],
   "source": [
    "n = 50\n",
    "x = np.arange(n) * np.pi\n",
    "y = np.cos(x) * np.exp(x/100) - 10*np.exp(-0.01*x)"
   ]
  },
  {
   "cell_type": "markdown",
   "metadata": {},
   "source": [
    "### Exponentially weighted average\n",
    "\n",
    "The exponentially weighted average adds a fraction $\\beta$ of the current value to a leaky running sum of past values. Effectively, the contribution from the $t-n$th value is scaled by\n",
    "\n",
    "$$\n",
    "\\beta^n(1 - \\beta)\n",
    "$$\n",
    "\n",
    "For example, here are the contributions to the current value after 5 iterations (iteration 5 is the current iteration)\n",
    "\n",
    "| iteration | contribution |\n",
    "| --- | --- |\n",
    "| 1 | $\\beta^4(1 - \\beta)$ |\n",
    "| 2 | $\\beta^3(1 - \\beta)$ |\n",
    "| 3 | $\\beta^2(1 - \\beta)$ |\n",
    "| 4 | $\\beta^1(1 - \\beta)$ |\n",
    "| 5 | $(1 - \\beta)$ |\n",
    "\n",
    "Since $\\beta \\lt 1$, the contribution decreases exponentially with the passage of time. Effectively, this acts as a smoother for a function."
   ]
  },
  {
   "cell_type": "code",
   "execution_count": null,
   "metadata": {},
   "outputs": [],
   "source": [
    "def ewa(y, beta):\n",
    "    \"\"\"Exponentially weighted average.\"\"\"\n",
    "    \n",
    "    n = len(y)\n",
    "    zs = np.zeros(n)\n",
    "    z = 0\n",
    "    for i in range(n):\n",
    "        z = beta*z + (1 - beta)*y[i]\n",
    "        zs[i] = z\n",
    "    return zs"
   ]
  },
  {
   "cell_type": "markdown",
   "metadata": {},
   "source": [
    "### Exponentially weighted average with bias correction\n",
    "\n",
    "Since the EWA starts from 0, there is an initial bias. This can be corrected by scaling with \n",
    "\n",
    "$$\n",
    "\\frac{1}{1 - \\beta^t}\n",
    "$$\n",
    "\n",
    "where $t$ is the iteration number."
   ]
  },
  {
   "cell_type": "code",
   "execution_count": null,
   "metadata": {},
   "outputs": [],
   "source": [
    "def ewabc(y, beta):\n",
    "    \"\"\"Exponentially weighted average with bias correction.\"\"\"\n",
    "    \n",
    "    n = len(y)\n",
    "    zs = np.zeros(n)\n",
    "    z = 0\n",
    "    for i in range(n):\n",
    "        z = beta*z + (1 - beta)*y[i]\n",
    "        zc = z/(1 - beta**(i+1))\n",
    "        zs[i] = zc\n",
    "    return zs"
   ]
  },
  {
   "cell_type": "code",
   "execution_count": null,
   "metadata": {},
   "outputs": [],
   "source": [
    "beta = 0.9\n",
    "\n",
    "plt.plot(x, y, 'o-')\n",
    "plt.plot(x, ewa(y, beta), c='red', label='EWA')\n",
    "plt.plot(x, ewabc(y, beta), c='orange', label='EWA with bias correction')\n",
    "plt.legend()\n",
    "pass"
   ]
  },
  {
   "cell_type": "markdown",
   "metadata": {},
   "source": [
    "## Momentum in 1D\n",
    "\n",
    "Momentum comes from physics, where the contribution of the gradient is to the velocity, not the position. Hence we create an accessory variable $v$ and increment it with the gradient. The position is then updated with the velocity in place of the gradient. The analogy is that we can think of the parameter $x$ as a particle in an energy well with potential energy $U = mgh$ where $h$ is given by our objective function $f$. The force generated is a function of the rat of change of potential energy $F \\propto \\nabla U \\propto \\nabla f$, and we use $F = ma$ to get that the acceleration $a \\propto \\nabla f$. Finally, we integrate $a$ over time to get the velocity $v$ and integrate $v$ to get the displacement $x$. Note that we need to damp the velocity otherwise the particle would just oscillate forever.\n",
    "\n",
    "We use a version of the update that simply treats the velocity as an exponentially weighted average popularized by Andrew Ng in his Coursera course. This is the same as the momentum scheme motivated by physics with some rescaling of constants."
   ]
  },
  {
   "cell_type": "code",
   "execution_count": null,
   "metadata": {},
   "outputs": [],
   "source": [
    "def f(x):\n",
    "    return x**2"
   ]
  },
  {
   "cell_type": "code",
   "execution_count": null,
   "metadata": {},
   "outputs": [],
   "source": [
    "def grad(x):\n",
    "    return 2*x"
   ]
  },
  {
   "cell_type": "code",
   "execution_count": null,
   "metadata": {},
   "outputs": [],
   "source": [
    "def gd(x, grad, alpha, max_iter=10):\n",
    "    xs = np.zeros(1 + max_iter)\n",
    "    xs[0] = x\n",
    "    for i in range(max_iter):\n",
    "        x = x - alpha * grad(x)\n",
    "        xs[i+1] = x\n",
    "    return xs"
   ]
  },
  {
   "cell_type": "code",
   "execution_count": null,
   "metadata": {},
   "outputs": [],
   "source": [
    "def gd_momentum(x, grad, alpha, beta=0.9, max_iter=10):\n",
    "    xs = np.zeros(1 + max_iter)\n",
    "    xs[0] = x\n",
    "    v = 0\n",
    "    for i in range(max_iter):\n",
    "        v = beta*v + (1-beta)*grad(x)\n",
    "        vc = v/(1+beta**(i+1))\n",
    "        x = x - alpha * vc\n",
    "        xs[i+1] = x\n",
    "    return xs"
   ]
  },
  {
   "cell_type": "markdown",
   "metadata": {},
   "source": [
    "### Gradient descent with moderate step size"
   ]
  },
  {
   "cell_type": "code",
   "execution_count": null,
   "metadata": {},
   "outputs": [],
   "source": [
    "alpha = 0.1\n",
    "x0 = 1\n",
    "xs = gd(x0, grad, alpha)\n",
    "xp = np.linspace(-1.2, 1.2, 100)\n",
    "plt.plot(xp, f(xp))\n",
    "plt.plot(xs, f(xs), 'o-', c='red')\n",
    "for i, (x, y) in enumerate(zip(xs, f(xs)), 1):\n",
    "    plt.text(x, y+0.2, i, \n",
    "             bbox=dict(facecolor='yellow', alpha=0.5), fontsize=14)\n",
    "pass"
   ]
  },
  {
   "cell_type": "markdown",
   "metadata": {},
   "source": [
    "### Gradient descent with large step size\n",
    "\n",
    "When the step size is too large, gradient descent can oscillate and even diverge."
   ]
  },
  {
   "cell_type": "code",
   "execution_count": null,
   "metadata": {},
   "outputs": [],
   "source": [
    "alpha = 0.95\n",
    "xs = gd(1, grad, alpha)\n",
    "xp = np.linspace(-1.2, 1.2, 100)\n",
    "plt.plot(xp, f(xp))\n",
    "plt.plot(xs, f(xs), 'o-', c='red')\n",
    "for i, (x, y) in enumerate(zip(xs, f(xs)), 1):\n",
    "    plt.text(x*1.2, y, i,\n",
    "             bbox=dict(facecolor='yellow', alpha=0.5), fontsize=14)\n",
    "pass"
   ]
  },
  {
   "cell_type": "markdown",
   "metadata": {},
   "source": [
    "### Gradient descent with momentum\n",
    "\n",
    "Momentum results in cancellation of gradient changes in opposite directions, and hence damps out oscillations while amplifying consistent changes in the same direction. This is perhaps clearer in the 2D example below."
   ]
  },
  {
   "cell_type": "code",
   "execution_count": null,
   "metadata": {},
   "outputs": [],
   "source": [
    "alpha = 0.95\n",
    "xs = gd_momentum(1, grad, alpha, beta=0.9)\n",
    "xp = np.linspace(-1.2, 1.2, 100)\n",
    "plt.plot(xp, f(xp))\n",
    "plt.plot(xs, f(xs), 'o-', c='red')\n",
    "for i, (x, y) in enumerate(zip(xs, f(xs)), 1):\n",
    "    plt.text(x, y+0.2, i, \n",
    "             bbox=dict(facecolor='yellow', alpha=0.5), fontsize=14)\n",
    "pass"
   ]
  },
  {
   "cell_type": "markdown",
   "metadata": {},
   "source": [
    "## Momentum and RMSprop in 2D"
   ]
  },
  {
   "cell_type": "code",
   "execution_count": null,
   "metadata": {},
   "outputs": [],
   "source": [
    "def f2(x):\n",
    "    return x[0]**2 + 100*x[1]**2"
   ]
  },
  {
   "cell_type": "code",
   "execution_count": null,
   "metadata": {},
   "outputs": [],
   "source": [
    "def grad2(x):\n",
    "    return np.array([2*x[0], 200*x[1]])"
   ]
  },
  {
   "cell_type": "code",
   "execution_count": null,
   "metadata": {},
   "outputs": [],
   "source": [
    "x = np.linspace(-1.2, 1.2, 100)\n",
    "y = np.linspace(-1.2, 1.2, 100)\n",
    "X, Y = np.meshgrid(x, y)\n",
    "levels = [0.1,1,2,4,9, 16, 25, 36, 49, 64, 81, 100]\n",
    "Z = x**2 + 100*Y**2\n",
    "c = plt.contour(X, Y, Z, levels)\n",
    "pass"
   ]
  },
  {
   "cell_type": "code",
   "execution_count": null,
   "metadata": {},
   "outputs": [],
   "source": [
    "def gd2(x, grad, alpha, max_iter=10):\n",
    "    xs = np.zeros((1 + max_iter, x.shape[0]))\n",
    "    xs[0,:] = x\n",
    "    for i in range(max_iter):\n",
    "        x = x - alpha * grad(x)\n",
    "        xs[i+1,:] = x\n",
    "    return xs"
   ]
  },
  {
   "cell_type": "code",
   "execution_count": null,
   "metadata": {},
   "outputs": [],
   "source": [
    "def gd2_momentum(x, grad, alpha, beta=0.9, max_iter=10):\n",
    "    xs = np.zeros((1 + max_iter, x.shape[0]))\n",
    "    xs[0, :] = x\n",
    "    v = 0\n",
    "    for i in range(max_iter):\n",
    "        v = beta*v + (1-beta)*grad(x)\n",
    "        vc = v/(1+beta**(i+1))\n",
    "        x = x - alpha * vc\n",
    "        xs[i+1, :] = x\n",
    "    return xs"
   ]
  },
  {
   "cell_type": "markdown",
   "metadata": {},
   "source": [
    "### Gradient descent with large step size\n",
    "\n",
    "We get severe oscillations."
   ]
  },
  {
   "cell_type": "code",
   "execution_count": null,
   "metadata": {},
   "outputs": [],
   "source": [
    "alpha = 0.01\n",
    "x0 = np.array([-1,-1])\n",
    "xs = gd2(x0, grad2, alpha, max_iter=75)"
   ]
  },
  {
   "cell_type": "code",
   "execution_count": null,
   "metadata": {},
   "outputs": [],
   "source": [
    "x = np.linspace(-1.2, 1.2, 100)\n",
    "y = np.linspace(-1.2, 1.2, 100)\n",
    "X, Y = np.meshgrid(x, y)\n",
    "levels = [0.1,1,2,4,9, 16, 25, 36, 49, 64, 81, 100]\n",
    "Z = x**2 + 100*Y**2\n",
    "c = plt.contour(X, Y, Z, levels)\n",
    "plt.plot(xs[:, 0], xs[:, 1], 'o-', c='red')\n",
    "plt.title('Vanilla gradient descent')\n",
    "pass"
   ]
  },
  {
   "cell_type": "markdown",
   "metadata": {},
   "source": [
    "### Gradient descent with momentum\n",
    "\n",
    "The damping effect is clear."
   ]
  },
  {
   "cell_type": "code",
   "execution_count": null,
   "metadata": {},
   "outputs": [],
   "source": [
    "alpha = 0.01\n",
    "x0 = np.array([-1,-1])\n",
    "xs = gd2_momentum(x0, grad2, alpha, beta=0.9, max_iter=75)"
   ]
  },
  {
   "cell_type": "code",
   "execution_count": null,
   "metadata": {},
   "outputs": [],
   "source": [
    "x = np.linspace(-1.2, 1.2, 100)\n",
    "y = np.linspace(-1.2, 1.2, 100)\n",
    "X, Y = np.meshgrid(x, y)\n",
    "levels = [0.1,1,2,4,9, 16, 25, 36, 49, 64, 81, 100]\n",
    "Z = x**2 + 100*Y**2\n",
    "c = plt.contour(X, Y, Z, levels)\n",
    "plt.plot(xs[:, 0], xs[:, 1], 'o-', c='red')\n",
    "plt.title('Gradieent descent with momentum')\n",
    "pass"
   ]
  },
  {
   "cell_type": "markdown",
   "metadata": {},
   "source": [
    "### Gradient descent with RMSprop\n",
    "\n",
    "RMSprop scales the learning rate in each direction by the square root of the exponentially weighted sum of squared gradients. Near a saddle or any plateau, there are directions where the gradient is very small - RMSporp encourages larger steps in those directions, allowing faster escape."
   ]
  },
  {
   "cell_type": "code",
   "execution_count": null,
   "metadata": {},
   "outputs": [],
   "source": [
    "def gd2_rmsprop(x, grad, alpha, beta=0.9, eps=1e-8, max_iter=10):\n",
    "    xs = np.zeros((1 + max_iter, x.shape[0]))\n",
    "    xs[0, :] = x\n",
    "    v = 0\n",
    "    for i in range(max_iter):\n",
    "        v = beta*v + (1-beta)*grad(x)**2\n",
    "        x = x - alpha * grad(x) / (eps + np.sqrt(v))\n",
    "        xs[i+1, :] = x\n",
    "    return xs"
   ]
  },
  {
   "cell_type": "code",
   "execution_count": null,
   "metadata": {},
   "outputs": [],
   "source": [
    "alpha = 0.1\n",
    "x0 = np.array([-1,-1])\n",
    "xs = gd2_rmsprop(x0, grad2, alpha, beta=0.9, max_iter=10)"
   ]
  },
  {
   "cell_type": "code",
   "execution_count": null,
   "metadata": {},
   "outputs": [],
   "source": [
    "x = np.linspace(-1.2, 1.2, 100)\n",
    "y = np.linspace(-1.2, 1.2, 100)\n",
    "X, Y = np.meshgrid(x, y)\n",
    "levels = [0.1,1,2,4,9, 16, 25, 36, 49, 64, 81, 100]\n",
    "Z = x**2 + 100*Y**2\n",
    "c = plt.contour(X, Y, Z, levels)\n",
    "plt.plot(xs[:, 0], xs[:, 1], 'o-', c='red')\n",
    "plt.title('Gradient descent with RMSprop')\n",
    "pass"
   ]
  },
  {
   "cell_type": "markdown",
   "metadata": {},
   "source": [
    "### ADAM\n",
    "\n",
    "ADAM (Adaptive Moment Estimation) combines the ideas of momentum, RMSprop and bias correction. It is probably the most popular gradient descent method in current deep learning practice."
   ]
  },
  {
   "cell_type": "code",
   "execution_count": null,
   "metadata": {},
   "outputs": [],
   "source": [
    "def gd2_adam(x, grad, alpha, beta1=0.9, beta2=0.999, eps=1e-8, max_iter=10):\n",
    "    xs = np.zeros((1 + max_iter, x.shape[0]))\n",
    "    xs[0, :] = x\n",
    "    m = 0\n",
    "    v = 0\n",
    "    for i in range(max_iter):\n",
    "        m = beta1*m + (1-beta1)*grad(x)\n",
    "        v = beta2*v + (1-beta2)*grad(x)**2\n",
    "        mc = m/(1+beta1**(i+1))\n",
    "        vc = v/(1+beta2**(i+1))\n",
    "        x = x - alpha * m / (eps + np.sqrt(vc))\n",
    "        xs[i+1, :] = x\n",
    "    return xs"
   ]
  },
  {
   "cell_type": "code",
   "execution_count": null,
   "metadata": {},
   "outputs": [],
   "source": [
    "alpha = 0.1\n",
    "x0 = np.array([-1,-1])\n",
    "xs = gd2_adam(x0, grad2, alpha, beta1=0.9, beta2=0.9, max_iter=10)"
   ]
  },
  {
   "cell_type": "code",
   "execution_count": null,
   "metadata": {},
   "outputs": [],
   "source": [
    "x = np.linspace(-1.2, 1.2, 100)\n",
    "y = np.linspace(-1.2, 1.2, 100)\n",
    "X, Y = np.meshgrid(x, y)\n",
    "levels = [0.1,1,2,4,9, 16, 25, 36, 49, 64, 81, 100]\n",
    "Z = x**2 + 100*Y**2\n",
    "c = plt.contour(X, Y, Z, levels)\n",
    "plt.plot(xs[:, 0], xs[:, 1], 'o-', c='red')\n",
    "plt.title('Gradient descent with RMSprop')\n",
    "pass"
   ]
  },
  {
   "cell_type": "markdown",
   "metadata": {
    "collapsed": true
   },
   "source": [
    "## Implementing a custom optimization routine for `scipy.optimize`\n",
    "\n",
    "Gradient descent is not one of the methods available in `scipy.optimize`. However we can implement our own version by following the API of the `minimize` function."
   ]
  },
  {
   "cell_type": "code",
   "execution_count": null,
   "metadata": {},
   "outputs": [],
   "source": [
    "import scipy.optimize as opt\n",
    "import scipy.linalg as la"
   ]
  },
  {
   "cell_type": "code",
   "execution_count": null,
   "metadata": {},
   "outputs": [],
   "source": [
    "def custmin(fun, x0, args=(), maxfev=None, alpha=0.0002,\n",
    "        maxiter=100000, tol=1e-10, callback=None, **options):\n",
    "    \"\"\"Implements simple gradient descent for the Rosen function.\"\"\"\n",
    "    bestx = x0\n",
    "    bestf = fun(x0)\n",
    "    funcalls = 1\n",
    "    niter = 0\n",
    "    improved = True\n",
    "    stop = False\n",
    "\n",
    "    while improved and not stop and niter < maxiter:\n",
    "        niter += 1\n",
    "        # the next 2 lines are gradient descent\n",
    "        step = alpha * rosen_der(bestx)\n",
    "        bestx = bestx - step\n",
    "\n",
    "        bestf = fun(bestx)\n",
    "        funcalls += 1\n",
    "        \n",
    "        if la.norm(step) < tol:\n",
    "            improved = False\n",
    "        if callback is not None:\n",
    "            callback(bestx)\n",
    "        if maxfev is not None and funcalls >= maxfev:\n",
    "            stop = True\n",
    "            break\n",
    "\n",
    "    return opt.OptimizeResult(fun=bestf, x=bestx, nit=niter,\n",
    "                              nfev=funcalls, success=(niter > 1))"
   ]
  },
  {
   "cell_type": "code",
   "execution_count": null,
   "metadata": {},
   "outputs": [],
   "source": [
    "def reporter(p):\n",
    "    \"\"\"Reporter function to capture intermediate states of optimization.\"\"\"\n",
    "    global ps\n",
    "    ps.append(p)"
   ]
  },
  {
   "cell_type": "markdown",
   "metadata": {},
   "source": [
    "### Test on Rosenbrock banana function"
   ]
  },
  {
   "cell_type": "markdown",
   "metadata": {},
   "source": [
    "We will use the [Rosenbrock \"banana\" function](http://en.wikipedia.org/wiki/Rosenbrock_function) to illustrate unconstrained multivariate optimization. In 2D, this is\n",
    "$$\n",
    "f(x, y) = b(y - x^2)^2 + (a - x)^2\n",
    "$$\n",
    "\n",
    "The function has a global minimum at (1,1) and the standard expression takes $a = 1$ and $b = 100$. "
   ]
  },
  {
   "cell_type": "markdown",
   "metadata": {},
   "source": [
    "#### Conditioning of optimization problem\n",
    "\n",
    "With these values for $a$ and $b$, the problem is ill-conditioned. As we shall see, one of the factors affecting the ease of optimization is the condition number of the curvature (Hessian). When the condition number is high, the gradient may not point in the direction of the minimum, and simple gradient descent methods may be inefficient since they may be forced to take many sharp turns."
   ]
  },
  {
   "cell_type": "markdown",
   "metadata": {},
   "source": [
    "For the 2D version, we have\n",
    "\n",
    "$$\n",
    "f(x) = 100(y - x^2)^2 + (1 - x)^2\n",
    "$$\n",
    "\n",
    "and can calculate the Hessian to be \n",
    "\n",
    "$$\n",
    "\\begin{bmatrix}\n",
    "802 & -400 \\\\\n",
    "-400 & 200\n",
    "\\end{bmatrix}\n",
    "$$"
   ]
  },
  {
   "cell_type": "code",
   "execution_count": null,
   "metadata": {},
   "outputs": [],
   "source": [
    "H = np.array([\n",
    "    [802, -400],\n",
    "    [-400, 200]\n",
    "])"
   ]
  },
  {
   "cell_type": "code",
   "execution_count": null,
   "metadata": {},
   "outputs": [],
   "source": [
    "np.linalg.cond(H)"
   ]
  },
  {
   "cell_type": "code",
   "execution_count": null,
   "metadata": {},
   "outputs": [],
   "source": [
    "U, s, Vt = np.linalg.svd(H)\n",
    "s[0]/s[1]"
   ]
  },
  {
   "cell_type": "markdown",
   "metadata": {},
   "source": [
    "#### Function to minimize"
   ]
  },
  {
   "cell_type": "code",
   "execution_count": null,
   "metadata": {},
   "outputs": [],
   "source": [
    "def rosen(x):\n",
    "    \"\"\"Generalized n-dimensional version of the Rosenbrock function\"\"\"\n",
    "    return sum(100*(x[1:]-x[:-1]**2.0)**2.0 +(1-x[:-1])**2.0)"
   ]
  },
  {
   "cell_type": "code",
   "execution_count": null,
   "metadata": {},
   "outputs": [],
   "source": [
    "def rosen_der(x):\n",
    "    \"\"\"Derivative of generalized Rosen function.\"\"\"\n",
    "    xm = x[1:-1]\n",
    "    xm_m1 = x[:-2]\n",
    "    xm_p1 = x[2:]\n",
    "    der = np.zeros_like(x)\n",
    "    der[1:-1] = 200*(xm-xm_m1**2) - 400*(xm_p1 - xm**2)*xm - 2*(1-xm)\n",
    "    der[0] = -400*x[0]*(x[1]-x[0]**2) - 2*(1-x[0])\n",
    "    der[-1] = 200*(x[-1]-x[-2]**2)\n",
    "    return der"
   ]
  },
  {
   "cell_type": "markdown",
   "metadata": {},
   "source": [
    "#### Why is the condition number so large?"
   ]
  },
  {
   "cell_type": "code",
   "execution_count": null,
   "metadata": {},
   "outputs": [],
   "source": [
    "x = np.linspace(-5, 5, 100)\n",
    "y = np.linspace(-5, 5, 100)\n",
    "X, Y = np.meshgrid(x, y)\n",
    "Z = rosen(np.vstack([X.ravel(), Y.ravel()])).reshape((100,100))"
   ]
  },
  {
   "cell_type": "code",
   "execution_count": null,
   "metadata": {},
   "outputs": [],
   "source": [
    "# Note: the global minimum is at (1,1) in a tiny contour island\n",
    "plt.contour(X, Y, Z, np.arange(10)**5, cmap='jet')\n",
    "plt.text(1, 1, 'x', va='center', ha='center', color='red', fontsize=20)\n",
    "pass"
   ]
  },
  {
   "cell_type": "markdown",
   "metadata": {},
   "source": [
    "#### Zooming in to the global minimum at (1,1)"
   ]
  },
  {
   "cell_type": "code",
   "execution_count": null,
   "metadata": {},
   "outputs": [],
   "source": [
    "x = np.linspace(0, 2, 100)\n",
    "y = np.linspace(0, 2, 100)\n",
    "X, Y = np.meshgrid(x, y)\n",
    "Z = rosen(np.vstack([X.ravel(), Y.ravel()])).reshape((100,100))"
   ]
  },
  {
   "cell_type": "code",
   "execution_count": null,
   "metadata": {},
   "outputs": [],
   "source": [
    "plt.contour(X, Y, Z, [rosen(np.array([k, k])) for k in np.linspace(1, 1.5, 10)], cmap='jet')\n",
    "plt.text(1, 1, 'x', va='center', ha='center', color='red', fontsize=20)\n",
    "pass"
   ]
  },
  {
   "cell_type": "markdown",
   "metadata": {},
   "source": [
    "#### We will use our custom gradient descent to minimize the banana function"
   ]
  },
  {
   "cell_type": "markdown",
   "metadata": {},
   "source": [
    "#### Helpful Hint \n",
    "\n",
    "One of the most common causes of failure of optimization is because the gradient  or Hessian function is specified incorrectly. You can check for this using `check_grad` which compares the analytical gradient with one calculated using finite differences."
   ]
  },
  {
   "cell_type": "code",
   "execution_count": null,
   "metadata": {},
   "outputs": [],
   "source": [
    "from scipy.optimize import check_grad\n",
    "\n",
    "for x in np.random.uniform(-2,2,(10,2)):\n",
    "    print(x, check_grad(rosen, rosen_der, x))"
   ]
  },
  {
   "cell_type": "code",
   "execution_count": null,
   "metadata": {},
   "outputs": [],
   "source": [
    "# Initial starting position\n",
    "x0 = np.array([4,-4.1])\n",
    "ps = [x0]\n",
    "opt.minimize(rosen, x0, method=custmin, callback=reporter)"
   ]
  },
  {
   "cell_type": "code",
   "execution_count": null,
   "metadata": {},
   "outputs": [],
   "source": [
    "x = np.linspace(-5, 5, 100)\n",
    "y = np.linspace(-5, 5, 100)\n",
    "X, Y = np.meshgrid(x, y)\n",
    "Z = rosen(np.vstack([X.ravel(), Y.ravel()])).reshape((100,100))"
   ]
  },
  {
   "cell_type": "code",
   "execution_count": null,
   "metadata": {},
   "outputs": [],
   "source": [
    "ps = np.array(ps)\n",
    "plt.figure(figsize=(12,4))\n",
    "plt.subplot(121)\n",
    "plt.contour(X, Y, Z, np.arange(10)**5, cmap='jet')\n",
    "plt.plot(ps[:, 0], ps[:, 1], '-ro')\n",
    "plt.subplot(122)\n",
    "plt.semilogy(range(len(ps)), rosen(ps.T))\n",
    "pass"
   ]
  },
  {
   "cell_type": "markdown",
   "metadata": {},
   "source": [
    "### Comparison with standard algorithms\n",
    "\n",
    "Note that all these methods take far fewer function iterations and function evaluations to find the minimum compared with vanilla gradient descent.\n",
    "\n",
    "Many of these are based on estimating the Newton direction. Recall Newton's method for finding roots of a univariate function\n",
    "\n",
    "$$\n",
    "x_{K+1} = x_k - \\frac{f(x_k)}{f'(x_k)}\n",
    "$$\n",
    "\n",
    "When we are looking for a minimum, we are looking for the roots of the *derivative* $f'(x)$, so\n",
    "\n",
    "$$\n",
    "x_{K+1} = x_k - \\frac{f'(x_k}{f''(x_k)}\n",
    "$$\n",
    "\n",
    "Newton's method can also be seen as a Taylor series approximation\n",
    "\n",
    "$$\n",
    "f(x+h) = f(x) + h f'(x) + \\frac{h^2}{2}f''(x)\n",
    "$$\n",
    "\n",
    "At the function minimum, the derivative is 0, so\n",
    "\\begin{align}\n",
    "\\frac{f(x+h) - f(x)}{h} &= f'(x) + \\frac{h}{2}f''(x) \\\\\n",
    "0 &= f'(x) + \\frac{h}{2}f''(x) \n",
    "\\end{align}\n",
    "\n",
    "and letting $\\Delta x = \\frac{h}{2}$, we get that the Newton step is\n",
    "\n",
    "$$\n",
    "\\Delta x = - \\frac{f'(x)}{f''(x)}\n",
    "$$\n",
    "\n",
    "The multivariate analog replaces $f'$ with the Jacobian and $f''$ with the Hessian, so the Newton step is\n",
    "\n",
    "$$\n",
    "\\Delta x = -H^{-1}(x) \\nabla f(x)\n",
    "$$\n",
    "\n",
    "Slightly more rigorously, we can optimize the quadratic multivariate Taylor expansion \n",
    "\n",
    "$$\n",
    "f(x + p) = f(x) + p^T\\nabla f(x) + \\frac{1}{2}p^TH(x)p\n",
    "$$\n",
    "\n",
    "Differentiating with respect to the direction vector $p$ and setting to zero, we get\n",
    "\n",
    "$$\n",
    "H(x)p = -\\nabla f(x)\n",
    "$$\n",
    "\n",
    "giving\n",
    "\n",
    "$$\n",
    "p = -H(x)^{-1}\\nabla f(x)\n",
    "$$"
   ]
  },
  {
   "cell_type": "code",
   "execution_count": null,
   "metadata": {},
   "outputs": [],
   "source": [
    "from scipy.optimize import rosen, rosen_der, rosen_hess"
   ]
  },
  {
   "cell_type": "markdown",
   "metadata": {},
   "source": [
    "#### Nelder-Mead\n",
    "\n",
    "There are some optimization algorithms not based on the Newton method, but on other heuristic search strategies that do not require any derivatives, only function evaluations. One well-known example is the Nelder-Mead simplex algorithm."
   ]
  },
  {
   "cell_type": "code",
   "execution_count": null,
   "metadata": {},
   "outputs": [],
   "source": [
    "ps = [x0]\n",
    "opt.minimize(rosen, x0, method='nelder-mead', callback=reporter)"
   ]
  },
  {
   "cell_type": "code",
   "execution_count": null,
   "metadata": {},
   "outputs": [],
   "source": [
    "ps = np.array(ps)\n",
    "plt.figure(figsize=(12,4))\n",
    "plt.subplot(121)\n",
    "plt.contour(X, Y, Z, np.arange(10)**5, cmap='jet')\n",
    "plt.plot(ps[:, 0], ps[:, 1], '-ro')\n",
    "plt.subplot(122)\n",
    "plt.semilogy(range(len(ps)), rosen(ps.T));"
   ]
  },
  {
   "cell_type": "markdown",
   "metadata": {},
   "source": [
    "#### BFGS\n",
    "\n",
    "As calculating the Hessian is computationally expensive, sometimes first order methods that only use the first derivatives are preferred. Quasi-Newton methods use functions of the first derivatives to approximate the inverse Hessian. A well know example of the Quasi-Newoton class of algorithjms is BFGS, named after the initials of the creators. As usual, the first derivatives can either be provided via the `jac=` argument or approximated by finite difference methods."
   ]
  },
  {
   "cell_type": "code",
   "execution_count": null,
   "metadata": {},
   "outputs": [],
   "source": [
    "ps = [x0]\n",
    "opt.minimize(rosen, x0, method='Newton-CG', jac=rosen_der, hess=rosen_hess, callback=reporter)"
   ]
  },
  {
   "cell_type": "code",
   "execution_count": null,
   "metadata": {},
   "outputs": [],
   "source": [
    "ps = np.array(ps)\n",
    "plt.figure(figsize=(12,4))\n",
    "plt.subplot(121)\n",
    "plt.contour(X, Y, Z, np.arange(10)**5, cmap='jet')\n",
    "plt.plot(ps[:, 0], ps[:, 1], '-ro')\n",
    "plt.subplot(122)\n",
    "plt.semilogy(range(len(ps)), rosen(ps.T))\n",
    "pass"
   ]
  },
  {
   "cell_type": "markdown",
   "metadata": {},
   "source": [
    "#### Newton-CG\n",
    "\n",
    "Second order methods solve for $H^{-1}$ and so require calculation of the Hessian (either provided or approximated using finite differences). For efficiency reasons, the Hessian is not directly inverted, but solved for using a variety of methods such as conjugate gradient. An example of a second order method in the `optimize` package is `Newton-GC`."
   ]
  },
  {
   "cell_type": "code",
   "execution_count": null,
   "metadata": {},
   "outputs": [],
   "source": [
    "ps = [x0]\n",
    "opt.minimize(rosen, x0, method='Newton-CG', jac=rosen_der, hess=rosen_hess, callback=reporter)"
   ]
  },
  {
   "cell_type": "code",
   "execution_count": null,
   "metadata": {},
   "outputs": [],
   "source": [
    "ps = np.array(ps)\n",
    "plt.figure(figsize=(12,4))\n",
    "plt.subplot(121)\n",
    "plt.contour(X, Y, Z, np.arange(10)**5, cmap='jet')\n",
    "plt.plot(ps[:, 0], ps[:, 1], '-ro')\n",
    "plt.subplot(122)\n",
    "plt.semilogy(range(len(ps)), rosen(ps.T))\n",
    "pass"
   ]
  }
 ],
 "metadata": {
  "kernelspec": {
   "display_name": "Python 3",
   "language": "python",
   "name": "python3"
  },
  "language_info": {
   "codemirror_mode": {
    "name": "ipython",
    "version": 3
   },
   "file_extension": ".py",
   "mimetype": "text/x-python",
   "name": "python",
   "nbconvert_exporter": "python",
   "pygments_lexer": "ipython3",
   "version": "3.6.10"
  }
 },
 "nbformat": 4,
 "nbformat_minor": 2
}
