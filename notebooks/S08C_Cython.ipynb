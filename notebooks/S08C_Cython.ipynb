{
 "cells": [
  {
   "cell_type": "markdown",
   "metadata": {},
   "source": [
    "Cython\n",
    "====\n",
    "\n",
    "Cython is an \"optimizing static compiler \" that combines Python with C to generate optimized code. Since Cython is a superset of Python, all valid Python programs are also valid Cython programs. However, by providing hints and static typing, we can get much faster programs. Note that while `numba` often provides similar speedups with less work,, an advantage of Cython is that it is easy to distribute optimized Cython modules since they can be built with the standard Python `setup.py` script.\n",
    "\n",
    "We have already seen how to use Cython to wrap C and C++ functions from existing libraries. Here we will see how to use Cython to speed up Python functions. "
   ]
  },
  {
   "cell_type": "code",
   "execution_count": null,
   "metadata": {},
   "outputs": [],
   "source": [
    "%matplotlib inline\n",
    "import matplotlib.pyplot as plt"
   ]
  },
  {
   "cell_type": "markdown",
   "metadata": {},
   "source": [
    "### Resources\n",
    "\n",
    "- [Cython documentation](http://docs.cython.org/index.html)\n",
    "- [Cython: A guide for Python programmers](http://www.amazon.com/Cython-Kurt-W-Smith/dp/1491901551)"
   ]
  },
  {
   "cell_type": "markdown",
   "metadata": {},
   "source": [
    "**Utility function for timing functions**"
   ]
  },
  {
   "cell_type": "code",
   "execution_count": null,
   "metadata": {},
   "outputs": [],
   "source": [
    "import time"
   ]
  },
  {
   "cell_type": "code",
   "execution_count": null,
   "metadata": {},
   "outputs": [],
   "source": [
    "def timer(f, *args, **kwargs):\n",
    "    start = time.clock()\n",
    "    ans = f(*args, **kwargs)\n",
    "    return ans, time.clock() - start"
   ]
  },
  {
   "cell_type": "code",
   "execution_count": null,
   "metadata": {},
   "outputs": [],
   "source": [
    "def report(fs, *args, **kwargs):\n",
    "    ans, t = timer(fs[0], *args, **kwargs)\n",
    "    for f in fs[1:]:\n",
    "        ans_, t_ = timer(f, *args, **kwargs)\n",
    "        print('%s: %.1f' % (f.__name__, t/t_))"
   ]
  },
  {
   "cell_type": "markdown",
   "metadata": {},
   "source": [
    "Incremental improvements\n",
    "----\n",
    "\n",
    "Generally, we start with a pure Python function, run it through Cython with the annotate `-a` flag, and incrementally modify the code until the yellow parts are minimized."
   ]
  },
  {
   "cell_type": "markdown",
   "metadata": {},
   "source": [
    "## How to build Cython modules\n",
    "\n",
    "Using Cython consists of these steps:\n",
    "\n",
    "- Write a .pyx source file\n",
    "- Run the Cython compiler to generate a C file\n",
    "- Run a C compiler to generate a compiled library\n",
    "- Run the Python interpreter and ask it to import the module\n",
    "\n",
    "If you are developing a package and want to Cythonize some or all functions, you will need to follow the steps above. Refer to [official docs](http://docs.cython.org/index.html) - the most relevant information is [here](https://cython.readthedocs.io/en/latest/src/userguide/source_files_and_compilation.html). You should try to build a trivial package with Cython.\n",
    "\n",
    "In the Jupyter notebook, we can use the `%%cython` cell magic to automate these steps."
   ]
  },
  {
   "cell_type": "code",
   "execution_count": null,
   "metadata": {},
   "outputs": [],
   "source": [
    "%load_ext cython"
   ]
  },
  {
   "cell_type": "markdown",
   "metadata": {},
   "source": [
    "#### Matrix multiplication example"
   ]
  },
  {
   "cell_type": "code",
   "execution_count": null,
   "metadata": {},
   "outputs": [],
   "source": [
    "def matrix_multiply(u, v, res):\n",
    "    m, n = u.shape\n",
    "    n, p = v.shape\n",
    "    for i in range(m):\n",
    "        for j in range(p):\n",
    "            res[i,j] = 0\n",
    "            for k in range(n):\n",
    "                res[i,j] += u[i,k] * v[k,j]\n",
    "    return res"
   ]
  },
  {
   "cell_type": "code",
   "execution_count": null,
   "metadata": {},
   "outputs": [],
   "source": [
    "import numpy as np\n",
    "u = np.random.random((10,20))\n",
    "v = np.random.random((20,5))"
   ]
  },
  {
   "cell_type": "code",
   "execution_count": null,
   "metadata": {},
   "outputs": [],
   "source": [
    "res = np.zeros((u.shape[0], v.shape[1]))\n",
    "matrix_multiply(u, v, res)"
   ]
  },
  {
   "cell_type": "code",
   "execution_count": null,
   "metadata": {},
   "outputs": [],
   "source": [
    "res = np.zeros((u.shape[0], v.shape[1]))\n",
    "%timeit -r3 -n3 matrix_multiply(u, v, res)"
   ]
  },
  {
   "cell_type": "markdown",
   "metadata": {},
   "source": [
    "### Using Cython annnotations to identify bottlenecks"
   ]
  },
  {
   "cell_type": "code",
   "execution_count": null,
   "metadata": {},
   "outputs": [],
   "source": [
    "%%cython -a\n",
    "\n",
    "import numpy as np\n",
    "\n",
    "def matrix_multiply1(u, v, res):\n",
    "    m, n = u.shape\n",
    "    n, p = v.shape\n",
    "    for i in range(m):\n",
    "        for j in range(p):\n",
    "            res[i,j] = 0\n",
    "            for k in range(n):\n",
    "                res[i,j] += u[i,k] * v[k,j]\n",
    "    return res"
   ]
  },
  {
   "cell_type": "markdown",
   "metadata": {},
   "source": [
    "### Using Cython cdefs and directives\n",
    "\n",
    "- `cdef` defines values and functions to be called from C\n",
    "- `cpdef` defines functions that can be called from C or Python\n",
    "- `cython.function` functions or decorators provide directives for how the code is compiled\n",
    "- For arrays, Cython uses [typed memory views](https://cython.readthedocs.io/en/latest/src/userguide/memoryviews.html)\n",
    "- `cimport` imports C libraries that can be used directly in Cython code\n",
    "- To use general C functions from a header file X, use `cdef extern from \"X.h` and declare the function signature\n",
    "    - You can use Cython to wrap external C or C++ libraries, but this is not covered in the course. Instead, we will explore how to use `pybind11` to do that."
   ]
  },
  {
   "cell_type": "code",
   "execution_count": null,
   "metadata": {},
   "outputs": [],
   "source": [
    "%%cython -a\n",
    "\n",
    "import cython\n",
    "\n",
    "@cython.boundscheck(False)\n",
    "@cython.wraparound(False)\n",
    "def matrix_multiply1(double[:,:] u, double[:, :] v, double[:, :] res):\n",
    "    cdef int i, j, k\n",
    "    cdef int m, n, p\n",
    "\n",
    "    m = u.shape[0]\n",
    "    n = u.shape[1]\n",
    "    p = v.shape[1]\n",
    "\n",
    "    with cython.nogil:\n",
    "        for i in range(m):\n",
    "            for j in range(p):\n",
    "                res[i,j] = 0\n",
    "                for k in range(n):\n",
    "                    res[i,j] += u[i,k] * v[k,j]"
   ]
  },
  {
   "cell_type": "code",
   "execution_count": null,
   "metadata": {},
   "outputs": [],
   "source": [
    "res = np.zeros((u.shape[0], v.shape[1]))\n",
    "%timeit -r3 -n3 matrix_multiply1(u, v, res)"
   ]
  },
  {
   "cell_type": "markdown",
   "metadata": {},
   "source": [
    "### Parallel execution with Cython"
   ]
  },
  {
   "cell_type": "markdown",
   "metadata": {},
   "source": [
    "#### Using Cython with OpenMP\n",
    "\n",
    "Will not work unless OpenMP is installed. Note that we explicitly turn off the GIL with `cython.nogil`"
   ]
  },
  {
   "cell_type": "code",
   "execution_count": null,
   "metadata": {},
   "outputs": [],
   "source": [
    "%%cython --compile-args=-fopenmp --link-args=-fopenmp --force -I /usr/local/opt/libomp/include -L /usr/local/opt/libomp/lib\n",
    "\n",
    "import cython\n",
    "from cython.parallel import parallel, prange\n",
    "\n",
    "@cython.boundscheck(False)\n",
    "@cython.wraparound(False)\n",
    "def matrix_multiply2(double[:,:] u, double[:, :] v, double[:, :] res):\n",
    "    cdef int i, j, k\n",
    "    cdef int m, n, p\n",
    "\n",
    "    m = u.shape[0]\n",
    "    n = u.shape[1]\n",
    "    p = v.shape[1]\n",
    "\n",
    "    with cython.nogil, parallel():\n",
    "        for i in prange(m):\n",
    "            for j in prange(p):\n",
    "                res[i,j] = 0\n",
    "                for k in range(n):\n",
    "                    res[i,j] += u[i,k] * v[k,j]"
   ]
  },
  {
   "cell_type": "code",
   "execution_count": null,
   "metadata": {},
   "outputs": [],
   "source": [
    "res = np.zeros((u.shape[0], v.shape[1]))\n",
    "%timeit -r3 -n3 matrix_multiply2(u, v, res)"
   ]
  },
  {
   "cell_type": "markdown",
   "metadata": {},
   "source": [
    "### Speeding up Mandelbrot set visualizations"
   ]
  },
  {
   "cell_type": "code",
   "execution_count": null,
   "metadata": {},
   "outputs": [],
   "source": [
    "import time"
   ]
  },
  {
   "cell_type": "code",
   "execution_count": null,
   "metadata": {},
   "outputs": [],
   "source": [
    "# color function for point at (x, y)\n",
    "def mandel(x, y, max_iters):\n",
    "    c = complex(x, y)\n",
    "    z = 0.0j\n",
    "    for i in range(max_iters):\n",
    "        z = z*z + c\n",
    "        if z.real*z.real + z.imag*z.imag >= 4:\n",
    "            return i\n",
    "    return max_iters\n",
    "\n",
    "def create_fractal(xmin, xmax, ymin, ymax, image, iters):\n",
    "    height, width = image.shape\n",
    "    \n",
    "    pixel_size_x = (xmax - xmin)/width\n",
    "    pixel_size_y = (ymax - ymin)/height\n",
    "        \n",
    "    for x in range(width):\n",
    "        real = xmin + x*pixel_size_x\n",
    "        for y in range(height):\n",
    "            imag = ymin + y*pixel_size_y\n",
    "            color = mandel(real, imag, iters)\n",
    "            image[y, x]  = color   "
   ]
  },
  {
   "cell_type": "code",
   "execution_count": null,
   "metadata": {},
   "outputs": [],
   "source": [
    "gimage = np.zeros((1024, 1536), dtype=np.uint8)\n",
    "xmin, xmax, ymin, ymax = np.array([-2.0, 1.0, -1.0, 1.0]).astype('float32')\n",
    "iters = 50\n",
    "\n",
    "start = time.time()\n",
    "create_fractal(xmin, xmax, ymin, ymax, gimage, iters)\n",
    "dt = time.time() - start\n",
    "\n",
    "print(\"Mandelbrot created on CPU in %f s\" % dt)\n",
    "plt.grid(False)\n",
    "plt.imshow(gimage, cmap='jet')\n",
    "pass"
   ]
  },
  {
   "cell_type": "markdown",
   "metadata": {},
   "source": [
    "Note the use of `mandel_cython` as a helper function that is only invoved in C, not in Python directly. For such functions, it is important to specify the return type."
   ]
  },
  {
   "cell_type": "code",
   "execution_count": null,
   "metadata": {},
   "outputs": [],
   "source": [
    "%%cython -a\n",
    "\n",
    "cimport cython\n",
    "\n",
    "cdef extern from \"complex.h\":\n",
    "    double cabs(double complex)\n",
    "\n",
    "# color function for point at (x, y)\n",
    "cdef unsigned char mandel_cython(double x, double y, int max_iters):\n",
    "    cdef double complex c, z\n",
    "\n",
    "    c = x + y*1j\n",
    "    z = 0.0j\n",
    "    for i in range(max_iters):\n",
    "        z = z*z + c\n",
    "        if cabs(z) >= 2:\n",
    "            return i\n",
    "    return max_iters\n",
    "\n",
    "@cython.cdivision(True)\n",
    "def create_fractal_cython(double xmin, double xmax, double ymin, double ymax, unsigned char[:, :] image, int iters):\n",
    "\n",
    "    cdef int x, y\n",
    "    cdef int height, width\n",
    "    cdef double pixel_size_x, pixel_size_y\n",
    "    cdef double real, imag\n",
    "    cdef unsigned char color\n",
    "\n",
    "    height = image.shape[0]\n",
    "    width = image.shape[1]\n",
    "    \n",
    "    pixel_size_x = (xmax - xmin)/width\n",
    "    pixel_size_y = (ymax - ymin)/height\n",
    "        \n",
    "    for x in range(width):\n",
    "        real = xmin + x*pixel_size_x\n",
    "        for y in range(height):\n",
    "            imag = ymin + y*pixel_size_y\n",
    "            color = mandel_cython(real, imag, iters)\n",
    "            image[y, x]  = color  "
   ]
  },
  {
   "cell_type": "code",
   "execution_count": null,
   "metadata": {},
   "outputs": [],
   "source": [
    "gimage = np.zeros((1024, 1536), dtype=np.uint8)\n",
    "xmin, xmax, ymin, ymax = np.array([-2.0, 1.0, -1.0, 1.0]).astype('float32')\n",
    "iters = 50\n",
    "\n",
    "start = time.time()\n",
    "create_fractal_cython(xmin, xmax, ymin, ymax, gimage, iters)\n",
    "dt = time.time() - start\n",
    "\n",
    "print(\"Mandelbrot created on CPU in %f s\" % dt)\n",
    "plt.grid(False)\n",
    "plt.imshow(gimage, cmap='jet')\n",
    "pass"
   ]
  },
  {
   "cell_type": "markdown",
   "metadata": {},
   "source": [
    "### Using `Cython` wtih `ipyparallel`\n",
    "\n",
    "We need to do some extra work to make sure the shared libary compiled with cython is available to the remote engines:\n",
    "\n",
    "- Compile a `named` shared module with the `-n` flag\n",
    "- Use `np.ndarray[dtype, ndim]` in place of memroy views\n",
    "    - for example, double[:] becomes np.ndarray[np.float64_t, ndim=1]\n",
    "- Move the shared library to the `site-packages` directory\n",
    "    - Cython magic moules can be found in `~/.cache/ipython/cython`\n",
    "- Import the modules remtoely in the usual ways"
   ]
  },
  {
   "cell_type": "code",
   "execution_count": null,
   "metadata": {},
   "outputs": [],
   "source": [
    "%%cython -n cylib2\n",
    "\n",
    "import cython\n",
    "import numpy as np\n",
    "cimport numpy as np\n",
    "\n",
    "@cython.boundscheck(False)\n",
    "@cython.wraparound(False)\n",
    "def f(int x):\n",
    "    return x*2"
   ]
  },
  {
   "cell_type": "markdown",
   "metadata": {},
   "source": [
    "#### Copy the compiled module in `site-packages` so that the remote engines can import it"
   ]
  },
  {
   "cell_type": "code",
   "execution_count": null,
   "metadata": {},
   "outputs": [],
   "source": [
    "import os\n",
    "import glob\n",
    "import site\n",
    "import shutil\n",
    "import sys\n",
    "\n",
    "if sys.platform == \"darwin\":\n",
    "    src = glob.glob(os.path.join(os.path.expanduser('~/'), '.ipython', 'cython', 'cylib2*so'))[0]\n",
    "else:\n",
    "    src = glob.glob(os.path.join(os.path.expanduser('~/'), '.cache', 'ipython', 'cython', 'cylib2*so'))[0]\n",
    "dst = site.getsitepackages()[0]\n",
    "shutil.copy(src, dst)"
   ]
  },
  {
   "cell_type": "code",
   "execution_count": null,
   "metadata": {},
   "outputs": [],
   "source": [
    "from ipyparallel import Client"
   ]
  },
  {
   "cell_type": "code",
   "execution_count": null,
   "metadata": {},
   "outputs": [],
   "source": [
    "rc = Client()\n",
    "dv = rc[:]"
   ]
  },
  {
   "cell_type": "code",
   "execution_count": null,
   "metadata": {},
   "outputs": [],
   "source": [
    "with dv.sync_imports():\n",
    "    import cylib2"
   ]
  },
  {
   "cell_type": "code",
   "execution_count": null,
   "metadata": {},
   "outputs": [],
   "source": [
    "dv.map_sync(cylib2.f, np.random.randint(0,10,10))"
   ]
  },
  {
   "cell_type": "code",
   "execution_count": null,
   "metadata": {},
   "outputs": [],
   "source": []
  }
 ],
 "metadata": {
  "kernelspec": {
   "display_name": "Python 3",
   "language": "python",
   "name": "python3"
  },
  "language_info": {
   "codemirror_mode": {
    "name": "ipython",
    "version": 3
   },
   "file_extension": ".py",
   "mimetype": "text/x-python",
   "name": "python",
   "nbconvert_exporter": "python",
   "pygments_lexer": "ipython3",
   "version": "3.8.5"
  },
  "latex_envs": {
   "bibliofile": "biblio.bib",
   "cite_by": "apalike",
   "current_citInitial": 1,
   "eqLabelWithNumbers": true,
   "eqNumInitial": 0
  }
 },
 "nbformat": 4,
 "nbformat_minor": 1
}
