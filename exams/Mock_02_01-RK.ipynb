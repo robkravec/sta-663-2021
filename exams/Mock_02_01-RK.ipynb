{
 "cells": [
  {
   "cell_type": "markdown",
   "metadata": {},
   "source": [
    "Instructions\n",
    "\n",
    "**When taking this exam, you agree to follow the Duke Honor Code.**\n",
    "\n",
    "- This is an OPEN book exam.\n",
    "- Import any module you need from the standard Python library, `numpy`, `scipy`, `pandas`, `matplotlib` or `seaborn`. Do not use any other 3rd party packages.\n",
    "- Answer all 5 questions."
   ]
  },
  {
   "cell_type": "code",
   "execution_count": 34,
   "metadata": {},
   "outputs": [],
   "source": [
    "import numpy as np\n",
    "import scipy.linalg as la\n",
    "import matplotlib.pyplot as plt"
   ]
  },
  {
   "cell_type": "markdown",
   "metadata": {},
   "source": [
    "**1**. 20 points\n",
    "\n",
    "- Load the matrix stored in `Q1.npy` into `A` and use factorize using SVD (5 points)\n",
    "- Find the condition number of `A` from the SVD (5 points)\n",
    "- Generate the matrix that is the best rank 3 approximation to `A` (5 points)\n",
    "- Determine how many singular vectors would be needed to explain at least 95% of the variance of the original matrix `A` (5 points)"
   ]
  },
  {
   "cell_type": "code",
   "execution_count": 6,
   "metadata": {},
   "outputs": [],
   "source": [
    "# Load array and factorize using SVD\n",
    "A = np.load('Q1.npy')\n",
    "U, s, Vt = la.svd(A)"
   ]
  },
  {
   "cell_type": "code",
   "execution_count": 13,
   "metadata": {},
   "outputs": [
    {
     "data": {
      "text/plain": [
       "19.840250579049645"
      ]
     },
     "execution_count": 13,
     "metadata": {},
     "output_type": "execute_result"
    }
   ],
   "source": [
    "# Find condition number\n",
    "s[0] / s[len(s) - 1]"
   ]
  },
  {
   "cell_type": "code",
   "execution_count": 15,
   "metadata": {
    "collapsed": true
   },
   "outputs": [
    {
     "data": {
      "text/plain": [
       "array([[ 0.29729009,  2.20677283,  0.78864987, ...,  8.59344029,\n",
       "         4.93757121,  8.87158733],\n",
       "       [ 0.46934858,  1.50369645, -0.14481231, ...,  5.93130652,\n",
       "         1.21140329,  4.12958094],\n",
       "       [-1.0764932 , -0.41385293,  0.94748403, ..., -0.92771243,\n",
       "         3.75649444,  1.74809577],\n",
       "       ...,\n",
       "       [ 0.76116011,  2.27362009, -0.61260421, ...,  9.15124582,\n",
       "         0.80119961,  5.1968386 ],\n",
       "       [ 0.709774  ,  1.21703559,  0.52015654, ...,  3.94235488,\n",
       "         1.7940456 ,  4.80331962],\n",
       "       [ 0.03181498,  0.54641622,  0.29661635, ...,  2.11950844,\n",
       "         1.54690385,  2.48246117]])"
      ]
     },
     "execution_count": 15,
     "metadata": {},
     "output_type": "execute_result"
    }
   ],
   "source": [
    "# Generate the matrix that is the best rank 3 approximation to A\n",
    "k = 3\n",
    "U[:, :k] @ np.diag(s[:k]) @ Vt[:k, :]"
   ]
  },
  {
   "cell_type": "code",
   "execution_count": 20,
   "metadata": {},
   "outputs": [
    {
     "data": {
      "text/plain": [
       "11"
      ]
     },
     "execution_count": 20,
     "metadata": {},
     "output_type": "execute_result"
    }
   ],
   "source": [
    "# Determine how many singular values would be needed to explain at least 95% of the variance of the original matrix\n",
    "sum(s.cumsum() / s.sum() < 0.95) + 1"
   ]
  },
  {
   "cell_type": "markdown",
   "metadata": {},
   "source": [
    "**2**. 20 points\n",
    "\n",
    "- Load the matrix in `Q2.npy` - this consists of two columns representing the x and y coordinates of 10 points\n",
    "- Find the equation of the circle that best fits these points (15 points)\n",
    "- Plot the points and fitted circle (5 points)\n",
    "\n",
    "Hint: You need to estimate the center of the circle and its radius."
   ]
  },
  {
   "cell_type": "code",
   "execution_count": 39,
   "metadata": {},
   "outputs": [
    {
     "data": {
      "text/plain": [
       "(0.023593590975478498, -0.03527051891705024, 4.0277590175555025)"
      ]
     },
     "execution_count": 39,
     "metadata": {},
     "output_type": "execute_result"
    }
   ],
   "source": [
    "A = np.load('Q2.npy')\n",
    "A2 = np.c_[2 * A, np.ones(A.shape[0])]\n",
    "b = (A ** 2).sum(axis = 1)\n",
    "x = la.lstsq(A2, b)[0]\n",
    "a = x[0]\n",
    "b = x[1]\n",
    "r2 = x[2] - x[0] ** 2 - x[1] ** 2\n",
    "a, b, r2"
   ]
  },
  {
   "cell_type": "code",
   "execution_count": 47,
   "metadata": {},
   "outputs": [
    {
     "data": {
      "image/png": "[encoded data removed]",
      "text/plain": [
       "<Figure size 432x288 with 1 Axes>"
      ]
     },
     "metadata": {},
     "output_type": "display_data"
    }
   ],
   "source": [
    "plt.scatter(x = A[:, 0], y = A[:, 1]);\n",
    "x = np.linspace(start = a - np.sqrt(r2), stop = a + np.sqrt(r2), num = 100)\n",
    "y = np.sqrt(r2 - (x - a) ** 2) + b\n",
    "plt.plot(x, y, color = 'b')\n",
    "plt.plot(x, -y, color = 'b')\n",
    "plt.axis('equal');"
   ]
  },
  {
   "cell_type": "markdown",
   "metadata": {},
   "source": [
    "**3**. 20 points\n",
    "\n",
    "The figure below shows the current population of Durham, Chapel Hill and Raleigh. Arrows show fractions that move between cities each year.\n",
    "\n",
    "- What are the population sizes of the 3 cities after 3 years have passed? (5 points)\n",
    "- Find the steady state population of the 3 cities by solving a linear system. (15 points)\n",
    "\n",
    "Assume no births, deaths or any other fluxes other than those shown.\n",
    "\n",
    "![img](Q3.png)"
   ]
  },
  {
   "cell_type": "code",
   "execution_count": 31,
   "metadata": {},
   "outputs": [],
   "source": [
    "\n",
    "\n",
    "\n"
   ]
  },
  {
   "cell_type": "markdown",
   "metadata": {},
   "source": [
    "- Find the steady state population of the 3 cities by solving a linear system. (15 points)\n",
    "\n",
    "Note\n",
    "\n",
    "- You are asked for the steady state *population*\n",
    "- A check for both cases is that total population does not change"
   ]
  },
  {
   "cell_type": "code",
   "execution_count": null,
   "metadata": {},
   "outputs": [],
   "source": [
    "\n",
    "\n",
    "\n"
   ]
  },
  {
   "cell_type": "markdown",
   "metadata": {},
   "source": [
    "**4**. 20 points\n",
    "\n",
    "Consider the following matrix\n",
    "\n",
    "```\n",
    "A = np.array([\n",
    "    [5,2],\n",
    "    [2,5]\n",
    "])\n",
    "```\n",
    "\n",
    "- Find the characteristic polynomial of the matrix `A` (5 points)\n",
    "- Find the eigenvalues using the companion matrix method `C` (5 points)\n",
    "- Find a matrix `P` such that $A = P C P^{-1}$ (10 points)"
   ]
  },
  {
   "cell_type": "code",
   "execution_count": 39,
   "metadata": {},
   "outputs": [],
   "source": [
    "\n",
    "\n",
    "\n"
   ]
  },
  {
   "cell_type": "markdown",
   "metadata": {},
   "source": [
    "**5**. 20 points\n",
    "\n",
    "The file `Q5.npy` contains the x and y coordinates in cols 1 and 2 respectively. \n",
    "\n",
    "- Find a cubic polynomial model to fit the data using the normal equations (5 points)\n",
    "- Now solve using mini-batch gradient descent Use a learning rate of 0.0001. Start with a guess of a=1, b=1, c=1, d=1 for the model $ax^3 + bx^2 + cx + d$, and report $(a, b, c, d)$ after 1,000 epochs with a batch size of 5. (15 points)\n",
    "\n",
    "For simplicity, you don't need to randomize the order when choosing data for each batch."
   ]
  },
  {
   "cell_type": "code",
   "execution_count": 51,
   "metadata": {},
   "outputs": [
    {
     "data": {
      "text/plain": [
       "array([-1.99235962, -1.02188927, -0.54438689,  0.99809019])"
      ]
     },
     "execution_count": 51,
     "metadata": {},
     "output_type": "execute_result"
    }
   ],
   "source": [
    "# Least squares\n",
    "Q5 = np.load('Q5.npy')\n",
    "x = Q5[:, 0]\n",
    "A = np.c_[x ** 0, x ** 1, x ** 2, x ** 3]\n",
    "y = Q5[:, 1]\n",
    "la.lstsq(A, y)[0]"
   ]
  },
  {
   "cell_type": "code",
   "execution_count": 54,
   "metadata": {},
   "outputs": [
    {
     "data": {
      "text/plain": [
       "array([-1.99235962, -1.02188927, -0.54438689,  0.99809019])"
      ]
     },
     "execution_count": 54,
     "metadata": {},
     "output_type": "execute_result"
    }
   ],
   "source": [
    "# Normal equations\n",
    "np.linalg.solve(A.T @ A, A.T @ y)"
   ]
  }
 ],
 "metadata": {
  "kernelspec": {
   "display_name": "Python 3",
   "language": "python",
   "name": "python3"
  },
  "language_info": {
   "codemirror_mode": {
    "name": "ipython",
    "version": 3
   },
   "file_extension": ".py",
   "mimetype": "text/x-python",
   "name": "python",
   "nbconvert_exporter": "python",
   "pygments_lexer": "ipython3",
   "version": "3.6.10"
  }
 },
 "nbformat": 4,
 "nbformat_minor": 2
}
