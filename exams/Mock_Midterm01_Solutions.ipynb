{
 "cells": [
  {
   "cell_type": "markdown",
   "metadata": {},
   "source": [
    "# Midterm exam 1\n",
    "\n",
    "There are 4 questions, each worth 25 points. Write Python code to solve each question.\n",
    "\n",
    "Points will be deducted for \n",
    "\n",
    "- Functions or classes without `docstrings`\n",
    "- Grossly inefficient or redundant code\n",
    "- Excessively verbose code\n",
    "- Use of *magic* numbers\n",
    "\n",
    "Partial credit may be given for incomplete or wrong answers but not if you do not attempt the question.\n",
    "\n",
    "You should only have this notebook tab open during the exam and stay on the same notebook throughout. You may use built-in help, accessed via `?foo`, `foo?` or `help(foo)`.\n",
    "\n",
    "**IMPORTANT**\n",
    "\n",
    "- This is a **closed book** exam meant to evaluate fluency in Python\n",
    "- Use a stopwatch to record the number of minutes you took to complete the exam in the cell below **honestly**. 1 point will be deducted for every 2 minutes beyond 75 minutes. So if you take 90 minutes to complete the exam, 8 points will be deducted.\n",
    "- Upload the notebook to Sakai when done\n",
    "\n",
    "**Honor Code**: You agree to follow the Duke Honor code when taking this exam."
   ]
  },
  {
   "cell_type": "markdown",
   "metadata": {},
   "source": [
    "**Time taken**\n",
    "\n",
    "Time: xx mins"
   ]
  },
  {
   "cell_type": "markdown",
   "metadata": {},
   "source": [
    "**1**. (25 points)\n",
    "\n",
    "Find the number of times `CATCAT` appears in the file `seq.txt`.\n",
    "\n",
    "- Count overlapping occurrences - i.e. `CATCATCAT` should count as 2 occurrences."
   ]
  },
  {
   "cell_type": "code",
   "execution_count": 1,
   "metadata": {},
   "outputs": [],
   "source": [
    "with open('seq.txt') as f:\n",
    "    seq = f.read()"
   ]
  },
  {
   "cell_type": "code",
   "execution_count": 2,
   "metadata": {},
   "outputs": [],
   "source": [
    "import re"
   ]
  },
  {
   "cell_type": "code",
   "execution_count": 3,
   "metadata": {},
   "outputs": [
    {
     "data": {
      "text/plain": [
       "141"
      ]
     },
     "execution_count": 3,
     "metadata": {},
     "output_type": "execute_result"
    }
   ],
   "source": [
    "len(re.findall('(?=(CATCAT))', seq))"
   ]
  },
  {
   "cell_type": "code",
   "execution_count": 4,
   "metadata": {},
   "outputs": [
    {
     "data": {
      "text/plain": [
       "141"
      ]
     },
     "execution_count": 4,
     "metadata": {},
     "output_type": "execute_result"
    }
   ],
   "source": [
    "count = 0\n",
    "for x in zip(seq, seq[1:], seq[2:], seq[3:], seq[4:], seq[5:]):\n",
    "    if ''.join(x) == 'CATCAT':\n",
    "        count += 1\n",
    "count"
   ]
  },
  {
   "cell_type": "markdown",
   "metadata": {},
   "source": [
    "**2**. (25 points)\n",
    "\n",
    "Supposed you had two sets of cards numbered from 1 to 1,000. We define a *match* to occur if the cards in the same position in both decks have the same number. For example, if deck 1 is [1,3,2,4] and deck 2 is [3,4,2,1], there is a single match at position 3 for the card with value 2.\n",
    "\n",
    "Assuming the cards in each set are randomly shuffled, use 100,000 simulations to estimate\n",
    "\n",
    "- the expected number of matches (this should be an integer)\n",
    "- the probability of finding at least one match\n",
    "\n",
    "Hint: You can use `np.random.permutation`"
   ]
  },
  {
   "cell_type": "code",
   "execution_count": 5,
   "metadata": {},
   "outputs": [],
   "source": [
    "import numpy as np"
   ]
  },
  {
   "cell_type": "code",
   "execution_count": 6,
   "metadata": {},
   "outputs": [],
   "source": [
    "n = 10\n",
    "reps = 100000\n",
    "\n",
    "s = 0\n",
    "t = 0\n",
    "for r in range(reps):\n",
    "    x = np.random.permutation(n)\n",
    "    y = np.random.permutation(n)\n",
    "    s += np.sum(x == y)\n",
    "    t += np.any(x == y)"
   ]
  },
  {
   "cell_type": "code",
   "execution_count": 7,
   "metadata": {},
   "outputs": [
    {
     "data": {
      "text/plain": [
       "1"
      ]
     },
     "execution_count": 7,
     "metadata": {},
     "output_type": "execute_result"
    }
   ],
   "source": [
    "int(round(s/reps))"
   ]
  },
  {
   "cell_type": "code",
   "execution_count": 8,
   "metadata": {},
   "outputs": [
    {
     "data": {
      "text/plain": [
       "0.6308"
      ]
     },
     "execution_count": 8,
     "metadata": {},
     "output_type": "execute_result"
    }
   ],
   "source": [
    "t/reps"
   ]
  },
  {
   "cell_type": "markdown",
   "metadata": {},
   "source": [
    "**3**. (25 points)\n",
    "\n",
    "One way to find a root (zero) of a function between two points $(a, b)$ is to bisect (find the midpoint $c$) of $(a, b)$, identify if the root is now in $(a, c)$ or $(c, b)$, and repeat the bisection until the function value is sufficiently close to zero.\n",
    "\n",
    "Write a bisection function with signature `bisect(f, a, b, tol)` and use it to find the square root of 2 given $a=0, b=2$. Stop when the function evaluated at the bisected point is within $10^{-6}$ of 0.\n",
    "\n",
    "- Hint 1: There is a root between $a$ and $b$ if $f(a)$ and $f(b)$ have opposite signs\n",
    "- Hint 2: Think about what the function $f$ should be"
   ]
  },
  {
   "cell_type": "code",
   "execution_count": 9,
   "metadata": {},
   "outputs": [],
   "source": [
    "def bisect(f, a, b, tol=1e-6):\n",
    "    \"\"\"Bisectin to find roots of f given brackets (a, b).\"\"\"\n",
    "    \n",
    "    c = (a + b) / 2\n",
    "    while np.abs(f(c)) > tol:\n",
    "        if f(a) * f(c) < 0:\n",
    "            b = c\n",
    "        else:\n",
    "            a = c\n",
    "        c = (a + b) / 2\n",
    "    return c"
   ]
  },
  {
   "cell_type": "code",
   "execution_count": 10,
   "metadata": {},
   "outputs": [
    {
     "data": {
      "text/plain": [
       "1.4142136573791504"
      ]
     },
     "execution_count": 10,
     "metadata": {},
     "output_type": "execute_result"
    }
   ],
   "source": [
    "bisect(lambda x: 2-x**2, 0, 2)"
   ]
  },
  {
   "cell_type": "markdown",
   "metadata": {},
   "source": [
    "**4**. (25 points)\n",
    "\n",
    "In a coin tossing example, you count the number of tosses till one of the following sequence appears\n",
    "\n",
    "- Seq 1: `HT`\n",
    "- Seq 2: `HH`\n",
    "\n",
    "For example, `HTTHH` would be of type Seq 2 with a run length of 5.\n",
    "\n",
    "Simulate 10,000 coin tossing experiments of the following kind:\n",
    "\n",
    "- Expt 1: Stop when Seq 1 is observed\n",
    "- Expt 2: Stop when Seq 2 is observed\n",
    "- Expt 3: Stop when Seq 1 *or* Seq 2 is observed\n",
    "\n",
    "Report the average run length of experiments 1, 2 and 3, rounding to the nearest integer."
   ]
  },
  {
   "cell_type": "code",
   "execution_count": 11,
   "metadata": {},
   "outputs": [],
   "source": [
    "def runs(n, stop):\n",
    "    runs = np.zeros(n, dtype='int')\n",
    "    for i in range(n):\n",
    "        seq = ''\n",
    "        while True:\n",
    "            seq += np.random.choice(['H', 'T'])\n",
    "            if stop(seq[-2:]):\n",
    "                runs[i] = len(seq)\n",
    "                break\n",
    "    return runs"
   ]
  },
  {
   "cell_type": "code",
   "execution_count": 12,
   "metadata": {},
   "outputs": [],
   "source": [
    "seq1 = 'HT'\n",
    "seq2 = 'HH'\n",
    "tosses = 10000\n",
    "\n",
    "e1 = runs(tosses, lambda x: x==seq1)\n",
    "e2 = runs(tosses, lambda x: x==seq2)\n",
    "e3 = runs(tosses, lambda x: (x == seq1) or (x == seq2))"
   ]
  },
  {
   "cell_type": "code",
   "execution_count": 13,
   "metadata": {},
   "outputs": [
    {
     "data": {
      "text/plain": [
       "[4, 6, 3]"
      ]
     },
     "execution_count": 13,
     "metadata": {},
     "output_type": "execute_result"
    }
   ],
   "source": [
    "[int(np.round(np.mean(e))) for e in [e1,e2,e3]]"
   ]
  }
 ],
 "metadata": {
  "kernelspec": {
   "display_name": "Python 3.8.5 64-bit",
   "language": "python",
   "name": "python38564bit02a66c47ce504b05b2ef5646cfed96c2"
  },
  "language_info": {
   "codemirror_mode": {
    "name": "ipython",
    "version": 3
   },
   "file_extension": ".py",
   "mimetype": "text/x-python",
   "name": "python",
   "nbconvert_exporter": "python",
   "pygments_lexer": "ipython3",
   "version": "3.8.5"
  }
 },
 "nbformat": 4,
 "nbformat_minor": 4
}
