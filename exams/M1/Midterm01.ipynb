{
 "cells": [
  {
   "cell_type": "markdown",
   "metadata": {},
   "source": [
    "# Midterm exam 1\n",
    "\n",
    "There are 4 questions, each worth 25 points. Write Python code to solve each question.\n",
    "\n",
    "Points will be deducted for \n",
    "\n",
    "- Functions or classes without `docstrings`\n",
    "- Grossly inefficient or redundant code\n",
    "- Excessively verbose code\n",
    "- Use of *magic* numbers\n",
    "\n",
    "Partial credit may be given for incomplete or wrong answers but not if you do not attempt the question.\n",
    "\n",
    "You should only have this notebook tab open during the exam and stay on the same notebook throughout. You may use built-in help, accessed via `?foo`, `foo?` or `help(foo)`.\n",
    "\n",
    "**IMPORTANT**\n",
    "\n",
    "- This is a **closed book** exam meant to evaluate fluency in Python\n",
    "- Use a stopwatch to record the number of minutes you took to complete the exam in the cell below **honestly**. 1 point will be deducted for every 2 minutes beyond 75 minutes. So if you take 90 minutes to complete the exam, 8 points will be deducted.\n",
    "- Upload the notebook to Sakai when done\n",
    "\n",
    "**Honor Code**: You agree to follow the Duke Honor code when taking this exam."
   ]
  },
  {
   "cell_type": "markdown",
   "metadata": {},
   "source": [
    "**Time taken**\n",
    "\n",
    "Execute the cell below once you have read the instructions **above**. This must be the **first** cell executed. At the end of the test, you will execute another timing cell to calculate the total time taken.\n",
    "\n",
    "It is a violation of the Honor Code to abuse the timing system in any way."
   ]
  },
  {
   "cell_type": "code",
   "execution_count": null,
   "metadata": {},
   "outputs": [],
   "source": [
    "import time\n",
    "start = time.time()"
   ]
  },
  {
   "cell_type": "markdown",
   "metadata": {},
   "source": [
    "**1**. (25 points)\n",
    "\n",
    "Create a DataFrame showing the number of all possible transitions between the letters A, C, T in the file `seq/txt`- this should have a shape (3,3) and each cell should contain the number of transitions (e.g. $A \\to C$) found. Rows and columns of the DataFrame should be the letters A, C, T.\n",
    "\n",
    "- Convert this to a stochastic matrix - i.e. one where each *row* sums to 1\n",
    "\n",
    "\n",
    "**Hint**: For the sequence `AAATAT` the transition counts would be\n",
    "\n",
    "- `AA` = 2\n",
    "- `AT` = 2\n",
    "- `TA` = 1"
   ]
  },
  {
   "cell_type": "code",
   "execution_count": null,
   "metadata": {},
   "outputs": [],
   "source": [
    "\n",
    "\n",
    "\n"
   ]
  },
  {
   "cell_type": "markdown",
   "metadata": {},
   "source": [
    "**2**. (25 points)\n",
    "\n",
    "Using only `map` and `reduce` (from `functools`) and anonymous functions, convert the list of strings in `ss`  into a generator of lower case words. Find the most frequently occurring word using only a Python dictionary."
   ]
  },
  {
   "cell_type": "code",
   "execution_count": 8,
   "metadata": {},
   "outputs": [],
   "source": [
    "s1 = 'The quick brown fox jumps over the lazy brown dog'\n",
    "s2 = 'How now brown cow'\n",
    "s3 = 'Jack and Jill went up the hill'\n",
    "ss =[s1, s2, s3]"
   ]
  },
  {
   "cell_type": "code",
   "execution_count": null,
   "metadata": {},
   "outputs": [],
   "source": [
    "\n",
    "\n"
   ]
  },
  {
   "cell_type": "markdown",
   "metadata": {},
   "source": [
    "**3**. (25 points)\n",
    "\n",
    "Define a function that returns True if a given integer $n$ is prime and false otherwise. Do this as efficiently as possible. \n",
    "\n",
    "- Count the number of primes in `nums.txt`"
   ]
  },
  {
   "cell_type": "code",
   "execution_count": null,
   "metadata": {},
   "outputs": [],
   "source": [
    "\n",
    "\n",
    "\n"
   ]
  },
  {
   "cell_type": "markdown",
   "metadata": {},
   "source": [
    "**4**. (25 points)\n",
    "\n",
    "Consider the following function $f(x) = rx(1-x)$. \n",
    "\n",
    "For a particular value of $r$, iteratively evaluate $f$ 100 times, each time using the output as the next input $x$. \n",
    "\n",
    "- Let $r$ take values from the sequence [0, 0.01, ..., 4]\n",
    "- For each value of $r$ find the final value $y$ returned by $f$ for $m = 50$ different random starting $x$ drawn from the standard uniform distribution\n",
    "\n",
    "For example if $r=2$ and $x=0.1$, the iterations would return the values\n",
    "\n",
    "$ 0.1 \\to 0.2 \\to 0.3 \\to 0.4 \\to 0.5 \\to 0.5 \\to \\ldots \\to 0.5$\n",
    "\n",
    "and the value recorded as $y$ would be 0.5\n",
    "\n",
    "- Make a scatter plot of $y$ against $r$, using `s=1` for the marker size\n",
    "\n",
    "Your figure should look like this\n",
    "\n",
    "![img](bif.png)"
   ]
  },
  {
   "cell_type": "code",
   "execution_count": null,
   "metadata": {},
   "outputs": [],
   "source": [
    "\n",
    "\n",
    "\n"
   ]
  },
  {
   "cell_type": "markdown",
   "metadata": {},
   "source": [
    "#### Run this when done\n",
    "\n",
    "Once you have run this, do not make any more revisions. Submit your notebook to Sakai for grading. \n",
    "\n",
    "The cell below **must** be executed for grading. It must also be the **last** cell executed in this notebook."
   ]
  },
  {
   "cell_type": "code",
   "execution_count": null,
   "metadata": {},
   "outputs": [],
   "source": [
    "elapsed = time.time() - start\n",
    "elapsed // 60"
   ]
  }
 ],
 "metadata": {
  "kernelspec": {
   "display_name": "Python 3.8.5 64-bit",
   "language": "python",
   "name": "python38564bit02a66c47ce504b05b2ef5646cfed96c2"
  },
  "language_info": {
   "codemirror_mode": {
    "name": "ipython",
    "version": 3
   },
   "file_extension": ".py",
   "mimetype": "text/x-python",
   "name": "python",
   "nbconvert_exporter": "python",
   "pygments_lexer": "ipython3",
   "version": "3.8.5"
  }
 },
 "nbformat": 4,
 "nbformat_minor": 4
}
