{
 "cells": [
  {
   "cell_type": "markdown",
   "metadata": {},
   "source": [
    "\n",
    "There are 4 questions, with points weighting given in the question. Write Python code to solve each question.\n",
    "\n",
    "Points will be deducted for \n",
    "\n",
    "- Functions or classes without `docstrings`\n",
    "- Grossly inefficient or redundant code\n",
    "- Excessively verbose code\n",
    "- Use of *magic* numbers\n",
    "\n",
    "Partial credit may be given for incomplete or wrong answers but not if you do not attempt the question.\n",
    "\n",
    "**IMPORTANT**\n",
    "\n",
    "- This is an **open book** exam meant to evaluate fluency with linear algebra and optimization Python\n",
    "- Use a stopwatch to record the time you took to complete the exam in the cell below **honestly**:\n",
    "    - Under 2 hours - No penalty\n",
    "    - Between 2-3 hours - 5 points penalty\n",
    "    - More than 3 hours or **no time reported** - 10 points penalty\n",
    "- Upload the notebook to Sakai when done\n",
    "\n",
    "**Honor Code**: You agree to follow the Duke Honor code when taking this exam."
   ]
  },
  {
   "cell_type": "markdown",
   "metadata": {},
   "source": [
    "**Self-reported time taken**: It is your responsibility to time your exam.\n",
    "\n",
    "<font color=red>Fill in total time in hours and minutes in the cell below</font>"
   ]
  },
  {
   "cell_type": "markdown",
   "metadata": {},
   "source": [
    "1 hr 59 min 45 sec"
   ]
  },
  {
   "cell_type": "code",
   "execution_count": 159,
   "metadata": {},
   "outputs": [],
   "source": [
    "import re\n",
    "import scipy.linalg as la\n",
    "import numpy as np\n",
    "import sys\n",
    "import pandas as pd\n",
    "from collections import Counter"
   ]
  },
  {
   "cell_type": "markdown",
   "metadata": {},
   "source": [
    "**1**. (20 points)\n",
    "\n",
    "In school, to help remember when the spelling should be \"ei\" or \"ie\", students are often taught the rule \"i before e except after c\". For example, \"piece\" and \"conceive\" fit this rule.\n",
    "\n",
    "- Find all occurrences of words in the book `alice.txt` that violate this rule (10 points)\n",
    "- Make a table of how often each such word occurs in decreasing order of the count (10 points)"
   ]
  },
  {
   "cell_type": "markdown",
   "metadata": {},
   "source": [
    "First, we read in the file"
   ]
  },
  {
   "cell_type": "code",
   "execution_count": 2,
   "metadata": {},
   "outputs": [],
   "source": [
    "with open('alice.txt') as f:\n",
    "    alice = f.read()"
   ]
  },
  {
   "cell_type": "markdown",
   "metadata": {},
   "source": [
    "Next, find all words with an \"ei\" sequence and all words with a \"cei\" sequence. We only want to keep the words with a \"ei\" sequence if they are not in the \"cei\" list as well. I'm not sure if this is desired from the problem, but I'll also find words that have a \"cie\" sequence because I suppose that breaks the rule too"
   ]
  },
  {
   "cell_type": "code",
   "execution_count": 157,
   "metadata": {
    "collapsed": true
   },
   "outputs": [
    {
     "data": {
      "text/plain": [
       "['either',\n",
       " 'either',\n",
       " 'either',\n",
       " 'either',\n",
       " 'their',\n",
       " 'either',\n",
       " 'theirs',\n",
       " 'being',\n",
       " 'being',\n",
       " 'height',\n",
       " 'being',\n",
       " 'height',\n",
       " 'height',\n",
       " 'height',\n",
       " 'their',\n",
       " 'their',\n",
       " 'neither',\n",
       " 'seeing',\n",
       " 'either',\n",
       " 'neither',\n",
       " 'their',\n",
       " 'their',\n",
       " 'their',\n",
       " 'their',\n",
       " 'either',\n",
       " 'their',\n",
       " 'their',\n",
       " 'their',\n",
       " 'either',\n",
       " 'fancied']"
      ]
     },
     "execution_count": 157,
     "metadata": {},
     "output_type": "execute_result"
    }
   ],
   "source": [
    "all_ei = re.findall(pattern = \"\\w*ei\\w*\", string = alice)\n",
    "all_cei = re.findall(pattern = \"\\w*cei\\w*\", string = alice)\n",
    "all_cie = re.findall(pattern = \"\\w*cie\\w*\", string = alice)\n",
    "violations = [word for word in all_ei if word not in all_cei]\n",
    "violations += all_cie\n",
    "violations"
   ]
  },
  {
   "cell_type": "markdown",
   "metadata": {},
   "source": [
    "Now, we'll make the requested table"
   ]
  },
  {
   "cell_type": "code",
   "execution_count": 172,
   "metadata": {},
   "outputs": [
    {
     "data": {
      "text/html": [
       "<div>\n",
       "<style scoped>\n",
       "    .dataframe tbody tr th:only-of-type {\n",
       "        vertical-align: middle;\n",
       "    }\n",
       "\n",
       "    .dataframe tbody tr th {\n",
       "        vertical-align: top;\n",
       "    }\n",
       "\n",
       "    .dataframe thead th {\n",
       "        text-align: right;\n",
       "    }\n",
       "</style>\n",
       "<table border=\"1\" class=\"dataframe\">\n",
       "  <thead>\n",
       "    <tr style=\"text-align: right;\">\n",
       "      <th></th>\n",
       "      <th>Term</th>\n",
       "      <th>Count</th>\n",
       "    </tr>\n",
       "  </thead>\n",
       "  <tbody>\n",
       "    <tr>\n",
       "      <th>0</th>\n",
       "      <td>their</td>\n",
       "      <td>10</td>\n",
       "    </tr>\n",
       "    <tr>\n",
       "      <th>1</th>\n",
       "      <td>either</td>\n",
       "      <td>8</td>\n",
       "    </tr>\n",
       "    <tr>\n",
       "      <th>2</th>\n",
       "      <td>height</td>\n",
       "      <td>4</td>\n",
       "    </tr>\n",
       "    <tr>\n",
       "      <th>3</th>\n",
       "      <td>being</td>\n",
       "      <td>3</td>\n",
       "    </tr>\n",
       "    <tr>\n",
       "      <th>4</th>\n",
       "      <td>neither</td>\n",
       "      <td>2</td>\n",
       "    </tr>\n",
       "    <tr>\n",
       "      <th>5</th>\n",
       "      <td>theirs</td>\n",
       "      <td>1</td>\n",
       "    </tr>\n",
       "    <tr>\n",
       "      <th>6</th>\n",
       "      <td>seeing</td>\n",
       "      <td>1</td>\n",
       "    </tr>\n",
       "    <tr>\n",
       "      <th>7</th>\n",
       "      <td>fancied</td>\n",
       "      <td>1</td>\n",
       "    </tr>\n",
       "  </tbody>\n",
       "</table>\n",
       "</div>"
      ],
      "text/plain": [
       "      Term  Count\n",
       "0    their     10\n",
       "1   either      8\n",
       "2   height      4\n",
       "3    being      3\n",
       "4  neither      2\n",
       "5   theirs      1\n",
       "6   seeing      1\n",
       "7  fancied      1"
      ]
     },
     "execution_count": 172,
     "metadata": {},
     "output_type": "execute_result"
    }
   ],
   "source": [
    "counts = Counter(violations)\n",
    "df = pd.DataFrame(data = Counter(violations).most_common(len(counts)), columns = [\"Term\", \"Count\"])\n",
    "df"
   ]
  },
  {
   "cell_type": "code",
   "execution_count": null,
   "metadata": {},
   "outputs": [],
   "source": []
  },
  {
   "cell_type": "markdown",
   "metadata": {},
   "source": [
    "**2**. (20 points)\n",
    "\n",
    "A grayscale figure of a Mandelbrot set is loaded for you.\n",
    "\n",
    "- Compress the figure by reconstructing a rank k version, where is k is the number of singular values > 1e-9 (5 points)\n",
    "- Calculate the Frobenius norm of the difference between the original and reconstructed image (5 points)\n",
    "- Calculate the number of bytes needed to store the original image and the data needed to reconstruct the rank k image (5 points)\n",
    "- What is the dimension of the null space of the reconstructed rank k image? (5 points)"
   ]
  },
  {
   "cell_type": "code",
   "execution_count": 25,
   "metadata": {},
   "outputs": [
    {
     "data": {
      "image/png": "[encoded data removed]",
      "text/plain": [
       "<Figure size 432x288 with 1 Axes>"
      ]
     },
     "metadata": {},
     "output_type": "display_data"
    }
   ],
   "source": [
    "from skimage import color, io\n",
    "import matplotlib.pyplot as plt\n",
    "%matplotlib inline\n",
    "\n",
    "img = color.rgb2gray(color.rgba2rgb(io.imread('mandelbrot-250x250.png')))\n",
    "plt.imshow(img, cmap='gray')\n",
    "pass"
   ]
  },
  {
   "cell_type": "markdown",
   "metadata": {},
   "source": [
    "I will interpret the first part of the question to mean that I should select all singular values that are greater than 1e-9."
   ]
  },
  {
   "cell_type": "code",
   "execution_count": 41,
   "metadata": {},
   "outputs": [
    {
     "data": {
      "text/plain": [
       "array([[0.01841647, 0.01841647, 0.01841647, ..., 0.05199922, 0.05199922,\n",
       "        0.06291569],\n",
       "       [0.01841647, 0.01841647, 0.01841647, ..., 0.06291569, 0.06291569,\n",
       "        0.06291569],\n",
       "       [0.01841647, 0.01841647, 0.01841647, ..., 0.06291569, 0.06291569,\n",
       "        0.06291569],\n",
       "       ...,\n",
       "       [0.01841647, 0.01841647, 0.01841647, ..., 0.06291569, 0.06291569,\n",
       "        0.06291569],\n",
       "       [0.01841647, 0.01841647, 0.01841647, ..., 0.05199922, 0.05199922,\n",
       "        0.06291569],\n",
       "       [0.01841647, 0.01841647, 0.01841647, ..., 0.06291569, 0.05199922,\n",
       "        0.05199922]])"
      ]
     },
     "execution_count": 41,
     "metadata": {},
     "output_type": "execute_result"
    }
   ],
   "source": [
    "# Compress the figure by constructing a rank k version, where k is the number of singular values\n",
    "U, s, Vt = la.svd(img, full_matrices = False)\n",
    "k = sum(s > 1e-9)\n",
    "low_rank = U[:, :k] @ np.diag(s[:k]) @ Vt[:k, :]\n",
    "low_rank"
   ]
  },
  {
   "cell_type": "markdown",
   "metadata": {},
   "source": [
    "Calculate the Frobenius norm of the difference between the original and reconstructed image. We see that the result is a very small error"
   ]
  },
  {
   "cell_type": "code",
   "execution_count": 42,
   "metadata": {},
   "outputs": [
    {
     "data": {
      "text/plain": [
       "1.5910994059235727e-13"
      ]
     },
     "execution_count": 42,
     "metadata": {},
     "output_type": "execute_result"
    }
   ],
   "source": [
    "np.linalg.norm(img - low_rank, ord='fro')"
   ]
  },
  {
   "cell_type": "markdown",
   "metadata": {},
   "source": [
    "Calculate the number of bytes needed to store the original image and the data needed to reconstruct the rank k image"
   ]
  },
  {
   "cell_type": "code",
   "execution_count": 128,
   "metadata": {},
   "outputs": [
    {
     "data": {
      "text/plain": [
       "8"
      ]
     },
     "execution_count": 128,
     "metadata": {},
     "output_type": "execute_result"
    }
   ],
   "source": [
    "img.itemsize"
   ]
  },
  {
   "cell_type": "markdown",
   "metadata": {},
   "source": [
    "Above, we see that each element of the img array takes 8 bytes to store. Therefore, the size of the entire array can roughly be calculated as num_rows x num_cols x 8. I'll also show below that there's some overhead associated with the storage"
   ]
  },
  {
   "cell_type": "code",
   "execution_count": 129,
   "metadata": {},
   "outputs": [
    {
     "data": {
      "text/plain": [
       "500000"
      ]
     },
     "execution_count": 129,
     "metadata": {},
     "output_type": "execute_result"
    }
   ],
   "source": [
    "# Calculating using formula above\n",
    "img.itemsize * img.shape[0] * img.shape[1]"
   ]
  },
  {
   "cell_type": "code",
   "execution_count": 130,
   "metadata": {},
   "outputs": [
    {
     "data": {
      "text/plain": [
       "500112"
      ]
     },
     "execution_count": 130,
     "metadata": {},
     "output_type": "execute_result"
    }
   ],
   "source": [
    "# Asking Python for the size of img, showing some overhead\n",
    "sys.getsizeof(img)"
   ]
  },
  {
   "cell_type": "markdown",
   "metadata": {},
   "source": [
    "The low rank matrix only has 137 linearly independent columns, so we can calculate its storage need as 8 x 137 (num singular values) x 250 (num rows)"
   ]
  },
  {
   "cell_type": "code",
   "execution_count": 133,
   "metadata": {},
   "outputs": [
    {
     "data": {
      "text/plain": [
       "274000"
      ]
     },
     "execution_count": 133,
     "metadata": {},
     "output_type": "execute_result"
    }
   ],
   "source": [
    "low_rank.itemsize * low_rank.shape[0] * sum(s > 1e-9)"
   ]
  },
  {
   "cell_type": "markdown",
   "metadata": {},
   "source": [
    "The dimension of the nullspace of the low rank approximation is equal to the rank of the original image - the number of singular values used to construct the low rank approximation"
   ]
  },
  {
   "cell_type": "code",
   "execution_count": 52,
   "metadata": {},
   "outputs": [
    {
     "data": {
      "text/plain": [
       "113"
      ]
     },
     "execution_count": 52,
     "metadata": {},
     "output_type": "execute_result"
    }
   ],
   "source": [
    "img.shape[0] - k"
   ]
  },
  {
   "cell_type": "code",
   "execution_count": null,
   "metadata": {},
   "outputs": [],
   "source": []
  },
  {
   "cell_type": "markdown",
   "metadata": {},
   "source": [
    "**3**. (20 points)\n",
    "\n",
    "Let the columns of $A$ represent the basis vectors for a plane  in $\\mathbb{R}^3$\n",
    "\n",
    "$$\n",
    "A = \\pmatrix{1 & 2\\\\2 & 3\\\\3 & 4}\n",
    "$$\n",
    "\n",
    "- Construct a matrix $P$ that projects a vector $v \\in \\mathbb{R}^3$ onto this plane (5 points)\n",
    "- Find the vector on the plane that is closes to the vector $\\pmatrix{3\\\\4\\\\6}$ (5 points)\n",
    "- Let  $v = \\pmatrix{3\\\\4\\\\6}$. Find the coordinates of $\\text{proj}_A v$ with respect to the basis vectors of the plane (5 points)\n",
    "- Find the distance between $\\text{proj}_A v$ and $v$ using projection (5 points)"
   ]
  },
  {
   "cell_type": "markdown",
   "metadata": {},
   "source": [
    "Find projection matrix as P = $A(A^TA)^{-1}A^T$"
   ]
  },
  {
   "cell_type": "code",
   "execution_count": 57,
   "metadata": {},
   "outputs": [
    {
     "data": {
      "text/plain": [
       "array([[ 0.83333333,  0.33333333, -0.16666667],\n",
       "       [ 0.33333333,  0.33333333,  0.33333333],\n",
       "       [-0.16666667,  0.33333333,  0.83333333]])"
      ]
     },
     "execution_count": 57,
     "metadata": {},
     "output_type": "execute_result"
    }
   ],
   "source": [
    "A = np.array([[1, 2], [2, 3], [3, 4]])\n",
    "P = A @ np.linalg.inv(A.T @ A) @ A.T\n",
    "P"
   ]
  },
  {
   "cell_type": "markdown",
   "metadata": {},
   "source": [
    "We can find the vector on the plane that is closest to the vector (3 4 6) by projecting the given vector onto the plane, using P"
   ]
  },
  {
   "cell_type": "code",
   "execution_count": 61,
   "metadata": {},
   "outputs": [
    {
     "data": {
      "text/plain": [
       "array([2.83333333, 4.33333333, 5.83333333])"
      ]
     },
     "execution_count": 61,
     "metadata": {},
     "output_type": "execute_result"
    }
   ],
   "source": [
    "v = np.array([3, 4, 6])\n",
    "v_proj = P @ v\n",
    "v_proj"
   ]
  },
  {
   "cell_type": "markdown",
   "metadata": {},
   "source": [
    "Find the coordinates of $\\text{proj}_A v$ with respect to the basis vectors of the plane"
   ]
  },
  {
   "cell_type": "code",
   "execution_count": 76,
   "metadata": {},
   "outputs": [
    {
     "data": {
      "text/plain": [
       "array([0.16666667, 1.33333333])"
      ]
     },
     "execution_count": 76,
     "metadata": {},
     "output_type": "execute_result"
    }
   ],
   "source": [
    "coords = la.lstsq(A, v_proj)[0]\n",
    "coords"
   ]
  },
  {
   "cell_type": "code",
   "execution_count": 77,
   "metadata": {},
   "outputs": [
    {
     "data": {
      "text/plain": [
       "array([[2.83333333],\n",
       "       [4.33333333],\n",
       "       [5.83333333]])"
      ]
     },
     "execution_count": 77,
     "metadata": {},
     "output_type": "execute_result"
    }
   ],
   "source": [
    "# Verify that coordinates * basis give desired vector\n",
    "A @ coords.reshape(2, 1)"
   ]
  },
  {
   "cell_type": "markdown",
   "metadata": {},
   "source": [
    "Find the distance between $\\text{proj}_A v$ and v using projection"
   ]
  },
  {
   "cell_type": "code",
   "execution_count": 78,
   "metadata": {},
   "outputs": [
    {
     "data": {
      "text/plain": [
       "0.4082482904638681"
      ]
     },
     "execution_count": 78,
     "metadata": {},
     "output_type": "execute_result"
    }
   ],
   "source": [
    "np.linalg.norm(v - v_proj)"
   ]
  },
  {
   "cell_type": "markdown",
   "metadata": {},
   "source": [
    "**4** (30 points)\n",
    "\n",
    "Given the function $f(x) = x^3 - 5x^2 + x + 1$,\n",
    "\n",
    "- Perform a single quadratic interpolation starting with the points (0, 2, 5) and return the next bracket (10 points)\n",
    "- Plot the function and the quadratic interpolation showing the interpolated points for $x \\in (-1, 6)$ (5 points)\n",
    "- Find a local minimum using the newton method starting at the point x=4 with a tolerance of $10^{-4}$ for $\\delta x$. Return the value of $x$ and $f(x)$ at that point (10 points)\n",
    "- Find all roots of the function using the companion matrix method (5 points)\n",
    "\n",
    "For the optimization problems, stop when a tolerance of $10^{-4}$ is reached for $x$. Do not use any library functions from `scipy.optimize` or `scipy.interpolate` or `np.root` (you can use for checking but not for solving)"
   ]
  },
  {
   "cell_type": "markdown",
   "metadata": {},
   "source": [
    "First, we define the given function"
   ]
  },
  {
   "cell_type": "code",
   "execution_count": 79,
   "metadata": {},
   "outputs": [],
   "source": [
    "def f(x):\n",
    "    \"\"\"Returns function value, given a numeric input, x\"\"\"\n",
    "    return x ** 3 - 5 * x ** 2 + x + 1"
   ]
  },
  {
   "cell_type": "markdown",
   "metadata": {},
   "source": [
    "Next, we solve for the equation of the parabola, which takes the form of $y = ax^2 + bx + c$"
   ]
  },
  {
   "cell_type": "code",
   "execution_count": 112,
   "metadata": {},
   "outputs": [
    {
     "data": {
      "text/plain": [
       "array([ 2., -9.,  1.])"
      ]
     },
     "execution_count": 112,
     "metadata": {},
     "output_type": "execute_result"
    }
   ],
   "source": [
    "x0 = np.array([0, 2, 5])\n",
    "y0 = f(x0)\n",
    "X = np.c_[x0 ** 2, x0, np.ones(len(x0))]\n",
    "soln = np.linalg.solve(X, y0)\n",
    "soln"
   ]
  },
  {
   "cell_type": "markdown",
   "metadata": {},
   "source": [
    "The next point is given by -b / 2a"
   ]
  },
  {
   "cell_type": "code",
   "execution_count": 114,
   "metadata": {},
   "outputs": [
    {
     "data": {
      "text/plain": [
       "2.25"
      ]
     },
     "execution_count": 114,
     "metadata": {},
     "output_type": "execute_result"
    }
   ],
   "source": [
    "next_pt = -soln[1] / (2 * soln[0])\n",
    "next_pt"
   ]
  },
  {
   "cell_type": "markdown",
   "metadata": {},
   "source": [
    "This new point leads to a next bracket of x = (2, 2.25, 5). We can solve for the next parabola"
   ]
  },
  {
   "cell_type": "code",
   "execution_count": 118,
   "metadata": {},
   "outputs": [
    {
     "data": {
      "text/plain": [
       "array([  4.5, -26.5,  26. ])"
      ]
     },
     "execution_count": 118,
     "metadata": {},
     "output_type": "execute_result"
    }
   ],
   "source": [
    "x1 = np.array([2, 2.5, 5])\n",
    "y1 = f(x1)\n",
    "X1 = np.c_[x1 ** 2, x1, np.ones(len(x1))]\n",
    "soln1 = np.linalg.solve(X1, y1)\n",
    "soln1"
   ]
  },
  {
   "cell_type": "markdown",
   "metadata": {},
   "source": [
    "Now, we can plot the function along with the two parabola, one belonging to the original bracket and one belonging to the new bracket"
   ]
  },
  {
   "cell_type": "code",
   "execution_count": 119,
   "metadata": {},
   "outputs": [
    {
     "data": {
      "image/png": "[encoded data removed]",
      "text/plain": [
       "<Figure size 432x288 with 1 Axes>"
      ]
     },
     "metadata": {},
     "output_type": "display_data"
    }
   ],
   "source": [
    "# Set-up plot\n",
    "x = np.arange(-10,10, 0.1);\n",
    "plt.plot(x, f(x))\n",
    "plt.xlim(-1, 6)\n",
    "plt.ylim(-15, 20)\n",
    "plt.xlabel('x')\n",
    "plt.axhline(0)\n",
    "plt.title(\"Quadratic Interpolation\")\n",
    "\n",
    "# Plot first bracket\n",
    "y_quad1 = soln[0] * x**2 + soln[1] * x + soln[2]\n",
    "plt.plot(x, y_quad1, color = 'r')\n",
    "\n",
    "# Plot 2nd parabola\n",
    "y_quad2 =  soln1[0] * x**2 + soln1[1] * x + soln1[2]\n",
    "plt.plot(x, y_quad2, color = 'g')\n",
    "pass"
   ]
  },
  {
   "cell_type": "markdown",
   "metadata": {},
   "source": [
    "To implement Newton's method, I'll first define functions for the first and second derivatives of the function"
   ]
  },
  {
   "cell_type": "code",
   "execution_count": 120,
   "metadata": {},
   "outputs": [],
   "source": [
    "def grad(x):\n",
    "    \"\"\"Returns first derivative of function\"\"\"\n",
    "    return 3 * x**2 - 10 * x + 1\n",
    "\n",
    "def grad2(x):\n",
    "    \"\"\"Returns second derivative of function\"\"\"\n",
    "    return 6*x - 10"
   ]
  },
  {
   "cell_type": "markdown",
   "metadata": {},
   "source": [
    "Now, we use Newton's method to find a minimum and display the result"
   ]
  },
  {
   "cell_type": "code",
   "execution_count": 123,
   "metadata": {},
   "outputs": [],
   "source": [
    "def newton(x0, tol = 1e-4):\n",
    "    \"\"\"Use Newton's method to find minimum of function\"\"\"\n",
    "    x = x0\n",
    "    while (grad(x) / grad2(x)) > tol:\n",
    "        x = x - grad(x) / grad2(x)\n",
    "    return x, f(x)"
   ]
  },
  {
   "cell_type": "code",
   "execution_count": 124,
   "metadata": {},
   "outputs": [
    {
     "data": {
      "text/plain": [
       "(3.2301458435204404, -14.236233089835615)"
      ]
     },
     "execution_count": 124,
     "metadata": {},
     "output_type": "execute_result"
    }
   ],
   "source": [
    "newton(x0 = 4)"
   ]
  },
  {
   "cell_type": "markdown",
   "metadata": {},
   "source": [
    "Lastly, we find all roots of the function by creating a companion matrix and then finding its eigenvalues, which are the roots of the function"
   ]
  },
  {
   "cell_type": "code",
   "execution_count": 126,
   "metadata": {},
   "outputs": [
    {
     "data": {
      "text/plain": [
       "array([ 4.74482608,  0.60406814, -0.34889422])"
      ]
     },
     "execution_count": 126,
     "metadata": {},
     "output_type": "execute_result"
    }
   ],
   "source": [
    "C = np.array([[5, -1, -1],\n",
    "            [1, 0, 0],\n",
    "            [0, 1, 0]])\n",
    "np.linalg.eigvals(C)"
   ]
  }
 ],
 "metadata": {
  "kernelspec": {
   "display_name": "Python 3",
   "language": "python",
   "name": "python3"
  },
  "language_info": {
   "codemirror_mode": {
    "name": "ipython",
    "version": 3
   },
   "file_extension": ".py",
   "mimetype": "text/x-python",
   "name": "python",
   "nbconvert_exporter": "python",
   "pygments_lexer": "ipython3",
   "version": "3.6.10"
  }
 },
 "nbformat": 4,
 "nbformat_minor": 4
}
