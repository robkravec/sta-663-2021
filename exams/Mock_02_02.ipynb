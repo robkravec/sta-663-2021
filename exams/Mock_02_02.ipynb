{
 "cells": [
  {
   "cell_type": "markdown",
   "metadata": {},
   "source": [
    "Instructions\n",
    "\n",
    "**When taking this exam, you agree to follow the Duke Honor Code.**\n",
    "\n",
    "- This is a closed book exam. You can use the `help()` function, and the `?` prefix or suffix but are restricted to a SINGLE browser tab.\n",
    "- All necessary imports are provided. You should not need to import any other packages.\n",
    "- Answer all 5 questions."
   ]
  },
  {
   "cell_type": "markdown",
   "metadata": {},
   "source": [
    "**1**. (20 points)\n",
    "\n",
    "- Find the matrix $A$ that results in rotating the standard vectors in $\\mathbb{R}^2$ by 30 degrees counter-clockwise and stretches $e_1$ by a factor of 3 and contracts $e_2$ by a factor of $0.5$. \n",
    "- What is the inverse of this matrix? How you find the inverse should reflect your understanding.\n",
    "\n",
    "The effects of the matrix $A$ and $A^{-1}$ are shown in the figure below:\n",
    "\n",
    "![image](../data/vecs.png)"
   ]
  },
  {
   "cell_type": "code",
   "execution_count": null,
   "metadata": {},
   "outputs": [],
   "source": [
    "\n",
    "\n",
    "\n"
   ]
  },
  {
   "cell_type": "markdown",
   "metadata": {},
   "source": [
    "**2**. (20 points)\n",
    "\n",
    "- Given the DNA sequence below, create a $4 \\times 4$ transition matrix $A$ where $A[i,j]$ is the probability of the base $j$ appearing immediately after base $i$. Note that a *base* is one of the four letters `a`, `c`, `t` or `g`. The letters below should be treated as a single sequence, broken into separate lines just for formatting purposes. You should check that row probabilities sum to 1. \n",
    "- Find the steady state distribution of the 4 bases from the row stochastic transition matrix - that is the, the values of $x$ for which $x^TA = x$ (You can solve this as a set of linear equations). Hint: you need to add a constraint on the values of $x$. \n",
    "\n",
    "```\n",
    "gggttgtatgtcacttgagcctgtgcggacgagtgacacttgggacgtgaacagcggcggccgatacgttctctaagatc\n",
    "ctctcccatgggcctggtctgtatggctttcttgttgtgggggcggagaggcagcgagtgggtgtacattaagcatggcc\n",
    "accaccatgtggagcgtggcgtggtcgcggagttggcagggtttttgggggtggggagccggttcaggtattccctccgc\n",
    "gtttctgtcgggtaggggggcttctcgtaagggattgctgcggccgggttctctgggccgtgatgactgcaggtgccatg\n",
    "gaggcggtttggggggcccccggaagtctagcgggatcgggcttcgtttgtggaggagggggcgagtgcggaggtgttct\n",
    "```"
   ]
  },
  {
   "cell_type": "code",
   "execution_count": null,
   "metadata": {},
   "outputs": [],
   "source": [
    "\n",
    "\n",
    "\n"
   ]
  },
  {
   "cell_type": "markdown",
   "metadata": {},
   "source": [
    "**3**. (20 points) \n",
    "\n",
    "We observe some data points $(x_i, y_i)$, and believe that an appropriate model for the data is that\n",
    "\n",
    "$$\n",
    "f(x) = ax^2 + bx^3 + c\\sin{x}\n",
    "$$\n",
    "\n",
    "with some added noise. Find optimal values of the parameters $\\beta = (a, b, c)$ that minimize $\\Vert y - f(x) \\Vert^2$\n",
    "\n",
    "using gradient descent with RMSProp (no bias correction) and starting with an initial value of $\\beta = \\begin{bmatrix}1 & 1 & 1\\end{bmatrix}$. Use a learning rate of 0.01 and 10,000 iterations. This should take a few seconds to complete. (25 points)\n",
    "\n",
    "Plot the data and fitted curve using `matplotlib`.\n",
    "\n",
    "Data\n",
    "```\n",
    "x = array([ 3.4027718 ,  4.29209002,  5.88176277,  6.3465969 ,  7.21397852,\n",
    "        8.26972154, 10.27244608, 10.44703778, 10.79203455, 14.71146298])\n",
    "y = array([ 25.54026428,  29.4558919 ,  58.50315846,  70.24957254,\n",
    "        90.55155435, 100.56372833,  91.83189927,  90.41536733,\n",
    "        90.43103028,  23.0719842 ])\n",
    "```"
   ]
  },
  {
   "cell_type": "code",
   "execution_count": null,
   "metadata": {},
   "outputs": [],
   "source": [
    "\n",
    "\n",
    "\n"
   ]
  },
  {
   "cell_type": "markdown",
   "metadata": {},
   "source": [
    "**4**. (20 points)\n",
    "\n",
    "Consider the following system of equations:\n",
    "\n",
    "$$\\begin{align*}\n",
    "2x_1& - x_2&    +x_1    &=& 6\\\\\n",
    "-x_1& +2x_2& -  x_3 &=& 2\\\\\n",
    " x_1   &  -x_2& + x_3 &=& 1\n",
    "\\end{align*}$$\n",
    "\n",
    "1. Write the system in matrix form $Ax=b$ and define these in numpy or scipy.\n",
    "2. Show that $A$ is positive-definite\n",
    "3. Use the appropriate matrix decomposition function in numpy and back-substitution to solve the system. Remember to use the structure of the problem to determine the appropriate decomposition."
   ]
  },
  {
   "cell_type": "code",
   "execution_count": null,
   "metadata": {},
   "outputs": [],
   "source": [
    "\n",
    "\n",
    "\n"
   ]
  },
  {
   "cell_type": "markdown",
   "metadata": {},
   "source": [
    "**5**. (20 points)\n",
    "\n",
    "Let\n",
    "\n",
    "$A = \\left(\\begin{matrix}2 & -1 &1\\\\-1& 2& -1 \\\\1&-1& 1\n",
    "\\end{matrix}\\right) \\;\\;\\;\\;\\;\\;\\textrm{ and }\\;\\;\\;\\;\\;\\; v = \\left(\\begin{matrix}1 \\\\ 1 \\\\2\\end{matrix}\\right)$\n",
    "\n",
    "Find $w$ such that $w$ is conjugate to $v$ under $A$. You may use *basic* linear algebra in scipy or numpy - i.e. matrix products."
   ]
  },
  {
   "cell_type": "code",
   "execution_count": null,
   "metadata": {},
   "outputs": [],
   "source": [
    "\n",
    "\n",
    "\n"
   ]
  }
 ],
 "metadata": {
  "kernelspec": {
   "display_name": "Python 3",
   "language": "python",
   "name": "python3"
  },
  "language_info": {
   "codemirror_mode": {
    "name": "ipython",
    "version": 3
   },
   "file_extension": ".py",
   "mimetype": "text/x-python",
   "name": "python",
   "nbconvert_exporter": "python",
   "pygments_lexer": "ipython3",
   "version": "3.8.5"
  }
 },
 "nbformat": 4,
 "nbformat_minor": 4
}
