{
 "cells": [
  {
   "cell_type": "markdown",
   "metadata": {},
   "source": [
    "Instructions\n",
    "\n",
    "**When taking this exam, you agree to follow the Duke Honor Code.**\n",
    "\n",
    "- This is an OPEN book exam.\n",
    "- Import any module you need from the standard Python library, `numpy`, `scipy`, `pandas`, `matplotlib` or `seaborn`. Do not use any other 3rd party packages.\n",
    "- Answer all 5 questions."
   ]
  },
  {
   "cell_type": "markdown",
   "metadata": {},
   "source": [
    "**1**. 20 points\n",
    "\n",
    "- Load the matrix stored in `Q1.npy` into `A` and use factorize using SVD (5 points)\n",
    "- Find the condition number of `A` from the SVD (5 points)\n",
    "- Generate the matrix that is the best rank 3 approximation to `A` (5 points)\n",
    "- Determine how many singular vectors would be needed to explain at least 95% of the variance of the original matrix `A` (5 points)"
   ]
  },
  {
   "cell_type": "code",
   "execution_count": 91,
   "metadata": {},
   "outputs": [],
   "source": [
    "\n",
    "\n"
   ]
  },
  {
   "cell_type": "markdown",
   "metadata": {},
   "source": [
    "**2**. 20 points\n",
    "\n",
    "- Load the matrix in `Q2.npy` - this consists of two columns representing the x and y coordinates of 10 points\n",
    "- Find the equation of the circle that best fits these points (15 points)\n",
    "- Plot the points and fitted circle (5 points)\n",
    "\n",
    "Hint: You need to estimate the center of the circle and its radius."
   ]
  },
  {
   "cell_type": "code",
   "execution_count": 77,
   "metadata": {},
   "outputs": [],
   "source": [
    "\n",
    "\n",
    "\n"
   ]
  },
  {
   "cell_type": "markdown",
   "metadata": {},
   "source": [
    "**3**. 20 points\n",
    "\n",
    "The figure below shows the current population of Durham, Chapel Hill and Raleigh. Arrows show fractions that move between cities each year.\n",
    "\n",
    "- What are the population sizes of the 3 cities after 3 years have passed? (5 points)\n",
    "- Find the steady state population of the 3 cities by solving a linear system. (15 points)\n",
    "\n",
    "Assume no births, deaths or any other fluxes other than those shown.\n",
    "\n",
    "![img](Q3.png)"
   ]
  },
  {
   "cell_type": "code",
   "execution_count": 31,
   "metadata": {},
   "outputs": [],
   "source": [
    "\n",
    "\n",
    "\n"
   ]
  },
  {
   "cell_type": "markdown",
   "metadata": {},
   "source": [
    "- Find the steady state population of the 3 cities by solving a linear system. (15 points)\n",
    "\n",
    "Note\n",
    "\n",
    "- You are asked for the steady state *population*\n",
    "- A check for both cases is that total population does not change"
   ]
  },
  {
   "cell_type": "code",
   "execution_count": null,
   "metadata": {},
   "outputs": [],
   "source": [
    "\n",
    "\n",
    "\n"
   ]
  },
  {
   "cell_type": "markdown",
   "metadata": {},
   "source": [
    "**4**. 20 points\n",
    "\n",
    "Consider the following matrix\n",
    "\n",
    "```\n",
    "A = np.array([\n",
    "    [5,2],\n",
    "    [2,5]\n",
    "])\n",
    "```\n",
    "\n",
    "- Find the characteristic polynomial of the matrix `A` (5 points)\n",
    "- Find the eigenvalues using the companion matrix method `C` (5 points)\n",
    "- Find a matrix `P` such that $A = P C P^{-1}$ (10 points)"
   ]
  },
  {
   "cell_type": "code",
   "execution_count": 39,
   "metadata": {},
   "outputs": [],
   "source": [
    "\n",
    "\n",
    "\n"
   ]
  },
  {
   "cell_type": "markdown",
   "metadata": {},
   "source": [
    "**5**. 20 points\n",
    "\n",
    "The file `Q5.npy` contains the x and y coordinates in cols 1 and 2 respectively. \n",
    "\n",
    "- Find a cubic polynomial model to fit the data using the normal equations (5 points)\n",
    "- Now solve using mini-batch gradient descent Use a learning rate of 0.0001. Start with a guess of a=1, b=1, c=1, d=1 for the model $ax^3 + bx^2 + cx + d$, and report $(a, b, c, d)$ after 1,000 epochs with a batch size of 5. (15 points)\n",
    "\n",
    "For simplicity, you don't need to randomize the order when choosing data for each batch."
   ]
  },
  {
   "cell_type": "code",
   "execution_count": 48,
   "metadata": {},
   "outputs": [],
   "source": [
    "\n",
    "\n"
   ]
  }
 ],
 "metadata": {
  "kernelspec": {
   "display_name": "Python 3",
   "language": "python",
   "name": "python3"
  },
  "language_info": {
   "codemirror_mode": {
    "name": "ipython",
    "version": 3
   },
   "file_extension": ".py",
   "mimetype": "text/x-python",
   "name": "python",
   "nbconvert_exporter": "python",
   "pygments_lexer": "ipython3",
   "version": "3.8.5"
  }
 },
 "nbformat": 4,
 "nbformat_minor": 2
}
