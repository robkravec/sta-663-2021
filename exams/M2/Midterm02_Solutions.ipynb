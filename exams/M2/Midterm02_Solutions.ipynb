{
 "cells": [
  {
   "cell_type": "markdown",
   "metadata": {},
   "source": [
    "\n",
    "There are 4 questions, with points weighting given in the question. Write Python code to solve each question.\n",
    "\n",
    "Points will be deducted for \n",
    "\n",
    "- Functions or classes without `docstrings`\n",
    "- Grossly inefficient or redundant code\n",
    "- Excessively verbose code\n",
    "- Use of *magic* numbers\n",
    "\n",
    "Partial credit may be given for incomplete or wrong answers but not if you do not attempt the question.\n",
    "\n",
    "You should only have this notebook tab open during the exam and stay on the same notebook throughout. You may use built-in help, accessed via `?foo`, `foo?` or `help(foo)`.\n",
    "\n",
    "**IMPORTANT**\n",
    "\n",
    "- This is a **open book** exam meant to evaluate fluency with linear algebra and optimization Python\n",
    "- Use a stopwatch to record the time you took to complete the exam in the cell below **honestly**:\n",
    "    - Under 2 hours - No penalty\n",
    "    - Between 2-3 hours - 5 points penalty\n",
    "    - More than 3 hours or **no time reported** - 10 points penalty\n",
    "- Upload the notebook to Sakai when done\n",
    "\n",
    "**Honor Code**: You agree to follow the Duke Honor code when taking this exam."
   ]
  },
  {
   "cell_type": "markdown",
   "metadata": {},
   "source": [
    "**Self-reported time taken**: It is your responsibility to time your exam.\n",
    "\n",
    "<font color=red>Fill in total time in hours and minutes in the cell below</font>"
   ]
  },
  {
   "cell_type": "code",
   "execution_count": null,
   "metadata": {},
   "outputs": [],
   "source": []
  },
  {
   "cell_type": "markdown",
   "metadata": {},
   "source": [
    "**1**. (20 points)\n",
    "\n",
    "In school, to help remember when the spelling should be \"ei\" or \"ie\", students are often taught the rule \"i before e except after c\". For example, \"piece\" and \"conceive\" fit this rule.\n",
    "\n",
    "- Find all occurrences of words in the book `alice.txt` that violate this rule (10 points)\n",
    "- Make a table of how often each such word occurs in decreasing order of the count (10 points)"
   ]
  },
  {
   "cell_type": "code",
   "execution_count": 1,
   "metadata": {},
   "outputs": [],
   "source": [
    "import string\n",
    "import re\n",
    "\n",
    "alice = open('alice.txt').read()\n",
    "words = alice.lower().translate(\n",
    "    str.maketrans('','', string.punctuation)).split()\n",
    "hits = [word for word in words \n",
    "        if 'ie'  in word or 'ei' in word]\n",
    "anomalies = list(set([word for word in hits\n",
    "                      if 'cie' in word or\n",
    "                      re.search(r'[a-b,d-z]ei', word)]))"
   ]
  },
  {
   "cell_type": "code",
   "execution_count": 2,
   "metadata": {},
   "outputs": [
    {
     "data": {
      "text/html": [
       "<div>\n",
       "<style scoped>\n",
       "    .dataframe tbody tr th:only-of-type {\n",
       "        vertical-align: middle;\n",
       "    }\n",
       "\n",
       "    .dataframe tbody tr th {\n",
       "        vertical-align: top;\n",
       "    }\n",
       "\n",
       "    .dataframe thead th {\n",
       "        text-align: right;\n",
       "    }\n",
       "</style>\n",
       "<table border=\"1\" class=\"dataframe\">\n",
       "  <thead>\n",
       "    <tr style=\"text-align: right;\">\n",
       "      <th></th>\n",
       "      <th>word</th>\n",
       "      <th>count</th>\n",
       "    </tr>\n",
       "  </thead>\n",
       "  <tbody>\n",
       "    <tr>\n",
       "      <th>7</th>\n",
       "      <td>their</td>\n",
       "      <td>10</td>\n",
       "    </tr>\n",
       "    <tr>\n",
       "      <th>2</th>\n",
       "      <td>height</td>\n",
       "      <td>4</td>\n",
       "    </tr>\n",
       "    <tr>\n",
       "      <th>5</th>\n",
       "      <td>neither</td>\n",
       "      <td>2</td>\n",
       "    </tr>\n",
       "    <tr>\n",
       "      <th>6</th>\n",
       "      <td>being</td>\n",
       "      <td>2</td>\n",
       "    </tr>\n",
       "    <tr>\n",
       "      <th>0</th>\n",
       "      <td>seeing</td>\n",
       "      <td>1</td>\n",
       "    </tr>\n",
       "    <tr>\n",
       "      <th>1</th>\n",
       "      <td>fireirons</td>\n",
       "      <td>1</td>\n",
       "    </tr>\n",
       "    <tr>\n",
       "      <th>3</th>\n",
       "      <td>seebeing</td>\n",
       "      <td>1</td>\n",
       "    </tr>\n",
       "    <tr>\n",
       "      <th>4</th>\n",
       "      <td>fancied</td>\n",
       "      <td>1</td>\n",
       "    </tr>\n",
       "    <tr>\n",
       "      <th>8</th>\n",
       "      <td>theirs</td>\n",
       "      <td>1</td>\n",
       "    </tr>\n",
       "  </tbody>\n",
       "</table>\n",
       "</div>"
      ],
      "text/plain": [
       "        word  count\n",
       "7      their     10\n",
       "2     height      4\n",
       "5    neither      2\n",
       "6      being      2\n",
       "0     seeing      1\n",
       "1  fireirons      1\n",
       "3   seebeing      1\n",
       "4    fancied      1\n",
       "8     theirs      1"
      ]
     },
     "execution_count": 2,
     "metadata": {},
     "output_type": "execute_result"
    }
   ],
   "source": [
    "import pandas as pd\n",
    "\n",
    "counts = []\n",
    "for anomaly in anomalies:\n",
    "    counts.append(hits.count(anomaly))\n",
    "df = pd.DataFrame(dict(word=anomalies, count=counts))\n",
    "df.sort_values('count', ascending=False)"
   ]
  },
  {
   "cell_type": "markdown",
   "metadata": {},
   "source": [
    "**2**. (20 points)\n",
    "\n",
    "A grayscale figure of a Mandelbrot set is loaded for you.\n",
    "\n",
    "- Compress the figure by reconstructing a rank k version, where is k is the number of singular values > 1e-9 (5 points)\n",
    "- Calculate the Frobenius norm of the difference between the original and reconstructed image (5 points)\n",
    "- Calculate the number of bytes needed to store the original image and the data needed to reconstruct the rank k image (5 points)\n",
    "- What is the dimension of the null space of the reconstructed rank k image? (5 points)"
   ]
  },
  {
   "cell_type": "code",
   "execution_count": 3,
   "metadata": {},
   "outputs": [],
   "source": [
    "from skimage import color, io\n",
    "import matplotlib.pyplot as plt\n",
    "%matplotlib inline"
   ]
  },
  {
   "cell_type": "code",
   "execution_count": 4,
   "metadata": {},
   "outputs": [],
   "source": [
    "img = color.rgb2gray(color.rgba2rgb(io.imread('mandelbrot-250x250.png')))"
   ]
  },
  {
   "cell_type": "code",
   "execution_count": 5,
   "metadata": {},
   "outputs": [
    {
     "data": {
      "image/png": "[encoded data removed]",
      "text/plain": [
       "<Figure size 432x288 with 1 Axes>"
      ]
     },
     "metadata": {
      "needs_background": "light"
     },
     "output_type": "display_data"
    }
   ],
   "source": [
    "plt.imshow(img, cmap='gray')\n",
    "pass"
   ]
  },
  {
   "cell_type": "code",
   "execution_count": 6,
   "metadata": {},
   "outputs": [],
   "source": [
    "import numpy as np\n",
    "import scipy.linalg as la"
   ]
  },
  {
   "cell_type": "code",
   "execution_count": 7,
   "metadata": {},
   "outputs": [],
   "source": [
    "U, Σ, Vt = la.svd(img, full_matrices=False)"
   ]
  },
  {
   "cell_type": "code",
   "execution_count": 8,
   "metadata": {},
   "outputs": [
    {
     "data": {
      "text/plain": [
       "((250, 250), (250,), (250, 250))"
      ]
     },
     "execution_count": 8,
     "metadata": {},
     "output_type": "execute_result"
    }
   ],
   "source": [
    "U.shape, Σ.shape, Vt.shape"
   ]
  },
  {
   "cell_type": "code",
   "execution_count": 9,
   "metadata": {},
   "outputs": [],
   "source": [
    "k = sum(Σ > 1e-9)\n",
    "img_k = U[:, :k] @ np.diag(Σ[:k]) @ Vt[:k, :]"
   ]
  },
  {
   "cell_type": "code",
   "execution_count": 10,
   "metadata": {},
   "outputs": [
    {
     "data": {
      "image/png": "[encoded data removed]",
      "text/plain": [
       "<Figure size 432x288 with 1 Axes>"
      ]
     },
     "metadata": {
      "needs_background": "light"
     },
     "output_type": "display_data"
    }
   ],
   "source": [
    "plt.imshow(img_k, cmap='gray')\n",
    "pass"
   ]
  },
  {
   "cell_type": "code",
   "execution_count": 11,
   "metadata": {},
   "outputs": [
    {
     "data": {
      "text/plain": [
       "1.616569943732705e-13"
      ]
     },
     "execution_count": 11,
     "metadata": {},
     "output_type": "execute_result"
    }
   ],
   "source": [
    "la.norm(img_k - img, 'fro')"
   ]
  },
  {
   "cell_type": "code",
   "execution_count": 12,
   "metadata": {},
   "outputs": [
    {
     "data": {
      "text/plain": [
       "500000"
      ]
     },
     "execution_count": 12,
     "metadata": {},
     "output_type": "execute_result"
    }
   ],
   "source": [
    "img.nbytes"
   ]
  },
  {
   "cell_type": "code",
   "execution_count": 31,
   "metadata": {},
   "outputs": [
    {
     "data": {
      "text/plain": [
       "549096"
      ]
     },
     "execution_count": 31,
     "metadata": {},
     "output_type": "execute_result"
    }
   ],
   "source": [
    "U[:, :k].nbytes + Σ[:k].nbytes + Vt[:k, :].nbytes"
   ]
  },
  {
   "cell_type": "code",
   "execution_count": 14,
   "metadata": {},
   "outputs": [
    {
     "data": {
      "text/plain": [
       "113"
      ]
     },
     "execution_count": 14,
     "metadata": {},
     "output_type": "execute_result"
    }
   ],
   "source": [
    "img_k.shape[1] - k"
   ]
  },
  {
   "cell_type": "markdown",
   "metadata": {},
   "source": [
    "**3**. (20 points)\n",
    "\n",
    "Let the columns of $A$ represent the basis vectors for a plane  in $\\mathbb{R}^3$\n",
    "\n",
    "$$\n",
    "A = \\pmatrix{1 & 2\\\\2 & 3\\\\3 & 4}\n",
    "$$\n",
    "\n",
    "- Construct a matrix $P$ that projects a vector $v \\in \\mathbb{R}^3$ onto this plane (5 points)\n",
    "- Find the vector on the plane that is closes to the vector $\\pmatrix{3\\\\4\\\\6}$ (5 points)\n",
    "- Let  $v = \\pmatrix{3\\\\4\\\\6}$. Find the coordinates of $\\text{proj}_A v$ with respect to the basis vectors of the plane (5 points)\n",
    "- Find the distance between $\\text{proj}_A v$ and $v$ using projection (5 points)"
   ]
  },
  {
   "cell_type": "code",
   "execution_count": 15,
   "metadata": {},
   "outputs": [],
   "source": [
    "A = np.array([[1,2], [2,3], [3,4]])"
   ]
  },
  {
   "cell_type": "code",
   "execution_count": 16,
   "metadata": {},
   "outputs": [],
   "source": [
    "P = A@la.inv(A.T@A)@A.T"
   ]
  },
  {
   "cell_type": "code",
   "execution_count": 17,
   "metadata": {},
   "outputs": [
    {
     "data": {
      "text/plain": [
       "array([[ 0.83333333,  0.33333333, -0.16666667],\n",
       "       [ 0.33333333,  0.33333333,  0.33333333],\n",
       "       [-0.16666667,  0.33333333,  0.83333333]])"
      ]
     },
     "execution_count": 17,
     "metadata": {},
     "output_type": "execute_result"
    }
   ],
   "source": [
    "P"
   ]
  },
  {
   "cell_type": "code",
   "execution_count": 18,
   "metadata": {},
   "outputs": [],
   "source": [
    "v = np.array([[3,4,6]]).T"
   ]
  },
  {
   "cell_type": "code",
   "execution_count": 19,
   "metadata": {},
   "outputs": [
    {
     "data": {
      "text/plain": [
       "array([[2.83333333],\n",
       "       [4.33333333],\n",
       "       [5.83333333]])"
      ]
     },
     "execution_count": 19,
     "metadata": {},
     "output_type": "execute_result"
    }
   ],
   "source": [
    "P@v"
   ]
  },
  {
   "cell_type": "code",
   "execution_count": 20,
   "metadata": {},
   "outputs": [
    {
     "data": {
      "text/plain": [
       "array([[0.16666667],\n",
       "       [1.33333333]])"
      ]
     },
     "execution_count": 20,
     "metadata": {},
     "output_type": "execute_result"
    }
   ],
   "source": [
    "la.solve(A.T@A, A.T@v)"
   ]
  },
  {
   "cell_type": "code",
   "execution_count": 21,
   "metadata": {},
   "outputs": [
    {
     "data": {
      "text/plain": [
       "0.40824829046384487"
      ]
     },
     "execution_count": 21,
     "metadata": {},
     "output_type": "execute_result"
    }
   ],
   "source": [
    "la.norm((np.eye(3)-P)@v)"
   ]
  },
  {
   "cell_type": "markdown",
   "metadata": {},
   "source": [
    "**4** (30 points)\n",
    "\n",
    "Given the function $f(x) = x^3 - 5x^2 + x + 1$,\n",
    "\n",
    "- Perform a single quadratic interpolation starting with the points (0, 2, 5) and return the next bracket (10 points)\n",
    "- Plot the function and the quadratic interpolation showing the interpolated points for $x \\in (-1, 6)$ (5 points)\n",
    "- Find a local minimum using the newton method starting at the point x=4 with a tolerance of $10^{-4}$ for $\\delta x$. Return the value of $x$ and $f(x)$ at that point (10 points)\n",
    "- Find all roots of the function using the companion matrix method (5 points)\n",
    "\n",
    "For the optimization problems, stop when a tolerance of $10^{-4}$ is reached for $x$. Do not use any library functions from `scipy.optimize` or `scipy.interpolate` or `np.root` (you can use for checking but not for solving)"
   ]
  },
  {
   "cell_type": "code",
   "execution_count": 22,
   "metadata": {},
   "outputs": [],
   "source": [
    "f = lambda x: x**3 - 5*x**2 + x + 1\n",
    "A = np.array([[1, 0, 0], [1, 2, 4], [1, 5, 25]])\n",
    "y = f(np.array([0, 2, 5])).reshape(3,1)\n",
    "sol = la.solve(A, y).ravel()"
   ]
  },
  {
   "cell_type": "code",
   "execution_count": 32,
   "metadata": {},
   "outputs": [
    {
     "data": {
      "text/plain": [
       "array([[ 1,  0,  0],\n",
       "       [ 1,  2,  4],\n",
       "       [ 1,  5, 25]])"
      ]
     },
     "execution_count": 32,
     "metadata": {},
     "output_type": "execute_result"
    }
   ],
   "source": [
    "A"
   ]
  },
  {
   "cell_type": "code",
   "execution_count": 23,
   "metadata": {},
   "outputs": [
    {
     "data": {
      "text/plain": [
       "2.25"
      ]
     },
     "execution_count": 23,
     "metadata": {},
     "output_type": "execute_result"
    }
   ],
   "source": [
    "-sol[1]/(2*sol[2])"
   ]
  },
  {
   "cell_type": "markdown",
   "metadata": {},
   "source": [
    "Next bracket is (2, 2.25, 5)"
   ]
  },
  {
   "cell_type": "code",
   "execution_count": 24,
   "metadata": {},
   "outputs": [],
   "source": [
    "g = lambda x: sol[2]*x**2 + sol[1]*x + sol[0]"
   ]
  },
  {
   "cell_type": "code",
   "execution_count": 25,
   "metadata": {},
   "outputs": [
    {
     "data": {
      "image/png": "[encoded data removed]",
      "text/plain": [
       "<Figure size 432x288 with 1 Axes>"
      ]
     },
     "metadata": {
      "needs_background": "light"
     },
     "output_type": "display_data"
    }
   ],
   "source": [
    "xs = np.linspace(-1, 6, 100)\n",
    "f = lambda x: x**3 - 5*x**2+ x + 1\n",
    "plt.plot(xs, f(xs))\n",
    "plt.plot(xs, g(xs))\n",
    "plt.plot([0,2,5], y, 'o')\n",
    "pass"
   ]
  },
  {
   "cell_type": "code",
   "execution_count": 26,
   "metadata": {},
   "outputs": [],
   "source": [
    "def f1(x):\n",
    "    \"\"\"First derivative.\"\"\"\n",
    "    return 3*x**2 - 10*x + 1\n",
    "\n",
    "def f2(x):\n",
    "    \"\"\"Second derivative.\"\"\"\n",
    "    return 6*x - 10\n",
    "\n",
    "def newton(x, f, f1, f2, xtol=1e-4):\n",
    "    \"\"\"Newton's method.\"\"\"\n",
    "    \n",
    "    delta_x = 1\n",
    "    while delta_x > xtol:\n",
    "        xnew = x - f1(x)/f2(x)\n",
    "        delta_x = np.abs(x - xnew)\n",
    "        x = xnew\n",
    "    return x, f(x)"
   ]
  },
  {
   "cell_type": "code",
   "execution_count": 27,
   "metadata": {},
   "outputs": [
    {
     "data": {
      "text/plain": [
       "(3.230138586624651, -14.236233090082624)"
      ]
     },
     "execution_count": 27,
     "metadata": {},
     "output_type": "execute_result"
    }
   ],
   "source": [
    "newton(4, f, f1, f2)"
   ]
  },
  {
   "cell_type": "code",
   "execution_count": 28,
   "metadata": {},
   "outputs": [],
   "source": [
    "C = np.array([\n",
    "    [0, 0, -1],\n",
    "    [1, 0, -1],\n",
    "    [0, 1, 5]\n",
    "])"
   ]
  },
  {
   "cell_type": "code",
   "execution_count": 29,
   "metadata": {},
   "outputs": [
    {
     "data": {
      "text/plain": [
       "array([-0.34889422,  0.60406814,  4.74482608])"
      ]
     },
     "execution_count": 29,
     "metadata": {},
     "output_type": "execute_result"
    }
   ],
   "source": [
    "np.real(la.eigvals(C))"
   ]
  },
  {
   "cell_type": "markdown",
   "metadata": {},
   "source": [
    "Check"
   ]
  },
  {
   "cell_type": "code",
   "execution_count": 30,
   "metadata": {},
   "outputs": [
    {
     "data": {
      "text/plain": [
       "array([ 4.74482608,  0.60406814, -0.34889422])"
      ]
     },
     "execution_count": 30,
     "metadata": {},
     "output_type": "execute_result"
    }
   ],
   "source": [
    "np.roots([1,-5,1,1])"
   ]
  }
 ],
 "metadata": {
  "kernelspec": {
   "display_name": "Python 3.8.5 64-bit",
   "language": "python",
   "name": "python38564bit02a66c47ce504b05b2ef5646cfed96c2"
  },
  "language_info": {
   "codemirror_mode": {
    "name": "ipython",
    "version": 3
   },
   "file_extension": ".py",
   "mimetype": "text/x-python",
   "name": "python",
   "nbconvert_exporter": "python",
   "pygments_lexer": "ipython3",
   "version": "3.8.5"
  }
 },
 "nbformat": 4,
 "nbformat_minor": 4
}
