{
 "cells": [
  {
   "cell_type": "markdown",
   "metadata": {},
   "source": [
    "\n",
    "There are 4 questions, with points weighting given in the question. Write Python code to solve each question.\n",
    "\n",
    "Points will be deducted for \n",
    "\n",
    "- Functions or classes without `docstrings`\n",
    "- Grossly inefficient or redundant code\n",
    "- Excessively verbose code\n",
    "- Use of *magic* numbers\n",
    "\n",
    "Partial credit may be given for incomplete or wrong answers but not if you do not attempt the question.\n",
    "\n",
    "**IMPORTANT**\n",
    "\n",
    "- This is an **open book** exam meant to evaluate fluency with linear algebra and optimization Python\n",
    "- Use a stopwatch to record the time you took to complete the exam in the cell below **honestly**:\n",
    "    - Under 2 hours - No penalty\n",
    "    - Between 2-3 hours - 5 points penalty\n",
    "    - More than 3 hours or **no time reported** - 10 points penalty\n",
    "- Upload the notebook to Sakai when done\n",
    "\n",
    "**Honor Code**: You agree to follow the Duke Honor code when taking this exam."
   ]
  },
  {
   "cell_type": "markdown",
   "metadata": {},
   "source": [
    "**Self-reported time taken**: It is your responsibility to time your exam.\n",
    "\n",
    "<font color=red>Fill in total time in hours and minutes in the cell below</font>"
   ]
  },
  {
   "cell_type": "code",
   "execution_count": null,
   "metadata": {},
   "outputs": [],
   "source": []
  },
  {
   "cell_type": "markdown",
   "metadata": {},
   "source": [
    "**1**. (20 points)\n",
    "\n",
    "In school, to help remember when the spelling should be \"ei\" or \"ie\", students are often taught the rule \"i before e except after c\". For example, \"piece\" and \"conceive\" fit this rule.\n",
    "\n",
    "- Find all occurrences of words in the book `alice.txt` that violate this rule (10 points)\n",
    "- Make a table of how often each such word occurs in decreasing order of the count (10 points)"
   ]
  },
  {
   "cell_type": "code",
   "execution_count": null,
   "metadata": {},
   "outputs": [],
   "source": [
    "\n",
    "\n"
   ]
  },
  {
   "cell_type": "markdown",
   "metadata": {},
   "source": [
    "**2**. (20 points)\n",
    "\n",
    "A grayscale figure of a Mandelbrot set is loaded for you.\n",
    "\n",
    "- Compress the figure by reconstructing a rank k version, where is k is the number of singular values > 1e-9 (5 points)\n",
    "- Calculate the Frobenius norm of the difference between the original and reconstructed image (5 points)\n",
    "- Calculate the number of bytes needed to store the original image and the data needed to reconstruct the rank k image (5 points)\n",
    "- What is the dimension of the null space of the reconstructed rank k image? (5 points)"
   ]
  },
  {
   "cell_type": "code",
   "execution_count": null,
   "metadata": {},
   "outputs": [],
   "source": [
    "from skimage import color, io\n",
    "import matplotlib.pyplot as plt\n",
    "%matplotlib inline\n",
    "\n",
    "img = color.rgb2gray(color.rgba2rgb(io.imread('mandelbrot-250x250.png')))\n",
    "plt.imshow(img, cmap='gray')\n",
    "pass"
   ]
  },
  {
   "cell_type": "code",
   "execution_count": null,
   "metadata": {},
   "outputs": [],
   "source": [
    "\n",
    "\n",
    "\n"
   ]
  },
  {
   "cell_type": "markdown",
   "metadata": {},
   "source": [
    "**3**. (20 points)\n",
    "\n",
    "Let the columns of $A$ represent the basis vectors for a plane  in $\\mathbb{R}^3$\n",
    "\n",
    "$$\n",
    "A = \\pmatrix{1 & 2\\\\2 & 3\\\\3 & 4}\n",
    "$$\n",
    "\n",
    "- Construct a matrix $P$ that projects a vector $v \\in \\mathbb{R}^3$ onto this plane (5 points)\n",
    "- Find the vector on the plane that is closes to the vector $\\pmatrix{3\\\\4\\\\6}$ (5 points)\n",
    "- Let  $v = \\pmatrix{3\\\\4\\\\6}$. Find the coordinates of $\\text{proj}_A v$ with respect to the basis vectors of the plane (5 points)\n",
    "- Find the distance between $\\text{proj}_A v$ and $v$ using projection (5 points)"
   ]
  },
  {
   "cell_type": "code",
   "execution_count": null,
   "metadata": {},
   "outputs": [],
   "source": [
    "\n",
    "\n"
   ]
  },
  {
   "cell_type": "markdown",
   "metadata": {},
   "source": [
    "**4** (30 points)\n",
    "\n",
    "Given the function $f(x) = x^3 - 5x^2 + x + 1$,\n",
    "\n",
    "- Perform a single quadratic interpolation starting with the points (0, 2, 5) and return the next bracket (10 points)\n",
    "- Plot the function and the quadratic interpolation showing the interpolated points for $x \\in (-1, 6)$ (5 points)\n",
    "- Find a local minimum using the newton method starting at the point x=4 with a tolerance of $10^{-4}$ for $\\delta x$. Return the value of $x$ and $f(x)$ at that point (10 points)\n",
    "- Find all roots of the function using the companion matrix method (5 points)\n",
    "\n",
    "For the optimization problems, stop when a tolerance of $10^{-4}$ is reached for $x$. Do not use any library functions from `scipy.optimize` or `scipy.interpolate` or `np.root` (you can use for checking but not for solving)"
   ]
  },
  {
   "cell_type": "code",
   "execution_count": null,
   "metadata": {},
   "outputs": [],
   "source": [
    "\n",
    "\n",
    "\n"
   ]
  }
 ],
 "metadata": {
  "kernelspec": {
   "display_name": "Python 3.8.5 64-bit",
   "language": "python",
   "name": "python38564bit02a66c47ce504b05b2ef5646cfed96c2"
  },
  "language_info": {
   "codemirror_mode": {
    "name": "ipython",
    "version": 3
   },
   "file_extension": ".py",
   "mimetype": "text/x-python",
   "name": "python",
   "nbconvert_exporter": "python",
   "pygments_lexer": "ipython3",
   "version": "3.8.5"
  }
 },
 "nbformat": 4,
 "nbformat_minor": 4
}
