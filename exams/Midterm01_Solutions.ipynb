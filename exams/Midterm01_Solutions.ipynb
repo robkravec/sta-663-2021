{
 "cells": [
  {
   "cell_type": "markdown",
   "metadata": {},
   "source": [
    "# Midterm exam 1\n",
    "\n",
    "There are 4 questions, each worth 25 points. Write Python code to solve each question.\n",
    "\n",
    "Points will be deducted for \n",
    "\n",
    "- Functions or classes without `docstrings`\n",
    "- Grossly inefficient or redundant code\n",
    "- Excessively verbose code\n",
    "- Use of *magic* numbers\n",
    "\n",
    "Partial credit may be given for incomplete or wrong answers but not if you do not attempt the question.\n",
    "\n",
    "You should only have this notebook tab open during the exam and stay on the same notebook throughout. You may use built-in help, accessed via `?foo`, `foo?` or `help(foo)`.\n",
    "\n",
    "**IMPORTANT**\n",
    "\n",
    "- This is a **closed book** exam meant to evaluate fluency in Python\n",
    "- Use a stopwatch to record the number of minutes you took to complete the exam in the cell below **honestly**. 1 point will be deducted for every 2 minutes beyond 75 minutes. So if you take 90 minutes to complete the exam, 8 points will be deducted.\n",
    "- Upload the notebook to Sakai when done\n",
    "\n",
    "**Honor Code**: You agree to follow the Duke Honor code when taking this exam."
   ]
  },
  {
   "cell_type": "markdown",
   "metadata": {},
   "source": [
    "**Time taken**\n",
    "\n",
    "Time: xx mins"
   ]
  },
  {
   "cell_type": "markdown",
   "metadata": {},
   "source": [
    "**1**. (25 points)\n",
    "\n",
    "Create a DataFrame showing the number of all possible transitions between the letters A, C, T in the file `seq/txt`- this should have a shape (3,3) and each cell should contain the number of transitions (e.g. $A \\to C$) found. Rows and columns of the DataFrame should be the letters A, C, T.\n",
    "\n",
    "- Convert this to a stochastic matrix - i.e. one where each *row* sums to 1\n",
    "\n",
    "\n",
    "**Hint**: For the sequence `AAATAT` the transition counts would be\n",
    "\n",
    "- `AA` = 2\n",
    "- `AT` = 2\n",
    "- `TA` = 1"
   ]
  },
  {
   "cell_type": "code",
   "execution_count": null,
   "metadata": {},
   "outputs": [],
   "source": [
    "with open('seq.txt') as f:\n",
    "    seq = f.read()"
   ]
  },
  {
   "cell_type": "code",
   "execution_count": null,
   "metadata": {},
   "outputs": [],
   "source": [
    "d = {}\n",
    "for x in zip(seq, seq[1:]):\n",
    "    k = ''.join(x)\n",
    "    d[k] = d.get(k, 0) + 1"
   ]
  },
  {
   "cell_type": "code",
   "execution_count": null,
   "metadata": {},
   "outputs": [],
   "source": [
    "import numpy as np"
   ]
  },
  {
   "cell_type": "code",
   "execution_count": null,
   "metadata": {},
   "outputs": [],
   "source": [
    "m = np.zeros((3,3), dtype='int')\n",
    "for i,x in enumerate('ACT'):\n",
    "    for j,y in enumerate('ACT'):\n",
    "        k = ''.join([x, y])\n",
    "        m[i,j] = d.get(k, 0)"
   ]
  },
  {
   "cell_type": "code",
   "execution_count": null,
   "metadata": {},
   "outputs": [],
   "source": [
    "m"
   ]
  },
  {
   "cell_type": "code",
   "execution_count": null,
   "metadata": {},
   "outputs": [],
   "source": [
    "import pandas as pd"
   ]
  },
  {
   "cell_type": "code",
   "execution_count": null,
   "metadata": {},
   "outputs": [],
   "source": [
    "pd.DataFrame(m / m.sum(axis=1)[:, None], index=list('ACT'), columns=list('ACT'))"
   ]
  },
  {
   "cell_type": "markdown",
   "metadata": {},
   "source": [
    "**2**. (25 points)\n",
    "\n",
    "Using only `map` and `reduce` (from `functools`) and anonymous functions, convert the strings given into a generator of lower case words. Find the most frequently occurring word using only a Python dictionary."
   ]
  },
  {
   "cell_type": "code",
   "execution_count": null,
   "metadata": {},
   "outputs": [],
   "source": [
    "s1 = 'The quick brown fox jumps over the lazy brown dog'\n",
    "s2 = 'How now brown cow'\n",
    "s3 = 'Jack and Jill went up the hill'"
   ]
  },
  {
   "cell_type": "code",
   "execution_count": null,
   "metadata": {},
   "outputs": [],
   "source": [
    "ss =[s1, s2, s3]"
   ]
  },
  {
   "cell_type": "code",
   "execution_count": null,
   "metadata": {},
   "outputs": [],
   "source": [
    "from functools import reduce"
   ]
  },
  {
   "cell_type": "code",
   "execution_count": null,
   "metadata": {},
   "outputs": [],
   "source": [
    "counter = {}\n",
    "for word in (reduce(lambda x, y: x + y,\n",
    "                    map(lambda x: x.lower().split(), ss))):\n",
    "    counter[word] = counter.get(word, 0) + 1"
   ]
  },
  {
   "cell_type": "code",
   "execution_count": null,
   "metadata": {},
   "outputs": [],
   "source": [
    "n = max(counter.items(), key=lambda x: x[1])[1]\n",
    "{(k, v) for k, v in counter.items() if v==n}"
   ]
  },
  {
   "cell_type": "markdown",
   "metadata": {},
   "source": [
    "**3**. (25 points)\n",
    "\n",
    "Define a function that returns True if a given integer $n$ is prime and false otherwise. Do this as efficiently as possible. \n",
    "\n",
    "- Count the number of primes in `nums.txt`"
   ]
  },
  {
   "cell_type": "code",
   "execution_count": null,
   "metadata": {},
   "outputs": [],
   "source": [
    "def is_prime(n):\n",
    "    \"\"\"Check if n is prime.\"\"\"\n",
    "    \n",
    "    if n == 2:\n",
    "        return True\n",
    "    elif n < 2 or n % 2 == 0:\n",
    "        return False\n",
    "    else:\n",
    "        for i in range(3, int(np.sqrt(n))+1, 2):\n",
    "            if n % i == 0:\n",
    "                return False\n",
    "    return True"
   ]
  },
  {
   "cell_type": "code",
   "execution_count": null,
   "metadata": {},
   "outputs": [],
   "source": [
    "nums = np.loadtxt('nums.txt', dtype='int')"
   ]
  },
  {
   "cell_type": "code",
   "execution_count": null,
   "metadata": {},
   "outputs": [],
   "source": [
    "[n for n in range(-5, 20) if is_prime(n)]"
   ]
  },
  {
   "cell_type": "code",
   "execution_count": null,
   "metadata": {},
   "outputs": [],
   "source": [
    "len(nums)"
   ]
  },
  {
   "cell_type": "code",
   "execution_count": null,
   "metadata": {},
   "outputs": [],
   "source": [
    "len(list(filter(is_prime, nums)))"
   ]
  },
  {
   "cell_type": "markdown",
   "metadata": {},
   "source": [
    "**4**. (25 points)\n",
    "\n",
    "Consider the following function $f(x) = rx(1-x)$. \n",
    "\n",
    "For a particular value of $r$, iteratively evaluate $f$ 100 times, each time using the output as the next input $x$. \n",
    "\n",
    "- Let $r$ take values from the sequence [0, 0.01, ..., 4]\n",
    "- For each value of $r$ find the final value $y$ returned by $f$ for $m = 50$ different random starting $x$ drawn from the standard uniform distribution\n",
    "\n",
    "For example if $r=2$ and $x=0.1$, the iterations would return the values\n",
    "\n",
    "$ 0.1 \\to 0.2 \\to 0.3 \\to 0.4 \\to 0.5 \\to 0.5 \\to \\ldots \\to 0.5$\n",
    "\n",
    "and the value recorded as $y$ would be 0.5\n",
    "\n",
    "- Make a scatter plot of $y$ against $r$, using `s=1` for the marker size\n",
    "\n",
    "Your figure should look like this\n",
    "\n",
    "![img](bif.png)"
   ]
  },
  {
   "cell_type": "code",
   "execution_count": null,
   "metadata": {},
   "outputs": [],
   "source": [
    "def f(x, r):\n",
    "    \"\"\"Logistic function.\"\"\"\n",
    "    \n",
    "    return r*x*(1-x)\n",
    "\n",
    "def fn(x, r, n):\n",
    "    \"\"\"Nested logistic function.\"\"\"\n",
    "    \n",
    "    for i in range(n):\n",
    "        x = f(x, r)\n",
    "    return x"
   ]
  },
  {
   "cell_type": "code",
   "execution_count": null,
   "metadata": {},
   "outputs": [],
   "source": [
    "n = 100\n",
    "m = 50\n",
    "ys = []\n",
    "\n",
    "r = np.linspace(0, 4, 401)\n",
    "xs = np.random.rand(m)\n",
    "\n",
    "for x in xs:\n",
    "    ys.append(fn(x, r, n))"
   ]
  },
  {
   "cell_type": "code",
   "execution_count": null,
   "metadata": {},
   "outputs": [],
   "source": [
    "import matplotlib.pyplot as plt"
   ]
  },
  {
   "cell_type": "code",
   "execution_count": null,
   "metadata": {},
   "outputs": [],
   "source": [
    "plt.scatter(np.tile(r, m), np.r_[ys], s=1)\n",
    "pass"
   ]
  },
  {
   "cell_type": "code",
   "execution_count": null,
   "metadata": {},
   "outputs": [],
   "source": []
  }
 ],
 "metadata": {
  "kernelspec": {
   "display_name": "Python 3.8.5 64-bit",
   "language": "python",
   "name": "python38564bit02a66c47ce504b05b2ef5646cfed96c2"
  },
  "language_info": {
   "codemirror_mode": {
    "name": "ipython",
    "version": 3
   },
   "file_extension": ".py",
   "mimetype": "text/x-python",
   "name": "python",
   "nbconvert_exporter": "python",
   "pygments_lexer": "ipython3",
   "version": "3.8.5"
  }
 },
 "nbformat": 4,
 "nbformat_minor": 4
}
