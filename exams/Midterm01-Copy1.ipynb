{
 "cells": [
  {
   "cell_type": "markdown",
   "metadata": {},
   "source": [
    "# Midterm exam 1\n",
    "\n",
    "There are 4 questions, each worth 25 points. Write Python code to solve each question.\n",
    "\n",
    "Points will be deducted for \n",
    "\n",
    "- Functions or classes without `docstrings`\n",
    "- Grossly inefficient or redundant code\n",
    "- Excessively verbose code\n",
    "- Use of *magic* numbers\n",
    "\n",
    "Partial credit may be given for incomplete or wrong answers but not if you do not attempt the question.\n",
    "\n",
    "You should only have this notebook tab open during the exam and stay on the same notebook throughout. You may use built-in help, accessed via `?foo`, `foo?` or `help(foo)`.\n",
    "\n",
    "**IMPORTANT**\n",
    "\n",
    "- This is a **closed book** exam meant to evaluate fluency in Python\n",
    "- Use a stopwatch to record the number of minutes you took to complete the exam in the cell below **honestly**. 1 point will be deducted for every 2 minutes beyond 75 minutes. So if you take 90 minutes to complete the exam, 8 points will be deducted.\n",
    "- Upload the notebook to Sakai when done\n",
    "\n",
    "**Honor Code**: You agree to follow the Duke Honor code when taking this exam."
   ]
  },
  {
   "cell_type": "markdown",
   "metadata": {},
   "source": [
    "**Time taken**\n",
    "\n",
    "Execute the cell below once you have read the instructions **above**. This must be the **first** cell executed. At the end of the test, you will execute another timing cell to calculate the total time taken.\n",
    "\n",
    "It is a violation of the Honor Code to abuse the timing system in any way."
   ]
  },
  {
   "cell_type": "code",
   "execution_count": 1,
   "metadata": {},
   "outputs": [],
   "source": [
    "import time\n",
    "start = time.time()"
   ]
  },
  {
   "cell_type": "code",
   "execution_count": 266,
   "metadata": {},
   "outputs": [],
   "source": [
    "import pandas as pd\n",
    "import numpy as np\n",
    "from functools import reduce\n",
    "import math\n",
    "import matplotlib.pyplot as plt\n",
    "%matplotlib inline\n",
    "np.random.seed(123)"
   ]
  },
  {
   "cell_type": "markdown",
   "metadata": {},
   "source": [
    "**1**. (25 points)\n",
    "\n",
    "Create a DataFrame showing the number of all possible transitions between the letters A, C, T in the file `seq/txt`- this should have a shape (3,3) and each cell should contain the number of transitions (e.g. $A \\to C$) found. Rows and columns of the DataFrame should be the letters A, C, T.\n",
    "\n",
    "- Convert this to a stochastic matrix - i.e. one where each *row* sums to 1\n",
    "\n",
    "\n",
    "**Hint**: For the sequence `AAATAT` the transition counts would be\n",
    "\n",
    "- `AA` = 2\n",
    "- `AT` = 2\n",
    "- `TA` = 1"
   ]
  },
  {
   "cell_type": "markdown",
   "metadata": {},
   "source": [
    "*For my final dataframe, the starting letter is shown in the row and the \"transitioned to\" letter is in the column. As an example interpretation, we would say that of all of the transitions from the letter A, 33.2335% are to another A, 33.2577% are to C, and 33.5087% are to T*"
   ]
  },
  {
   "cell_type": "code",
   "execution_count": 46,
   "metadata": {},
   "outputs": [
    {
     "data": {
      "text/html": [
       "<div>\n",
       "<style scoped>\n",
       "    .dataframe tbody tr th:only-of-type {\n",
       "        vertical-align: middle;\n",
       "    }\n",
       "\n",
       "    .dataframe tbody tr th {\n",
       "        vertical-align: top;\n",
       "    }\n",
       "\n",
       "    .dataframe thead th {\n",
       "        text-align: right;\n",
       "    }\n",
       "</style>\n",
       "<table border=\"1\" class=\"dataframe\">\n",
       "  <thead>\n",
       "    <tr style=\"text-align: right;\">\n",
       "      <th></th>\n",
       "      <th>A</th>\n",
       "      <th>C</th>\n",
       "      <th>T</th>\n",
       "    </tr>\n",
       "    <tr>\n",
       "      <th>index</th>\n",
       "      <th></th>\n",
       "      <th></th>\n",
       "      <th></th>\n",
       "    </tr>\n",
       "  </thead>\n",
       "  <tbody>\n",
       "    <tr>\n",
       "      <th>A</th>\n",
       "      <td>0.332335</td>\n",
       "      <td>0.332577</td>\n",
       "      <td>0.335087</td>\n",
       "    </tr>\n",
       "    <tr>\n",
       "      <th>C</th>\n",
       "      <td>0.331903</td>\n",
       "      <td>0.330121</td>\n",
       "      <td>0.337976</td>\n",
       "    </tr>\n",
       "    <tr>\n",
       "      <th>T</th>\n",
       "      <td>0.327817</td>\n",
       "      <td>0.330240</td>\n",
       "      <td>0.341943</td>\n",
       "    </tr>\n",
       "  </tbody>\n",
       "</table>\n",
       "</div>"
      ],
      "text/plain": [
       "              A         C         T\n",
       "index                              \n",
       "A      0.332335  0.332577  0.335087\n",
       "C      0.331903  0.330121  0.337976\n",
       "T      0.327817  0.330240  0.341943"
      ]
     },
     "execution_count": 46,
     "metadata": {},
     "output_type": "execute_result"
    }
   ],
   "source": [
    "# Read in text file\n",
    "with open('seq.txt') as f:\n",
    "    seq = f.read()\n",
    "\n",
    "# Initialize dataframe\n",
    "result = pd.DataFrame(dict(index = ['A', 'C', 'T'],\n",
    "                           A = [0, 0, 0],\n",
    "                           C = [0, 0, 0],\n",
    "                           T = [0, 0, 0]))\n",
    "result.set_index('index', drop = True, inplace = True)\n",
    "\n",
    "# Create data frame of counts\n",
    "for index, letter in enumerate(seq[:-1]):\n",
    "    result.loc[letter, seq[index + 1]] += 1\n",
    "\n",
    "# Divide each row by its total\n",
    "result / np.array(result.sum(axis = 1)).reshape(3, 1)"
   ]
  },
  {
   "cell_type": "markdown",
   "metadata": {},
   "source": [
    "**2**. (25 points)\n",
    "\n",
    "Using only `map` and `reduce` (from `functools`) and anonymous functions, convert the list of strings in `ss`  into a generator of lower case words. Find the most frequently occurring word using only a Python dictionary."
   ]
  },
  {
   "cell_type": "code",
   "execution_count": 48,
   "metadata": {},
   "outputs": [],
   "source": [
    "s1 = 'The quick brown fox jumps over the lazy brown dog'\n",
    "s2 = 'How now brown cow'\n",
    "s3 = 'Jack and Jill went up the hill'\n",
    "ss =[s1, s2, s3]"
   ]
  },
  {
   "cell_type": "code",
   "execution_count": 118,
   "metadata": {},
   "outputs": [
    {
     "data": {
      "text/plain": [
       "[('the', 3),\n",
       " ('brown', 3),\n",
       " ('quick', 1),\n",
       " ('fox', 1),\n",
       " ('jumps', 1),\n",
       " ('over', 1),\n",
       " ('lazy', 1),\n",
       " ('dog', 1),\n",
       " ('how', 1),\n",
       " ('now', 1),\n",
       " ('cow', 1),\n",
       " ('jack', 1),\n",
       " ('and', 1),\n",
       " ('jill', 1),\n",
       " ('went', 1),\n",
       " ('up', 1),\n",
       " ('hill', 1)]"
      ]
     },
     "execution_count": 118,
     "metadata": {},
     "output_type": "execute_result"
    }
   ],
   "source": [
    "# Create list of lower case words\n",
    "words = reduce(lambda x, y: x + y,\n",
    "               map(lambda x: x.lower().split(' '), ss))\n",
    "\n",
    "# Create dictionary from list of words\n",
    "word_dict = {word: words.count(word) for word in words}\n",
    "\n",
    "# Sort the dictionary\n",
    "sorted(word_dict.items(), key = lambda x: -x[1])"
   ]
  },
  {
   "cell_type": "markdown",
   "metadata": {},
   "source": [
    "*We can see from the sorted dictionary that \"the\" and \"brown\" are the two most commonly occurring words in ss, both having 3 occurrences*"
   ]
  },
  {
   "cell_type": "markdown",
   "metadata": {},
   "source": [
    "**3**. (25 points)\n",
    "\n",
    "Define a function that returns True if a given integer $n$ is prime and false otherwise. Do this as efficiently as possible. \n",
    "\n",
    "- Count the number of primes in `nums.txt`"
   ]
  },
  {
   "cell_type": "code",
   "execution_count": 275,
   "metadata": {},
   "outputs": [],
   "source": [
    "def isprime(n):\n",
    "    \"\"\"Returns True if a given integer n is prime and false otherwise\"\"\"\n",
    "    \n",
    "    # Early returns\n",
    "    if n < 2:\n",
    "        return \"Please enter a number greater than 1\"\n",
    "    elif n == 2:\n",
    "        return True\n",
    "\n",
    "    # See if n can be divided evenly by a number below n\n",
    "    for num in range(2, math.ceil(n / 2)):\n",
    "        if not n % num:\n",
    "            return False\n",
    "    return True"
   ]
  },
  {
   "cell_type": "code",
   "execution_count": 276,
   "metadata": {},
   "outputs": [
    {
     "data": {
      "text/plain": [
       "66"
      ]
     },
     "execution_count": 276,
     "metadata": {},
     "output_type": "execute_result"
    }
   ],
   "source": [
    "# Initialize counter\n",
    "counter = 0\n",
    "\n",
    "# Loop through all number in file\n",
    "with open('nums.txt') as f:\n",
    "    for num in f:\n",
    "        counter += isprime(int(num))\n",
    "        \n",
    "# Display result\n",
    "counter"
   ]
  },
  {
   "cell_type": "markdown",
   "metadata": {},
   "source": [
    "**4**. (25 points)\n",
    "\n",
    "Consider the following function $f(x) = rx(1-x)$. \n",
    "\n",
    "For a particular value of $r$, iteratively evaluate $f$ 100 times, each time using the output as the next input $x$. \n",
    "\n",
    "- Let $r$ take values from the sequence [0, 0.01, ..., 4]\n",
    "- For each value of $r$ find the final value $y$ returned by $f$ for $m = 50$ different random starting $x$ drawn from the standard uniform distribution\n",
    "\n",
    "For example if $r=2$ and $x=0.1$, the iterations would return the values\n",
    "\n",
    "$ 0.1 \\to 0.2 \\to 0.3 \\to 0.4 \\to 0.5 \\to 0.5 \\to \\ldots \\to 0.5$\n",
    "\n",
    "and the value recorded as $y$ would be 0.5\n",
    "\n",
    "- Make a scatter plot of $y$ against $r$, using `s=1` for the marker size\n",
    "\n",
    "Your figure should look like this\n",
    "\n",
    "![img](bif.png)"
   ]
  },
  {
   "cell_type": "code",
   "execution_count": 185,
   "metadata": {},
   "outputs": [],
   "source": [
    "def func_calc(r, x, m):\n",
    "    \"\"\"Returns y value after m iterations of function given in problem statement\"\"\"\n",
    "    \n",
    "    # Go through m iterations\n",
    "    for it in range(m):\n",
    "        y = r * x * (1 - x)\n",
    "        x = y\n",
    "        \n",
    "    # Return final y value\n",
    "    return y        "
   ]
  },
  {
   "cell_type": "code",
   "execution_count": 267,
   "metadata": {},
   "outputs": [
    {
     "data": {
      "image/png": "[encoded data removed]",
      "text/plain": [
       "<Figure size 432x288 with 1 Axes>"
      ]
     },
     "metadata": {},
     "output_type": "display_data"
    }
   ],
   "source": [
    "# Initialize m and r\n",
    "m = 50\n",
    "r = np.arange(start = 0, stop = 4, step = 0.01)\n",
    "\n",
    "# Generate values of x\n",
    "x = np.random.uniform(size = (r.shape[0], m))\n",
    "\n",
    "# Generate values of y\n",
    "y = np.zeros(shape = (r.shape[0], m))\n",
    "for index1, row in enumerate(x):\n",
    "    for index2, value in enumerate(row):\n",
    "        y[index1, index2] = func_calc(r = r[index1], x = value, m = m)\n",
    "        \n",
    "# Create dataframe of r and y values\n",
    "y_colnames = [\"y\" + str(i) for i in range(1, 52)]\n",
    "df = pd.DataFrame(np.c_[r, y])\n",
    "df.columns = y_colnames\n",
    "df = df.melt(id_vars = 'y1', var_name = \"y_iter\", value_name = \"y\")\n",
    "df = df.drop(columns = \"y_iter\")\n",
    "df.columns = ['r', 'y']\n",
    "\n",
    "# Plot\n",
    "plt.scatter(x = df.r, y = df.y, s = 1);"
   ]
  },
  {
   "cell_type": "markdown",
   "metadata": {},
   "source": [
    "#### Run this when done\n",
    "\n",
    "Once you have run this, do not make any more revisions. Submit your notebook to Sakai for grading. \n",
    "\n",
    "The cell below **must** be executed for grading. It must also be the **last** cell executed in this notebook."
   ]
  },
  {
   "cell_type": "code",
   "execution_count": 277,
   "metadata": {},
   "outputs": [
    {
     "data": {
      "text/plain": [
       "99.0"
      ]
     },
     "execution_count": 277,
     "metadata": {},
     "output_type": "execute_result"
    }
   ],
   "source": [
    "elapsed = time.time() - start\n",
    "elapsed // 60"
   ]
  }
 ],
 "metadata": {
  "kernelspec": {
   "display_name": "Python 3",
   "language": "python",
   "name": "python3"
  },
  "language_info": {
   "codemirror_mode": {
    "name": "ipython",
    "version": 3
   },
   "file_extension": ".py",
   "mimetype": "text/x-python",
   "name": "python",
   "nbconvert_exporter": "python",
   "pygments_lexer": "ipython3",
   "version": "3.6.10"
  }
 },
 "nbformat": 4,
 "nbformat_minor": 4
}
