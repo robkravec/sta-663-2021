{
 "cells": [
  {
   "cell_type": "markdown",
   "metadata": {},
   "source": [
    "# Midterm exam 1\n",
    "\n",
    "There are 4 questions, each worth 25 points. Write Python code to solve each question.\n",
    "\n",
    "Points will be deducted for \n",
    "\n",
    "- Functions or classes without `docstrings`\n",
    "- Grossly inefficient or redundant code\n",
    "- Excessively verbose code\n",
    "- Use of *magic* numbers\n",
    "\n",
    "Partial credit may be given for incomplete or wrong answers but not if you do not attempt the question.\n",
    "\n",
    "You should only have this notebook tab open during the exam and stay on the same notebook throughout. You may use built-in help, accessed via `?foo`, `foo?` or `help(foo)`.\n",
    "\n",
    "**IMPORTANT**\n",
    "\n",
    "- This is a **closed book** exam meant to evaluate fluency in Python\n",
    "- Use a stopwatch to record the number of minutes you took to complete the exam in the cell below **honestly**. 1 point will be deducted for every 2 minutes beyond 75 minutes. So if you take 90 minutes to complete the exam, 8 points will be deducted.\n",
    "- Upload the notebook to Sakai when done\n",
    "\n",
    "**Honor Code**: You agree to follow the Duke Honor code when taking this exam."
   ]
  },
  {
   "cell_type": "markdown",
   "metadata": {},
   "source": [
    "**Time taken**\n",
    "\n",
    "Time: xx mins"
   ]
  },
  {
   "cell_type": "markdown",
   "metadata": {},
   "source": [
    "**1**. (25 points)\n",
    "\n",
    "Find the number of times `CATCAT` appears in the file `seq.txt`.\n",
    "\n",
    "- Count overlapping occurrences - i.e. `CATCATCAT` should count as 2 occurrences."
   ]
  },
  {
   "cell_type": "code",
   "execution_count": null,
   "metadata": {},
   "outputs": [],
   "source": [
    "\n",
    "\n",
    "\n"
   ]
  },
  {
   "cell_type": "markdown",
   "metadata": {},
   "source": [
    "**2**. (25 points)\n",
    "\n",
    "Supposed you had two sets of cards numbered from 1 to 1,000. We define a *match* to occur if the cards in the same position in both decks have the same number. For example, if deck 1 is [1,3,2,4] and deck 2 is [3,4,2,1], there is a single match at position 3 for the card with value 2.\n",
    "\n",
    "Assuming the cards in each set are randomly shuffled, use 100,000 simulations to estimate\n",
    "\n",
    "- the expected number of matches (this should be an integer)\n",
    "- the probability of finding at least one match\n",
    "\n",
    "Hint: You can use `np.random.permutation`"
   ]
  },
  {
   "cell_type": "code",
   "execution_count": null,
   "metadata": {},
   "outputs": [],
   "source": [
    "\n",
    "\n",
    "\n"
   ]
  },
  {
   "cell_type": "markdown",
   "metadata": {},
   "source": [
    "**3**. (25 points)\n",
    "\n",
    "One way to find a root (zero) of a function between two points $(a, b)$ is to bisect (find the midpoint $c$) of $(a, b)$, identify if the root is now in $(a, c)$ or $(c, b)$, and repeat the bisection until the function value is sufficiently close to zero.\n",
    "\n",
    "Write a bisection function with signature `bisect(f, a, b, tol)` and use it to find the square root of 2 given $a=0, b=2$. Stop when the function evaluated at the bisected point is within $10^{-6}$ of 0.\n",
    "\n",
    "- Hint 1: There is a root between $a$ and $b$ if $f(a)$ and $f(b)$ have opposite signs\n",
    "- Hint 2: Think about what the function $f$ should be"
   ]
  },
  {
   "cell_type": "code",
   "execution_count": null,
   "metadata": {},
   "outputs": [],
   "source": [
    "\n",
    "\n"
   ]
  },
  {
   "cell_type": "markdown",
   "metadata": {},
   "source": [
    "**4**. (25 points)\n",
    "\n",
    "In a coin tossing example, you count the number of tosses till one of the following sequence appears\n",
    "\n",
    "- Seq 1: `HT`\n",
    "- Seq 2: `HH`\n",
    "\n",
    "For example, `HTTHH` would be of type Seq 2 with a run length of 5.\n",
    "\n",
    "Simulate 10,000 coin tossing experiments of the following kind:\n",
    "\n",
    "- Expt 1: Stop when Seq 1 is observed\n",
    "- Expt 2: Stop when Seq 2 is observed\n",
    "- Expt 3: Stop when Seq 1 *or* Seq 2 is observed\n",
    "\n",
    "Report the average run length of experiments 1, 2 and 3, rounding to the nearest integer."
   ]
  },
  {
   "cell_type": "code",
   "execution_count": null,
   "metadata": {},
   "outputs": [],
   "source": [
    "\n",
    "\n",
    "\n"
   ]
  }
 ],
 "metadata": {
  "kernelspec": {
   "display_name": "Python 3.8.5 64-bit",
   "language": "python",
   "name": "python38564bit02a66c47ce504b05b2ef5646cfed96c2"
  },
  "language_info": {
   "codemirror_mode": {
    "name": "ipython",
    "version": 3
   },
   "file_extension": ".py",
   "mimetype": "text/x-python",
   "name": "python",
   "nbconvert_exporter": "python",
   "pygments_lexer": "ipython3",
   "version": "3.8.5"
  }
 },
 "nbformat": 4,
 "nbformat_minor": 4
}
