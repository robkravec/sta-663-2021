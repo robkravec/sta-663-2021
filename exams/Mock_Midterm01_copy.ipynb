{
 "cells": [
  {
   "cell_type": "markdown",
   "metadata": {},
   "source": [
    "# Midterm exam 1\n",
    "\n",
    "There are 4 questions, each worth 25 points. Write Python code to solve each question.\n",
    "\n",
    "Points will be deducted for \n",
    "\n",
    "- Functions or classes without `docstrings`\n",
    "- Grossly inefficient or redundant code\n",
    "- Excessively verbose code\n",
    "- Use of *magic* numbers\n",
    "\n",
    "Partial credit may be given for incomplete or wrong answers but not if you do not attempt the question.\n",
    "\n",
    "You should only have this notebook tab open during the exam and stay on the same notebook throughout. You may use built-in help, accessed via `?foo`, `foo?` or `help(foo)`.\n",
    "\n",
    "**IMPORTANT**\n",
    "\n",
    "- This is a **closed book** exam meant to evaluate fluency in Python\n",
    "- Use a stopwatch to record the number of minutes you took to complete the exam in the cell below **honestly**. 1 point will be deducted for every 2 minutes beyond 75 minutes. So if you take 90 minutes to complete the exam, 8 points will be deducted.\n",
    "- Upload the notebook to Sakai when done\n",
    "\n",
    "**Honor Code**: You agree to follow the Duke Honor code when taking this exam."
   ]
  },
  {
   "cell_type": "markdown",
   "metadata": {},
   "source": [
    "**Time taken**\n",
    "\n",
    "Time: xx mins"
   ]
  },
  {
   "cell_type": "markdown",
   "metadata": {},
   "source": [
    "**1**. (25 points)\n",
    "\n",
    "Find the number of times `CATCAT` appears in the file `seq.txt`.\n",
    "\n",
    "- Count overlapping occurrences - i.e. `CATCATCAT` should count as 2 occurrences."
   ]
  },
  {
   "cell_type": "code",
   "execution_count": 218,
   "metadata": {},
   "outputs": [],
   "source": [
    "import numpy as np\n",
    "from collections import Counter\n",
    "import re\n",
    "np.random.seed(123)"
   ]
  },
  {
   "cell_type": "code",
   "execution_count": 19,
   "metadata": {},
   "outputs": [],
   "source": [
    "# Read in file\n",
    "with open('seq.txt') as f:\n",
    "    seq = f.read()"
   ]
  },
  {
   "cell_type": "code",
   "execution_count": 222,
   "metadata": {},
   "outputs": [
    {
     "name": "stdout",
     "output_type": "stream",
     "text": [
      "CPU times: user 32 ms, sys: 8 ms, total: 40 ms\n",
      "Wall time: 39.4 ms\n"
     ]
    }
   ],
   "source": [
    "# Initialize counter of 'CATCAT' instances\n",
    "counter = 0\n",
    "\n",
    "# Loop through each 6-letter combo\n",
    "for index, letter in enumerate(seq[:-5]):\n",
    "    if letter + seq[index + 1: index + 6] == 'CATCAT':\n",
    "        counter += 1\n",
    "\n",
    "# Display result        \n",
    "counter"
   ]
  },
  {
   "cell_type": "code",
   "execution_count": 223,
   "metadata": {},
   "outputs": [
    {
     "name": "stdout",
     "output_type": "stream",
     "text": [
      "CPU times: user 4 ms, sys: 0 ns, total: 4 ms\n",
      "Wall time: 2.58 ms\n"
     ]
    },
    {
     "data": {
      "text/plain": [
       "141"
      ]
     },
     "execution_count": 223,
     "metadata": {},
     "output_type": "execute_result"
    }
   ],
   "source": [
    "# Additional option from solutions\n",
    "len(re.findall('(?=(CATCAT))', seq))"
   ]
  },
  {
   "cell_type": "code",
   "execution_count": 224,
   "metadata": {},
   "outputs": [
    {
     "name": "stdout",
     "output_type": "stream",
     "text": [
      "CPU times: user 32 ms, sys: 0 ns, total: 32 ms\n",
      "Wall time: 29.4 ms\n"
     ]
    }
   ],
   "source": [
    "# Additional option from solutions\n",
    "count = 0\n",
    "for x in zip(seq, seq[1:], seq[2:], seq[3:], seq[4:], seq[5:]):\n",
    "    if ''.join(x) == 'CATCAT':\n",
    "        count += 1\n",
    "count"
   ]
  },
  {
   "cell_type": "markdown",
   "metadata": {},
   "source": [
    "**2**. (25 points)\n",
    "\n",
    "Supposed you had two sets of cards numbered from 1 to 1,000. We define a *match* to occur if the cards in the same position in both decks have the same number. For example, if deck 1 is [1,3,2,4] and deck 2 is [3,4,2,1], there is a single match at position 3 for the card with value 2.\n",
    "\n",
    "Assuming the cards in each set are randomly shuffled, use 100,000 simulations to estimate\n",
    "\n",
    "- the expected number of matches (this should be an integer)\n",
    "- the probability of finding at least one match\n",
    "\n",
    "Hint: You can use `np.random.permutation`"
   ]
  },
  {
   "cell_type": "code",
   "execution_count": 38,
   "metadata": {},
   "outputs": [],
   "source": [
    "# Initialize number of simulations array of number of matches\n",
    "k = 100000\n",
    "matches = np.zeros(k)\n",
    "\n",
    "# Perform 100000 simulations\n",
    "for i in range(k):\n",
    "    deck1 = np.random.permutation(1000)\n",
    "    deck2 = np.random.permutation(1000)\n",
    "    matches[i] = sum(deck1 == deck2)"
   ]
  },
  {
   "cell_type": "code",
   "execution_count": 229,
   "metadata": {},
   "outputs": [
    {
     "name": "stdout",
     "output_type": "stream",
     "text": [
      "Most common number of matches: 0\n",
      "Probability of at least one match: 0.62833\n",
      "Expected number of matches: 1\n"
     ]
    }
   ],
   "source": [
    "# Find most common number of matches\n",
    "print(\"Most common number of matches: \" + str(int(Counter(matches).most_common(1)[0][0])))\n",
    "\n",
    "# Probability of having at least one match\n",
    "print(\"Probability of at least one match: \" + str(sum(matches > 0) / len(matches)))\n",
    "\n",
    "# Find expected number of matches\n",
    "print(\"Expected number of matches: \" + str(int(round(np.mean(matches)))))"
   ]
  },
  {
   "cell_type": "markdown",
   "metadata": {},
   "source": [
    "**3**. (25 points)\n",
    "\n",
    "One way to find a root (zero) of a function between two points $(a, b)$ is to bisect (find the midpoint $c$) of $(a, b)$, identify if the root is now in $(a, c)$ or $(c, b)$, and repeat the bisection until the function value is sufficiently close to zero.\n",
    "\n",
    "Write a bisection function with signature `bisect(f, a, b, tol)` and use it to find the square root of 2 given $a=0, b=2$. Stop when the function evaluated at the bisected point is within $10^{-6}$ of 0.\n",
    "\n",
    "- Hint 1: There is a root between $a$ and $b$ if $f(a)$ and $f(b)$ have opposite signs\n",
    "- Hint 2: Think about what the function $f$ should be"
   ]
  },
  {
   "cell_type": "code",
   "execution_count": 232,
   "metadata": {},
   "outputs": [],
   "source": [
    "def bisect(f, a, b, tol):\n",
    "    \"\"\"Finds root of given function between points a and b\"\"\"\n",
    "    \n",
    "    # Find bisected point and check f(c) against tolerance\n",
    "    c = (a + b) / 2\n",
    "    if (abs(f(c)) <= tol):\n",
    "        return c\n",
    "    \n",
    "    # Determine which segment contains root\n",
    "    if (f(a) > 0 and f(c) < 0) or (f(a) < 0 and f(c) > 0):\n",
    "        return bisect(f, a, c, tol)\n",
    "    else:\n",
    "        return bisect(f, c, b, tol)"
   ]
  },
  {
   "cell_type": "code",
   "execution_count": 233,
   "metadata": {},
   "outputs": [
    {
     "data": {
      "text/plain": [
       "1.4142131805419922"
      ]
     },
     "execution_count": 233,
     "metadata": {},
     "output_type": "execute_result"
    }
   ],
   "source": [
    "# Test function to find square root of 2, given a = 0 and b = 2\n",
    "bisect(f = lambda x: x - np.sqrt(2), a = 0, b = 2, tol = 10 ** -6)"
   ]
  },
  {
   "cell_type": "code",
   "execution_count": 230,
   "metadata": {},
   "outputs": [],
   "source": [
    "# Another option from solutions\n",
    "def bisect(f, a, b, tol=1e-6):\n",
    "    \"\"\"Bisectin to find roots of f given brackets (a, b).\"\"\"\n",
    "    \n",
    "    c = (a + b) / 2\n",
    "    while np.abs(f(c)) > tol:\n",
    "        if f(a) * f(c) < 0:\n",
    "            b = c\n",
    "        else:\n",
    "            a = c\n",
    "        c = (a + b) / 2\n",
    "    return c"
   ]
  },
  {
   "cell_type": "code",
   "execution_count": 231,
   "metadata": {},
   "outputs": [
    {
     "data": {
      "text/plain": [
       "1.4142136573791504"
      ]
     },
     "execution_count": 231,
     "metadata": {},
     "output_type": "execute_result"
    }
   ],
   "source": [
    "bisect(lambda x: 2-x**2, 0, 2)"
   ]
  },
  {
   "cell_type": "markdown",
   "metadata": {},
   "source": [
    "**4**. (25 points)\n",
    "\n",
    "In a coin tossing example, you count the number of tosses till one of the following sequence appears\n",
    "\n",
    "- Seq 1: `HT`\n",
    "- Seq 2: `HH`\n",
    "\n",
    "For example, `HTTHH` would be of type Seq 2 with a run length of 5.\n",
    "\n",
    "Simulate 10,000 coin tossing experiments of the following kind:\n",
    "\n",
    "- Expt 1: Stop when Seq 1 is observed\n",
    "- Expt 2: Stop when Seq 2 is observed\n",
    "- Expt 3: Stop when Seq 1 *or* Seq 2 is observed\n",
    "\n",
    "Report the average run length of experiments 1, 2 and 3, rounding to the nearest integer."
   ]
  },
  {
   "cell_type": "code",
   "execution_count": 238,
   "metadata": {},
   "outputs": [],
   "source": [
    "# Define function that can be used for all three experiments\n",
    "def coin_exp(target1, target2 = 'NNNNN'):\n",
    "    \"\"\"Determine number of coin flips needed to see either of 2 specified sequences\"\"\"\n",
    "    tosses = ''\n",
    "    while True:\n",
    "        tosses += np.random.choice(a = ['H', 'T'], replace = True)\n",
    "        if target1 in tosses or target2 in tosses:\n",
    "            return(len(tosses))"
   ]
  },
  {
   "cell_type": "code",
   "execution_count": 239,
   "metadata": {},
   "outputs": [],
   "source": [
    "# Run experiments\n",
    "result1 = [coin_exp('HT') for i in range(10000)]\n",
    "result2 = [coin_exp('HH') for i in range(10000)]\n",
    "result3 = [coin_exp('HH', 'HT') for i in range(10000)]"
   ]
  },
  {
   "cell_type": "code",
   "execution_count": 242,
   "metadata": {},
   "outputs": [
    {
     "name": "stdout",
     "output_type": "stream",
     "text": [
      "Exp 1 avg length: 4\n",
      "Exp 2 avg length: 6\n",
      "Exp 3 avg length: 3\n"
     ]
    }
   ],
   "source": [
    "# Print results\n",
    "print(\"Exp 1 avg length: \" + str(int(round(np.mean(result1)))))\n",
    "print(\"Exp 2 avg length: \" + str(int(round(np.mean(result2)))))\n",
    "print(\"Exp 3 avg length: \" + str(int(round(np.mean(result3)))))"
   ]
  }
 ],
 "metadata": {
  "kernelspec": {
   "display_name": "Python 3",
   "language": "python",
   "name": "python3"
  },
  "language_info": {
   "codemirror_mode": {
    "name": "ipython",
    "version": 3
   },
   "file_extension": ".py",
   "mimetype": "text/x-python",
   "name": "python",
   "nbconvert_exporter": "python",
   "pygments_lexer": "ipython3",
   "version": "3.6.10"
  }
 },
 "nbformat": 4,
 "nbformat_minor": 4
}
